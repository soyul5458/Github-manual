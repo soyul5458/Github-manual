{
  "nbformat": 4,
  "nbformat_minor": 0,
  "metadata": {
    "colab": {
      "name": "colab.ipynb의 사본",
      "provenance": [],
      "private_outputs": true,
      "collapsed_sections": [],
      "include_colab_link": true
    },
    "kernelspec": {
      "name": "python3",
      "display_name": "Python 3"
    },
    "accelerator": "GPU"
  },
  "cells": [
    {
      "cell_type": "markdown",
      "metadata": {
        "id": "view-in-github",
        "colab_type": "text"
      },
      "source": [
        "<a href=\"https://colab.research.google.com/github/soyul5458/HW1/blob/master/colab_ipynb%EC%9D%98_%EC%82%AC%EB%B3%B8.ipynb\" target=\"_parent\"><img src=\"https://colab.research.google.com/assets/colab-badge.svg\" alt=\"Open In Colab\"/></a>"
      ]
    },
    {
      "cell_type": "code",
      "metadata": {
        "id": "88Y7spSqHbU1",
        "colab_type": "code",
        "colab": {}
      },
      "source": [
        "!git clone https://github.com/soyul5458/HW1.git"
      ],
      "execution_count": 0,
      "outputs": []
    },
    {
      "cell_type": "markdown",
      "metadata": {
        "id": "qhoGIXZHL_uN",
        "colab_type": "text"
      },
      "source": [
        "## colab & markdown  \n",
        ": Colab에 특화된 새로운 마크다운 작성방법 및 단축키  \n",
        "\n",
        "* 코드가 오래 실행되어 멈추고 싶은경우 : Ctrl+ M + I  \n",
        "* 엔터키 : 편집모드(Vi 편집기와 유사)  \n",
        "* ESC : 선택모드(Vi 편집기와 유사)  \n",
        "* 선택모드에서 화살표 방향키 : 셀 포커스를 위 아래로 움직일 수 있음  \n",
        "* 마크다운으로 전환 : Ctrl + M M  \n",
        "* 코드로 전환 : Ctrl + M Y  \n",
        "* 선택된 셀을 실행 : Ctrl + Enter  \n",
        "* 선택된 셀을 실행 후 다음 셀로 포커스 이동 : Shift + Enter  \n",
        "* 실행 후 다음줄로 이동 : Alt + Enter  \n",
        "* 위 코드로도 멈추지 않고 작업을 완전종료하고 싶은 경우 : Ctrl+M+.  \n",
        "* 코드셀에 줄번호 부여 : Ctrl + M L  \n",
        "* 바로 윗줄에 셀 생성 : Ctrl + M A  \n",
        "* 바로 아랫줄에 셀 생성 : Ctrl + M B  \n",
        "* 셀 삭제 : Ctrl + M D  \n",
        "* 저장 : Ctrl + S  "
      ]
    },
    {
      "cell_type": "markdown",
      "metadata": {
        "id": "WlofU45XPq5l",
        "colab_type": "text"
      },
      "source": [
        "## Google colab Github에 연동 및 파일 올리기\n",
        "\n",
        "1. colab에서 파일 작성\n",
        "2. 파일 > GitHub에 사본저장 클릭\n",
        "    - github 연동하기(ID 로그인)\n",
        "3. 다시 colab에서 파일 > GitHub에 사본저장 \n",
        "4. 원하는 저장소 선택후 확인하기"
      ]
    },
    {
      "cell_type": "markdown",
      "metadata": {
        "id": "L8ivwJ3aSNV0",
        "colab_type": "text"
      },
      "source": [
        "## Github에서 Colab으로 다운로드\n",
        "\n",
        "!wget https://raw.githubusercontent.com/soyul5458/HW1/master/README.md -P test\n"
      ]
    },
    {
      "cell_type": "code",
      "metadata": {
        "id": "WUhrJ3NTSsO_",
        "colab_type": "code",
        "colab": {}
      },
      "source": [
        "!wget https://raw.githubusercontent.com/soyul5458/HW1/master/README.md -P test\n"
      ],
      "execution_count": 0,
      "outputs": []
    },
    {
      "cell_type": "code",
      "metadata": {
        "id": "cL4ZBnlYTD6v",
        "colab_type": "code",
        "colab": {}
      },
      "source": [
        "!python3 test/README.md"
      ],
      "execution_count": 0,
      "outputs": []
    }
  ]
}