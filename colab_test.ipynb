{
  "nbformat": 4,
  "nbformat_minor": 0,
  "metadata": {
    "colab": {
      "name": "colab.ipynb",
      "provenance": [],
      "private_outputs": true,
      "include_colab_link": true
    },
    "kernelspec": {
      "name": "python3",
      "display_name": "Python 3"
    },
    "accelerator": "GPU"
  },
  "cells": [
    {
      "cell_type": "markdown",
      "metadata": {
        "id": "view-in-github",
        "colab_type": "text"
      },
      "source": [
        "<a href=\"https://colab.research.google.com/github/soyul5458/HW1/blob/master/colab_test.ipynb\" target=\"_parent\"><img src=\"https://colab.research.google.com/assets/colab-badge.svg\" alt=\"Open In Colab\"/></a>"
      ]
    },
    {
      "cell_type": "code",
      "metadata": {
        "id": "88Y7spSqHbU1",
        "colab_type": "code",
        "colab": {}
      },
      "source": [
        "!git clone https://github.com/soyul5458/HW1.git"
      ],
      "execution_count": 0,
      "outputs": []
    },
    {
      "cell_type": "markdown",
      "metadata": {
        "id": "qhoGIXZHL_uN",
        "colab_type": "text"
      },
      "source": [
        "## colab & markdown  \n",
        ": Colab에 특화된 새로운 마크다운 작성방법 및 단축키  \n",
        "\n",
        "* 코드가 오래 실행되어 멈추고 싶은경우 : Ctrl+ M + I  \n",
        "* 엔터키 : 편집모드(Vi 편집기와 유사)  \n",
        "* ESC : 선택모드(Vi 편집기와 유사)  \n",
        "* 선택모드에서 화살표 방향키 : 셀 포커스를 위 아래로 움직일 수 있음  \n",
        "* 마크다운으로 전환 : Ctrl + M M  \n",
        "* 코드로 전환 : Ctrl + M Y  \n",
        "* 선택된 셀을 실행 : Ctrl + Enter  \n",
        "* 선택된 셀을 실행 후 다음 셀로 포커스 이동 : Shift + Enter  \n",
        "* 실행 후 다음줄로 이동 : Alt + Enter  \n",
        "* 위 코드로도 멈추지 않고 작업을 완전종료하고 싶은 경우 : Ctrl+M+.  \n",
        "* 코드셀에 줄번호 부여 : Ctrl + M L  \n",
        "* 바로 윗줄에 셀 생성 : Ctrl + M A  \n",
        "* 바로 아랫줄에 셀 생성 : Ctrl + M B  \n",
        "* 셀 삭제 : Ctrl + M D  \n",
        "* 저장 : Ctrl + S  "
      ]
    }
  ]
}