{
  "nbformat": 4,
  "nbformat_minor": 0,
  "metadata": {
    "language_info": {
      "codemirror_mode": {
        "name": "ipython",
        "version": 3
      },
      "file_extension": ".py",
      "mimetype": "text/x-python",
      "name": "python",
      "nbconvert_exporter": "python",
      "pygments_lexer": "ipython3",
      "version": "3.8.10"
    },
    "orig_nbformat": 4,
    "kernelspec": {
      "name": "python3",
      "display_name": "Python 3.8.10 64-bit ('t5': conda)"
    },
    "interpreter": {
      "hash": "184c0bf4d405d4a36e719b504ff2a22c838d19108535bf816dff1a5aad495b87"
    },
    "colab": {
      "name": "wav2vec2-saved-model-finetuning.ipynb",
      "provenance": [],
      "collapsed_sections": [
        "rWk8nL6Ui-_0",
        "wvuJL8-f0zn5",
        "oPp18ZHRtnq-",
        "1mvTuOXpwsQe",
        "7Vlm3ySFULsG",
        "CzAOI78tky08",
        "SJfPlTgezD0i",
        "G14o706kdTE1"
      ],
      "toc_visible": true
    },
    "accelerator": "GPU",
    "widgets": {
      "application/vnd.jupyter.widget-state+json": {
        "ad984e2b07264e6aab7e3efce2218334": {
          "model_module": "@jupyter-widgets/controls",
          "model_name": "HBoxModel",
          "model_module_version": "1.5.0",
          "state": {
            "_dom_classes": [],
            "_model_module": "@jupyter-widgets/controls",
            "_model_module_version": "1.5.0",
            "_model_name": "HBoxModel",
            "_view_count": null,
            "_view_module": "@jupyter-widgets/controls",
            "_view_module_version": "1.5.0",
            "_view_name": "HBoxView",
            "box_style": "",
            "children": [
              "IPY_MODEL_d3f6fc33f058406e88f250257d2c9fb3",
              "IPY_MODEL_d54dd2b41d24475b9c77115aab59c1e5",
              "IPY_MODEL_caf086cebb53432fb7d5f735f9e594bf"
            ],
            "layout": "IPY_MODEL_95b3d57d6f694e44905ffe301f01a66f"
          }
        },
        "d3f6fc33f058406e88f250257d2c9fb3": {
          "model_module": "@jupyter-widgets/controls",
          "model_name": "HTMLModel",
          "model_module_version": "1.5.0",
          "state": {
            "_dom_classes": [],
            "_model_module": "@jupyter-widgets/controls",
            "_model_module_version": "1.5.0",
            "_model_name": "HTMLModel",
            "_view_count": null,
            "_view_module": "@jupyter-widgets/controls",
            "_view_module_version": "1.5.0",
            "_view_name": "HTMLView",
            "description": "",
            "description_tooltip": null,
            "layout": "IPY_MODEL_1698a06716954083aea7b8956de18fb9",
            "placeholder": "​",
            "style": "IPY_MODEL_cd170f35fcb14a98994893ad1886959e",
            "value": "Downloading builder script: "
          }
        },
        "d54dd2b41d24475b9c77115aab59c1e5": {
          "model_module": "@jupyter-widgets/controls",
          "model_name": "FloatProgressModel",
          "model_module_version": "1.5.0",
          "state": {
            "_dom_classes": [],
            "_model_module": "@jupyter-widgets/controls",
            "_model_module_version": "1.5.0",
            "_model_name": "FloatProgressModel",
            "_view_count": null,
            "_view_module": "@jupyter-widgets/controls",
            "_view_module_version": "1.5.0",
            "_view_name": "ProgressView",
            "bar_style": "success",
            "description": "",
            "description_tooltip": null,
            "layout": "IPY_MODEL_300324ff9aff4532826502a765f4b850",
            "max": 1901,
            "min": 0,
            "orientation": "horizontal",
            "style": "IPY_MODEL_c4d42783511b48ee846769b0b52d5660",
            "value": 1901
          }
        },
        "caf086cebb53432fb7d5f735f9e594bf": {
          "model_module": "@jupyter-widgets/controls",
          "model_name": "HTMLModel",
          "model_module_version": "1.5.0",
          "state": {
            "_dom_classes": [],
            "_model_module": "@jupyter-widgets/controls",
            "_model_module_version": "1.5.0",
            "_model_name": "HTMLModel",
            "_view_count": null,
            "_view_module": "@jupyter-widgets/controls",
            "_view_module_version": "1.5.0",
            "_view_name": "HTMLView",
            "description": "",
            "description_tooltip": null,
            "layout": "IPY_MODEL_863d0018aa3f4f9b92fad1800ea7d8b8",
            "placeholder": "​",
            "style": "IPY_MODEL_70055ad2ff2e497da3b2b9e86b3e03a8",
            "value": " 4.48k/? [00:00&lt;00:00, 120kB/s]"
          }
        },
        "95b3d57d6f694e44905ffe301f01a66f": {
          "model_module": "@jupyter-widgets/base",
          "model_name": "LayoutModel",
          "model_module_version": "1.2.0",
          "state": {
            "_model_module": "@jupyter-widgets/base",
            "_model_module_version": "1.2.0",
            "_model_name": "LayoutModel",
            "_view_count": null,
            "_view_module": "@jupyter-widgets/base",
            "_view_module_version": "1.2.0",
            "_view_name": "LayoutView",
            "align_content": null,
            "align_items": null,
            "align_self": null,
            "border": null,
            "bottom": null,
            "display": null,
            "flex": null,
            "flex_flow": null,
            "grid_area": null,
            "grid_auto_columns": null,
            "grid_auto_flow": null,
            "grid_auto_rows": null,
            "grid_column": null,
            "grid_gap": null,
            "grid_row": null,
            "grid_template_areas": null,
            "grid_template_columns": null,
            "grid_template_rows": null,
            "height": null,
            "justify_content": null,
            "justify_items": null,
            "left": null,
            "margin": null,
            "max_height": null,
            "max_width": null,
            "min_height": null,
            "min_width": null,
            "object_fit": null,
            "object_position": null,
            "order": null,
            "overflow": null,
            "overflow_x": null,
            "overflow_y": null,
            "padding": null,
            "right": null,
            "top": null,
            "visibility": null,
            "width": null
          }
        },
        "1698a06716954083aea7b8956de18fb9": {
          "model_module": "@jupyter-widgets/base",
          "model_name": "LayoutModel",
          "model_module_version": "1.2.0",
          "state": {
            "_model_module": "@jupyter-widgets/base",
            "_model_module_version": "1.2.0",
            "_model_name": "LayoutModel",
            "_view_count": null,
            "_view_module": "@jupyter-widgets/base",
            "_view_module_version": "1.2.0",
            "_view_name": "LayoutView",
            "align_content": null,
            "align_items": null,
            "align_self": null,
            "border": null,
            "bottom": null,
            "display": null,
            "flex": null,
            "flex_flow": null,
            "grid_area": null,
            "grid_auto_columns": null,
            "grid_auto_flow": null,
            "grid_auto_rows": null,
            "grid_column": null,
            "grid_gap": null,
            "grid_row": null,
            "grid_template_areas": null,
            "grid_template_columns": null,
            "grid_template_rows": null,
            "height": null,
            "justify_content": null,
            "justify_items": null,
            "left": null,
            "margin": null,
            "max_height": null,
            "max_width": null,
            "min_height": null,
            "min_width": null,
            "object_fit": null,
            "object_position": null,
            "order": null,
            "overflow": null,
            "overflow_x": null,
            "overflow_y": null,
            "padding": null,
            "right": null,
            "top": null,
            "visibility": null,
            "width": null
          }
        },
        "cd170f35fcb14a98994893ad1886959e": {
          "model_module": "@jupyter-widgets/controls",
          "model_name": "DescriptionStyleModel",
          "model_module_version": "1.5.0",
          "state": {
            "_model_module": "@jupyter-widgets/controls",
            "_model_module_version": "1.5.0",
            "_model_name": "DescriptionStyleModel",
            "_view_count": null,
            "_view_module": "@jupyter-widgets/base",
            "_view_module_version": "1.2.0",
            "_view_name": "StyleView",
            "description_width": ""
          }
        },
        "300324ff9aff4532826502a765f4b850": {
          "model_module": "@jupyter-widgets/base",
          "model_name": "LayoutModel",
          "model_module_version": "1.2.0",
          "state": {
            "_model_module": "@jupyter-widgets/base",
            "_model_module_version": "1.2.0",
            "_model_name": "LayoutModel",
            "_view_count": null,
            "_view_module": "@jupyter-widgets/base",
            "_view_module_version": "1.2.0",
            "_view_name": "LayoutView",
            "align_content": null,
            "align_items": null,
            "align_self": null,
            "border": null,
            "bottom": null,
            "display": null,
            "flex": null,
            "flex_flow": null,
            "grid_area": null,
            "grid_auto_columns": null,
            "grid_auto_flow": null,
            "grid_auto_rows": null,
            "grid_column": null,
            "grid_gap": null,
            "grid_row": null,
            "grid_template_areas": null,
            "grid_template_columns": null,
            "grid_template_rows": null,
            "height": null,
            "justify_content": null,
            "justify_items": null,
            "left": null,
            "margin": null,
            "max_height": null,
            "max_width": null,
            "min_height": null,
            "min_width": null,
            "object_fit": null,
            "object_position": null,
            "order": null,
            "overflow": null,
            "overflow_x": null,
            "overflow_y": null,
            "padding": null,
            "right": null,
            "top": null,
            "visibility": null,
            "width": null
          }
        },
        "c4d42783511b48ee846769b0b52d5660": {
          "model_module": "@jupyter-widgets/controls",
          "model_name": "ProgressStyleModel",
          "model_module_version": "1.5.0",
          "state": {
            "_model_module": "@jupyter-widgets/controls",
            "_model_module_version": "1.5.0",
            "_model_name": "ProgressStyleModel",
            "_view_count": null,
            "_view_module": "@jupyter-widgets/base",
            "_view_module_version": "1.2.0",
            "_view_name": "StyleView",
            "bar_color": null,
            "description_width": ""
          }
        },
        "863d0018aa3f4f9b92fad1800ea7d8b8": {
          "model_module": "@jupyter-widgets/base",
          "model_name": "LayoutModel",
          "model_module_version": "1.2.0",
          "state": {
            "_model_module": "@jupyter-widgets/base",
            "_model_module_version": "1.2.0",
            "_model_name": "LayoutModel",
            "_view_count": null,
            "_view_module": "@jupyter-widgets/base",
            "_view_module_version": "1.2.0",
            "_view_name": "LayoutView",
            "align_content": null,
            "align_items": null,
            "align_self": null,
            "border": null,
            "bottom": null,
            "display": null,
            "flex": null,
            "flex_flow": null,
            "grid_area": null,
            "grid_auto_columns": null,
            "grid_auto_flow": null,
            "grid_auto_rows": null,
            "grid_column": null,
            "grid_gap": null,
            "grid_row": null,
            "grid_template_areas": null,
            "grid_template_columns": null,
            "grid_template_rows": null,
            "height": null,
            "justify_content": null,
            "justify_items": null,
            "left": null,
            "margin": null,
            "max_height": null,
            "max_width": null,
            "min_height": null,
            "min_width": null,
            "object_fit": null,
            "object_position": null,
            "order": null,
            "overflow": null,
            "overflow_x": null,
            "overflow_y": null,
            "padding": null,
            "right": null,
            "top": null,
            "visibility": null,
            "width": null
          }
        },
        "70055ad2ff2e497da3b2b9e86b3e03a8": {
          "model_module": "@jupyter-widgets/controls",
          "model_name": "DescriptionStyleModel",
          "model_module_version": "1.5.0",
          "state": {
            "_model_module": "@jupyter-widgets/controls",
            "_model_module_version": "1.5.0",
            "_model_name": "DescriptionStyleModel",
            "_view_count": null,
            "_view_module": "@jupyter-widgets/base",
            "_view_module_version": "1.2.0",
            "_view_name": "StyleView",
            "description_width": ""
          }
        },
        "5998a51d637843cf89abe82e1c5c8891": {
          "model_module": "@jupyter-widgets/controls",
          "model_name": "HBoxModel",
          "model_module_version": "1.5.0",
          "state": {
            "_dom_classes": [],
            "_model_module": "@jupyter-widgets/controls",
            "_model_module_version": "1.5.0",
            "_model_name": "HBoxModel",
            "_view_count": null,
            "_view_module": "@jupyter-widgets/controls",
            "_view_module_version": "1.5.0",
            "_view_name": "HBoxView",
            "box_style": "",
            "children": [
              "IPY_MODEL_de6ac6015f1742259c753e35482d5ee8",
              "IPY_MODEL_361045df1d0242d9820830ba40b4b713",
              "IPY_MODEL_c136dbb547ac49e4805f42d6f903b067"
            ],
            "layout": "IPY_MODEL_65481eb972674a379c5a26f0f6312bce"
          }
        },
        "de6ac6015f1742259c753e35482d5ee8": {
          "model_module": "@jupyter-widgets/controls",
          "model_name": "HTMLModel",
          "model_module_version": "1.5.0",
          "state": {
            "_dom_classes": [],
            "_model_module": "@jupyter-widgets/controls",
            "_model_module_version": "1.5.0",
            "_model_name": "HTMLModel",
            "_view_count": null,
            "_view_module": "@jupyter-widgets/controls",
            "_view_module_version": "1.5.0",
            "_view_name": "HTMLView",
            "description": "",
            "description_tooltip": null,
            "layout": "IPY_MODEL_dfe3ab975fa54366905cd950a733c8c6",
            "placeholder": "​",
            "style": "IPY_MODEL_51be6a2f813046ecac6c62141b42ebc0",
            "value": "100%"
          }
        },
        "361045df1d0242d9820830ba40b4b713": {
          "model_module": "@jupyter-widgets/controls",
          "model_name": "FloatProgressModel",
          "model_module_version": "1.5.0",
          "state": {
            "_dom_classes": [],
            "_model_module": "@jupyter-widgets/controls",
            "_model_module_version": "1.5.0",
            "_model_name": "FloatProgressModel",
            "_view_count": null,
            "_view_module": "@jupyter-widgets/controls",
            "_view_module_version": "1.5.0",
            "_view_name": "ProgressView",
            "bar_style": "success",
            "description": "",
            "description_tooltip": null,
            "layout": "IPY_MODEL_8a267292d9f64c56ad17976b969513bf",
            "max": 4,
            "min": 0,
            "orientation": "horizontal",
            "style": "IPY_MODEL_a7eb45b0d3494414a1f8015fb3991138",
            "value": 4
          }
        },
        "c136dbb547ac49e4805f42d6f903b067": {
          "model_module": "@jupyter-widgets/controls",
          "model_name": "HTMLModel",
          "model_module_version": "1.5.0",
          "state": {
            "_dom_classes": [],
            "_model_module": "@jupyter-widgets/controls",
            "_model_module_version": "1.5.0",
            "_model_name": "HTMLModel",
            "_view_count": null,
            "_view_module": "@jupyter-widgets/controls",
            "_view_module_version": "1.5.0",
            "_view_name": "HTMLView",
            "description": "",
            "description_tooltip": null,
            "layout": "IPY_MODEL_a808d328788244a99df5606c5185bbb4",
            "placeholder": "​",
            "style": "IPY_MODEL_6328d697a68344d381b635f29b963578",
            "value": " 4/4 [00:07&lt;00:00,  1.13s/it]"
          }
        },
        "65481eb972674a379c5a26f0f6312bce": {
          "model_module": "@jupyter-widgets/base",
          "model_name": "LayoutModel",
          "model_module_version": "1.2.0",
          "state": {
            "_model_module": "@jupyter-widgets/base",
            "_model_module_version": "1.2.0",
            "_model_name": "LayoutModel",
            "_view_count": null,
            "_view_module": "@jupyter-widgets/base",
            "_view_module_version": "1.2.0",
            "_view_name": "LayoutView",
            "align_content": null,
            "align_items": null,
            "align_self": null,
            "border": null,
            "bottom": null,
            "display": null,
            "flex": null,
            "flex_flow": null,
            "grid_area": null,
            "grid_auto_columns": null,
            "grid_auto_flow": null,
            "grid_auto_rows": null,
            "grid_column": null,
            "grid_gap": null,
            "grid_row": null,
            "grid_template_areas": null,
            "grid_template_columns": null,
            "grid_template_rows": null,
            "height": null,
            "justify_content": null,
            "justify_items": null,
            "left": null,
            "margin": null,
            "max_height": null,
            "max_width": null,
            "min_height": null,
            "min_width": null,
            "object_fit": null,
            "object_position": null,
            "order": null,
            "overflow": null,
            "overflow_x": null,
            "overflow_y": null,
            "padding": null,
            "right": null,
            "top": null,
            "visibility": null,
            "width": null
          }
        },
        "dfe3ab975fa54366905cd950a733c8c6": {
          "model_module": "@jupyter-widgets/base",
          "model_name": "LayoutModel",
          "model_module_version": "1.2.0",
          "state": {
            "_model_module": "@jupyter-widgets/base",
            "_model_module_version": "1.2.0",
            "_model_name": "LayoutModel",
            "_view_count": null,
            "_view_module": "@jupyter-widgets/base",
            "_view_module_version": "1.2.0",
            "_view_name": "LayoutView",
            "align_content": null,
            "align_items": null,
            "align_self": null,
            "border": null,
            "bottom": null,
            "display": null,
            "flex": null,
            "flex_flow": null,
            "grid_area": null,
            "grid_auto_columns": null,
            "grid_auto_flow": null,
            "grid_auto_rows": null,
            "grid_column": null,
            "grid_gap": null,
            "grid_row": null,
            "grid_template_areas": null,
            "grid_template_columns": null,
            "grid_template_rows": null,
            "height": null,
            "justify_content": null,
            "justify_items": null,
            "left": null,
            "margin": null,
            "max_height": null,
            "max_width": null,
            "min_height": null,
            "min_width": null,
            "object_fit": null,
            "object_position": null,
            "order": null,
            "overflow": null,
            "overflow_x": null,
            "overflow_y": null,
            "padding": null,
            "right": null,
            "top": null,
            "visibility": null,
            "width": null
          }
        },
        "51be6a2f813046ecac6c62141b42ebc0": {
          "model_module": "@jupyter-widgets/controls",
          "model_name": "DescriptionStyleModel",
          "model_module_version": "1.5.0",
          "state": {
            "_model_module": "@jupyter-widgets/controls",
            "_model_module_version": "1.5.0",
            "_model_name": "DescriptionStyleModel",
            "_view_count": null,
            "_view_module": "@jupyter-widgets/base",
            "_view_module_version": "1.2.0",
            "_view_name": "StyleView",
            "description_width": ""
          }
        },
        "8a267292d9f64c56ad17976b969513bf": {
          "model_module": "@jupyter-widgets/base",
          "model_name": "LayoutModel",
          "model_module_version": "1.2.0",
          "state": {
            "_model_module": "@jupyter-widgets/base",
            "_model_module_version": "1.2.0",
            "_model_name": "LayoutModel",
            "_view_count": null,
            "_view_module": "@jupyter-widgets/base",
            "_view_module_version": "1.2.0",
            "_view_name": "LayoutView",
            "align_content": null,
            "align_items": null,
            "align_self": null,
            "border": null,
            "bottom": null,
            "display": null,
            "flex": null,
            "flex_flow": null,
            "grid_area": null,
            "grid_auto_columns": null,
            "grid_auto_flow": null,
            "grid_auto_rows": null,
            "grid_column": null,
            "grid_gap": null,
            "grid_row": null,
            "grid_template_areas": null,
            "grid_template_columns": null,
            "grid_template_rows": null,
            "height": null,
            "justify_content": null,
            "justify_items": null,
            "left": null,
            "margin": null,
            "max_height": null,
            "max_width": null,
            "min_height": null,
            "min_width": null,
            "object_fit": null,
            "object_position": null,
            "order": null,
            "overflow": null,
            "overflow_x": null,
            "overflow_y": null,
            "padding": null,
            "right": null,
            "top": null,
            "visibility": null,
            "width": null
          }
        },
        "a7eb45b0d3494414a1f8015fb3991138": {
          "model_module": "@jupyter-widgets/controls",
          "model_name": "ProgressStyleModel",
          "model_module_version": "1.5.0",
          "state": {
            "_model_module": "@jupyter-widgets/controls",
            "_model_module_version": "1.5.0",
            "_model_name": "ProgressStyleModel",
            "_view_count": null,
            "_view_module": "@jupyter-widgets/base",
            "_view_module_version": "1.2.0",
            "_view_name": "StyleView",
            "bar_color": null,
            "description_width": ""
          }
        },
        "a808d328788244a99df5606c5185bbb4": {
          "model_module": "@jupyter-widgets/base",
          "model_name": "LayoutModel",
          "model_module_version": "1.2.0",
          "state": {
            "_model_module": "@jupyter-widgets/base",
            "_model_module_version": "1.2.0",
            "_model_name": "LayoutModel",
            "_view_count": null,
            "_view_module": "@jupyter-widgets/base",
            "_view_module_version": "1.2.0",
            "_view_name": "LayoutView",
            "align_content": null,
            "align_items": null,
            "align_self": null,
            "border": null,
            "bottom": null,
            "display": null,
            "flex": null,
            "flex_flow": null,
            "grid_area": null,
            "grid_auto_columns": null,
            "grid_auto_flow": null,
            "grid_auto_rows": null,
            "grid_column": null,
            "grid_gap": null,
            "grid_row": null,
            "grid_template_areas": null,
            "grid_template_columns": null,
            "grid_template_rows": null,
            "height": null,
            "justify_content": null,
            "justify_items": null,
            "left": null,
            "margin": null,
            "max_height": null,
            "max_width": null,
            "min_height": null,
            "min_width": null,
            "object_fit": null,
            "object_position": null,
            "order": null,
            "overflow": null,
            "overflow_x": null,
            "overflow_y": null,
            "padding": null,
            "right": null,
            "top": null,
            "visibility": null,
            "width": null
          }
        },
        "6328d697a68344d381b635f29b963578": {
          "model_module": "@jupyter-widgets/controls",
          "model_name": "DescriptionStyleModel",
          "model_module_version": "1.5.0",
          "state": {
            "_model_module": "@jupyter-widgets/controls",
            "_model_module_version": "1.5.0",
            "_model_name": "DescriptionStyleModel",
            "_view_count": null,
            "_view_module": "@jupyter-widgets/base",
            "_view_module_version": "1.2.0",
            "_view_name": "StyleView",
            "description_width": ""
          }
        }
      }
    }
  },
  "cells": [
    {
      "cell_type": "markdown",
      "source": [
        "##### Copyright 2021 The TensorFlow Hub Authors.\n",
        "\n",
        "Licensed under the Apache License, Version 2.0 (the \"License\");"
      ],
      "metadata": {
        "id": "yCs7P9JTMlzV"
      }
    },
    {
      "cell_type": "code",
      "execution_count": null,
      "source": [
        "#@title Copyright 2021 The TensorFlow Hub Authors. All Rights Reserved.\n",
        "#\n",
        "# Licensed under the Apache License, Version 2.0 (the \"License\");\n",
        "# you may not use this file except in compliance with the License.\n",
        "# You may obtain a copy of the License at\n",
        "#\n",
        "#     http://www.apache.org/licenses/LICENSE-2.0\n",
        "#\n",
        "# Unless required by applicable law or agreed to in writing, software\n",
        "# distributed under the License is distributed on an \"AS IS\" BASIS,\n",
        "# WITHOUT WARRANTIES OR CONDITIONS OF ANY KIND, either express or implied.\n",
        "# See the License for the specific language governing permissions and\n",
        "# limitations under the License.\n",
        "# =============================================================================="
      ],
      "outputs": [],
      "metadata": {
        "id": "Jqn-HYw-Mkea"
      }
    },
    {
      "cell_type": "markdown",
      "source": [
        "<table class=\"tfo-notebook-buttons\" align=\"left\">\n",
        "  <td>\n",
        "    <a target=\"_blank\" href=\"https://www.tensorflow.org/hub/tutorials/wav2vec2_saved_model_finetuning\"><img src=\"https://www.tensorflow.org/images/tf_logo_32px.png\" />View on TensorFlow.org</a>\n",
        "  </td>\n",
        "  <td>\n",
        "    <a target=\"_blank\" href=\"https://colab.research.google.com/github/tensorflow/hub/blob/master/examples/colab/wav2vec2_saved_model_finetuning.ipynb\"><img src=\"https://www.tensorflow.org/images/colab_logo_32px.png\" />Run in Google Colab</a>\n",
        "  </td>\n",
        "  <td>\n",
        "    <a target=\"_blank\" href=\"https://github.com/tensorflow/hub/blob/master/examples/colab/wav2vec2_saved_model_finetuning.ipynb\"><img src=\"https://www.tensorflow.org/images/GitHub-Mark-32px.png\" />View on GitHub</a>\n",
        "  </td>\n",
        "  <td>\n",
        "    <a href=\"https://storage.googleapis.com/tensorflow_docs/hub/examples/colab/wav2vec2_saved_model_finetuning.ipynb\"><img src=\"https://www.tensorflow.org/images/download_logo_32px.png\" />Download notebook</a>\n",
        "  </td>\n",
        "  <td>\n",
        "    <a href=\"https://tfhub.dev/vasudevgupta7/wav2vec2/1\"><img src=\"https://www.tensorflow.org/images/hub_logo_32px.png\" />See TF Hub model</a>\n",
        "  </td>\n",
        "</table>"
      ],
      "metadata": {
        "id": "stRetE8gMlmZ"
      }
    },
    {
      "cell_type": "markdown",
      "source": [
        "# Fine-tuning Wav2Vec2 with an LM head\n",
        "\n",
        "In this notebook, we will load the pre-trained wav2vec2 model from [TFHub](https://tfhub.dev) and will fine-tune it on [LibriSpeech dataset](https://huggingface.co/datasets/librispeech_asr) by appending Language Modeling head (LM) over the top of our pre-trained model. The underlying task is to build a model for **Automatic Speech Recognition** i.e. given some speech, the model should be able to transcribe it into text."
      ],
      "metadata": {
        "id": "ndG8MjmJeicp"
      }
    },
    {
      "cell_type": "markdown",
      "source": [
        "## Setting Up\n",
        "\n",
        "Before running this notebook, please ensure that you are on GPU runtime (`Runtime` > `Change runtime type` > `GPU`). The following cell will install [`gsoc-wav2vec2`](https://github.com/vasudevgupta7/gsoc-wav2vec2) package & its dependencies."
      ],
      "metadata": {
        "id": "rWk8nL6Ui-_0"
      }
    },
    {
      "cell_type": "code",
      "execution_count": 1,
      "source": [
        "!pip3 install -q git+https://github.com/vasudevgupta7/gsoc-wav2vec2@main\n",
        "!sudo apt-get install -y libsndfile1-dev\n",
        "!pip3 install -q SoundFile"
      ],
      "outputs": [
        {
          "output_type": "stream",
          "name": "stdout",
          "text": [
            "\u001b[K     |████████████████████████████████| 1.8 MB 8.4 MB/s \n",
            "\u001b[K     |████████████████████████████████| 86 kB 6.2 MB/s \n",
            "\u001b[K     |████████████████████████████████| 596 kB 70.3 MB/s \n",
            "\u001b[K     |████████████████████████████████| 50 kB 7.7 MB/s \n",
            "\u001b[K     |████████████████████████████████| 181 kB 75.6 MB/s \n",
            "\u001b[K     |████████████████████████████████| 145 kB 22.5 MB/s \n",
            "\u001b[K     |████████████████████████████████| 63 kB 1.8 MB/s \n",
            "\u001b[?25h  Building wheel for wav2vec2 (setup.py) ... \u001b[?25l\u001b[?25hdone\n",
            "  Building wheel for python-Levenshtein (setup.py) ... \u001b[?25l\u001b[?25hdone\n",
            "  Building wheel for pathtools (setup.py) ... \u001b[?25l\u001b[?25hdone\n",
            "Reading package lists... Done\n",
            "Building dependency tree       \n",
            "Reading state information... Done\n",
            "libsndfile1-dev is already the newest version (1.0.28-4ubuntu0.18.04.2).\n",
            "The following package was automatically installed and is no longer required:\n",
            "  libnvidia-common-460\n",
            "Use 'sudo apt autoremove' to remove it.\n",
            "0 upgraded, 0 newly installed, 0 to remove and 45 not upgraded.\n"
          ]
        }
      ],
      "metadata": {
        "id": "seqTlMyeZvM4",
        "outputId": "ab3d4a00-2197-48c9-e4e8-50b466346ec6",
        "colab": {
          "base_uri": "https://localhost:8080/"
        }
      }
    },
    {
      "cell_type": "markdown",
      "source": [
        "## Model setup using `TFHub`\n",
        "\n",
        "We will start by importing some libraries/modules."
      ],
      "metadata": {
        "id": "wvuJL8-f0zn5"
      }
    },
    {
      "cell_type": "code",
      "execution_count": 2,
      "source": [
        "import os\n",
        "\n",
        "import tensorflow as tf\n",
        "import tensorflow_hub as hub\n",
        "from wav2vec2 import Wav2Vec2Config\n",
        "\n",
        "config = Wav2Vec2Config()\n",
        "\n",
        "print(\"TF version:\", tf.__version__)"
      ],
      "outputs": [
        {
          "output_type": "stream",
          "name": "stdout",
          "text": [
            "TF version: 2.8.2\n"
          ]
        }
      ],
      "metadata": {
        "id": "M3_fgx4eZvM7",
        "outputId": "0d6d8ca3-0f1a-4f3b-db8a-c0f1c4da829c",
        "colab": {
          "base_uri": "https://localhost:8080/"
        }
      }
    },
    {
      "cell_type": "markdown",
      "source": [
        "First, we will download our model from TFHub & will wrap our model signature with [`hub.KerasLayer`](https://www.tensorflow.org/hub/api_docs/python/hub/KerasLayer) to be able to use this model like any other Keras layer. Fortunately, `hub.KerasLayer` can do both in just 1 line.\n",
        "\n",
        "**Note:** When loading model with `hub.KerasLayer`, model becomes a bit opaque but sometimes we need finer controls over the model, then we can load the model with `tf.keras.models.load_model(...)`."
      ],
      "metadata": {
        "id": "y0rVUxyWsS5f"
      }
    },
    {
      "cell_type": "code",
      "execution_count": 3,
      "source": [
        "pretrained_layer = hub.KerasLayer(\"https://tfhub.dev/vasudevgupta7/wav2vec2/1\", trainable=True)"
      ],
      "outputs": [],
      "metadata": {
        "id": "NO6QRC7KZvM9"
      }
    },
    {
      "cell_type": "markdown",
      "source": [
        "You can refer to this [script](https://github.com/vasudevgupta7/gsoc-wav2vec2/blob/main/src/export2hub.py) in case you are interested in the model exporting script. Object `pretrained_layer` is the freezed version of [`Wav2Vec2Model`](https://github.com/vasudevgupta7/gsoc-wav2vec2/blob/main/src/wav2vec2/modeling.py). These pre-trained weights were converted from HuggingFace PyTorch [pre-trained weights](https://huggingface.co/facebook/wav2vec2-base) using [this script](https://github.com/vasudevgupta7/gsoc-wav2vec2/blob/main/src/convert_torch_to_tf.py).\n",
        "\n",
        "Originally, wav2vec2 was pre-trained with a masked language modelling approach with the objective to identify the true quantized latent speech representation for a masked time step. You can read more about the training objective in the paper- [wav2vec 2.0: A Framework for Self-Supervised Learning of Speech Representations](https://arxiv.org/abs/2006.11477)."
      ],
      "metadata": {
        "id": "pCputyVBv2e9"
      }
    },
    {
      "cell_type": "markdown",
      "source": [
        "Now, we will be defining a few constants and hyper-parameters which will be useful in the next few cells. `AUDIO_MAXLEN` is intentionally set to `246000` as the model signature only accepts static sequence length of `246000`."
      ],
      "metadata": {
        "id": "SseDnCr7hyhC"
      }
    },
    {
      "cell_type": "code",
      "execution_count": 4,
      "source": [
        "AUDIO_MAXLEN = 246000\n",
        "LABEL_MAXLEN = 256\n",
        "BATCH_SIZE = 2"
      ],
      "outputs": [],
      "metadata": {
        "id": "eiILuMBERxlO"
      }
    },
    {
      "cell_type": "markdown",
      "source": [
        "In the following cell, we will wrap `pretrained_layer` & a dense layer (LM head) with the [Keras's Functional API](https://www.tensorflow.org/guide/keras/functional)."
      ],
      "metadata": {
        "id": "1V4gTgGLgXvO"
      }
    },
    {
      "cell_type": "code",
      "execution_count": 5,
      "source": [
        "inputs = tf.keras.Input(shape=(AUDIO_MAXLEN,))\n",
        "hidden_states = pretrained_layer(inputs)\n",
        "outputs = tf.keras.layers.Dense(config.vocab_size)(hidden_states)\n",
        "\n",
        "model = tf.keras.Model(inputs=inputs, outputs=outputs)"
      ],
      "outputs": [],
      "metadata": {
        "id": "a3CUN1KEB10Q"
      }
    },
    {
      "cell_type": "markdown",
      "source": [
        "The dense layer (defined above) is having an output dimension of `vocab_size` as we want to predict probabilities of each token in the vocabulary at each time step."
      ],
      "metadata": {
        "id": "5zDXuoMXhDMo"
      }
    },
    {
      "cell_type": "markdown",
      "source": [
        "## Setting up training state"
      ],
      "metadata": {
        "id": "oPp18ZHRtnq-"
      }
    },
    {
      "cell_type": "markdown",
      "source": [
        "In TensorFlow, model weights are built only when `model.call` or `model.build` is called for the first time, so the following cell will build the model weights for us. Further, we will be running `model.summary()` to check the total number of trainable parameters."
      ],
      "metadata": {
        "id": "ATQy1ZK3vFr7"
      }
    },
    {
      "cell_type": "code",
      "execution_count": 6,
      "source": [
        "model(tf.random.uniform(shape=(BATCH_SIZE, AUDIO_MAXLEN)))\n",
        "model.summary()"
      ],
      "outputs": [
        {
          "output_type": "stream",
          "name": "stdout",
          "text": [
            "Model: \"model\"\n",
            "_________________________________________________________________\n",
            " Layer (type)                Output Shape              Param #   \n",
            "=================================================================\n",
            " input_1 (InputLayer)        [(None, 246000)]          0         \n",
            "                                                                 \n",
            " keras_layer (KerasLayer)    (None, 768, 768)          94371712  \n",
            "                                                                 \n",
            " dense (Dense)               (None, 768, 32)           24608     \n",
            "                                                                 \n",
            "=================================================================\n",
            "Total params: 94,396,320\n",
            "Trainable params: 94,396,320\n",
            "Non-trainable params: 0\n",
            "_________________________________________________________________\n"
          ]
        }
      ],
      "metadata": {
        "id": "ZgL5wyaXZvM-",
        "outputId": "931de39f-5d1d-43b1-b5b3-5369cf620d7c",
        "colab": {
          "base_uri": "https://localhost:8080/"
        }
      }
    },
    {
      "cell_type": "markdown",
      "source": [
        "Now, we need to define the `loss_fn` and optimizer to be able to train the model. The following cell will do that for us. We will be using the `Adam` optimizer for simplicity. `CTCLoss` is a common loss type that is used for tasks (like `ASR`) where input sub-parts can't be easily aligned with output sub-parts. You can read more about CTC-loss from this amazing [blog post](https://distill.pub/2017/ctc/).\n",
        "\n",
        "\n",
        "`CTCLoss` (from [`gsoc-wav2vec2`](https://github.com/vasudevgupta7/gsoc-wav2vec2) package) accepts 3 arguments: `config`, `model_input_shape` & `division_factor`. If `division_factor=1`, then loss will simply get summed, so pass `division_factor` accordingly to get mean over batch."
      ],
      "metadata": {
        "id": "EQxxA4Fevp7m"
      }
    },
    {
      "cell_type": "code",
      "execution_count": 7,
      "source": [
        "from wav2vec2 import CTCLoss\n",
        "\n",
        "LEARNING_RATE = 5e-5\n",
        "\n",
        "loss_fn = CTCLoss(config, (BATCH_SIZE, AUDIO_MAXLEN), division_factor=BATCH_SIZE)\n",
        "optimizer = tf.keras.optimizers.Adam(LEARNING_RATE)"
      ],
      "outputs": [],
      "metadata": {
        "id": "glDepVEHZvM_"
      }
    },
    {
      "cell_type": "code",
      "source": [
        "loss_fn"
      ],
      "metadata": {
        "id": "LFtZAy-SsEoP",
        "outputId": "adc31fa4-3d47-4ae1-da0e-a6208f1061c7",
        "colab": {
          "base_uri": "https://localhost:8080/"
        }
      },
      "execution_count": 8,
      "outputs": [
        {
          "output_type": "execute_result",
          "data": {
            "text/plain": [
              "<wav2vec2.losses.CTCLoss at 0x7f5ba0422050>"
            ]
          },
          "metadata": {},
          "execution_count": 8
        }
      ]
    },
    {
      "cell_type": "markdown",
      "source": [
        "## Loading & Pre-processing data\n",
        "\n",
        "Let's now download the LibriSpeech dataset from the [official website](http://www.openslr.org/12) and set it up."
      ],
      "metadata": {
        "id": "1mvTuOXpwsQe"
      }
    },
    {
      "cell_type": "code",
      "execution_count": 9,
      "source": [
        "!wget https://www.openslr.org/resources/12/dev-clean.tar.gz -P ./data/train/\n",
        "!tar -xf ./data/train/dev-clean.tar.gz -C ./data/train/"
      ],
      "outputs": [
        {
          "output_type": "stream",
          "name": "stdout",
          "text": [
            "--2022-06-06 06:26:10--  https://www.openslr.org/resources/12/dev-clean.tar.gz\n",
            "Resolving www.openslr.org (www.openslr.org)... 46.101.158.64\n",
            "Connecting to www.openslr.org (www.openslr.org)|46.101.158.64|:443... connected.\n",
            "HTTP request sent, awaiting response... 302 Found\n",
            "Location: http://us.openslr.org/resources/12/dev-clean.tar.gz [following]\n",
            "--2022-06-06 06:26:11--  http://us.openslr.org/resources/12/dev-clean.tar.gz\n",
            "Resolving us.openslr.org (us.openslr.org)... 46.101.158.64\n",
            "Connecting to us.openslr.org (us.openslr.org)|46.101.158.64|:80... connected.\n",
            "HTTP request sent, awaiting response... 200 OK\n",
            "Length: 337926286 (322M) [application/x-gzip]\n",
            "Saving to: ‘./data/train/dev-clean.tar.gz’\n",
            "\n",
            "dev-clean.tar.gz    100%[===================>] 322.27M  20.7MB/s    in 17s     \n",
            "\n",
            "2022-06-06 06:26:28 (19.4 MB/s) - ‘./data/train/dev-clean.tar.gz’ saved [337926286/337926286]\n",
            "\n"
          ]
        }
      ],
      "metadata": {
        "id": "I4kIEC77cBCM",
        "outputId": "848e202d-994e-4e27-9be8-8a6e99b8d939",
        "colab": {
          "base_uri": "https://localhost:8080/"
        }
      }
    },
    {
      "cell_type": "markdown",
      "source": [
        "**Note:** We are using `dev-clean` configuration as this notebook is just for demonstration purposes, so we need a small amount of data. Complete training data can be easily downloaded from [LibriSpeech website](http://www.openslr.org/12)."
      ],
      "metadata": {
        "id": "LsQpmpn6jrMI"
      }
    },
    {
      "cell_type": "code",
      "execution_count": 10,
      "source": [
        "ls ./data/train/"
      ],
      "outputs": [
        {
          "output_type": "stream",
          "name": "stdout",
          "text": [
            "dev-clean.tar.gz  \u001b[0m\u001b[01;34mLibriSpeech\u001b[0m/\n"
          ]
        }
      ],
      "metadata": {
        "id": "ynxAjtGHGFpM",
        "outputId": "d588485b-b023-4935-ab09-32491bbeb3b7",
        "colab": {
          "base_uri": "https://localhost:8080/"
        }
      }
    },
    {
      "cell_type": "markdown",
      "source": [
        "Our dataset lies in the LibriSpeech directory. Let's explore these files."
      ],
      "metadata": {
        "id": "yBMiORo0xJD0"
      }
    },
    {
      "cell_type": "code",
      "execution_count": 11,
      "source": [
        "data_dir = \"./data/train/LibriSpeech/dev-clean/2428/83705/\"\n",
        "all_files = os.listdir(data_dir)\n",
        "\n",
        "flac_files = [f for f in all_files if f.endswith(\".flac\")]\n",
        "txt_files = [f for f in all_files if f.endswith(\".txt\")]\n",
        "\n",
        "print(\"Transcription files:\", txt_files, \"\\nSound files:\", flac_files)"
      ],
      "outputs": [
        {
          "output_type": "stream",
          "name": "stdout",
          "text": [
            "Transcription files: ['2428-83705.trans.txt'] \n",
            "Sound files: ['2428-83705-0025.flac', '2428-83705-0033.flac', '2428-83705-0028.flac', '2428-83705-0010.flac', '2428-83705-0036.flac', '2428-83705-0034.flac', '2428-83705-0027.flac', '2428-83705-0002.flac', '2428-83705-0007.flac', '2428-83705-0041.flac', '2428-83705-0037.flac', '2428-83705-0022.flac', '2428-83705-0005.flac', '2428-83705-0009.flac', '2428-83705-0039.flac', '2428-83705-0021.flac', '2428-83705-0003.flac', '2428-83705-0038.flac', '2428-83705-0023.flac', '2428-83705-0024.flac', '2428-83705-0001.flac', '2428-83705-0018.flac', '2428-83705-0043.flac', '2428-83705-0004.flac', '2428-83705-0032.flac', '2428-83705-0013.flac', '2428-83705-0035.flac', '2428-83705-0000.flac', '2428-83705-0014.flac', '2428-83705-0017.flac', '2428-83705-0030.flac', '2428-83705-0015.flac', '2428-83705-0026.flac', '2428-83705-0031.flac', '2428-83705-0019.flac', '2428-83705-0008.flac', '2428-83705-0042.flac', '2428-83705-0016.flac', '2428-83705-0011.flac', '2428-83705-0006.flac', '2428-83705-0012.flac', '2428-83705-0029.flac', '2428-83705-0020.flac', '2428-83705-0040.flac']\n"
          ]
        }
      ],
      "metadata": {
        "id": "jkIu_Wt4ZvNA",
        "outputId": "cf019ef7-dd55-4e7c-e519-19fad44d8bd3",
        "colab": {
          "base_uri": "https://localhost:8080/"
        }
      }
    },
    {
      "cell_type": "markdown",
      "source": [
        "Alright, so each sub-directory has many `.flac` files and a `.txt` file. The `.txt` file contains text transcriptions for all the speech samples (i.e. `.flac` files) present in that sub-directory."
      ],
      "metadata": {
        "id": "XEObi_Apk3ZD"
      }
    },
    {
      "cell_type": "markdown",
      "source": [
        "We can load this text data as follows:"
      ],
      "metadata": {
        "id": "WYW6WKJflO2e"
      }
    },
    {
      "cell_type": "code",
      "execution_count": 12,
      "source": [
        "def read_txt_file(f):\n",
        "  with open(f, \"r\") as f:\n",
        "    samples = f.read().split(\"\\n\")\n",
        "    samples = {s.split()[0]: \" \".join(s.split()[1:]) for s in samples if len(s.split()) > 2}\n",
        "  return samples"
      ],
      "outputs": [],
      "metadata": {
        "id": "cEBKxQblHPwq"
      }
    },
    {
      "cell_type": "markdown",
      "source": [
        "Similarly, we will define a function for loading a speech sample from a `.flac` file.\n",
        "\n",
        "`REQUIRED_SAMPLE_RATE` is set to `16000` as wav2vec2 was pre-trained with `16K` frequency and it's recommended to fine-tune it without any major change in data distribution due to frequency."
      ],
      "metadata": {
        "id": "Ldkf_ceb0_YW"
      }
    },
    {
      "cell_type": "code",
      "execution_count": 13,
      "source": [
        "import soundfile as sf\n",
        "\n",
        "REQUIRED_SAMPLE_RATE = 16000\n",
        "\n",
        "def read_flac_file(file_path):\n",
        "  with open(file_path, \"rb\") as f:\n",
        "      audio, sample_rate = sf.read(f)\n",
        "  if sample_rate != REQUIRED_SAMPLE_RATE:\n",
        "      raise ValueError(\n",
        "          f\"sample rate (={sample_rate}) of your files must be {REQUIRED_SAMPLE_RATE}\"\n",
        "      )\n",
        "  file_id = os.path.split(file_path)[-1][:-len(\".flac\")]\n",
        "  return {file_id: audio}"
      ],
      "outputs": [],
      "metadata": {
        "id": "YOJ3OzPsTyXv"
      }
    },
    {
      "cell_type": "markdown",
      "source": [
        "Now, we will pick some random samples & will try to visualize them."
      ],
      "metadata": {
        "id": "2sxDN8P4nWkW"
      }
    },
    {
      "cell_type": "code",
      "execution_count": 19,
      "source": [
        "from IPython.display import Audio\n",
        "import random\n",
        "\n",
        "file_id = random.choice([f[:-len(\".flac\")] for f in flac_files])\n",
        "flac_file_path, txt_file_path = os.path.join(data_dir, f\"{file_id}.flac\"), os.path.join(data_dir, \"2428-83705.trans.txt\")\n",
        "\n",
        "print(\"Text Transcription:\", read_txt_file(txt_file_path)[file_id], \"\\nAudio:\")\n",
        "Audio(filename=flac_file_path)"
      ],
      "outputs": [
        {
          "output_type": "stream",
          "name": "stdout",
          "text": [
            "Text Transcription: I HAVE DRAWN UP A LIST OF ALL THE PEOPLE WHO OUGHT TO GIVE US A PRESENT AND I SHALL TELL THEM WHAT THEY OUGHT TO GIVE IT WON'T BE MY FAULT IF I DON'T GET IT \n",
            "Audio:\n"
          ]
        },
        {
          "output_type": "execute_result",
          "data": {
            "text/plain": [
              "<IPython.lib.display.Audio object>"
            ],
            "text/html": [
              "\n",
              "                <audio controls=\"controls\" >\n",
              "                    <source src=\"data:audio/flac;base64,ZkxhQwAAACIQABAAAAOjABdjA+gA8AACZ1CbFb7oQEi/KrM9JzawYIieAwAAEgAAAAAAAAAAAAAAAAAAAAAQAAQAACggAAAAcmVmZXJlbmNlIGxpYkZMQUMgMS4yLjEgMjAwNzA5MTcAAAAAgQAgAAAAAAAAAAAAAAAAAAAAAAAAAAAAAAAAAAAAAAAAAAAAAAAAAAAAAAAAAAAAAAAAAAAAAAAAAAAAAAAAAAAAAAAAAAAAAAAAAAAAAAAAAAAAAAAAAAAAAAAAAAAAAAAAAAAAAAAAAAAAAAAAAAAAAAAAAAAAAAAAAAAAAAAAAAAAAAAAAAAAAAAAAAAAAAAAAAAAAAAAAAAAAAAAAAAAAAAAAAAAAAAAAAAAAAAAAAAAAAAAAAAAAAAAAAAAAAAAAAAAAAAAAAAAAAAAAAAAAAAAAAAAAAAAAAAAAAAAAAAAAAAAAAAAAAAAAAAAAAAAAAAAAAAAAAAAAAAAAAAAAAAAAAAAAAAAAAAAAAAAAAAAAAAAAAAAAAAAAAAAAAAAAAAAAAAAAAAAAAAAAAAAAAAAAAAAAAAAAAAAAAAAAAAAAAAAAAAAAAAAAAAAAAAAAAAAAAAAAAAAAAAAAAAAAAAAAAAAAAAAAAAAAAAAAAAAAAAAAAAAAAAAAAAAAAAAAAAAAAAAAAAAAAAAAAAAAAAAAAAAAAAAAAAAAAAAAAAAAAAAAAAAAAAAAAAAAAAAAAAAAAAAAAAAAAAAAAAAAAAAAAAAAAAAAAAAAAAAAAAAAAAAAAAAAAAAAAAAAAAAAAAAAAAAAAAAAAAAAAAAAAAAAAAAAAAAAAAAAAAAAAAAAAAAAAAAAAAAAAAAAAAAAAAAAAAAAAAAAAAAAAAAAAAAAAAAAAAAAAAAAAAAAAAAAAAAAAAAAAAAAAAAAAAAAAAAAAAAAAAAAAAAAAAAAAAAAAAAAAAAAAAAAAAAAAAAAAAAAAAAAAAAAAAAAAAAAAAAAAAAAAAAAAAAAAAAAAAAAAAAAAAAAAAAAAAAAAAAAAAAAAAAAAAAAAAAAAAAAAAAAAAAAAAAAAAAAAAAAAAAAAAAAAAAAAAAAAAAAAAAAAAAAAAAAAAAAAAAAAAAAAAAAAAAAAAAAAAAAAAAAAAAAAAAAAAAAAAAAAAAAAAAAAAAAAAAAAAAAAAAAAAAAAAAAAAAAAAAAAAAAAAAAAAAAAAAAAAAAAAAAAAAAAAAAAAAAAAAAAAAAAAAAAAAAAAAAAAAAAAAAAAAAAAAAAAAAAAAAAAAAAAAAAAAAAAAAAAAAAAAAAAAAAAAAAAAAAAAAAAAAAAAAAAAAAAAAAAAAAAAAAAAAAAAAAAAAAAAAAAAAAAAAAAAAAAAAAAAAAAAAAAAAAAAAAAAAAAAAAAAAAAAAAAAAAAAAAAAAAAAAAAAAAAAAAAAAAAAAAAAAAAAAAAAAAAAAAAAAAAAAAAAAAAAAAAAAAAAAAAAAAAAAAAAAAAAAAAAAAAAAAAAAAAAAAAAAAAAAAAAAAAAAAAAAAAAAAAAAAAAAAAAAAAAAAAAAAAAAAAAAAAAAAAAAAAAAAAAAAAAAAAAAAAAAAAAAAAAAAAAAAAAAAAAAAAAAAAAAAAAAAAAAAAAAAAAAAAAAAAAAAAAAAAAAAAAAAAAAAAAAAAAAAAAAAAAAAAAAAAAAAAAAAAAAAAAAAAAAAAAAAAAAAAAAAAAAAAAAAAAAAAAAAAAAAAAAAAAAAAAAAAAAAAAAAAAAAAAAAAAAAAAAAAAAAAAAAAAAAAAAAAAAAAAAAAAAAAAAAAAAAAAAAAAAAAAAAAAAAAAAAAAAAAAAAAAAAAAAAAAAAAAAAAAAAAAAAAAAAAAAAAAAAAAAAAAAAAAAAAAAAAAAAAAAAAAAAAAAAAAAAAAAAAAAAAAAAAAAAAAAAAAAAAAAAAAAAAAAAAAAAAAAAAAAAAAAAAAAAAAAAAAAAAAAAAAAAAAAAAAAAAAAAAAAAAAAAAAAAAAAAAAAAAAAAAAAAAAAAAAAAAAAAAAAAAAAAAAAAAAAAAAAAAAAAAAAAAAAAAAAAAAAAAAAAAAAAAAAAAAAAAAAAAAAAAAAAAAAAAAAAAAAAAAAAAAAAAAAAAAAAAAAAAAAAAAAAAAAAAAAAAAAAAAAAAAAAAAAAAAAAAAAAAAAAAAAAAAAAAAAAAAAAAAAAAAAAAAAAAAAAAAAAAAAAAAAAAAAAAAAAAAAAAAAAAAAAAAAAAAAAAAAAAAAAAAAAAAAAAAAAAAAAAAAAAAAAAAAAAAAAAAAAAAAAAAAAAAAAAAAAAAAAAAAAAAAAAAAAAAAAAAAAAAAAAAAAAAAAAAAAAAAAAAAAAAAAAAAAAAAAAAAAAAAAAAAAAAAAAAAAAAAAAAAAAAAAAAAAAAAAAAAAAAAAAAAAAAAAAAAAAAAAAAAAAAAAAAAAAAAAAAAAAAAAAAAAAAAAAAAAAAAAAAAAAAAAAAAAAAAAAAAAAAAAAAAAAAAAAAAAAAAAAAAAAAAAAAAAAAAAAAAAAAAAAAAAAAAAAAAAAAAAAAAAAAAAAAAAAAAAAAAAAAAAAAAAAAAAAAAAAAAAAAAAAAAAAAAAAAAAAAAAAAAAAAAAAAAAAAAAAAAAAAAAAAAAAAAAAAAAAAAAAAAAAAAAAAAAAAAAAAAAAAAAAAAAAAAAAAAAAAAAAAAAAAAAAAAAAAAAAAAAAAAAAAAAAAAAAAAAAAAAAAAAAAAAAAAAAAAAAAAAAAAAAAAAAAAAAAAAAAAAAAAAAAAAAAAAAAAAAAAAAAAAAAAAAAAAAAAAAAAAAAAAAAAAAAAAAAAAAAAAAAAAAAAAAAAAAAAAAAAAAAAAAAAAAAAAAAAAAAAAAAAAAAAAAAAAAAAAAAAAAAAAAAAAAAAAAAAAAAAAAAAAAAAAAAAAAAAAAAAAAAAAAAAAAAAAAAAAAAAAAAAAAAAAAAAAAAAAAAAAAAAAAAAAAAAAAAAAAAAAAAAAAAAAAAAAAAAAAAAAAAAAAAAAAAAAAAAAAAAAAAAAAAAAAAAAAAAAAAAAAAAAAAAAAAAAAAAAAAAAAAAAAAAAAAAAAAAAAAAAAAAAAAAAAAAAAAAAAAAAAAAAAAAAAAAAAAAAAAAAAAAAAAAAAAAAAAAAAAAAAAAAAAAAAAAAAAAAAAAAAAAAAAAAAAAAAAAAAAAAAAAAAAAAAAAAAAAAAAAAAAAAAAAAAAAAAAAAAAAAAAAAAAAAAAAAAAAAAAAAAAAAAAAAAAAAAAAAAAAAAAAAAAAAAAAAAAAAAAAAAAAAAAAAAAAAAAAAAAAAAAAAAAAAAAAAAAAAAAAAAAAAAAAAAAAAAAAAAAAAAAAAAAAAAAAAAAAAAAAAAAAAAAAAAAAAAAAAAAAAAAAAAAAAAAAAAAAAAAAAAAAAAAAAAAAAAAAAAAAAAAAAAAAAAAAAAAAAAAAAAAAAAAAAAAAAAAAAAAAAAAAAAAAAAAAAAAAAAAAAAAAAAAAAAAAAAAAAAAAAAAAAAAAAAAAAAAAAAAAAAAAAAAAAAAAAAAAAAAAAAAAAAAAAAAAAAAAAAAAAAAAAAAAAAAAAAAAAAAAAAAAAAAAAAAAAAAAAAAAAAAAAAAAAAAAAAAAAAAAAAAAAAAAAAAAAAAAAAAAAAAAAAAAAAAAAAAAAAAAAAAAAAAAAAAAAAAAAAAAAAAAAAAAAAAAAAAAAAAAAAAAAAAAAAAAAAAAAAAAAAAAAAAAAAAAAAAAAAAAAAAAAAAAAAAAAAAAAAAAAAAAAAAAAAAAAAAAAAAAAAAAAAAAAAAAAAAAAAAAAAAAAAAAAAAAAAAAAAAAAAAAAAAAAAAAAAAAAAAAAAAAAAAAAAAAAAAAAAAAAAAAAAAAAAAAAAAAAAAAAAAAAAAAAAAAAAAAAAAAAAAAAAAAAAAAAAAAAAAAAAAAAAAAAAAAAAAAAAAAAAAAAAAAAAAAAAAAAAAAAAAAAAAAAAAAAAAAAAAAAAAAAAAAAAAAAAAAAAAAAAAAAAAAAAAAAAAAAAAAAAAAAAAAAAAAAAAAAAAAAAAAAAAAAAAAAAAAAAAAAAAAAAAAAAAAAAAAAAAAAAAAAAAAAAAAAAAAAAAAAAAAAAAAAAAAAAAAAAAAAAAAAAAAAAAAAAAAAAAAAAAAAAAAAAAAAAAAAAAAAAAAAAAAAAAAAAAAAAAAAAAAAAAAAAAAAAAAAAAAAAAAAAAAAAAAAAAAAAAAAAAAAAAAAAAAAAAAAAAAAAAAAAAAAAAAAAAAAAAAAAAAAAAAAAAAAAAAAAAAAAAAAAAAAAAAAAAAAAAAAAAAAAAAAAAAAAAAAAAAAAAAAAAAAAAAAAAAAAAAAAAAAAAAAAAAAAAAAAAAAAAAAAAAAAAAAAAAAAAAAAAAAAAAAAAAAAAAAAAAAAAAAAAAAAAAAAAAAAAAAAAAAAAAAAAAAAAAAAAAAAAAAAAAAAAAAAAAAAAAAAAAAAAAAAAAAAAAAAAAAAAAAAAAAAAAAAAAAAAAAAAAAAAAAAAAAAAAAAAAAAAAAAAAAAAAAAAAAAAAAAAAAAAAAAAAAAAAAAAAAAAAAAAAAAAAAAAAAAAAAAAAAAAAAAAAAAAAAAAAAAAAAAAAAAAAAAAAAAAAAAAAAAAAAAAAAAAAAAAAAAAAAAAAAAAAAAAAAAAAAAAAAAAAAAAAAAAAAAAAAAAAAAAAAAAAAAAAAAAAAAAAAAAAAAAAAAAAAAAAAAAAAAAAAAAAAAAAAAAAAAAAAAAAAAAAAAAAAAAAAAAAAAAAAAAAAAAAAAAAAAAAAAAAAAAAAAAAAAAAAAAAAAAAAAAAAAAAAAAAAAAAAAAAAAAAAAAAAAAAAAAAAAAAAAAAAAAAAAAAAAAAAAAAAAAAAAAAAAAAAAAAAAAAAAAAAAAAAAAAAAAAAAAAAAAAAAAAAAAAAAAAAAAAAAAAAAAAAAAAAAAAAAAAAAAAAAAAAAAAAAAAAAAAAAAAAAAAAAAAAAAAAAAAAAAAAAAAAAAAAAAAAAAAAAAAAAAAAAAAAAAAAAAAAAAAAAAAAAAAAAAAAAAAAAAAAAAAAAAAAAAAAAAAAAAAAAAAAAAAAAAAAAAAAAAAAAAAAAAAAAAAAAAAAAAAAAAAAAAAAAAAAAAAAAAAAAAAAAAAAAAAAAAAAAAAAAAAAAAAAAAAAAAAAAAAAAAAAAAAAAAAAAAAAAAAAAAAAAAAAAAAAAAAAAAAAAAAAAAAAAAAAAAAAAAAAAAAAAAAAAAAAAAAAAAAAAAAAAAAAAAAAAAAAAAAAAAAAAAAAAAAAAAAAAAAAAAAAAAAAAAAAAAAAAAAAAAAAAAAAAAAAAAAAAAAAAAAAAAAAAAAAAAAAAAAAAAAAAAAAAAAAAAAAAAAAAAAAAAAAAAAAAAAAAAAAAAAAAAAAAAAAAAAAAAAAAAAAAAAAAAAAAAAAAAAAAAAAAAAAAAAAAAAAAAAAAAAAAAAAAAAAAAAAAAAAAAAAAAAAAAAAAAAAAAAAAAAAAAAAAAAAAAAAAAAAAAAAAAAAAAAAAAAAAAAAAAAAAAAAAAAAAAAAAAAAAAAAAAAAAAAAAAAAAAAAAAAAAAAAAAAAAAAAAAAAAAAAAAAAAAAAAAAAAAAAAAAAAAAAAAAAAAAAAAAAAAAAAAAAAAAAAAAAAAAAAAAAAAAAAAAAAAAAAAAAAAAAAAAAAAAAAAAAAAAAAAAAAAAAAAAAAAAAAAAAAAAAAAAAAAAAAAAAAAAAAAAAAAAAAAAAAAAAAAAAAAAAAAAAAAAAAAAAAAAAAAAAAAAAAAAAAAAAAAAAAAAAAAAAAAAAAAAAAAAAAAAAAAAAAAAAAAAAAAAAAAAAAAAAAAAAAAAAAAAAAAAAAAAAAAAAAAAAAAAAAAAAAAAAAAAAAAAAAAAAAAAAAAAAAAAAAAAAAAAAAAAAAAAAAAAAAAAAAAAAAAAAAAAAAAAAAAAAAAAAAAAAAAAAAAAAAAAAAAAAAAAAAAAAAAAAAAAAAAAAAAAAAAAAAAAAAAAAAAAAAAAAAAAAAAAAAAAAAAAAAAAAAAAAAAAAAAAAAAAAAAAAAAAAAAAAAAAAAAAAAAAAAAAAAAAAAAAAAAAAAAAAAAAAAAAAAAAAAAAAAAAAAAAAAAAAAAAAAAAAAAAAAAAAAAAAAAAAAAAAAAAAAAAAAAAAAAAAAAAAAAAAAAAAAAAAAAAAAAAAAAAAAAAAAAAAAAAAAAAAAAAAAAAAAAAAAAAAAAAAAAAAAAAAAAAAAAAAAAAAAAAAAAAAAAAAAAAAAAAAAAAAAAAAAAAAAAAAAAAAAAAAAAAAAAAAAAAAAAAAAAAAAAAAAAAAAAAAAAAAAAAAAAAAAAAAAAAAAAAAAAAAAAAAAAAAAAAAAAAAAAAAAAAAAAAAAAAAAAAAAAAAAAAAAAAAAAAAAAAAAAAAAAAAAAAAAAAAAAAAAAAAAAAAAAAAAAAAAAAAAAAAAAAAAAAAAAAAAAAAAAAAAAAAAAAAAAAAAAAAAAAAAAAAAAAAAAAAAAAAAAAAAAAAAAAAAAAAAAAAAAAAAAAAAAAAAAAAAAAAAAAAAAAAAAAAAAAAAAAAAAAAAAAAAAAAAAAAAAAAAAAAAAAAAAAAAAAAAAAAAAAAAAAAAAAAAAAAAAAAAAAAAAAAAAAAAAAAAAAAAAAAAAAAAAAAAAAAAAAAAAAAAAAAAAAAAAAAAAAAAAAAAAAAAAAAAAAAAAAAAAAAAAAAAAAAAAAAAAAAAAAAAAAAAAAAAAAAAAAAAAAAAAAAAAAAAAAAAAAAAAAAAAAAAAAAAAAAAAAAAAAAAAAAAAAAAAAAAAAAAAAAAAAAAAAAAAAAAAAAAAAAAAAAAAAAAAAAAAAAAAAAAAAAAAAAAAAAAAAAAAAAAAAAAAAAAAAAAAAAAAAAAAAAAAAAAAAAAAAAAAAAAAAAAAAAAAAAAAAAAAAAAAAAAAAAAAAAAAAAAAAAAAAAAAAAAAAAAAAAAAAAAAAAAAAAAAAAAAAAAAAAAAAAAAAAAAAAAAAAAAAAAAAAAAAAAAAAAAAAAAAAAAAAAAAAAAAAAAAAAAAAAAAAAAAAAAAAAAAAAAAAAAAAAAAAAAAAAAAAAAAAAAAAAAAAAAAAAAAAAAAAAAAAAAAAAAAAAAAAAAAAAAAAAAAAAAAAAAAAAAAAAAAAAAAAAAAAAAAAAAAAAAAAAAAAAAAAAAAAAAAAAAAAAAAAAAAAAAAAAAAAAAAAAAAAAAAAAAAAAAAAAAAAAAAAAAAAAAAAAAAAAAAAAAAAAAAAAAAAAAAAAAAAAAAAAAAAAAAAAAAAAAAAAAAAAAAAAAAAAAAAAAAAAAAAAAAAAAAAAAAAAAAAAAAAAAAAAAAAAAAAAAAAAAAAAAAAAAAAAAAAAAAAAAAAAAAAAAAAAAAAAAAAAAAAAAAAAAAAAAAAAAAAAAAAAAAAAAAAAAAAAAAAAAAAAAAAAAAAAAAAAAAAAAAAAAAAAAAAAAAAAAAAAAAAAAAAAAAAAAAAAAAAAAAAAAAAAAAAAAAAAAAAAAAAAAAAAAAAAAAAAAAAAAAAAAAAAAAAAAAAAAAAAAAAAAAAAAAAAAAAAAAAAAAAAAAAAAAAAAAAAAAAAAAAAAAAAAAAAAAAAAAAAAAAAAAAAAAAAAAAAAAAAAAAAAAAAAAAAAAAAAAAAAAAAAAAAAAAAAAAAAAAAAAAAAAAAAAAAAAAAAAAAAAAAAAAAAAAAAAAAAAAAAAAAAAAAAAAAAAAAAAAAAAAAAAAAAAAAAAAAAAAAAAAAAAAAAAAAAAAAAAAAAAAAAAAAAAAAAAAAAAAAAAAAAAAAAAAAAAAAAAAAAAAAAAAAAAAAAAAAAAAAAAAAAAAAAAAAAAAAAAAAAAAAAAAAAAAAAAAAAAAAAAAAAAAAAAAAAAAAAAAAAAAAAAAAAAAAAAAAAAAAAAAAAAAAAAAAAAAAAAAAAAAAAAAAAAAAAAAAAAAAAAAAAAAAAAAAAAAAAAAAAAAAAAAAAAAAAAAAAAAAAAAAAAAAAAAAAAAAAAAAAAAAAAAAAAAAAAAAAAAAAAAAAAAAAAAAAAAAAAAAAAAAAAAAAAAAAAAAAAAAAAAAAAAAAAAAAAAAAAAAAAAAAAAAAAAAAAAAAAAAAAAAAAAAAAAAAAAAAAAAAAAAAAAAAAAAAAAAAAAAAAAAAAAAAAAAAAAAAAAAAAAAAAAAAAAAAAAAAAAAAAAAAAAAAAAAAAAAAAAAAAAAAAAAAAAAAAAAAAAAAAAAAAAAAAAAAAAAAAAAAAAAAAAAAAAAAAAAAAAAAAAAAAAAAAAAAAAAAAAAAAAAAAAAAAAAAAAAAAAAAAAAAAAAAAAAAAAAAAAAAAAAAAAAAAAAAAAAAAAAAAAAAAAAAAAAAAAAAAAAAAAAAAAAAAAAAAAAAAAAAAAAAAAAAAAAAAAAAAAAAAAAAAAAAAAAAAAAAAAAAAAAAAAAAAAAAAAAAAAAAAAAAAAAAAAAAAAAAAAAAAAAAAAAAAAAAAAAAAAAAAAAAAAAAAAAAAAAAAAAAAAAAAAAAAAAAAAAAAAAAAAAAAAAAAAAAAAAAAAAAAAAAAAAAAAAAAAAAAAAAAAAAAAAAAAAAAAAAAAAAAAAAAAAAAAAAAAAAAAAAAAAAAAAAAAAAAAAAAAAAAAAAAAAAAAAAAAAAAAAAAAAAAAAAAAAAAAAAAAAAAAAAAAAAAAAAAAAAAAAAAAAAAAAAAAAAAAAAAAAAAAAAAAAAAAAAAAAAAAAAAAAAAAAAAAAAAAAAAAAAAAAAAAAAAAAAAAAAAAAAAAAAAAAAAAAAAAAAAAAAAAAAAAAAAAAAAAAAAAAAAAAAAAAAAAAAAAAAAAAAAAAAAAAAAAAAAAAAAAAAAAAAAAAAAAAAAAAAAAAAAAAAAAAAAAAAAAAAAAAAAAAAAAAAAAAAAAAAAAAAAAAAAAAAAAAAAAAAAAAAAAAAAAAAAAAAAAAAAAAAAAAAAAAAAAAAAAAAAAAAAAAAAAAAAAAAAAAAAAAAAAAAAAAAAAAAAAAAAAAAAAAAAAAAAAAAAAAAAAAAAAAAAAAAAAAAAAAAAAAAAAAAAAAAAAAAAAAAAAAAAAAAAAAAAAAAAAAAAAAAAAAAAAAAAAAAAAAAAAAAAAAAAAAAAAAAAAAAAAAAAAAAAAAAAAAAAAAAAAAAAAAAAAAAAAAAAAAAAAAAAAAAAAAAAAAAAAAAAAAAAAAAAAAAAAAAAAAAAAAAAAAAAAAAAAAAAAAAAAAAAAAAAAAAAAAAAAAAAAAAAAAAAAAAAAAAAAAAAAAAAAAAAAAAAAAAAAAAAAAAAAAAAAAAAAAAAAAAAAAAAAAAAAAAAAAAAAAAAAAAAAAAAAAAAAAAAAAAAAAAAAAAAAAAAAAAAAAAAAAAAAAAAAAAAAAAAAAAAAAAAAAAAAAAAAAAAAAAAAAAAAAAAAAAAAAAAAAAAAAAAAAAAAAAAAAAAAAAAAAAAAAAAAAAAAAAAAAAAAAAAAAAAAAAAAAAAAAAAAAAAAAAAAAAAAAAAAAAAAAAAAAAAAAAAAAAAAAAAAAAAAAAAAAAAAAAAAAAAAAAAAAAAAAAAAAAAAAAAAAAAAAAAAAAAAAAAAAAAAAAAAAAAAAAAAAAAAAAAAAAAAAAAAAAAAAAAAAAAAAAAAAAAAAAAAAAAAAAAAAAAAAAAAAAAAAAAAAAAAAAAAAAAAAAAAAAAAAAAAAAAAAAAAAAAAAAAAAAAAAAAAAAAAAAAAAAAAAAAAAAAAAAAAAAAAAAAAAAAAAAAAAAAAAAAAAAAAAAAAAAAAAAAAAAAAAAAAAAAAAAAAAAAAAAAAAAAAAAAAAAAAAAAAAAAAAAAAAAAAAAAAAAAAAAAAAAAAAAAAAAAAAAAAAAAAAAAAAAAAAAAAAAAAAAAAAAAAAAAAAAAAAAAAAAAAAAAAAAAAAAAAAAAAAAAAAAAAAAAAAAAAAAAAAAAAAAAAAAAAAAAAAAAAAAAAAAAAAAAAAAAAAAAAAAAAAAAAAAAAAAAAAAAAAAAAAAAAAAAAAAAAAAAAAAAAAAAAAAAAAAAAAAAAAAAAAAAAAAAAAAAAAAAAAAAAAAAAAAAAAAAAAAAAAAAAAAAAAAAAAAAAAAAAAAAAAAAAAAAAAAAAAAAAAAAAAAAAAAAAAAAAAAAAAAAAAAAAAAAAAAAAAAAAAAAAAAAAAAAAAAAAAAAAAAAAAAAAAAAAAAAAAAAAAAAAAAAAAAAAAAAAAAAAAAAAAAAAAAAAAAAAAAAAAAAAAAAAAAAAAAAAAAAAAAAAAAAAAAAAAAAAAAAAAAAAAAAAAAAAAAAAAAAAAAAAAAAAAAAAAAAAAAAAAAAAAAAAAAAAAAAAAAAAAAAAAAAAAAAAAAAAAAAAAAAAAAAAAAAAAAAAAAAAAAAAAAAAAAAAAAAAAAAAAAAAAAAAAAAAAAAAAAAAAAAAAAAAAAAAAAAAAAAAAAAAAAAAAAAAAAAAAAAAAAAAAAAAAAAAAAAAAAAAAAAAAAAAAAAAAAAAAAAAAAAAAAAAAAAAAAAAAAAAAAAAAAAAAAAAAAAAAAAAAAAAAAAAAAAAAAAAAAAAAAAAAAAAAAAAAAAAAAAAAAAAAAAAAAAAAAAAAAAAAAAAAAAAAAAAAAAAAAAAAAAAAAAAAAAAAAAAAAAAAAAAAAAAAAAAAAAAAAAAAAAAAAAAAAAAAAAAAAAAAAAAAAAAAAAAAAAAAAAAAAAAAAAAAAAAAAAAAAAAAAAAAAAAAAAAAAAAAAAAAAAAAAAAAAAAAAAAAAAAAAAAAAAAAAAAAAAAAAAAAAAAAAAAAAAAAAAAAAAAAAAAAAAAAAAAAAAAAAAAAAAAAAAAAAAAAAAAAAAAAAAAAAAAAAAAAAAAAAAAAAAAAAAAAAAAAAAAAAAAAAAAAAAAAAAAAAAAAAAAAAAAAAAAAAAAAAAAAAAAAAAAAAAAAAAAAAAAAAAAAAAAAAAAAAAAAAAAAAAAAAAAAAAAAAAAAAAAAAAAAAAAAAAAAAAAAAAAAAAAAAAAAAAAAAAAAAAAAAAAAAAAAAAAAAAAAAAAAAAAAAAAAAAAAAAAAAAAAAAAAAAAAAAAAA//jFCABvEv/6CKzfF+12IiEcU6XDE0RQo6JCRKtU705BISb9UKSlIl2Jjy9iNKMiN1myqSFZHCl6rJemSGZzCUu1GDEJf9k6yWESvviHVJsRL1QQku/639DTdf18IzMgTWL0Rprhjd8K+baLUInKadEdRBMtp6ZS3ulIR6pVmqIqDNyb0ybwiYhHdEY0PZlfdbPtArpJuPSNmiNolcqEyQX7JLdIlX1k295CUv3QRrVWFFr0xKsNXdOtzlCAzaHHmM0DRJnFOPmZ17I2KFLDYbkRZeVtDJe9pgyDimIxG75v66wgZlVaYyluXwlRG9xNKgiY5WEq7dbr3dM0pmbruZoQ2PLNVWISLtF2Lm28FSEEhLKSRHTMiK2xK4tkWNETLdfGqL/JjvtCTH3s78hyaSWVDZVvhEiL7ZP21RYjNVf+avLnWrmapd3feoxDJSnKJSNm9e19luTt+3cjIUjI2XToVSIWYiWFQy68kvRok131xJFGTUksp6hP0qNbXQkdIpNciNdPI1vuyTL+8qsm/rTuvwlZrOSTINaZzklZq3710ImVkRfOimySP4myZKufQezYn+8OlPSCNGhYn8TYM3LvKWpkvLvPHENUTxEVJ6yNClSHnnRfJnX6Es0mRkhCbWPCNvdWKrvRMmpCIjIXLKALeQsyY3E1RlNoIzMQrmwkIxBRcoLLihwg0pImz0SRDMuZGSisxIng8C0GZaEtcUOYhCJCVo3CRIQQJGNjnkCJwwwcYKGNGECGdpeRCKFZlCzYgUjcRzbNKj0SNetoFJXJ9pSbkUzxMYM4QhP3TpYRJ3BII8hJZ4jCEOpJDM6RM1iRtmQ6S7sEiErxAmQJVpmQrUJYbWRJhjRFMTCbmNCIpDcEREkL9YQKaHpkxoWmxxRaORCfuCVTlpErIhzWFNL0xtIkmWUMGOFlqFCh/NlqIRLRr9LxT25KfU74hZs2JRbJG0iRBEzZMThJUx20LISfJVvJNkZaPVSIVkSnsgyCVnwrxE3tCKQQs/oQgjSJshwZPQIfsxCCObKVwRSEz8LUZ2RTyCf7LJ3sCEIzlpRhIsnhVMYNZiCRJLMxxEJEbdZNrNZQlOKmFHC7BfxEjJRMeMNITpxkhpAuI6CQJukNNEnb9oRslCM8kuIq6cYpxRTZWIdmsk0yVZo+S2IRC9Q9cKFZdxYl7TwUleiXCT00slCJvGMz6BQKIx7MiCAoSIx1AQIEJGPDJAslqGDJGPJSwOZYRBcZuSCFiRnEnMQRLNlYbCZQQphsDiQihvYXmYTChs6VJr3e3XwkILRLHgSUlCQTIbnkSJnzp8UaNSoUi3E1vJLJKFlIllGRCmRPQcynxNk+QtXkZsQhU9umMSAtHahQJCEaeUCKMgMIhVkMhtewgwTmoPZYTTFuwLLS8twkl/HLshSnr75FAtRteinv8sbnWo5kpiQnR5pFSIiJXyaIhNqtkpkkcMI2l7+xbisRQYkC6SE2M9pBCs17DQhEiI8jHhGRJteMcgomUzCicVBSC9T5aISUzm5khcikEmi5XpCaRbRmrZSQ7OEiIWqNojIin2zfUdHC7dFSxJ2qRzIkHlBWCDJJkAsDIRsVkhDdmwRjImYoco1LIl0zK2lGoxFxEMyFIJvL0TxSxS9gxEEhaYyfJSEN88E6UZFaFJhduIivEHiIyLZXSOxTKMlKRmahkIyW1poWcKRcnoklGUOIlJNJpy0Q7LkToZbbIieS9on6JqTopNFrWKJxQ0T3J2iNrLyURQ2rSJSQscSYs9kZFDITT/FCEpdeKyRtcwnW8jiEotOlpwWkWazKtCo1tLQVpymTi3FTRxa04kXC5iNKR6KdJ3TytS5STNKbWtIzs2SMkVsnIrJErXk5hAWwM3oIp7cYUkLSNMjyklQiWzdMFVme3hBJIcjcJFoqlhyVCVM9HtCAi3tvgRBRh6yZDkU8Xh0EQhQRlvWkKvx5iQWEmdkJyKbcgIFTBsGsKCQYxsmK2KKeXsUsRykjEzqQhcp0wn4SkOF6JyxNU8VihU4mmgS5hd0oIXjI1kLkh0ZVCNPt8TV6cik+3FKXfIpOyyTIR2sh6S60yT6VJlzPjKCRXpwQQwX+phFlF5tSyFW5+ku02VhbjwjWJyFW8hI2KiWE/VEEqr7UJFbm5C0k1TKc6I5lr/apRNlSiSEyLNdyylDEjn5C6cjRZT4jXScVKxNYIZPFpAm0uEIaF1N0yKcjORbiddF0gmYotE3pRfmPgiE8hG4olpskbtqpi00OsTFFsg4hkSyqLecETIiq3N4qZI9eMP/4xQgBaET//v/+AAC1PyxnFtjEpOS7kWXI5J25HJFM5Luio6WSXeT6dl29b1unLKhWqp0lkYpHSouqeKYVJ4xW913SyIKZ0VIikUip0KZWa0k6bwgoxUQ5im8pHaLJZ4i6ouqe8h9b7K6fORDsrBRj5HipDst8WT79F5i0xWVPfbnRYnchfoVPDmcdqNW+wxQy+cabUygyQakYoyPZDLIynoOQwjIpbn1YUy5U9YU3dLfLfitF13T7wz7TO37eJW0pnIl1JeSKJ61ZRFzVMlJycRxjibmsaRpmkRFJem+1mxVqkSokpPolRRHRLSO3J011a8RY0mkxHJUzKZTHN4UUk6IlbkWEUk0EXNubUzkT4w4YrS5LpETslTjHJKIchXJdMkRRFjfYhQl2bk5FM4hW07TJyKS1pGVtk4zmqQk5laYioZ4J4SZuTVEyZo1JzKJVNHGKjWEkhimkmaxCmmqSKSOEciVimzsQoz5lTWkObzpeIOyHYpip8xzIKI7FLIUjpPuyzkfTOIObxOype1SpWsS61nJ0su85FhFxIuk5hQh8izdIKEddixFciFTVyFltjFJLIgUGBQh8IdrlYgoMCmchyfp/kclI7XSSIpORRhRrdLkclStUcQptzSabFTOapWqTJEZUyWGWbKRyKklS3HDDtpZoUQ6XZWUi8QlxnJIkm21JFGXiOyUlRuk5Fzc31R2yklhFkIVBDtmJcSzN8YuI+M+EWJW9aqmvZC5IsTpyLOReS6EtsVFPcjEs2pmt65ycmFfU1/KNGNdm88IDRDXejLjFHnNVn8q2fSP2GgxY0mhb3ceWnRnzX602dHnQr19G09LNyHSs3qdrGgLqFVz2uNDfy51fS+VgghuBVD8GsLQVxsL7QwrSulIaqsbJK9L4FS15qoxRbypmaSWqlhnVJlvDZXbNl20V6bIUhaTDUVBKMhmWcyWCULgVjIUljVIhYI13be0csoLvXEU9Fm1mKaKjdovWORkxanVs4tAUAaqAXANwVEZAEIfF5yBMCPi5UJ1C4ViR3D9urVboaiJmnInNaNhlZfloeQIgxy1JEdbYvDeqEwZzVI27X668iMR+VavT8Wdfq0poFGPGszbkHjolXZUW70Qa0fMi7EptckRMCJSulZuRfSxyzbDYwNoKURJZji33F4LTmm5K85pI1xgyUTmkTLGThXCi7Tck+vA6fYeyPEv5o1GbUo0MeSrKj9tsqL2/1dECvKsTElcmqboUxQOaZJtZYNFSR1cXjkALYYg0NIBNDscG5gHkyAjcgCiPgnN42lp26lNuWupNInz6qqSN7V1ydvo/LmVTKEBPRyJaaaGBad4vzBvqw0zrQ5pnn5P0L6lGv4XiP8hoNJkSGhjD/LMH9eAkbcOygN1LmQgHG/24xE73pC8ndGuudjjlqaNuJutkOhH0kZK0ldy0W5zw2Rw0WllxqC46X6y3wUthz/VH8OdHTsTZ+20w7MmJEt9whO9copMdf+pqO7xLuKQmr7kU27Skt6zFQkdzvcHkGOboGYRIZYdSADzFQiBmn9VpORNaFZkn0ztr0FuQG7Xi86E8g8KtFuJO1IvGlPefD2BiQjVXe/kPoJWTKArflk2YWCoxC2hd6equnF2MGZKvsWg1uk+hqVkk/hw3eU3wJucgy8a6nkoGPKhcYJa+Zk6ZMN/2Jbn8xKpzNclHOHKK5Jr3f1i5Po+drKoRuEXrhNmr1vjELxFLkGGPyGOa0FNAdi7gCSgBOHRC+nSbgQNmJfKaE/U3aJjOlKk5bkySzeEOumdWmubYAPgAAkQxjeqgwQ5ipWSbSRWuiGTqigbG0pEPFXyDtI/Y3VglU1Q96cS+1sqqaJUvJBK/q4kHawgXGs1SP8KPYaYOqimU/ULJjldbkxD8gvBfcwOwW2socBPKC8T2JOFc2F28qrFeMvQYUGZv6wcWe5ulZ+losqfVGZtpvcukMZlBGq7aURsG/EMaHBolWIcKY2dzLtZwqLx0NZJKVZcnLGcOXKv7uucLA/BIKVEqUHWRpnYQZNIvvlBGKhIou42J9yMlEPHMMiQMzVRyoIUNNb/IfgXKNkjHQgGRgJtdx+yXERXIK9DgikcVs18JjjfIb6UiVJJ50YVYC5oItmTcSIYXQCwZPLqiedzk5hZpNAnthFZphLeR/uS7EtMQg7TOFcErsJbqxmvL4ewZNIh8PBdCOhBGaBOsqVHHPZK/+C7eauEkcmEEncwztvjVffIJQJvIyiZN7dfVaaLGi1WBcVFTNiZZssKIgypN/3kSSEBFnnalpI01pzDXSErarnCHcYh4hAhooxyDsakRW1TB6RhBJs6Gbh+FiZBT0lvNcbLi4Ig2Nm1tLGDjiJazMz1DrJDJhb+lzok4o48UkLM5Qs0nQoKHxJGvXqUsMiT5twsiRTeNMkiBd9BNS0bNU8dk79MySt2DB89RYEW7h5xpV5KqSZKe1r/lRqXqXifxILatpqbC93LZTK4ov7mk53ZOsJ5dfSuJo9tr1F5D2MBf2LbefvP0tTA7HFCqP7pPbkJIMICqDSEExCqShThziLRx7FVdNQQgxndbTUd3KI1De+PVw26KynuXtoKYVEuJtL90VPG+XUOBYJQuT1LKU6QvMNXyfIETT3VuB4fm9QyRBFc6Xhs32D4+64zf+ToX0tF6iSayvxWoSqbWJmAN4ADPANaOiZE87XQKfAGugeXoIzYWc+R8QjxwXgi6zuZydoxKDriMCEGHWWVmPhHTkD187QgpbiDEMXttpQbz6/fIVYg7X077jw7JSIe9W8Yc3C7py8i8lClmuVtTsNQnHHEYaRj6dePsRZDHGRL8VJu1Dpdb35MzneSaipDDnzXVIM4yfv6K9nhrLoi1f+dVyWabpmy4NMtzFdPSmmFhaw//3u/5BrScefQXZlsUi4sglrbsSiRYYwcI9C463ALiAAsAAP0OYr5wTaiCQAksAWyafIXgChiAPKkNmyTSkRhaAyoAroP6E+LmRJFZHIMfBw51LcBURR08TfeykogS+SXEJeQT4ZhkJ/5j671ykorpqo5YhxhUESdRU79amuOP2Q9cEZ4fx/AtXUjAhA0mAFFK8RVm0W7+jXsZyUtzHYYU5LXqAlOrKioDR1Q4vUtRqdTXW+JfZZcNR/hEZz6vH40IyT3aH3d/DTOokdtzRqxsjkVWZKLJCvwI3PrAFkAAPqAAU4rL18eru1FQIwgvaxWEcAyps7iLSOxMjrokiZRHhBRwRWR8i1R+yOoyMJGP661RXzrDZpW3ZfOtuVLsCtgdMNZYQU3ahTLvHwe9MeETEhpCdZ+TWmUs95TeOdMYW3hlv3O29Gyh9rOS+k7JoHvcMpr1MiyrymVZNOU1zns1/SzGfQOq+CFJ1pWBJ31fQatpOc9XxmdKEhVRaE7f2ir3Qtlvu7yFSK159H56Zz5TezVzhQVGAzEBrsDAANWoB0wFrPLyFKZL6OXgLLhKFJgFuBGxK86m43Sbc5KN+3zA1gO1IreP+DppCrabCeSSPhladwgaJPsO0+yNXD0DQhfhlbOyBaPau85tEfYxtZi/2cWPTDKecOvsVwgDlT+GhpZ+STCJaTgpZRHKtgEzin1KkMCmkoWg24+x4y0W030JkbZMEso+fNTGzpnglqmvcVqTMq7Uiu/KarX2T6VjDV/sFMJhf3LnZ233oJu80QWZiITZKPhDjQbjRPc3SYzCYQDDQFTOelr7nD2jVgTPDqMIgf6PkLhhmksPSfHSKraa7R9waauKrbhlxgWcTEi7gVvQuRmELKh0lLlwRly46suh0qkRMe9tv8QAbo/55pHLPlJ261rbZ7YmwmOunJJbzu0X2X3ZwTQIK77G5CYM3DJ/lg9XHjYG3FC/cdZc2jueP+OCWUm+/HGPkQaUvlb2vW7d5MWLS679d5svgsCkVCPlpVs1nqV2ispo+MFvmWllmQld36P8v1+lLU4ptVCwXvCSreJ97BGToIAPpxSDvwInihpaaJKVUdF9b39tyOIhE18F+K05wdVZNOv9q7ask/yljEkkpXvwXqPsZsE/Y48Y3ME/tYwVXykLJqmmiLXbVqWPX+ZnljsqeJBBILhbOozViMSLyKCxpWGZtBYocMwqoTZBCT2PReziEsK+R35UyfBzcSyR0VTX1+xFDJovqijHgbBdd97rrKUWk3+g1OsZotvMpeT4I298soUcwkeXf8N/9/+qKBdDuyNd2pdT+wK9DMBh2n5WWDayngmtLqRCsFlXVQhzGL9DOnFVJDf9uyqXKfkno6TtO8arJjLJY9GbRXRDg2hbm6UNauHEybOXL2M6zdTziTs4kCh+7Tj/8QS5VDQg40SBcgY5pgZyYrZcVau4le5DrfyrXEqJm+9c0ImbY47siJjCBtQg6QLd49L1dobYzM2qS6+/3esUZXCVaMdU7r5VD96R9zGJE3phh6HWRk0p/rbr1Np549bt7S6w5n+E+jpkVAKhdI3IALCBJMnSLGZOyW43WpjKgYCggMFIylsY9p7WLmTzbN1PEez20vOlSeHJAswU7VL+Q9uPLltnKKPXG4oWUWJgyiO+HraSdlOlB6A9E7nJZeUV6jNqYSVn36Qaset0K6+OEPF0XYj0qcQST3qfY+KnN1JAKo8Ui2h2aBPwdQ9bhfKMYGMJwwpIHEd5rO42ajNr5XLe0z1KvZISAKiYtssp6Upqp/Nvv7I8YaFllW9coYdbfc+M8NqRdIygzudSysKeFzoIKUFTBnq/xfxBBFZ85/IlxhIPXoXRzCTMt6HN2vJP7kTxZBgKTSiOugwoSNdMo/bnm3S1Sp2dflRzMjasPZd3836ZTcG6nx5wZpE3bvKfjyvqaXImOaQiYv6FewH8B6DuqklxKhGLp8RIclws0EtmZqJvzf/7g5jDYmwR4j5pQ+gYxxVrImbkhaGIxsDVnljrSM+KsZpKrY/T9A5A67/OclRi35DluHy+3L4DXYjG9V+o+1fof6dw1grMlHupSCChnovvMK3pQUoP3nn5C2XyBs5z4KNynd2wZQcol86BX66XITzie278lIVvM9X48hpBI5Ut32JRpGbjoDX9LTaMjyxeRf3K2oQuLXX3+/PKlw2waPOSX4KU+RPAI1YKEPUwrfDCnOW1PBSxIjbR/5+MDbl8J1bI8E2IhdXpJgjxcUcERF+KQnpQhWTzMYzCasha+sHB6pKrNpQzcKPXHoPZyhe4r6bqn/EK6I5MrJ1Q7eM/qK1de6v58TIFBB1UIMCUup9oP+rHS+G8sMqBtgjNFT8OQrIXQLwXo89SUTzUcBs3VmTpRhCdho+1UDIqTNebjg+sYJW27a7SNmkwkDWktf18lzqZPR/HiajctObf3AXA3gbDXsdJOXhrBMsDHCpEQOAPuF2MQnOcn3EXaqV+wXKYkSy4OEUYQqkW90MV1Vn4K6e4l5N1rU9TVCUehnJdxWCVavdSZmout6/ot9O1LLfSUecKIJDUQ40ItCkgAZsC4mk2//jFCAJhUhxB/YDhjevaEwkshyBxByQFBBcQtKBujgKYhXqPno23Jwovvo1N5ulm+hER+8YPTVYyWKEFTzJOAKSWOB28NApFAlMOBcROz7bo9oCMjMRb7wSrJLPZKiyDl/8c1k+wl2U9Xv8A3N262++1J+T0aKsGCrXMMpI+Sp0r3Eb59ywm9Puc86Ytyhr1YKKEA6s67lwhF/qBUx6LT6g/EeWXcKDdP/LEWuVXeNxDk9c37ug6FxJhHaVMNoFJ3HqBKgvxRAACWm6gGHwCEZDAAPjAcuLEgKjk+woMVopJGCpoRwYuqYrg4qpIo3WqObCNWL9guKbbfiCShDhBUuvkGaPpNeOhKzUUR5TFjqsNvzHeIbPaEQ3aB7nyL0EAMtyfsffWI6KynWwoFTNmDn7enrJZQyi9HaAEbaa1VCZFd7owftFT3Adctpaypn/GSyFiDU1K51BvDKW4lXI8eZX5sbQi2P6cs11Rfbv/np/Y6A9hgr0KBGjwGO32wY4AMoJxC3YWPJsGKJtJ8kFDz0aDv7Os/NGWpZH5ozNNeg/0HbyeMmHqFMMfEKl02mUEEPCFKsMPfrpJERZG/JVjzAOzFbkCq6EocoX6cPZ9PRBwCzFgSLcc9omYddmh4gQM2TizA//eQXdo5Iuc3ZUMidklyJuxUfUXkXPvWnzHOWP0poRxsjDh3pO5YVRJpXVnlbdLXPS6UpA58ELhLYs6BJcQzDcwHRidApebB+E6NFSzJKorVGIpv+uoEeG3U81KDIkxxrsfJQJIuGZkaEHXEUiZB6QUwVclrn6bmknobsWQ74jJUHzlklu62Rkds276TEzz/zTEcIjCvslhLP4qh9Zi3Namu+6Tz+He4SlYFdoTnfsNWr1Cct8Q3TSlgvrr9CXXWH56oUNqPQHm9TL4uzqp+m/9vwJfwRwToDiIezl2DaQKbYIED3U/ZIzbE6gam9sge7LVLtmR3x6ws+OIIBmDTZulbwN2IucQWvX/Yjzwvw+V9iL+z5r6wwVBOuv+Ext8dxUN93UBFpRirRcbYB9/aZbL9VDJa3przIyoFbJbxK4giJY1flMPfCZ3ZKS5DyTBuC0yoHyWhLHWgeEbV0nqjpOpMk60qPqips/XUFQhZ2CuxEgdpApGqmFegd4fgWxKSyNuFAHlUgS4FeMZGH/qQZlRWoyerxcx3nhhB4eiLPs4WQP+Iy80ZOO1gMT0PqNS0x/KF9Cy6j9gbEtBXUxPTJnn35mUL0ghGaY7rxPAmNMEgOgoxoKaq42O9k4Iqp+Qptf2eLxjTtwktFa8eVneRY35ddqt9VVqpdU5CojkZKRabgA7QMyG7gCLxpZ1wE1CPkCTIXteBK6nxIg7SfmY0qeYWp14JzCk9fJCVdhnbsHd+Qa2ezjOCxM5fzVMC/BmvgV1czSDrGO2y0HwcD4ntlxEDCc3TsGwSLZ8b3Usg2Enwy8cjFnDdtfgzBvoayaeozkmmhfrqMEpeJbU6r17GC5sj4XsK+VHejDg6rAgXKAF23AErBKbIKN9Km5QN0CmUJRyCBZCCL6aH1CrBlMIKyLHq9f+1NydhTt7TF0t3lUS0lKz6ZGuhcF4WrtceVq8UhgqpEmIcDHV9E8WnzcYBRc+64/CFMGzPh/FWLfHFIkEeWucmiy3WfqmISUcTM6gFM+NiPQv+wZ6N02qa4pwtQWb/KzgRazBMvl1x7Pf7RvkLU8xCOxcJIjjc/GK+UbgJxEeuwRhcD4RHqU0sLTxuUmsh0hOzXzC40+t04LnbGxFI9JSJlFwMgSEoj5bw7GgOw6dWE+8xydGz/LLOtbEB8/PgyOddYK2hKD1R9OEDs1ivbZAtM+ynFix41Mf7Pe/sVrRXaUsJBNoRuFQrEl+No4l15bef6EARyiRTOyINUM5hL4lUT0xjwqAnGphV/Po4+6rMaDg/TF+IS0Y0C6I3mTOZHd06+JFPT7ljNpFNFKIRt+uUY5Lerq+2yZP1moTJ2TxNvDRKh+zbFmKVnvKxtpBEmq7javqcpnlXz8G49Ohq+FosOhYJEMiDoMxWDMMgzFi1kSq3xutEbIcpGDRy6EiCy3+uDBnK0Xd+/GBu8smpSE6N65+eBDIEowNMmkWfiKkLbfWkDv94wFFrRxRTcoYzGuiOCyGUb1FFJZtL7W/i2KbrPgd38jPQegoHBiFRIYUmguPQfmQRCsKy4C8KBKqwCzGMA8ROjo7rXgQIkmtdyvkFmUKxMUJRwQ4VhYQjY0RzoiMCmnLCCqWh5dGVkFOcjusXbM+eXl8KFCuB1/PobZf3xQ+56kWWZKqP450WdeC03CWMNoqKdTliI5xGw5O7AdnYKRzMgoG4VDA5iKmIOG64FRb+ltXaPaqQVAnzL7D1QYhwj0Ehb+Ur0w6JpkQIRkreUSFOlcxqCLewTd8cEcSiybxF9xyL1XRNtlfuJp73AfzeMZ1A/g8gNZZdMkhgr8TZA98/c/+9CrZiOYvDeJIQxXPTE/CkEAPQwkkUWRuNxjLDYvYuIhJm3kuyhholRvuQv4SbhpWLmJ2Ouu2fQnuqGUjO+D54Lxm6xWFDQCUoWOUNPrsXm2m7+c7LF/4yeq09auzl15cSeT2EoiOMYjiaJo3lElmUbTWfy63qqWnr/XzXaJY0Jnr5QfisSEgpCMdDQKxKEQ2EwpGwVj8RBUSiEcmIjFwsdqHpIaiElZJMzlyUolr7RqXoM1HR/uubJtor2Z2YVf2lu7Ouuq6/lUmk97N5VMJpOpndy6cTSKJpdym4s6bx3wUW/Xybic9KmpYTjQJBuLhAJxkciscioXmZkZigYCUzMTF7d4ViMdihuxcuy8VmBMgUZlBAXMEvD100dNmXbQVth65btnTxTVdZ65af3Ospufyqpqi7qamxsbeZzGxLd2MoiOL55Kaq9vpNeWPX1+yY0a5e4YPHJwenhEVkwrEx8ZGBIYCERig9KS8TG4iOTUSig6LSYvNxAdEZEsZODLSN4k2bcilWlxduHrx3wIllXTVmzNk6UFN7p/XrTs9195dUlF+paq8k8mvrW6kkimkyl0uo/9re2FLx4b6y2YUfMFiJwsERsWDQbHhc+OAmCAdGBMbHwiGAwNDQsEQsPHDB4eHRwQbJFTIibZRRSIkGV9eNGEkdO6878x1xyw0Speb7YaZvXpmnzjRvTkrOxOblIlNxuE4/DMKxePwrC8NRSfjEWm5KUkbtXLFNRRd0geHjhSQmMjgQFx4aCgSDI6LCAmMBAbFxYREzQgaMlxgWNuMuli5NxtXh1lNDnldxTDPHRLJBFld3HLJMt1FN+8ccu6Fbjn+teo2aNGxJz8ncsyl+KzUQvTUxNzESuWZCtNzUhlRxsYYZYpdunSIitdJmRAeI8GiRwEhIYNCwWCCwoSCQ0QFNChZYYCSTDxQ0WQSOHkCGGsjWHlNKtMiWKU7VBGz9K5htlFJTLy2o+2Kwdjw62LzfGX4n9j4q6Nr1XIvnVz8MWbOlDqQ0F7zWuRrSdydkM57rZwm0mpQtxKlrN99nh9TuM9GsQfiaufGGbWEDY7orEkY9p6noMFC9I1/7fG765txbIVmCsexfBMd424tnZuDmvOUVG12n+XjPqSlSCIDGrnKkM38VmSC1bdYeLS2r/rCxGdb2O5yiJEiXQHlKqagVgRxLx8zYz4oQjmGmrxjToYuwX6anrRkRHvHajiJsnHJtMxQDciPY4q7V4w4qPXGu44+AMm7F5XexTQL1BTISsF+hRxDrb08cw4ptpbZ8G4OlaJd0su7+pGZ0BF5AGZnhsSp5tzX9UnHF/bYcighdF26PzQwpQo8Y1T4M/Lma2jsXNeqowmz76Z2WaByPYyZNqFBDXkfipawTwSsJBttJlzuZ/cUWy3CtZ9lTSNjNI/wIhiCRX2e2ENJbX3O5IxfFyA/3o9S/Yj39iqaMPUXEa7Fzdto7pR3E3gUzoWwRipCmi8YvtCFYUef5rut4XzUwlp0rDseXNSiXf/fYvglOuz8jXzurxeiuvSjEi5i3AGWhHVVBMiz1Ble9drYVubDccVBbed/l0gUlKq0zvY7l1h4K5zqm3NYLFLDV6UT35fzMuo37xogwLGbSFCJjCgJ2C/fvZvLNLx3Q9vMLIXW7za47jdicboZmDixRHLRJAlLBrIDYWi9Co/TwJvsUGEF8/G4cW0I0syXCoV8HlWu5spSVhxOWUiQUWW25OGsDEL+hpUIFDHtpCPTvs04e8A+8w/VD5Jmwx7lyFn899SIQaLf3gQAXj7dI61dx4/dLs3Sp5AvLbpilFLgd31Bp8qtyDXgQ/R5dmhD+tLzsuNKhTJq7LuvunWAUSxrTMZt96Bj8elGe3mpsjESSVFLsbnPaoslLzkQ164Odm6CtHwRFrBP8/WYzQujJHWg0KUlE+lVUuxDcmM/5qXo9116PyguljT4VxyFXFn2LzLCg60asZQBfoQ19uPxcgnclWwWq4i9D09E570JVWs9HYD1czcw7zqslEV/Y/VVkR2f2ThCDKm6NaLoLGqHol7RtFv2IDheyYy2Jtr0O7w1IWtwd/RJXoCPn4LDeRkFXhPubW99Ac4ka+O0ewZO5grBv7TyHANAvZomPz0hT020fUMUpJhKRHAKaGi7wMWVJpHtauhMlGS5+AXFqSZOa2wQN1mRWeSQVsHLLUED2Y84WEEi949AU4PWqxy8m8bqk+E6B+hxKlErj8TxQlUjQJVlbGQoTPYVKTV+zDPqmqtUwm0W/H0DCl1wMYUgpVoQCkTFyL84QqCXhdI4Ogg1Ov3lZ42kCnknbtLCl2pe2K7UH5amOqpizlkeXDkApQ05PjdiBQ4eFglrUedMTMBARv4+DkiRivhXUd4wYIQa9wcVH+jZ93i6ofQGACQFIhYlQz2sRycaXZ/DJQ5gLc9mibnGjOhB1FS3WYj4Ecue0YFa57x6ESS+O8ZQnmIbC+sw4hBNYpCrwqzSV7MuwGoyX91/1+MjhfqTK9USKnwUlwWg+XhZC8FPnfIIyoah0ply2p2fEbsr4MmOuHheGvBCB2Fm6UdImLmRlofoLABqg6gfo3ioXiS4O0auHY6AVtJ+Dfp9K4aXUrJpS7iBp3FIY53CdIpXsXL0vwfG9x/BaC9FEZpJspCsrk/AkjUWra/GhZiyU2x+eV1OVc6krRkkCg+t9qB7ewTWHzGJ0Jy3r9JHRByYndP6F/DCh/YLq8wI4FGLMqzHXooZ/x31yFCAsQJQFYDrCzPREcWRPmtrOFx/qx+mLQTMJi2pFSJn/N6KCi/UMgKEdAlzHUBI27aHUYYwB8CvFALo6Ws4Oj3O5QuZfrWONW6brpqhq26DwOU6QmqwKyuyPIlg6h5niSAYvnOqbH2vi0urPXG49+pM5QYhE83NSOB3xhyrOSUpeqxRA7eZSEPDbBpR+QjgmL1uhVm4l5qYeNgrZPXV3qVKYslrUdVXRDAgo4kMJLsN4PcFeCrDJLJ823XO72jpO4Rw6BWmOlWnUdL2NU9n7XZlgVrqbDrVKWYlCdrmHCXTWW6nbSsZ1M1NtcyxofeppQD9ax3Wk5lckpn/hHJv9TCwhiwiwuYSs3SHyQyc1zrSKIPCJ8FYGsELVVC6H3MmPkBl5mwkhqlj/dE4e9zXWach0hkgHk64/JahQRgAgh73hWHv6D5Q71uT5bSX9K06bSr0mi90jqR4eH7y0jdPqX8gbFIBmuo4tpeIZNlaKZIlWC4dlmtbr9dNaF0polUO0l7ZTp6o2ULxJ3csHHBMR4hBQ2ZqUbCbyIUZm1SxojLpBkRYhPkg0wotVJf5SI9ca6KhRPIrjmEEDKyJm0a0yaf7ru1pq9R6Bsx8iprMo2XfzVmQ2wddPg3PdmpKkXEy7yIyyvTZE35C1fa12DHtkiHU5cmV5Z/3q5nlCm73i+lM6jGf+pQGpP42Fr7KbIVNHPDCWx/LcRNgM8C6DnHkDxlUZuFfvxw8Iod4RVNImBYDfvj6zx9fF4ihQUSOrEZyPxgpgWQMcL8IM7JdLz1hzSEAfZjC5sicpjExcbHVbpFPbP7M3VLCf7P2EPCeC5OUkSrqQoWh4CzDhMwlCAoclSKsD1P3a/yWLqDrSfOCmiev7RqtX72Ludf+Ryf+OlDOxpPOj6JBsQZMX4XIMu/hKI9NP+JD+E+bgvsmJSxEmf7UkVF4p0IHBc4X69lQh2Q4IYIJaNsK2lhnrHaM7KwU7/LBeJLC3LLIRgNnZ6I082FusXo0f8UIa4eQcQQEnDMoCmQURqPSLaWzbRW89TLU32776/1cFz3QwXRH0RVCXh62tl9ZjJAZaJo4y0eqE0nbpuBIQHUCQhPDFA7r2+PBb7uIADKhg8Nn0hZFdCGGYkAOp/8EyjHw/WOrKHHSYAH1GFCIPAexfvdq3R+ZiOvONVGkhnRw3sIYi6TXsvjVPFOHKkYAoRZBqBizRocmhWpGJxfOw+nZHjDMq7TBLws2YZKkzSff7mC9C/LIKj7VA6PShyyaWlV3afI8l/33fmBT4F5DZyaECnNECVRR/nDPf27jGKUrl5vRjA+NPJYBLXp4mu+2Ut98jgdCUGI0VqWw7k5hZ1Ld8N4U0GXB+flgk8SQIxZYutDuMva7l2ptXoOm8sbIUwwWwW4qpkW7KQKIfkZwUs1JRqIVOZkaCQ4uFOfT+xc+zdgNerWVyI4/tQNzzT/Rf0WEWI2bSU5cthV9YGrAVua0pbDtzCYbQIu/oeZeuBKkjfTcI8GlCNE47/KdqnyH/nbvlMybgIMYMaFhg+4ekI2FYh6Yb2JrCBTF5cGDBjh9yEJIWUii5lspZMDcaztHj+hnB6B0lwqHVrW69e7rOzqVv7AkNZES9q0RNFkfSakqu5MhmWI6e/2zRP/4xQgDZlb83fjp9Zfyeu556dzlwOMm4Tnditbn07y0GX2PoOe94vKm4Rh9iV85B2fdDSCbCRBmUMu0pHKcaEBlNKRRwCV7AdDcCfHfL0rek4NtubplRlg+tV/M9Nm1dEyBPdYNZ0VKdl1bQl1VTn1MMUnRR1wUf6c3KnLHY46SrLfydD0tLSq3+lFwnQkTRTzKyN1lL9oe9qgUAe739ey/G+wzopWdURzygdy/YsXN/GZkjk9AUQVwXVWEy4IZGY8by2h3stggmqqqScRVkEF0JazJMk4ieOQ00axFvGm/AWZntSLbSrlmaaQePkF8GuLEPxrOs1NIb/gFIyTVqRVUnZbbHmYPNaKu8tNvo6NzrqQvwhhZIu80qX1wVjjE9PYVI1r/MR/DBzO0LoJPhIzH1wGCXAQcl7nzQBFo5oXWTAzVScQmnoNj0kCjSOLbxFS1qkHWfMa64OtXbpa6B0kY01nMNQohxWPyy1t9XuATxC9/XJ6MU37CQRGv2VyeafqJIgXKLNrS/U8KuJdxDvy32MW/jMNRDIhZih49vVnwqPu2kUaMCgg45Rwt4qIKWBUW2AADHH2gNfPsIWPE16U4ULySYBA4aPZJIXBqN+nIqxFiGDo+W5CM0YIhmOmKllVATdihChEZ28f4pqqMdSnIs6SFJcy9Kp3IBd0EUmKlgTNfKdAaJifFAuyppNhBzSW6LYjReA1ZLETm1ndxx7+Fx/mVBZjMBLK12pslLzLJPfMSA+CXnyMvJwqRiKvlf9q8NxgeeqRoUneBQvNWBopJ0JPNvHDFUveoeYIqdhJsteq+iMl17NvsgX37EjctUM9ZbPArumHnrIvCfsFxzdmPz6WYmWVqunaRZiqO1a3vJZiqVEJ4eWnqf51QHIikclneh5DzmCP7eCs3SX0k7i3TqRaABSG7SHF5N0QPLjgm2dSPSeB+cCEBFFdcrgmmXVICyf8wuzCDDti8KiwHpGS4U/YVsqwZlbK4h3rk2SYREkr41rNxSlE0tsRXyepMfFQ3yYXgVFrm/waYLTrKi3UV9rHWbpSi2GoNU+iG+7K6nYNv7HBWgojYGo0Tae/Z4DEBe32/ydEmlZwh1+A0GeI9TfFqrixj8ygolgC/oWXIcDfnwQTpb0EZ0aoT/slvlrVIdPs69vlpmfooTxFCm9dl2XDSSJMll/KDLq5C+mUZFzm/siiXZZn7xWDilsyCAwFRpz/7Tl6y2ez863ukubuo+s4gIaW1gV0HfzoAF+AEYVcvYQ46xSw4/uDQk+MGUSAhYhAsWlUdzBaij9U5Tn94R8FANLIe6cLILEi/vONeZR/XoU2KYpdr2fUJtR5EYgtBwhuZ0v0p1+LLIKXfDSZ1Uilh/HpwduwOYLuKhlNxcUfnTYSgmKL36vocF4j7cFRWs8qsiHqx7K2waMBbUKi0aIBFx68Zi/0HFw6EQ8feTkkkQ4bK5JsSf6fgHmOX9tm2KK5pSrGeczq+PRw0peaCJ8rOprb/rfcZl0yhfkxhiV3LZRZN0S5JeqOF061d9jIEXj+kFpuR7cO3XPSfdW5oc0ZFPJAusUCmPdYyVgVv4OYs7JZaGUqarywHFDULTPHFZIkWaZ/NrQ6t48uh1KPomwnCz5oZx62bwhhPkEzDmIj327CVXDXor1LO0zBYJDUlaZW2A4S9stNTqW1SieEJ/mWfR1UbQKG/RnWa8xn3qhiyMCyFSdlDugi+Fx7MFVlBcrb/9OGRL2PYpVby8VmY+tZ5mwDLksZW48dEmWbh07NCE7fJ4SvdlC6Nb1KR69pXv0nuI7SMs9t0fsBtBRWXJBkq0EAT7JlESIjtE0Azba3NsEsvppzyDNox3VLQpuk92wNSCO96pwgFp3z69cFhqM7P8rRlGzcaT7GWm63eez1kvOFPFQW9V2bDxv90idgdtmXhsjGiVqgdgeW2EWWWZNyN06NJISQTdGTQ//CHupKDLWhyYN3QkecZ/+JgTqKcKa5FXxMG8UXxjEkIOlG1Yn2Ean5dLsLv+lcSRDfqSZcfPLkA4BUS7IwsaCJOuhz4LKULXE99WQdZ59f00Rk4lLkRupWMBahOUxihTeIioJl++6IiNcVaVHC6r9sd8t2AZERWRddL2EF/W4hBxc5QlAw1JsbYdvlt6va1U0N3uwIiQXCD9JwlDBLl/hNMzLskQCJy4/Gy7DQyWn98NGCnzElCwF4FZyTuKkO5x/Bkt+zXye4fSTOKOyZUZvTebEQ7ZBjsiaVBJxNksxpvUJZod/Eb7V1KRyNkF3NrhRfzVVL9QRfq/TP/B3fbYgRaId2HcBIrJkq62pP1/dbsEd4nErdFLdNIwkW1J8kksQrghIBYKVbEGiO5Bpwo8rp5p5Wkv3C7joxwmyLkR4RYzVtOOwDTarFDhBpCJchWkeyE8xhydWhnVg0OzhqtO9SG6mofBVFh8Z2fFSvqqHO8o1bGM4uDqMapFBsJTwwRCYE4ZWPnLzs159XOh75fpIg4LIIvWjCh4jLSLHerJeZDmWeo3wjRJ6oklwCX8AGDkISXOwlxxhlFKBXY0d6PsfxVOSLdKWaovvypREDeGR5s53vbItXM5AqZOXwiKzUVUkI57YpLR9wQUs5If1TUtdSsX93StrahlwcrSJXX/bsjYVzr1qm+tR8tcPcEOv1WCejhx4ADrE5VmVxCpNsZ1K4GJaQfW2QnhPMxOGPD3Syek10w9oRyGVi7SEs9ruZlGJnDckZTomRWITWTiLZSAUTAk8HI3IfEx5nVtcmCS8nkI3OYtm63ddS9Xm4zLbY3T/DVGi4T+1KIf7JFW0uA+Chc+qSghAiNi/t7kWwyPtCFjINJ0cyiaLAkSmpt+dneBrUTCgUo4GcxOrQWzaSzAeAtFMlsRhI1TQ9xsQfjtwm30N+SSuBL1tO/2/qlf6muuRImefY1wSI2VZ9No1VeCJxkSHItVSLEf3mBtE0pJ0pS4DYtsRTqOerneXUs/dDHI1NpNy6LXX83Jju6jGzC+1FxhO7Ma1ArGpVsyMa1/8d3nYevLON+q003U3u1llP7ETPGuXZau0E/2j1C7GqPUgn+t4zbcC/PYoxMdP/qjG9QIaWSFGsn8GNC1rBa6wsCw1ZbHbygXmjTXFm7L9yeWgZ205HZ3nxvK6FhnYuoImjG2sRum0p+Tejnx/A9bB6G3z2W0HYXVM2HRPyrK6q8nbOuFzdUuo6hRBfjSpMfsG4RuF2lc+KdL1HSt5QU5Zr01Cykd3VSoC7QJKt1A/5NlYpsYXJCNpCo56SIfZO6z1ARhIsAilE6Ehm3V/XygXWllhcTe1Pw6O56TvUfTLLwqNmZUVlV//eVBIaIq4pnxTxqRXQmY0ABAnwDcAmoi0oSZ2UEYlgtWQqKyRQUVdy2rFUYRlIOZT8dBvlMX3cyxWNlrs0mXMTGcbVJ5TwFLL0v2q/k1YycIHKo153IVIoCNoJY6G/qmIL83eStpoiS93F3JmWA1+PiMsXUDSkhGlKuKKR8D1hPaGDJAAiWJvyyEjDTG3dsTLBPS038bsI8BHROUggtm0D3hCmslSRJJR0Vv0UV50FsYdNvkTujb9Z5523OFMYNWjcXWwPBO75vY0ckwaHyWFd3OEDxzNfX5xhk295x8p4XFlRwE7HLuv31Ejx6BUyX/TLsTs1PkziSgdYsPumSPLMQJj0snSOezSlbDwRTwxtg6mL83uMrAh1iCPob8SxqBmTLP+9xkpTeRZK23PQz5X7orULTKAP1jM96CYNnA2YMuMdqJadi1tiwHdT2ZotTeNJ0L3iD7e8zUmeNrZx8gTWvirlNRsLmd8E1Bo4C8ADyWEjgoiptNEA04JEiZghRRnjcjdHHHvzD8Mbo5VF88VYoJ+jKbWbahJClQH5FmMzdjhCo0lIPDkXAvrSMhw1YXKBI4R4nqmPAzKkMd5UNPRAysTUZdahi61HiI4aeMjCCE21l4aUuwkN9ZRz0j3jLhfRXwkQE+T8XJLDDgYD7zpsOgji4p8z4iDmofdyDC4ioMSku78aOyBlI0wWOKckT2LQQx/QgYqh60tVH2CUHOLaDYorqTXM5He5/cO94dHinnq8ELa/x1ye6g+OhI3INVvuXPMVz7IgYQrRHs09wnxvseG3Kqkd9G9lgSDA2Qyk82kqgQgIjKArIQ9LgdDSCEPehGXVpoaVA/XTwJUnp3dSK/E0VHWcphM/i9NjwalB6vbYaTgN3x+vtqogsHciME30RY7kjrk+6mthXMjDq1+KvSE4usBD9fmNdIokzSKiqpfJanzwqqmmhZOx9UqEa2rIi1IJV1weGTRkcqpkcFLCwJvAwJqBkXcnTRe47NIRInqeVpRU9aOgQirc9AiF4bJ3DPVT9GTN8M4RqwP+bqIHBba3MTe4NzWIdrEZty1jCxmxPd4jsIg7cIa6KL+KZMqFXGBRwyKlwiwHBA0OOhMcCCQ6qZNOOpbNYbU8sidVEyN0yfC6XW9jYdyb5ZMFD5y4XEBthtdB1tddHWIikU0Ntizpcw2aa/SkNkjtqFTF+rdRMPIhBh5gca28foMIzHg2eyy9/+IsN8F94XmwLiab9lJMOCF+lBFYwKhDI/Mn3g4k8xksRQQLkMrmMsOC4glAksbLdk1dNPNT0IjRVIcEUqHyl7IrtH6FmRSkRCTScFy9UVCdy7PEIlOLhI65RVhGgSC44RBkYKvD0sX/Ld2E8ZW2/wi8x5LOp4hxvaOSWHo+xuuF7oZRqO4Tza1hBApTUL+XlhU0zGJ/jcSkWotuNpRmQO/+Fz04Ek58V3O3fTt+aeYI1ItJUEBNAwC4kmTBQqgwiooizQi2UM00IvKtSbGGePFy2XSBVi2YLJoYvHhRsoXqlFpOOJ+FyrRsp29rf7DfLUWjJJOLSPqRW9z1IyqYqwtbD2rljttvsQdJX00iWvNJFVkYd4n3wjjRdqNYJQvB2qKzXzV83825+XJcoTY/Vgmc/IQPi3VUC5C8zndkET1aqz5bNENf9ARPF2NpPVEKrXi3afkSzOODpRFFhuyUNYZkZ2WIlMF3PlSR/ihEwZmkE7CSUUhLGCQoW0cfQwlnkMORGJkroI8kg8tz5YIgZsNuNOeELYn/SahHkdsedPGyrwmWgqaVlTZFZtE4bIVbKF/TfEDalPwgvfz7E0WiZCCUJtK0IJpEkJmP5QJubkYz4kVhoqUVIdocFz03xAni+fbkgjtYr7MKR03DK6V+Y2wXavCk6WPERDhpGp6npdaCq074EQQiEUj/I2CklTTY40Umjkqbi62fnLZtpPVmGsotDV2TX6FC0QTVYsynjtVXoe6LUtXurGaqLFM8OPccHgouwUAkDmp1RmE6ZU/pJul7rqfdIH6cJrfjC11s07HN9MoQvqV68IrXtBhvhAmsgPhomqElKXFK8WOcJCQ9VFwtKI95GnsT4tcWNU2NtWuUC8iX0smPl9SVQt2R5oiVRg70059Oi2UwObHxTEEqVNn0BhEXm0lgNknoZwBpQWhxAHdAbyID6mCF6AiouAnwClgYZ8znhijX0jJfe1p166WiGxQNJo46JAMqp7kKDAWqKyo2YJC8HVtuMjP7rEL7bDkK938V4dvQ+yHQEcaDYDKKhsBDOAgHlELUt3PSRKeqaZ8gnptzCMtoits+a1qg0hCjkU9UElK6TkJpzKhNYl1P9PSrWZsiTg1OnZRXuNbrsn2+z2WZJ/mmxRglqQtGxM0TTWE4dxwIwEoRWE2GlfLBXGaa2UlUBEEuydUc8e9TPsEigE8WnMLpJMY2H4CisMbBWmtH/0cgqGHxs6Ow7XGMLAt1smLaKsJi4ve2pvttjpKQ799A76JZLZwxtvVYnbsmSNFzhBgZIQfEdzqN8uAXQZQjHdRMAyBUC7ah7WpD0FGX1wHOnS6V4Z5OjDYOuJuwF0ttEH8LBgBfcuKMrTEH4M9V9TVr97fyb9ZqVAmHptCEUhkNgIwTngTh/XMDjO95ZAoHK5LeHcELxJiHkW5XRxTXVgRXxnby1tdZmiH5yfO/pMs4S1GWMMa4TYJUGuoRiPz7YAfQWwWX08ArjcIP1EUqVbWZxEbBJgGD0//jFCARzUgaj/+D5dvVn8RPqoOUb5L3pxPCZtKeFCCCn8OthGH/fMQ0PpokB9AIEC/BCG2upXRuwR0E1EZcPj2BxhQhICOaq6qOR81pzyA/eTNofAXgVQWY3TSTjftuQUpZJV78MV+jBNUmCRY6HRPQ9Wl0zuJ0zDrLwu3GkVLT923pZFfUJ9+Fs2AzvHvqUkxJ+dU2ZsSL6UmQ1AoRfhWBrhArmVE3L7kdE5L7sWAIw7BnijMNSWbdMiJxxbyNyFhnOIwZ4RYTp6qxqfyvLjvmv+9g082yqL56rFGZHafOo6C42Z0uofJCuBrtt2EOqEbi0Ejc6ulKtHW8GivUGhsyncZgMKj1s+iMbzfVjQW6Z5HO3214mtzWnzuy1Ow8VH1xXNvXfIiQtjfnCdYyi3JwozaYyv5FQ+T4//LUQSpMibOYtCURfS5FRSNtCh/llGuyi+Ox8kW2Fn0vzcS5xuVt7uYuCUO40iGIRGQHqq2ywWaiYDuXD0WxVNBbTUjm++PszvdhNwmn4TC6QHdUU9HsyMrhWnp1cWRuTcv02P/v5Oby7er3pVpsktSlMEWYvRHi5Kdi2e07lUQTyJr8g+vbTe+n7BLEo4C6NIklJI/aFJUvTxdKJlZ9KKB4LhHW1FkoFzqVSqvDpdBqNZ7O59IhVVcL66Kvv9msumdmF0lHlgbEVY1PXcxG9xMhjEg5mEkMieo9+l2ZCU1PRHITi1pOP9fv7TKBQ+Tj7+ygU+7TbPkVoQ49RsmKu6beMh1G4+i2qLQi+d68K76NA8CUEEWxcLSPQqtK83zZIHb0b5BP4gHQwuKGt064SPZ7R6YHMZxPFQZBMO0NDi681786fr4LsZBaNo/lg6uKhgW3FL21pkkqi0YAgEo3MSTkfPh09XIkPhFIBMSV5r5K/a7Xca7VrB42qwyRJETYkwpxDi54WesKA+n4WBOUjmJPqET3P9dVj8NYvDUdyEoNdbvktW2Utmh8joRjUzmtF33qj/1z/bfu43KRC6ZRMK5aIiKjO3b37uluvJGFozCWWy+stbTneWZm9LIUCqbTIRH5eRVXS3OHASd1iYWBbT9ih1yxSNdpCvNUvlsvcnTlOsJ0vxM3rdQUoVwjtoQneIgvWQJVIZvcnFkYhvFspElVTT39zTyX/628SSFS/plVWHbmtX5Wq52/NDXSOWzGIRGfmNYQFHBx8tteC+UjOcSMWmpXPRUMHG01prKxANZTKTuqNKKmK2gga7OkK6Pscf9T5Cq0s+19s9attViPX4QopwrzjYrn6+kRRsHZcEpDCUKGWCBMRIiKuW0O4awkoZnTFCrRMvlLuux3Wh1OjgvmRs55AtVaq9CrOKSXYXGIQDcXCCj+7LwqGK+pJnJAik8om1KeEvdyPHWTqSqFw+u52anFRRkF40eHTSFvPY9hy9brZLHdZOk+UrrJEQpWjFESO0y273tmZLAvCShnZaHQQcoIFzVRiSC6GcP4TFh4YGIixDkOhVSgd3c/E9wUiircdzulMrtLvfFVmYT1MeDkPL0TXZQWGfQW6YlVYwiaZHUsOBVYdv10U7xU64QxPLBxdXd6atry5aL0+Og7XnMvJ6UmiTBMtxnaIcc5Zi/GGPk61Gq4N4lgURdXUssGBKEGrdz4IRUaA+AghmVnZofl2J8ja3VQ/nSfjO1J+4zLf7KFf7aNSrXwkw0mYuiUFc+mFwfUzrS+ToX5TVxedjoYGMhtOnxUDJVu8hkoQiwJxHU1Vj1rH/Uz809zB0dFh+qzaLVN89T3OEdZVj3FOY7RsUXKzgQnUsqVfMzDwS1eUcbScTg0B2BOZHx3bkqfpF+Pruq3SzlN3UaMkaxetVsqHRfLHn1QxHgkiIGEViO7sLAnYvRqsy2IBbO5ROLQptpPzO7u5lAqrYmGMwGJIxk/2+LB9f/hhrWj8YfZYLZON8mGOs+xOjHFeM39c8Eu5UeWU7NfWKijyhZuiklzCsRYyDUDOJK3LDHazVNmFTdeu5FZRTW7bz+0Z0r0iq9u/JGN2FEWW4wDaJIlpFrTOZEY/VNpTsWzs6Ck3KzoxbLlgJu4X0YUng0kVSWX7MtlIplb4/fbw9HEpe9IkjyTGGOMQ4Zovwt2KTdkmcoRhvPKvRnglFuWvSpMI9voigigQgqqJSWyCZp3u3d+ULLpj0eUxXIK1uyLfr39eN/56KaBLOJvP4RXh1QNFJ18nO/mQxikQxAKxuQERN4cZ3y9ZxNDsZn8kk1pw7du1m/0SwZtbw/3/0rLWZ7nKJkWIaoToUpkqndZeAIwJjEW06YWsmXOIshpwR0QoA+AwAmLL6XVpjjdQqlTuPqsLYfHxLpSBnitJEg9XZNGXeTLZ3EwsC6EUrkls9ifjEzX800wnkSDuczWjLiWR935z+NweHMUiQRlhbdav+XG0SV50XrqedtT/0SZEGOsI0XIOk2RDrf3ZJ5NgMyLICbIzuIknXizNgwLwxAuAWB4fiqbkavxB9aBVvrguBsJa0i0JTfJRnKsc+1fdaoieJ5APp5EtdUk/fwyRt5WsRCURDGVD4hNyfva7XsaDq5ml3J5PMrfmlvy8b1f6voVf4/KVU7pJEIk6Q6wsxgjzv/E0xANgEFO/HQvF8S75METSsLqEMoFwC6b0ihnBCFiKH3jt/Xq387nZEUO9aVpmk+gYKDKP2RBBNxrLJHE5LZWXazW7Y0dgpLr86FxtelDj60BzYMb5M5STP5I9lX1pt23ioNU6JG1WSYvid77G2N8NsFqWrpb7hkxWBKEp5VojOSBGKOcsI0eHavA9gdgIrnSTklkKPN7vORucMmlcK5ya2FsS7fPF38+Tz0qUNA0jYaC4e3RiLOhUejjwl5kKDqIru6KKQme23kN+38u5fUzIm8jlvSBYpEufbY/yxZ9Kvk3XOHiEyDJK92lXnrcLgVwkkY9RHXycCnCnemcCAz8IFEDoBeNPIQlDbAiyh45bo3yQVw+mhw1UdsGuTJBwCg6UAxhQDAIJeJB9VUrtr2z6omAS3c2FclIK3rmTA3b5zJ9gbV55aUjCErYmKsViTvDdEClY13mKNkJ8P8HiQ73EDpM0HAGMthADNDyYLcD9BWjIpgKpZv4F4CMA9gl1xxt+0A15cyfJbUcPdiHWzSU6ii4Vg27lMy10Ug7WLwzycYNAo/jEDq+vn+UraeUpBECkiRI3rv+0cCVPmX2sY5IkIw1vjaF7Fk0BIDpZXyZBz6MxauoWJqRM2fDoqQyVRDvI4/i6rVvWwdsT1LLaNpCoIexyAgGxzcmft4hXUV4+PK9L22lBXEwSGzIXu0HYGD5lsKa8TiQA8UXtFhpMhVn8JTA1KrCldazRjrX/fx5dZTOedC9sl1Z9EM1OPZvi7tSUpmOvkOvpAgvXVMQU1pUeHaZH7fgK5QRQi7wPJRfTjkqF3ihG24IxRWCOJERucMTl1JZv6dsXK1J8VDeLUVWX+0ksaJjAkwUxXFKKVLXwuBccYjf1qMssEOLxUlm4UTxdBx6rwBGddLGUVSPTxFkN5hm82h+lQ+2OWqCH+5cYupUyGkRFT+8qUPrtIuSTFqkZU91VErL7afxUhaEQRoY5DmAycfaVo5uad0pPyiRLA5ieTuhqzhltQ1ObQiTGfTRchjI6lSO2lUcLXo9WKAkjKTKhYuPMrJpKqgtPoDyAcsLQ8idoFwHxPmaYWHymSRctoRYjpszsFJKO9v7I/BEnuqfnIw2Qqt3xdZgDGpCs1hOkzn6ItNodEMUXPnrMrqXOdHM0nSVYycaJhbLfffR4GzWAfJ1EKtforaU2VEOzpqApJCHYIzjFSIPPWEWH6qImdeY5k/ty1wI6JkCL9pIwt4Y4dPDXvooaEd5ATFNWsKeqEymwYiEsHk0Zr5M+RA7g6R2hIEcMhTRhbzrUd8j90EigdifN9qB+3o2wpf88ytlqFsXDFLpp13xFMYNNFnRZPqV0r9uEV76HZ9UZ6i1b3r63vNj6Z/N5m887iVBvx0/87tf1b6T2XyamzAD5Le0V7G+eJ4YksRGaBaUpAiRmzARExW7B0VFEiPVCIqSMTZdpW5Dk9srxNB60jto5L8Iu7lcaLIQsiPbHMIU8tOyoUNR3VGkgzDlCjFyVdm902tU8TSBF8TdRqFatzT3rab0i8Di6XSL0dvPFPjX3QhSAGUKHhXSvA1og8bPWAtjoDGg95UM8zqYrDqbA2eUjqK0TlIgVfFpGz5Y1K000hAK+X28abgjVlwQMrn4iSMP8xuQbvgeFCvVlGFe3qDONN/yWiY/qZJHWKTEiWF6s6fcyhZGj8wvBJXGisTUaMZLBGA6EAJuXkam7Y5RDIgupwlsC2Ltz4Dsltnew92pFr9lAvhEfboptlga/6Llp/zkcFhibn+QvmnNvZMwI6869EFXde39uZvdi8UL0gCTr2gSB+u5n8q0yxVkXdeuWp5+rWVb0ouHjcZL950kM2kuM08dC0IAah2f7oQ04WMBgPDr5AOsHHliB8BNKJ//TTiGiO3TaFfCSYQhoMl9Iz6HLhFUJDWw4KINuob0zpmIQijs2LyZlxHBFz5mmpV6NlJ9EmSaodpwuIgV4FpPFmTwf4524adZPcLM0mn20CVOSuCURG4Q0ACigL3YY4UpzLnHjTTcgXAFvgK0JUCLYgKvT2NQwQdWVsvIMTCQASmQuMEQVmrRIa0fctkXAXQpekh6imEV63l0j0UjpUM18bakB6a5lESJE4VtfyNeWttyiJTCyfptr+FmwklpyLfZqmgI/HJlGhwoxQAEsAvnr+7dUnxbIXaJsAjAJtAvxpg7vcDObZCxM6FopisAfmC9AHa9gRs5RdZjRK80lmEXjMBLT5YjEeTVEr2kc8MZwyuE65NLkJ0BPuTCDCQX9XakOrpRZ5uychXcYMNnaKimYwt9P7HXslghu5o9OAEuCTgLdQpLtW1QTW5M4H9EAlbDPA8tQ7VOzFBEoHEl1lBBe49YYPnkLjJHq3VHwTKJCy4/wu63EK8toyAxHSaSamZJr1ZIpzL/JQg9VPfYWQ8ciky1UxIc0BXJSP90DPFwfDGZ+/Ul/p/OZE+vrOAABHQIPaOCux53lk8EyhnWpM9DXp+Dg7Uix9ThiDgudVwnn4IwyO0yBEWJHKCC9YmK+WA0xXFjQmlK1TSE8woW5ulTyacH5mpfdVt8shQlM85WtXuZMQjd+bfUz2YtRTaj7FNrR6o0scRC8WmwAYUKjM/CSTFCCQjAW6EsJcMBHUNsGO0FIk4jQoWF2oqKHmb0MN1VcHDw+UsJ3sq5iqvMPSfWpqQvU2QsBJr+Jc02afPw8h6pVbqiw176oJzV0hK55JoIs1MO8LHNkdux3E1siXYyVGFt4Xl4AWobiJLE8ibBUYSwIdCBNlsMqRig00pCNLZEIbuR3l6IZ2QwznLEyNtlSkxprmLINoGpU7cvLJYZtn26lUUejd2F4r7lROW/K5Rvjl6cWp7AsVyBZKCG96n1a7LbuUXH0iRzB4KXaObOjjUAb1oJsJuJ8AmsV4OjBAjI9bFad4d+6BGLVC/nc/wZ2yv4PWJ3K02dgiIZs3OhrMbIJC6B28tOWholC57c5iXYcmj8crKqxWSqLtfPcgmVXll8N18jq3R/Jm7VEjtjbw55JhmxGp77wW5mjBngZP6H/4ZJyWH4jCBfqhDZpUda9xP7Zo1rueZRqO4plqWRFrW7Y2kz5bxCiIsynWR2BYhvE1RV4lefRtte4xf2rQzPuUKZ2jVv1RpOfFxbv892jY9wRm0lVt6qvqNDOamSqNP/Q07Ygg8lWiU540+y0hWcpUYpKSE4V+6bvmgX2otQnRtlKjbJqUByNO0q+hDhQnIZLoU7RWmSW9o9qY1xejhGD+VU2LQ+rJE9LJdZFaIXwbURfv0mZSyEkPZV0UHX3d8kwYw5I2DU0zGcZoC9rYmv57T6I6SJyR6D3k3KJdfUKUuiwmzXKu/xMCydeN0DCRh1nocLTb7XVBUy9RBBuRssxSJiq1U13y7jAo/uEJchWEf5N9WmiapqYjcFXIPtl5Ydb6ZHy0r77QlackLZ5L7n3Dj1kjytx6+JE4v81GZWDynCjCTmen6S8pyoO2olCG4hZMSK1prqNVl9S+2mjRRovmyCKHHC4f45IxiTl1Pwpc43kUzauICh/yV2rYaw1OEl7xPOIfouAJrKtbb3bpfZCVjbDAtaTpJzA9xQhZdFXeH9ObKt+ToTUuTbLK+4ySO2HrJ1V863imKEqJPsV9LI302ZgtIhxnBtS4eKjRiCmWffGeb6SuqwyzVxYUASogs2Z73A4SrQulWkhqv/LPhV74KoNTaRnhyrSKiGFlPX4G2jlNPC4R7iYzQyasqMdftMRk7vEc6ihhKqkoHnK/VSeDXpNzb0uQbayPytlpog0Kat9cND2j9ZkmazmXk1vJuEvmm0sS7FdQUhNd35VYGIwpxECFFhIgsPSQgIJnJ2lhFeLItdwOHElT0LNMYn0qVtxFplwiNN0LszIwMnZlkpOZ3QkVZEySEQ2VZ95Voi5k9dwUT8EfhMhx/vWA1E2Aj9WGgoUTbGI2gE2hGGHrNTgipiKYFRP7ZVzy2by0TLG1k3Y06/HiaBELSkwPnNyNbfVTc7Ejn3VyfWO2bmoHskIMbiP9qIYOgcFPANhBmDBXqsku2YXMiNBxJkmk+uqRpaUGikDEypophT/NW2mp/5Q3ZpLJUa2skXMJB+RVT4fijKUnYoQFPAJ3AWEECzc2zw77ypkh6rsFKFm+0qTRWuiLjM1+O/AyJ7/+MUIBXQSAeQaBSRgrYE7cSXagiqRFjvO2sf6sQMfdg+imiFoIuQtbNEANeTZdyHNmcDPm0Cp4MF0ohqy8S+Co3T9tjyiG9pejMiEKLKzbaQwwgBJQJ9Pizkmothhfp9ViCn4aPwNV327N6AVYOf+1ZGsoZTV7CzC3raqTAK74v7Pcnl0+KqXiEqo5qRs0EvNJSWKJWxglR6duhRDlt2xpIjn4gXsy1XQax0gpIsDnyjn3SMIwvNO/fVXSOq5Z1207OSZkLd1IKJT5sD0Tai0d/FoFJ0ezjTG+2vzkQU/k/8I0/9FaGJsSHcEAdNnqxUmU9Z6g9Y0RGPuN1ft3dIuakVJqh4A6Ay+pEwyzg8iIIoaE0ig5RlDEumoJjBJy6DaE7NnUGXGePXKGKSwjrxH0CItSY4vwQFaoqhJBGlUrBY82LOae4fswzCHTUM6Q777Ra8TF6UyC2SLNzyxsyQAKfOg9u04hwxfBTbnNvYwZGrQp5FbwXKFyCUY76ReBtNLYQifOvKIDYBFLWfCSkQjOt+L0a6gc4ziZlUSfxaJjrdsSSLTTEF9y+ux5bhCk8Mklz/09yg+4aGIyNlWJqqPvJSqEZBeZGWJQgXipZGl14DDWvImdPCRJHm6mv75dGpdVyy6Q+zuUJdvxub2aXVKAkNkEy7bnl90Mj9lGj/h4NO4QleFkTTZ8KdRE9bpA1OWY5bsNbIUtmKVKkoZjFEURI387gW7yjhqnMNFhPjlnjWLIqcno2uXvFbJGizCQ0V2IiKR9pKLel1ocvtiWM77oe1U7txBpE1arxSxPEpX1MjK4UcyWjyCm3tegg2d218TT+088vrJ1Au1XxKhVML1Zxzs9MYo/FDlGGZo+WUaqyBSR2r9o4RrU8pTC0a7fy3mwuj4SusFnRg1nk324fEIrislCSDS0Fgxnq0e4XXpQgu1d2F6dHa5RNx/owpor00NaAQWw4ioILKWh+53ekmVarRH9PukMLU5561l47hDyTTeBfLYoZ4uhMAm/eYz3crw28lqnd9bc6V2Cn5kxejf1EWTj99m/NJwHhpMSq3S7037JD+cRu402b3f5eQ7GXZgQt/OyWAv/4pBlJWuoKYbL1029H3GnsCjWqZk0fGK1mmgoBcmW4+0zR+/dM6HlljTSiu+lKkUrIPxVoh3nJzYWV5mqg0dIQZbPJDVWrfVs2fyryrdH7vorqF942ggO62cKXytDmZzFP1N3XStkLOVHurVkS2TqJrRdqGOp/Zb6lMAyOgJont8u6FLkhyL47HEAyFN8nY56qkOP7e0LshVTJZyk5ZpDvnaoBCrBvplDt/Et6r8E4Oior5BS/FXDOibUkFYDVzImPkGE6rAQ/aKCrfmyuSuhsZBWK3ZCx2h+Ah9Qo44Ai6jCDCf+sxm3Clj4VT+wj6KzMrFuWWOkIr6axI9zK6aRCwNuoEfCqscGOftEUFdg/I1DFLzBIbhihuNDpTw92lQR4R9P16U2dwt1k3St3rzGMT9kv4vP7uApYjUIuFZ3aQkyVAS+Ucb7FXMbOSMZS3DB0kz/6VObY20gbGU8xNdHkFEmNOBVZUbbStuhTnzE9Je8mlcp3X8MAi2uOrhgCOhHjXxxxjB/RUDxrwgoum/P6OEY3q8pnnqFhSDlOyXU5Xpu6eYlTpiVXzCIBKzWT11TVDK5ybCtKrx6tZKkJaGwE70iEFZL5Hh3WYaLXFRGgl2fsdrUV1d+ix/5TFM4gl/p/kzSlYiSKj5Japq9zukIw9Kj/uUbbKftaMtkwZELPm5n2KvnI8uoQ6ds0GOXsEN7RBvM0usKG75/yZ4ITWQ0le/lCwXKYLSr3XWaCjSKLGgnBEm0mXAW3esUIgLHPCrf6U/Xntcpf4ZSYk39GW/x1U1EtsNXMYxtwb1n0kzZjky10pdrcEKaq2pWegbmQ8I39ZCiLYpYZxv9sahgSmm+rZOxvqqG/CrUARlCDrI2YkoioM7yuL4/0ZMNc4cB/g/Id4+NqS3jOelCwY4mZLNEIbVEA5KYSfPLebYRl7I/x+pGRARnoseknnIC2m6CRSIl3a5tKZ+hJKRCveQbPUIaLVnLXjcsbe25ZH8WTZknx4WUw3mfUIc8XX+XyFdn2Of3r5nBsMW63x6N8R4sgiGpEdXQJlLGlhCcvsyVXKqfMVUGp72ZfYwW9pQlPjVBar6JDX90XXaqFa1Vx1YxrW+zR4pneIsp6/61mNqjr4oURrQms7iRV4kRHplqK1s6S8a8YjV21Xwyl2GTYCPd7XBfsp9hfSx8Lb40uE1OtC8TtK6zp/CQ9pSS5SHN7oqJFlRSC4xyaUjosIdnUKd5l3wMKUwo7NGLaAQog79rsK8AnpPg/wVtPumXQkt7zENi/yOOG4a0ReIATYJywoViVEpPcktlG1mofTxWGpobN2dLV+2lwSs69AoZEM/W6X0QUEAvK4jp4qjGmO1Q9wuBomgxe7Upn6+2q55asEox5RXZdfhpQApkRIhFdLcPtuZHL7kU3CnSF9IfTTtSAwPwIkUGBlklh0YC4EuJj1IiKQL/eQSgC1iDMe429iEG3KzdGjTFpxEjCkQ/6eENMURPdLEsf1LZNy+0xLkMRcrZwlBtmhFWNLYn8lovofKlxj6mr7xTL0iZW4UmbyUInIFD0jUH8Ti1sQIUayhQc4xU0pv/gnxJfi3UWxE49VDkepsYfObwPTIVfd+Ra79rdhHGewugvU26OVT3+RUx2SOcnB7Hj5gSx4f1CB1qkfYzosaqGcDf68p35BgOoUlGCP1PJZrhlQiE6pMqAaOVhldbqiWDZy0hHJL0g1C805S6WJoQoNO35xd6CwXzlEb4n+OWKLj+a6Zo6J8Pg6rETNF7RjpY3bznQrHuxsmf3dG4pwnuPvUj1dOYnWei/swDxdD0TE6QxjtcRUVtzIexLc19nLwvP+JOMQ10kjRyjxNXRq//zXkK2xp/+UjFYLqN8nJwXQMALShoVo1PjFkML9TwChton48wccuHmKuj0HRqn9mxVWs9pY7QwSG87yrhKS1l0pbeox4lBSpVf13exugooIAh5vyZRP67EJwLXMJJ02lRaZPYNzcFzE7tHXRBCmUBb2uxTf1fzCqrj6xjDFeY9mVMqV2r5M+STtIGV4hdcIpkRfEl8VvEMC826ZKMwY665P6gRGDeUb/YoZJti4YklDU0Xf7CFYo+9PHNBvrpnwt0tno4JdQSP/1OXDiJRRrNvfRhya4+ui4dufydcxFJbxIrzWHbtSxaMcf79VOy2yY5NolfyVRqkE16WVF/qDWBJF087YnGehYtWuNyeWAIhVcqZ5syUBzjCUwTM3vcNOohuPcPadT5bzOsGTiCITMRddVlSrHbghONmoOFjLpubTgg2ckCtM8mC887PQNb6qpGLq8jPc7pfY129oegxpVFlrSHvccXWCaHPmPERQotJH6OmtZAvYJ2QCXypjW8SgitEeQSEo3t2xQznYe/p26SsBcx3JW5MPQq3NekmGmdxIOLYmJixvOK28uEkCnwYq97p/VC0xBTLNPJZJHFQQvRe1GsP4UskDvqZQPgICSiUKulnuI6omnrpBBHT4Ezd5A45EpR8Fz124IG1W/n3V2ykNjcrlvD1iFKrk5c58EuSIYh39l4g0Ff0qNLAzfRIYpUgUAYtWXTLQaw14jqRqrBbD/IUEs2SrIbnTYlBYoTuRwUosGIY9DiLo3+4uD/wk166Voy7EWAmXXSTKR1zesrDFgwhgQZEPQpdNkaBMvidTdJCthM/bcSOhh7m3vRKZZmrZ5krE1k0RorHuhXNS0ifMAg4y9W1P99WZisswky3tYxO+IhCOOgu2mao4sUFnREYo8nDyXRe4m0taYzO0V42OCxLcPNLq9FlcvIcblzqSOGOnat2PvSlE+/Iio3Sf9Ig5E4JhrJYaBe8qR5atuVKqdysGAFIcMZ6ko0FPkDx3NeqIaGSfDaqXPZLU0Sq0zAxmPne6w+YYrT5vRyqaBaXIpCkXI4J45pYe3jGDxSgkdlje7HC/Fsxo+jWnA7ZT3dNfoNfrbs/3SOJDGWwkG0izeShcxsixGudKM0mwkTqSRhyPdVlmSRUxtNBwzzn0SES6S3WyXeoQLnkfpDF4daymlbtXk9aRa3YmNOtmKM+wrggLsJK1MHaNfxS/u0jDUiJ6LqyRXRAmfEeT6oJwqRI493E0ZoWBjQsIYntQLEFs3s9VHlUos4WxZoqlnPnEyVz2FGG+CBth0Hhj6KFnbOaeRy5ehIsMWpGackkIPs6c13Nq7tydoKD6UbrImTKuUa3k0yq10EhESix7KHgi2uQcCxH/ybQbjL5j56bxnhQLIdtuTW6eWsy0JqLb1iAnsvu+CE4rBKrULIBgtpXDTEQo9nzdJ7SRDjVdSVmNlIls/1Xy60VUs15B9zRkpKe+rQnTCvCzcdTquhWViUXzH20kPsdhNJPhBlUcPqlfa58f7fcyawfWy08ZS60ce5Q25ypFELVVG7yXUl8gg1jAFgBECkAMxmoNdMt8wuYCEaoEzKYBeFT4GjfuyzzQKyMCjfK+VrhXHUuao4FCfZYNhW485GqmYnK9QelYnUh4y7hfmnuKjt8YNnMFIn8/WmyDaEugJqx4SiiEj3L+xdXtaA8W+SjObPHDsBEn+J6N/fpQpV7BMD10zuoXGuHgw2/hJwUn+YdwqnCYlqo0KTysWMje8IFEoSrIAljdVGGM92l5hFCI1z6jqiMJt9wSU003FGJgVjmX64dX57o4jMTJlN2RX0Qi68mkePXNJySUu7pJGf3MG5KojNcmdZISMvU6EhfXP1ort74qiZyoiKZ/b9SSSeJQWz0POZqZP2utKIskyqmfO/NnEhxt/b1slR4XvS3mjSWqZCKTWKyHSIAhToAugLB5C7w8MkEgg9lE8HyWDK+XhuD56Pa3XgT8e0+/DjjbjMiG9/JV5HX5R/zFmOc5n21hghkifYpEj5CxNtNtFzv+b3jtBpigiflFK2dV05n9VR1/lNCftD8tyM9nIJbf2lNf9hOHC2on9ctr/bdQl59V2OBC4K+BdS1AUZFbSSwX85MdzquGkAY0bGIzml0mYyVoyFtKDr54qOTliTCwkiI6+1K3GAOmjIponCxPRa6tHeCHjhV7oA78UQz1UWxjbzClP3H1W4/ZatvJxZcKV+PUexFYqtVq1TxSmKAsfQGNMQ9xtx9xpiELIQ4kamPr1vUGuTU28xl1a732kIpvnGyJrSCytEvA/SkOOfqUpFShWkoTzft3rkGqnRuVeY2V0ACuKA/IWeCA456QEBT5lgZnIbj3QCng+o++EeShs61gS9KFqSETBDEZ76Sptp0d7GocBD9R7iv7ZMDnymcKFSQV0KNNdbkzpy6JXO+ryI1dJL960/6Zxz9QRZHVj1zh+ksBasSoqT9lkplNrqQEx0ngsAgNuCgkyZJ4E3pE7r6G+I4QROuT7vZ8QYqW78vqGXcpZRwJm1GaYd3730BlPaXI9k51z/ujfPn6C/9eZo3sTqa44DRwDRwMZJuhxfpIeWDAlEfQ9H3kH0gEMn7DY5gmY18xi0KIqQ6+WHHaTPK4wj5ZYcPCzKDJHgl9F7cuUi+glsW2R6n9UzaG1LhYE2ZXDGPY4FcAlqUvEdWM9Sea4uS1T3uYgVMdEnYt+OyXGxknU3VJCGKcUYkIGQJ1/r8w1jPl5lksx7Xi2AtFUX0fP9vqPVqNYjteDd9N2CxjoFqb6s/j4zjCJaYoLfWet5WqmNCKvXjvPlwPmAPsAdEtYUvpoKQB1C/wP7CFQpyQCsAtrK7HEjGAFigu8ba5cdOBqoLFhcfYIQ/8Ri2PHNKRKbqafyJKQ0Q6BYTUDVCzuapGfkkWYvNtqBBgRr1atPmFKFGEPifSucvm6V6lrBEWwVyh3p5frFOq34lImw7C9Q3wFCUrpszFUgmWDyhYimUJDdHTMKxr3o3u0pRXFJRKlPb9TVFeMj6eyOnVCT0eIwCNpGWU36cxHqlBWMvwEyDURQ1vBNQKZHjZuEqTgDmAQAjC4BmANwGx8JnQPLqHmDtW4lDIVYi9NyLzHM09RqhBizWM9gulKtAZB9Lqaj5mxzfnnpPy0taOs+J65z4uXc4qzFi0dqPtEoJZrabZ7/xzXXDEp5iZU7x6DKSmmzd+f5yVQ6wdkqIc37xrUJom743K9Jt7/fyh0Xu+bHfb1dLjYaVab5QtU1H86GMVDm4RCq5v5AKpaOg/Akg1gpBwCCKBsWHyo0/82ttteCqezuSkb+ssg3ywa+wmbuoWjWrvtAy/CQojTPTO6uX/98Cgju1E79z9sV96IwJxCMxO3W5fhKxW+vnfIyTIsupnWXUuuqvIu46ufZssUUHSnrvGRXbzCYXt3WUtLdSqfRNG0UWe8gdH6HAWCioc3ady+wL4hhoDULh2FoI4utarm5iV1Z/6fhDOhiKhCQG6tVf31sBCwVlvb09P4fD6uEhWP96/P55M7MT2NXRLKaajo5JPJZ34q1Hri2QPaKvkEUwikvjI7QmpWeExbSVXXjaU2GlM3bskPzBnMZ5Ir2azqb0GPZbST5saKO2cA6oH/+MUIBn1W/Ej8gfyZ/Jb8svzs/Tf9bf2t/in+4v+9tBkt0JhIJOrRCH6HhId/xYJH7IymMF7ckX1Qnis2XMOnyLokfLED4qfGmgiVaHxlUeWEn1AihOrT7My4hOICC5ZI1CLM7eS137LzelRdfRFalPKWjCoSmHhcJ4vBNfEt5OAI4KQJIrMaqUhpXlVLQUYsyKCS+sDuYUor/8vfSx3nVPSVdm7H16nc2sUdt39F/jObqWAXeYH2JguoOnHDAVaiZQSIBVGVEEQwEYGD1YddajSfARa3GiCV4LiNsiI9kDL2nK1bS2dVU4CO+SCWEIeRQLb0k560BVqTFft73OaMv/9zHC209MVhnE/8U7MswuQ/pi2y1mdBspPlXK8znatUB3HnzLRayxTaopMSCkTJBVYkcXYGip88ZUhYah0lBBfKDwhwbHzdsecaYDKOEmYEg1AoXtB/TEJdEQqiYRSUn2GIwlZOOa4pG1QjSqcaLpUBXMWMitD2TBbTIBZwJehN9/DfeLtP31UZ6n9W4qeYUxp+7UNqa/7oO/SjVkZkGZIoY0a9kkvjOtNGH5uJ3HQ1Vu5YwmY2h0PYzDmCwY+zNjMB1EqVQZwmDCOxXICxr6YuS4cQsMo8VaZImECXooqjPwiIBtC0OJct7+iSvBXA+APY5KQXVyhTI/7au4/waRUJpzIAvogaV5vF3sL9JhR2GxtF8lHcl8iC1HNhVnEqcCmFxHfGs7TczMrZjRKcniuWsZAyiJNoJXhTNBfdjkPZKGYL/5y+zfUqpIgaJWSPieNWkQjOGIM5yzRkumMgGLfhrD1oQuCiEbKw6KcM/kdhrJolr5Zw37lcOHue/iT5OyVGU32fIjilF2N3jas+2+yBF0U0Ca8XPQ7hrHhL3O6kh0Tll0pEaZGIVDurZH0bFpPUmpmPTC8qHXtST0qRZXEGHELZCuyStwrpHpAKBNqvzqgOWZEPFclLSM1zPxHcdxYktEN2MD38tN3CrUqozPfqfVSlWBHUfLCXahls2ZtbJO7NGZ73VpJts5RrsNvAbx4jN2wzsldm3o5UWgtxREVr2hYc2n1V5UpJeXe20V3UHgG4nh9LH6Z6YxPDYdgr7UzwT1WcTjkm53A2Whr8NFxGtMykQlBkNlyyqfGovocjo7MX52OzzrPUDLhlDcanp76ug5lJ63ks5Do5fHdL3WoiXctjanOFza14JcLUwdMA5BiBUgmQYVgI41yRdZFNiNvx+YV/ugphBqBxlm4RVI7v0eF/mQXi4FjvNkdn42B5UwoaXNbrklPmk4nEwTX8XAqMKHb6dPHjQnYCQFgfq7yrTUN/tTGnsfgRqXC2CsXElEKE6PAehy/SHrE1vs9tlyLkTKTh5J8wOe/RFvlNi9GiCLEHRAEgCSEqFSKJRCEH2iRn9S4+vM9nwS7DC8xP4y3WTvUXWExYGHSTINAt81Pe2Ehm35w3m89swnW916nGJgYOmVVtz3j2et8svpXt4slioCyUqVIyuOHRem30tgUyNWzQVVsOjlppVEc6SR0Vt7VBa4S0f/nFtUlZWcdW+uQiXaUbHHSEOJ8p8MG0AwhZmvoCcJA3yXMFWZ23GkoQDzjRAU2ARaFN0sEFg3/RI+D0LgsZ60UEooC1S8F9arxtaNPpONMjEZbI4bhUSuLDYP0ojMcYQtUdybZ0aVm5qJ8t2xADRVQh8CBD2DYTWUwFgJ/5OkuYqYYxPTlN7ilVhkFEj86AUwQwlgxuOUevSKoA8Fa4xHgWGB3nmyZD63lDjGgh9ddKzhj36dLqZSoYtOhIkuDoSr3TlBnaSXeOGSkOOPxSzvXtG8JeOuGwgmNFKWtazqaJQtTwSl1rJODyVtgONPPpH1YmvJIpw3NanEdFE3dGUq2u0LRu2bSppPkk0PefqNoYJkoXLQKRSolSVL0JMpRnAPZr+JkgiHykILd545BThyrZWRdDQkAtUsJNJ8jqeRMzMenhiT32kYn6XFey/WV3sEy8BJoXNWpePDlQfA6jQz6WQqiEkl3bpKVq627f4wLuKiW5UR9clkBkXjaUDWg9m8uIbxlehBwe5M9GdCI2DjOuxqWHgxV6+2CV7XI8Ic5aICMGYbsulj+zk6K9LsrcceGzGHwOs9+lOw6m2iLRK7f+4yCQSvJF5XD0zP4g8ZrOo3c4ktP0/E5yJaQFQXoUdBWhc9NYvkT0RSpmR6cHggEYod5olO/uSf2E17ITIROauvuEksLZp7nCzJ6Sdd+lESk+nBdeul2KXJKjhClXAMolnLYT4oG1/mmz0F8ELx+RAGn1Va6sKMvY1gPRpLClKCsKRkN/Hc9Z5ghoaDgLYZTxgG8jnQ3e91cgBOHRbMolCFnca9ZdryEEjNF1NIBKWr5cdNh2Xol41J33gTkV5GCq63Mla2t6oVJyvRmtuZQ7JX6tKFvrUeLRLofSs5fc1sD4e6FRqivXTuflys5x4Qs0wc2+IDgjI+a1qcjN5Q3sMnJllFfS2/cOL68fX/WdDJj0ogoCU+IPsvCE+pdrTpS3DeiKHVEdG7chLDE5JiVG/KHbNdwWbEKvfz6Vnl8vs+9+HLcq9VrnJMvRj05cDgS1xEIzw6mv2tHSRrLJThyvmaWXtSELH6BHc0RwUNCjFZqPeIuc9NW7hpLWMKnY0GmiZ5AY1FAMzHwWrGnYRNSjd8JKPMvW1bFYXGI9QpL8uKC1cRUwobcDVC4r9SbXJ+dDgoaq67zuJ5tC+DWA1iiBcANxoUIAQDkysdyOT1ADjCFLU6uqcUjNAJOYhJjUqBOY1s1Fq6o7UdGjI7rfsr4VWKy1665gaImhIXig5SX4pY8fMgpthpji08Ft1gpJ1IfEVT/iC+ZhNQOeruDNjcBdqWQwU3jy6px64h1HmjRCTJFsEENRMVXwblUqVbiqsu6WX7MHzqJAronjisyeT3YgGUBNIBaUpnt7zRJiSswDeF0YK5lyyYbAbqGUKwRlj4IVA+xLAIfXAhwg7BA1qQ9JNgnZhP9Cc93BOJDqtHARUdcHUTXhaMpc2JXq/oXaFyd9TzHQL6c2iaZ1Iy0Ggzt74yN6P9XqJLMiWVMIhsj4TCWxOncRVBO5/6kIBB88vYJGz3NFOoXYQDYYXKaoCIzb9rgvhDozj7GNkdYGwwIsZU7c/1DH8VqqcwRlO/CJa2snNZ9m17I5rG8CWJ8ZaBEH5wIxwJEwUVe2Fn/fbJ3WaK0kFq6k/kZUFQjYo2CEgKl8kzyVx2x6Dy54tNdMv8h8InZ6JVBmqIfmTwNNl216FpAQoaBEXUSpfsNFkfueGhXW/pT+iGd/qyJojj2Pr3gri8C4bN149FYiiDOO9pLIJCjGPl4ePH+SI1goK043aeLY0aYRzUHQ2tZAhs1zUTdDYCpHKhSzFInR7kzamy4Xf2dp28ufnlgxMv3avq8O82wFc3pZVF8cxXOYIoTWSOogqJ0gB8xn8vRM98FUFxnUeR4Nq0NwJb8JzfoJXsLSt/H6Q8Q2tWLDzXXUrka0EXG1ZwOWpgIRo6FY/KOghafsXbE3y1Khs5Y+kss1rJn6tbq9zLacQovYvh1BBPM9eJRq9sQF6wKpCwz2s7iZsEX9LJRcFnScE+48RDtepkYzeKSSrMkpzlPmtVizqWNaWEYkMInxWFZQp6ekRXz3o8TxIVJyHfUVUuiXDI5FwpJ9JZXE8DKGEypxwMSmTAjBSYSGYpJxKbkUqYmzhIKCmm0nZjtRxuZob4I4Eao91Atby3efrCycWKkQcCk2FhWOTsKC5A/bp6uoU8sdOWru25rNI3xG0cxBtwB3KPsM4eQdQGkaAJQo8QZiww8e1csMAYSiKDFCP+kHxsEFoUNsQoqgERncTgXCdPZdQQsLaRCp9hscRKFVFNTKPwkZR6CFXIWyqkIO9oWfyRpioGNkkrm9rF89wlMKN3iHM+hnA09mhl45BOfI8j8/J4nnJGk2UsNhsJ6I5KkguphKqe9jcIDTARMxW5aShIyIKCVNJDSG9WjVRXBAeLXjd4UFvurZltAkT56fRbTjrfSaX9v8SxvVzCD61Egc4F6boSGmsuTDyK27rurkoXGFyMWGjAQmppEB+9dqd6x6RUbROVJuaHpWOsSng8UFpczaOFD1fi6LSzCPgQT13loOdFTVFVJ+gpl3YYRz7DfsNNau6mJRuXgTAjEjddhqkaCogeECpwmQgkrJExQSF2xB4mJs6jRjdhPjJFvSHANQIFKDBW4M1kOfRMkGo2GJMDsoYyAGkBMGEaw/Bv1vwvlle0hjcOgLJS3EWGpNcbz8Z27D0qvEmmUvqM4WejVhctZM2ZFjVHOCfhD0HcQK65CWxoPvIuMdRY+2dFr0FMGY9/16JtxEckGuGnohFr49hduwk110y1FLx0Cn64942W3xwX4EbVR2aICNGvJUz54TpDAhNYuEq2kaNHSGXi2bFQcwRmejeUmu8xMdhYFEbBXphMB3Xj4DuJhFnLMew89u5NIg3kAST4Jc0jCbKrMcjTCh90BJ2PAVKCSbm24i+wJ+O3JaFh8hELFmSkjKbFJ1vDHgPrpJQWI1GvgkE0cby88ZOiwBIioqD9NZZ1lJ+yWJZleIB109lW2yxp38Ebno5jlALkWRJ6qSsSJPZly1jJcDxfiVLIR5OREqrxNFnzIIjzaU8ClKe9QlvJSK6JcyFXKncFKP5nwcdlJ14FOXXyxT6E64HkbHen59RF+QlyzWtHPspE3K5S5fzzQU8ibjwaN0pmHgQ/M1383VV23aQSK6Vam7/5pnYKM3uFUlwZruQdKSRXoLk/Z28z31nyLw+1MiDpPp+yzINMhPvocZwOfWmkC7jdITzRiZS1HHVzTEIefEjmyqISCnJ5MtZg7le0jLfmbWOk2nnApyrWJcGaSzxmHTRMvh4piYQ6YnUCkCp/r5AxqC4C5dFCt1A72Bt2KWvaSpruQSo4iNvzQO8cQtyUl63HIYsziEaKpI7JnHufx+lwo24RIrBfiSMt3Yx3I0ywFCEMJ3syoG7WY2gvzES6+PsMof/sSQvdZHfu34QPmnjjFgIcklzqScOu1VRFSNYYZJV6Rksav+lurGEEOIK9b4shGiSfrlwc+0XBupZBUHvlk90oksligsf4yVgw0JOeL0LMpIwn2QSgJUdWQFCMaYNsgpP9y+zFvv2CbAryqVN5z5WrA3nbjuITYxi7ho/iQ7r7qxx/SRRS4mhW1tELle22+SnmLzVE6aCRLK4rEefHUajzSG5Te9joodXei03l2q/Jrno7NSJN2EtAFGANXwAWQf/weFYrYMq6CfOV4zwxLId5LW8/EK3+7mfgQnERpoOmXNQYZOdxkl98yVhQ/k18vpTsBnrKcTry3/6Lvtgrwrg0xYJXAXipVRuP8RoG0Dn8QmG3bO3FfsFwA5wMYRvmlSIKNOHWfDPSclDL+/WfoyeiXlEs55zwEmxqRyuBeECbV3Zu5o8BDIW6MCttJZxYushEEmFOZmL3kM4ymSLYhUPdiB1OJKE12HOwpiiFd4Bnbye8DKUqyufgEMuEUZ6aMxdDcdiNGjVEGIQSk4NDEJA1PyaSvXOigSShZZC9qRocx8mAIm7oUXJpx8kJFHzq/Aff+3aEIF2QjcWRY42UIsYrcV5T4QaSiQj+7ko0zN4kLdzJvOZ+bRqbne1ipoN6LkyoVTSd2hjIx1GyezFRfxYrhLJdTQX6lZE0YQt7/ZR5JxrRGH8bCL/ZYq9PxEu9FWl1QGskTK6S8I1QFanMu6jRwJy0PSbpL2bRPQg1kzq1hyDgspA0HXeoE1cg4yIRobsQo0qBHJqzpkqPb1Qe7AU3kMomj64G9EozUcEfuZx7tqZfFIkLo6IFdLzGVAVZYxEo0AOQr/+MUIB3pMAhIB3wIHAm8C9AN3A8W0o410mXh5Z2FudRitKL4Ww5gmt84QAZgOACAG4dkZJLogmtppaiUJTU0YE1dL5hLpXaf/WPXv/Vshkkolt3UVWPHtUrUXjrZ0tfUdemPS7ZvmSpHl66MaIlKjQUiAXmxy9fvk5MYGQzHIyGRcXIM1D8qOmzJsZKVCL5Q3NvI7yz+e9uJpktxRW1rJpBfXH39o2b//qwvqS3osaKmMzs1O3b9Iizp6QrORuEg7CISGLJEs/6sHA1EgtCAYG5Oh22VdcV3XVzZEDJQxorG4t7TvSY+PLpUWdtIr+tsu/Dpo0/O9B+/88uLo0ckLx61dLVTZS1bPXJW+LjMjPSspNyR0QJKLU1hxoQNKFPomwqOh0PlxN+StJX/k+2dDpUOjZ0KtiJ1ETfVEWSpNFVO2dLYoQQYNChwQCAkJCh40YMOHCHhDjRBhhpCU7q9TnqLHs6VLolSN04STwiRyVLqsswXzYjFVub8D+CCBwQcFEVTfE1aBxQMcCBCAyFKtFsiyGqf57x5Ys3X1Foj6a3H9O3v1hChznO24SqkGO4FUQZeZqFWZDMUrRFQK1ylufJJpYJJPWuEPcmEpSbdTqJUyHJdFmSQjndLFYUIo5lshey2mICHBjnTaRdF7y1XsrSmCWTqpTtkpoeiTxjdEHndornGZ1r/WlcIGCgghky9vtRAhwggyMtqV+siTwU1Xn+LWlliiIdIuzTV3KGHcxCZa8vV+rHFDDBQzDNu23dLUhZE0qEOg7KYLUeumsjmXSCWJ+b+ITidq+QqCL9R6rtylIcqiHYohqvag3s8qmCLGez41KNQZoru7rRt0+/XKc7CKIqGXSrqotTGjKWOfVwn1EoV5iCncVUuTVTFqbl7WYqiJuErfT5Ks5nO/LtPSkxqELdMFEhTUUCFwymQxGBMQboj5USm8IW6qGUYyGMrVUjjKogrL0FYfFdGgQZAxuyqxTAigCGDDCQrAroKRsahjg1YbjUnEKJYSwj54Hxtm/c1WJd/cs5PENO+CCVcsqmKYyCNzJlUWI9TkszysWFPMVB1QpMp/UzWlEik2o3E3KI5Eq9WJGJoQSVflGsxrptl4RCBCSCiRz6cWRyDgVcK+vZ6kT0TsTdZfRrFq+5/L7MpS+m6RXIiLq6SVPHIoi4u73qkVRDlWrWlCVIaRX4lGsGNOklMoFh1EhEHmPLIWM0sAMAB4UDANwhoCwi3ma6KjJKCjIuHjpGToKONrLeglIeUkIaGloWYnY6Xp46rhpqKjcSPkI3I28KRiIKagICDiZ+Dq4cqBaAD1AAUQBImaB5EcgiZB6ANscKrmLgrgSTYupMrXzqleqm5KMqQEIlW0iFTUvuurUoSj4JCDrv+TjzVJg37JXkkio87MNFkTWr+71EtlZGJJQ1xWKLDUpE4e5NAEgyFlQNRWA3NTPUmhFWIoohWXpwrYmZKuOFw8mXMyGBuptIKST5JhDy3mO1Kb3Y0nSIxLkJ0KhZ9CIlahwRoMe0vSJG48RRQXDdrVis60Tq50bxJsJ0vgEouER6BMHJcBK61tCxGeBX+Fdpo0BkBNUy2/rbLpGY3UJTyQzzCVi82WpRn7vdMoJFisojjXyrGodsK3cR1GlgVyAEndFYVZwVnnA6jCgQjG8RFP6Qln6VG1Fl41+cXtnl2LaK9/MlYXrHveq/Zcp4zoiukxLvTY2VOLHiW5Ri2qkuTFtJVtcn/Z+PJV9MG+fdm11VipxU9V0lu1W/4Y0+15vYs9ISbDEKbZWOfIbSVXU3KgV1tHry6dBTf19GTTNQgpZhM9ukYGiWTh/+rxBF7+qU8rZ7gGIltH0jmYul6B1IBFRCg2hKXe+d709BG+8F/2Qf33uYfUIxhcWRzyBnmqK+WhhoPQJvLaCypWz3be8DOn92Tcp0R1s6Ec0nyoRxEpHTLeCI56C8iYC49M5is/oKAbC6ndKVwjEDSjJS2QrfaJoLzPsYDrA6N8b/tlknK4iqjGE05ZYLqixBtkneWXSG1kIRX8fXEAvAf0g1G00mIvD8MZxdDKTgVGSaGZTYjgijcVVBWkfg0HENjqzgWjiES3ZEzqYjFESH9+ZPVPogJyhu7zjhZ7lk+39zHHC1a9Qf3m/aYOdA3AnWEYqI8/1cwiNu9IUoEkCh1Mrl9KKyYiDJcJRe7mEoNKJV2Q5IjlKb0J0VULuVeAlotCJSs3SUjJr0lIjaQUn4WUJcUrIQehmcsbdws+uarfI1oP/TxSxrYsQOQyUCy1Hc6b5Ueg794jyi1HHLhuqwtWEsJAu3MS1aiJLKnv6+IC5+oyRLrR9xeXZEi460MluVsQ0GVlLMI6k1sJlUMMmqiHsIllFCmJlP8BCwF318avz58r8Fk7gwSfFQCB0cIVK3VJahcCpF9XhomZ4rSkYyjKRyhXRUGoMBYOUxrE0uFVl0s+TiKLEOs6OBDJ0hq9xPUS2d0rLkS1v7OkuhHrrJWXNGpJ46mXsTjjikHvkX/GDorNl97PVM6NNTw47ShbY1/TsA8huihsy6gmUiIVGCNALJym0Qig3/CEKh5E3lN2oJi6s8t1o5WCEhO3LiVkbGdV2EafwoJ0vuWmzKoplVH6uXu2TE6ZAY6AVKCvBbvsQOEQvG3XeUf6KEp8V5jrBt0gBnAFkABSn4AvwAvglR7RqTrEVxYPsMeCFDlg2Aqcy9oW6gCO+ozZambIBYm1WunmW+LpO3HrzgEqljafdyFBKxzmar9rz1+dC9uAetNozWt4nucx7MtmwFtx+pVdbhH+jTsLCqG/9QLeblVLqWs5LEhoACWBSwfN1xxA2BJWFgY8wjo4iWPBRlheh+4SVoPAcUNmR8iQPIX+oveYVGy+Ha4NDCviKcX2Kh2v7/aWxAuU+nCfxsV2aJuvAw99gEhbiZ+Xo1mHyrN5uFFxTKC4R45v05ij/dTjB8fh/uAqOk6e4Z19kJce6jg8a2PUOcYeo5lxKWlw3zTu4xdhz0jMtQ/qHFK92DqWkttUNWtFeNEU+l3Ov66VD7MKZHAfwmSelqrfr75SDBc+zVHjY/8JNUHbz+2q/m4NRoTHwmE+pja/y0MstdguPwNVzEF8KyurUP47XWVqVdQcTgAJtqkwDkCRV9cD+TbRBTFiOBz+iVIUEMkEuKGEsnQRhDnSvSg4t5J/BLod3Ms/OK15YkbyyWpPb+r4CGFUJNWX7mTfgL4y4492chkPINW2JW0SEASJLtjUs4P6a5IyBGS5h0h3t0vcSIKfzEi6hSD0DhBQscDQhhCwFsE4RbILjawGLUcpwKpKEuL93AUxBaqJJmJWxsQhhyKPnEswj0BZjMRJeTy+EACJMLPCso98bAiXtsnFSds4WrKiUMr9RZwOb8pYYZJUKNyfFjGXIsXOw36X7pvGLnHnJr23A8i9IkBFnwBnD7FYBVgbWW0wkFWG0WKbtIEICDaAs2CghOI6rXJsmVsiu12PMrlIRJFfihZwIUH8vQujh6oRJgpOEOgGyTTKfEQxAhZBQ7U92dBY3zliHCeDbJnAfZTddBJr1Dr9GTsI6WOoc+pOUUwKW6drMANgAmbwAmQCsYhBpYK0BRGSkCoWoMwf6mZ5HD8W8mOlLF0yL3jUq9LiOID5v5o7TURAhiFVphRNSIyChUbyjOqKpaIPbliMytWFTKQo7ZHIuNZe9Hftwkd5e1vt1z8Vcp1h52Ez4dyFnSBV6bKYd+KJ9jAOAO1ngRInARQgfgdYWHojyY9wmGrk0ewMqixStw2cXUROE7Z2SIJaL0Tngvx0Vkuhe71ynlLYy/1ko3lxVX/H/O7silTZdF3icPIg8+dg9OC+epm1XN1y9judqjupvbpzrWRy8JJ4KWFTzkmBkQgZpkmiA4jhTRy4BsVTsyuTsv0m2jGfGZwS+1SkQcRT1It2ZmFpmNMm9dzbjej6dP0xsW3lPofqmT00L/GZKMZiUpVDb80Uit7X9UuwpuZ7Z3LYamorjRJVhc8Al1Jbkb6/ayEaRbP/VkFugosPwywmxOuYKzjgjFYRqJBucJDeMTZkgcmPCi1c3AXkdf4Zw/SsdE+r2OqXYeXEU908RfcY1iDyXY7DFJnktKRWUmxUc6KKWKgJAlHGhjpb3jnrp8pR+sDbi5GtoEPuS+ug9VEIHlatCZpardzzBjwf6SAiAcNmHGDs+N/lIcYHE4PCKfRGoaYLbygVW7ycpCSTcQsbm4TTC7/1M8l8bTtWBjqJtUJRbv4z0oUH+TiTUWOhCO4UobfR4/FpQTylqae0mbufT8U8dEQ9rNwcbB1uJ+1+TiWaj/3CZKnQZ2lOrUP5F4I4IEZIXoWFmKphvdOUg7icpEwpVDpGsZUhslesqvUUGZ1sGMRzqjUyQ9y0hDIGp7YisVxlZ0vazMJUFw5LeEgKrQTlpd7uHwZXT+fcKmUFCcPWi66bY0pkxMfZxsdNRFzCft9mq98r0hWiwRJkm4J+upBRBJJsH2D15xzCGHUKubIPWDaWgVxDulR3wfi29DFTOLkKKjd2r2xyZ0omSj1aSC9bH6nJztYkIxuTCVUEtMSoTl58XFxCR1FZ3lkhKtT9aZ0560nK2R34igvNiXpYuNhta6ronBwevFyVGu3mUJgiLPUWYjX+UwMgMw3zzAET67p5BOGQZSbYdysBjN5hgQit8BpC2O4qANQK1IJoazX7YhYFTufw8p7UxHpCKT9ajEFIRhuCx6HrivX8QmJi5bQ6P3DJ/zX1tS5d+T1XyWqxfC4leMkHPQlrRedN2syiunpN4tapTaTRNEUpiKjk9POvNv17IbBQtq5XVfMqhSTvnxO2ErpASyPlSZ0FU7XLy5MjZJUhixZVEQcDQVOsiTYuIHA2+VMCQIDRokkRJqS77rbWlAmRUpLMc2sOLSqyamK/CmZKhKd/7VJCSm7N6hanZ2PxGNxG9E68Sp1K+BDJrWl7/S7dJCpUu2hsjsom04+4bKiRwRPFXSpsSFRAsR4QKHhQQEg8QEGqKIveWppuXNPMRSZn2aHNXi/unkJYlrtcu5TTdbMrl2SZ8RDo6FwuNguZDYmdDZsm/nOW10Welfz6WITMU0Ug5VC+cTPWFhRw4JJCwwMMFvOPIGqEjBI8QPFEWhXVFlCmEOIGGvNL6tl686dYri94pMOSgumRr1OImRVf+rV1cVNjJ0yfVEzbYqVRTb6bffOvt532v2bW0tzUE5P2UQFpOJIFlhhwSS8oUMGhYSSHjTQWaLEniEiyTyjTAGmg//jFCAhXSgDpAOAA0QCsAIMAbLSk9fEOsH3sOI+MZwokGtQMELCwlyHMNFv8y0lkqqBP7RjZEi6WpjTz2nQWsv0L9pdX57L2r9hGGnvQQMwLS0QDESaswOIIskw4jHUQcqe0gQySIilaKnIvqVG0fK6yeVght4XCuCFp2OqS6I1Ql+dPpt8L/HqJ1JLUOt4mJdAlt06j/WvMt1C1qIKWJbgpkaTiiM/Ogj0oUK714g4gSRjDm3kCOhU9BVke46si9w6zC/Vh1N1UIctfZJiY/Li09Xetu0zmpSWiLvLnQlXUp8l6zHJyhNiqggEzinQEGCIHVOGas2/9BucS6JdRJ4RrawxhDk6mCDGCosDcyKjHCPEPlb3lEVMOWGrccj7MiofhJBcJsPEDEIO5TAjoLSEutkXERJNKK1CBl5UNDFSozfiCiQYqZRIMBSYh5vehH9tdSSp28xmLXSlEQSonRiqlrVFVlPdaysZC6pnLvCKUlBPyMSkFiDSZrpxoYl2VDMkVMYMVerCBA/2CKICwRicqQlGxcgKzY3TSUcMDPTuJQIVxIeGObNZ07EU0VPmSCMrRMJ1IExIr4wjRWOZKybByFYGP+IOS6Qg5EZHpBP0oxFRVBnStYZ9irZOqOQ31FDLmUSXpxNDgkxitkI4kjKQS2TMJfjgmuHYhwc2Y1EkN7IvKvsicxn1NdmR3LV+KppCh4QtMMiQ4EpdZyNDw5JSl5yio1+7hXYw8YFbiVSfIcGLxzssI/p9oOExy6S1blXr0TKXIqjEahVuTggalZ0IaDI1CIrIypy+ejsJm1yoMCaACDFUwApTMdG8fZSWUri1unZb6C1r/U1UEoHmHBRgn0Ay2zCBOU2K2vCdBfAL3A7zjh955JmpGhg4GQk4AgUvp9zH8lPCBiMQFQDu/C6d+KaNhpwISVbKCbyUSKwJ9Xzat2Gxaf1CvIQpdulXRMdy1VUJkTJpQFKjKmTkXhM8yMjcoKh1rU6kODL6xL2milR58Kk20cvtH0z5KZ7VfteipsZ/MbCt7Ti//gRgoMwQAhOzX21lsVzTNmKFI+BQLmZnQgL5ROZ3Jr/5bYegVBWJnROYPiC4qf9Vx34Me0QkAtWunJMque1FiL8u+WnhqLjpNoxLT6itOvPl8LhYpdnnMbikLlY4s9R4frYx1tQ+dzVwfymUT+pFhuV6rXidQfBISSFG4ODqFWHrZJRTP3zjGYbTgfjhX/hxTgySRIW2nZHRVvUTjA0IrvyDoeGMU3OfOg25rHIFIembnOsEqY9p+W1I6FVBMwxXfPp8cEBRIq+5Td7vWUCZaoJ0lStUUc4qZlaRfLb6sn0qXXX+Gr32j5Y6AWyoQP6CUHd9gmy7tiKw0ahyUZR+E1Klby8XQJ0aZUym9hwc/qehyFF5qeWc0ct9PFhvOuuNBTyzYeTwCZgCi71apbH4joiXnfJ8Fksdm7WimU/u3/S4VlHQQuca2RhsOv9oaHI/9v+yZXql8dTnx0683Cide9lrgbQtEVhTYajJY4gX7CZjuNIVNgSAmJFkNc5jYQZQlp7i2SRWS0olAqFoQ8cUkEFTfyLbrnScmVDwPCTHaRCMZtaVDY/lzuzNQgLlWQ/KoJG7V+XhUk1A4kjOK76olfeS/4m0K4fGlYcW55Bjw0Kk+c71ojCkUCHHNVBNBmnALcxFCrVVokVSjwx/al3XweviR6LlGGtaF8JwawPWQ2IbGO0WufdSy47v5oON4UBULCiwYj15WWsdTE4mQQ/ygPjxtesfhdiUzLX68GmcUGLptckKGsvpFdVp1B5em582RpGaxel/YReYyaQp/PSea4yzYqyKF+2sU1F1jKZjzt4gHONH/82Uza+NkEghCS54LndGIn/O/np/GqIuUfTD5pkfnaohqZZVaD4vrfAlCByx0s3wh6XOmSdVX/XmxN++/lUVN/FFzI4dTargbHIDIJYFxKAO3NRDz7JjTQDSI2oDQ1QvZ7HSGviOENPKqUE9yEUTtxWIzKMy2BIC+LwY2q6oNxtdKQRoKkuXVD00FEv0JngV9ySKEW9VlasvYq8TfIW3v++PGI3mQsbs7PWt/s1VquhRDGEGrE8BsTC7FXQikRLAC7fTLBNeSMKHPLq4gBWqvro5hx46H2Eh7cBBkBWH8raPpVnxK4j7WUs5ST/0o/J2JyHdvrqNJdpX72EZZYdzPUFVaoXFW9/29KL66KZ6ZWWX/zWkGap7kMCYaAuZQOYE8mBylKSFkgPFKk+RxjDGixSugnE8idKc0+rtTM0z0bGsAps1Owhhakzk+a6qyAwaD9bzYRkSsUxbF5uqki9hPXC3/7j03FRc1K9jqivKde0sDFM+PgaV4TQg3yt1XxmmQplBcVRpoAG4OzdC3zienddQzyBfHgNZNtdLObeJt0q36Mep6Pd1ol/Hkr27eH9s10i7rxiui+RTnfyBeSR7nUEbKRklw6nDQYbBksSGgq+trYJg5CrQu3l9eL3W8kg5OIX6/b7XX4WBAZrvIABCJpthRj8yeQv87dvyufgog0epmD4Ic82Oz4wAR8jOe6VYEA4k+WATOjalSwOhVYhVIRXE7EWyJnHBYfPPbLuShrJsJFSUubUSiqhd1+W7u7X5xw1HPxKZ3umkN7qniBLKJtzIUA0K493WLJh5ibxlSQG0dWAKEUySThW5fj9Msg0U89+IzP6drZ43pLqnMckkGkHarnmvtG6Q2q3oBwfqi386nY/111bY9OnfcfWAhx9bntX5B7hkvMfziu230MZaDABeEFKEwA/R3s5tULvq99mkFQ1BEC+7LwwF0XV9MshJiOcBT0LzLhDXghLkxVSCheCGtZ6m20uN2PcEjBkw2sV8zq7yrz4Wm7F8SkFjh92NdafbTh36xbibd4qzmwHyv5LguDdUZTI5afXSi10jIIBE0PZ8IG/qR9Kg7u9Sz9TLbp0QTouZKq0mkx1w2MuyxFmHS00frCxh7+UMrpayn1uuCJ/aVsg/Wkp2Ft/NflXwkeq6w9JyHT5L2D4YnoK6NCXPOxhImopGCJZZCJYtmnNZxrqSly9UxOmoikWqHzXWQPLV6PeRSrMFjcTlBoiJenqiq7eUYXmNJhU+kXPVX7qyzrpHXUHS800etrzlg2NDmfE4dr/m2qJ6IpN65AOzsrQ9DhpBavV3CMv2aoRNi4LMAoVVWLicgOUKfqqj5oH1RQqmX9l5qIQ7vak+2PnXCeYjQkIzPysvEcKlKvvVLF+TAuIuS4MAqyX2i4phOrKthoZPHIyWXu8LUac3aKcCb7Aw6KipPYmd3M+7MI3S5ULLUnC+EKERqWIlvK86uK7657y96LchCVl7NzP+nbkbxTWmCBQZCIqZEVm0T9t1Bs2aBAoIGkk+dLVeQxrUQWLmx9d9dArlkJeM3UyCM2TeWW0Rs0b0vVoyONbFNzlrOn3M8TFWxL0+xKhqa6xFcqFKKCJEg4ODwcVGCa4JUKgkJHAWWEA1Vzn0xDBjqQktncI0rOGCiWoaIN0zNvi8h9W4VJrx+q2t0uKlGW4t7RLSRrFqh7fSzrN/BOXWip6cNj5N2seUTLN3xB4RXXFXDDNVUZI8pE0kM6NQhRa0JY9bF0VEG/3kxVnBV34y3vuaKp3XNgqbq6Kvn4qzKivBeoPnc2GwPMNA8cKNNXBoEzSwgkDRgaENBS484w1o895tDkd7WZKJRygl6JNLNF0O1kz8zIT+vtPOzeVxUibE06CJeiVG+DaqgVM4bCIeGxazjweboPVGBcWaEsAQmFqCQltQeOVFsPJdv5tSXunttXSrVgy4XefRIRwRSFYWMy+XquJ8Ll6l31RWZc/FUbkiR2fiRR3AlwY4CHxIQ0plAKCwiBpQoIFMCVmgWTHyRZUw3PkUO/Ym1Cd+Zkmjy8XbF7G/lbZzFHKqYTfJpss9s+fM5NzVVivQiV+mrCWxAwJPtOBL7ETwSiMOHFAMJhB5A4lFYsu1qLEtIWq0j7CJI2pe9VCdpv5n8nojNe/aHc8Se+9Cp3S1r+aUe6GndHBfWgQ2FCcSLfIkSRF+gUIhEzMpTB9SkYWPqqdEl7Zik62kT1UGO0Rams+SfagnNWkXf7R7f6vZtrlVeuuhPRuo/kiTQFej6WUWSD2DQmDl0zQtBFmEAIGwgHLzAc14QXA1NM8p9BSbGS1MQ5z6DbC+VL4nxWieDd9/m3pWLaLrOzaJPqFcCa+WxGTJVMreSsXFzjjLiW2Qto8wsAgcuEHCpw0uxcWCmbApJJZMp/e4OuRiQ6UQ2mL7gyq0I47lJea8kf5I/ZVRRIu1F4p5dZyTqudaKyQvgksieqlZD03MNLceMJIICHyRjr2JuYTPUgQoljzS5TMoI0nOrjLUdzyqnl29cp2Vu31FVt1Vlt3AirYiVRF2d1XhIFQawyNNsmF/h4ZCBKYgSKEFukrMJT54UlFBTiVbmISId57CaBE8nP33P4RSSc13dPyV6jHq9Ttn3USa+TbsRHMTcow/hbKySqZRdamjCxQpYo5ZaiT1SBaZYgeUK62SoyuIw7Trh0p4tWE/j4170+k+3vP0SLseWNEpJNJJGn68CwwFncEoKK+NJ9EGeJNildDECCgp0tJC3OUMZYk8i9bZpstSnEtoOFTi9tbYZQdUL+m6wqojqRGa6vRPR+ciNEf9TdsdJyb/COxJljzb2k0rwMabCH1BZsUS1osyQlXiUiCEyk8SO//jFCAlQVgDwAO0A4QDcAM8AwQC1AKsAnwCXAJQAlLSi7lwKgB72oCv/r9MJ58j9GA6KeSOTJHow9nAkctrtaU0vH3432icJiAWoaPYFvp79vMeOeeYJQgFmONFeo404qVhB45uCtMMYc6QEHikUQlhTlcO0KaccJVcU23HkdTqeg22XbyBdolcLTgfSUtgLYJZ/0jDWGkEyi5tySmYUkrSPgo0cJBkmWEUpjwINwFNEWGLDCQgoeCG1bFuQ9lRtVBBaLWJd5ZBZCa2YDzC9Sk/BP9KC1EGFuL8ULYcNV38YWIdJUeiV2hXMQURpQ4NFRxmqKxAqiKh3o1UZk1MMuM2ph265an3JBc4l942T4g25r6pKINIGs5O8rnjNp5k198y5GUcleh0ZREsYpDJcI9TEeh7IlA6BHsYE5dIlBG2d8U9Rs3iXNch7P3V/vrQpzzE1h6vHmeiRScZ6SGrMPMOeghLNUpePO3EBU8hCaSY8h4RJoQ6lnf1byi3XbmOY/pfsIS5CkX96ShpRK0TNIYm16WmKQ0U2FVqC/gvOzR1Krb+3q/GGSIl2F7PJQd0FMQfiplSuarJdDqrLQwtCjlphc0piq4uVls2iERPYJthMKSr/7j1U6W5pLPqYJETBE+rD0T+LEWVTFNjLWyZO5n4QW5fUW7kWogQ0hBaRKcQoYI3PTT31NuO8r7XptpZWhEeRpd22OmppEo9RP3K5KOulH9KSEq1XS6Gp+mEKIuzSDWdIxcZ0LMcJKNuKgxEKY1Mk7jKdqMaiqJ2UqcocepM/uJ+scRztWSZdyM5zNfCLRUTsspko3l6pKMkxfmEu78+PaMgjWafi41GMI485beSpOUVzWKktAvO/BHbZT4nHqksd/KQjsNeyvFXf7xRGyhtVy+aYjxULYtnyyrqryHd6H1mTlijVUXX2U6XKfWrQW6GTHaUq8SmWwI13bj8Op+PSVfA7+RY2X4UKpFJu3EqlUsvUqsthBE5krJireCsxR1pQlNrUzR0pROREatdqkUpXfsrLZrFHa553/wm5aIIYU798SJQBQAJAEA4D2DmBoV4DQDgEyCiwppxgTzAsxSZKGoU0VyIyvWhOd2Ga1ivQZupjFqZYqTyK/cTs5hjqd2l1C7deIk6KieE7TYOQUVeyJ+ZIUqevqTlUmmbR1xL7xnKwyF4n6WQpJDlNIWspOWSxGECLMP5JpaFjqKGfooPRRNZ58ojMFXv4PXazGYEGbh7ydqlHaZeSTUzVfzm4r+6iq34CeaUgIkgtj0Gufl9hGGNOXRaTAaDBI4NAcDQKJMCRwJFHrIGhlqsKHmUklgJHGlUoRzThfCa86shypKxZBOyutKVRFkfCrf6VXBxCrEEwE1CWFhyRTxD72L4WI+XVCOZRaLP60Z2dGqin33svIhTNQnLR+TLp9SXivdeahc7VeRnRJGFZxVEhCcMv0XlM840GaHQ/OjZwZGJO/Kn0MSGURSHsF6MJAiMWjlQcEgRiVqLjyqgaAlaClQepAJqMcjkK9QIoyzUN10IpsUMHY1CFsqpiibRmwrXkZyEWIZ+iJdtemYqfjRhCkKUTUZcZfuiKidhw0XeMvEKGVxLPqngT2O2chiIczqlrExJ8sgkojIqnJQkZY7M0lR0XjKYSfHTJcsRq0JoteKCHMiIIKkdMonMmpllQj0xEmW8yIZTRxh4RPcDdjdh16kIwYt5VX6CaGcQ8lbiFRjjFwxxNrUWNEiCfhisUhbIRGJZG6z6GhngaWIdJtokQ26IqjKqMRqjr9iU1J8oqYiE2UnYYVCCsQUzSpiOik60N9BDpY0VSQgIUMpUKuViETghdEFiRFMhTExGdV6OJtDa2aui7kVggpEFa5F19I4ibTsXKy4mqVEadEDiZ9USiRSCmHTmqNoiiPTcobr4VkMT/keRn7M6JlEznEdyXNiLUOb0k7RVEXI4RSY6YqIk431IecZaIp2j3f1VMxNdtaR6LzZmKSzeRW2dwALAAUkA1QCngWBAQASOGNCwygNCHasRKzIXHYLZ13RSeU29IXooSREXNXyOXSkzicnpnrRtI9CZm8ZLPhVlI93lI0CKqBRPbCFA0KTBzbyEHMYVhBfsRwlOI6mOGHEONMQ6WvNDRSfEKQsmmiSt2MWqjKEFiVEpFiewoj0TZFM6sSq2JUcn3Z7E9yakTJFXIUEPggpDCjFyHEVCOTZJ4zpkVkRxj6REKRYQrSIrdCk92yIhZrTO21n04kTO1sRlMXjXeEY5l2bR2jLW2TQqTdjF2b5vbE1TMpBRljczFNYtJqEfpzFJlEXTFCcixIhwhU3JrMi7T5kvM6UhRPCFUTs6ZISslk+ZzSNnZGkqQi1DmI6M2tlastREVqIOMcbOIfEVqtGhvsYU1sT1sRMjttvsuIcJzPBihC4U3NZyEu2iMVtGOyfNojTFIqouDXsVEZ0upn5HEUI86XNu3COys4RSLCI7KxnNZiWSUCD7UQtJYZeZ8IfKTxU08qIzk2KIWPmdBhzJ3Jo6OTKk7RYRsgoMKQjKrWGiGnDHhFZKQps0dmoTZamVrxgoRcpFzV0FT5B0IURVYcRax0rFSOjkVhjbUwxdotSrZsnPFEq870RSM5Fke7lnezslzedKOeUvsoSUSUmU5HqJ+G1i//9tspptfJO0SomWDXE7CThJx7JXCcmFLCjRzMIQZAKecQpU0N132VmGnkE2lmENnUUVemFNkWkNsM9dcFuqWfVH/X+1Sp1aUTk78rJzm9KRUlQKokRKYD6FeWipYVSkZp4y8/ikk4mb9z0zJ16KjZVpp54gVb1prF1tK4sKkEjgSPueVCjZu/W2Xd35LdJ02QTaJEm1ekC6SbOeSeYhQzwGY7Fv5WCEGodmf79oBkJCc9MgCg4A5ApMATBsLQ1MgUFUatH10qbKzm9J81G6mqWyPOLgkJMv5/CzbPdV9RhMXQoIHCaM8aRse1CyT0RtRQIEBLS+Ex4kU5MGX3lFijZsd+1b4q+XjvTS+ylFfFkom1TRUQL26EL5SCkfiGDXsLgZMp7grQkfur79gE5U4lVJXE7OYW/TKgxK8vlgZLG+b49WecB+TtvuA1M1X7g+eIcHdGr6b3CVt27kbpkwpDomSKfIwLUPHuWO0GVirS+9/HVUXVdU2cxm8zurH0rnmuxB8rkFfFgDlfGcJ4jBKamMbxIIBIsMt+nabuC6w21rYyl33I91scWPQTlSjdkcuHGUgbN/mo9Imv7XZNFDTO0RLf/LEoW1WQ5M0dFSlYvWpVDEmJiAiY5ugSGTb1y/l7Gumdhrw381i29rJDGUcTq/qgjCRnGt2HQBcO7min38fUGQ/aQxeR+ur5bovMqjYMXZJ6BfLDmdqHpf2bkeJXXnaj6x1Kr7Y88ylJj/M3ybE9FxU3K1nBJYaJrJy05UHAfVRKacUjrSejtTqSVTKID+1qTHxuamsM/bpIGGrWDlou59Y9otN45eSuxCrVhBPKAXpBrQDy3H2CJaQphBOcRvc6COqEyB4Bf/4xQgKWVIRVhMZFTAVYBO+ElESARG4D/wNG7QaBaGa6D1igc91J8cGN9mM66bGtSyGMl1qxSFRLVE+SZQmGnRSvFSlvys/rx+PGja5adhALZ0EUXRlPgwCCJw0uA3kt2L7ixLbgy6CgfhxljhVOXFScjc/WTKWktCd3H0TsJL1aRlHWnX6qxZlyaoRPeIkKUs3KZayB2qZ6oqh6IndAiCpHAJLLDYKgyh2Ng2hYOovnYgHcEH3M9fEO81GWLLJsWZ8vs83+fpAkiq2Sg9PrkeaU3F4mHM7iobh0E0TBYFUXjuQRgeigR0D1VdxT8svb8ManYyJ+fD/pth4/skfqKU090SOtpXM9ToOxYJFoc/zFFOKs0USDrJEYu+zytT5ekkk3Vp1wYBFgUU+JQjhSCaKwaDuOw4isVBfaCGtYW8SJUpUQKVcsRQiRN803WLFpiD3Wz36ujP/19wPD0LR3E8YBRFkbxWFgWDoYz88mNkTVJrf8xQsXKVs346slY0NXlStcsLPkVk2pEZS/kR6MS+TXmj+e7oj/1ZZ1k27tJJyEqH41ruxn7h6dRUpnmpw+VsSYhEhLkqCRE00SmMxxkkQKsrhzdFp4om+dRFKeKyLDrCw+7XVQUtr7kbK46D8IxQLDcKpjF0SzuPxjCEIRtFokiQvnlSq7Vl9hlwKb3d9DwTnnNu1RzBIjj5ienVMsEYxNplWjCpKzg07TtWdIe7r9xi5IUKE6Qw1qKsE+/ybK/ADFYjlXDwzSEYQnG0ew0tYIoQzUCk7jCeTsYXdC9nHi7PSb6XOEw1mIc7z7Kttka+3bkoHCr45gbjqdkEU3jOJAhjcbBcOxgNhPfm1qR9Jqz6bx2bt+pX0ybdvk8e6ElEJVch+UhDNBdEI0iKRiMXk82oaJh/eGInHJUizVN0RIyRGuHyK8T7xCjHG+6NX3vrmicqDEbH0DgrAqhdLAWxeE0KRlXjcTF5wNG0ULbxS5erTF+Rq9Mc4TPaat+Wnyydknp9xOhPHE+n8bTyeTn4hiexGpleGFaw+TMsufWLlSaZVqNceaiYaBzVVlIQmksWRYMA/iaJx7L5+OqYZ0dVSVKnZX3LHfJUnStN8ux+mKK0JMW4Q5guzyfCzV7gKcK4NsRh9IoOiRPAFZHhvCA8DEZCWMrw94tXfMgatSmTBzzhVLDEq40nrn7lsWT6tmdSy6cy8aBGN4wi2VBFKDwZDavXh6Cvi9VM/qjSfujfV6qeBRdTLKV/RWA8GQ2nsSBVFguiyLRMM7ozCYx4u2x9elX+ys32m2CyzPLVKmWMVgmyPVtjtx74Pe3c6w3JNnnsc4BKV64E5ABlJJQDA/1giKYhFmt9qNx0u6c+dETJqF12g8aCgYM874wjMtcTqYKhRZhjWZLLzeQ1Zjqq227lB1Ui7XpeHNz+e1jZvpz1hzIngf0qITARAgooXyKay4pSia0PReedtUqPn6tCxuf8qO1XtSp2G0eEkXu2Vub4x3yk8xWh05Y2ibcOIZbhAdhVgzFezwJplhMZX6gk5HE9w7+D0et42ferdNTt/ei4/eyluQoZLMYS8n9VcEZrc2jKFVR4CbRUjtrZi4l3p/XrPPILdQIGgZjRmKHSe1X9JVjF9FeyYoUw7KCFzkBURWJ6q649Vktf6i2Zy/zl/P494Qd6p1TypMozzvxsnmUMDrCPEaaYOzPdvQIZ4CkEs7wNQBzgGg/SaH4ChCOYNM1lzWz7b0DRX2uNFkGXQIRY//2rvbev4eDMRKVM1R7TqybnSR6yRfFpp5P1HS5EIq6xum4ygk0yqODaJyaJ5KqoU+u81mqR/QHStCFSCfM2wbEUE7G6gvFkUsyLK/vnYa+ksq9ll7R1OmfXs33QgnU3uYDSXQLoFmMgXw/aTwBqlKdxX9LWgfQJyLkir6iqM2RwRcmSW9ewaVPlTvRQZM1WbpvVuuHNJgZbb99hr4wii5q+T2K86CWnJ0uzRVDkN1d6lyzXuHOQJEYZwGbrddSyCrdDtlFnFeE1Bl6ikSLzrjojuRzKIyZmFoWmWSE7sp6vkaltFve0HJpw8np4VZe2bbj7+sbpt+sOM2ZhQ19YFs9CT5ZD7tqdiShXufbBBwXYroYwKaXoI2e6WH1MYUlfhUfFjMIuxh4U9Y1GR5G3X0k1CeBw3cus2mWCgsAzrBxCU2ijJygOAWDYQGzuQ1KRmJU8StVag0eOhWqzmMRwKVfzHAYW3DpqfKq89LA8rWlJpCWNSojdZW9NMmWSlZbiUEKZGGpn+4GjY4JB06r3yHZb9jL+P4sqybDtSfIUYW1uzsVcPdOkADhgkhXx7Be0cCjrldjM6KoLkIyiUqYRcp4ibcrIpCHUE2abZrLWnYU3o5mTSyO2G3uPVMF9PRvYKiTGP9bD4fs9v/ytqzd22HDlg/ZhSeLgIDwjyuK+yVRndc5o0qqTSgRNDWIjSje7EtK1OJCZ4JJT2nlS96jVMlwEirdFPkTVwnfFd35qyUO5jdGuPKiIoiVg+SskGBcwwQipOiiwY8akRsmaoFwmTTv4yJHuImhX+fT+1spume8uuWjrAaerpfCfnJNZueHY+J6HUzVAo1qd6RiMcp2vPX09fKvSRXiqXBQIKIxIVAQWVQFCpFB7M0XiLjSy+axTTDdSC+3854c61azwdsnCcK90Er75aLy++CJurIUQ8Kei+jOL5xSBtBAZQr2kFwgpCg15xj7v8Q2Dm/fxg73GB0INoZJHLBuijHls7C8z8UukQWdRj8tZB6musSceG8Kbf+BfZMlEQ7EQuWUKDum+M2UmdKBVSUnKpNRZUK4vJdd7c37ZdYsrHFdDwhCCbx9kNTbbqiGnHJT6mcSNufKK95u8K+X4CTWu4xX+m3Gc5YlmXJOw2spGMNkjKSnyX8KwjfiLTAVtrdl5PL3ErXlxijXCxos/aqU1wHbQWu3jyUHDRCgxDk77/3hm6+vdUWKLYyutRelmzl0pKAzvh2NFa07DR+SSjaQzglaZYb3lZ1ybuvyF1E4yGiWUMzryFm8zilNS+ct19S3XyViNnZSg1ce1dca7e1ainFi8TzFWS6VGYAJCKVPY58KwNR7nmqRv0xk4BGr6bsOcH8fitRi5ZbCVV2K/hwF5XLjwsP8jYBK1Cjb4+cpdFsnkt5KQmJrAt/t0le10KlK9arr0Jgjkw9vvXuZxYcPfZOh5MJFJiiiFchL6soLqSupukyY+swZ2zop2VjaGhqJ85Uznm2ZpQkWC9H2InmAbwGZVEiplsFsfxziDE23y7dT6UQnmOgKIPwvubpZffqLA4+3p8lhWJ5YX7ndqjj6hImW0XU4ju7NJvYHBj/aFYZm3PfEKaD5p0rmEqNqojeekSyKo6l59YS0oOzM/11C9SSTi80cHwvdWKV9/CX7isCRsIFo+vkmRomeHOwREj1HicYNoAGgwpBEiOjA2CJCXeoh7sEmHIT4+lZx1IRwWUziuIN/uCtS+rRZSy0lFKrZ7jDJNYqKApTlWRnEcSjyITRWIuauGi2ul/v3dmoZkqoKS0QFFS1SD3Sqwp/8kKaLJiXQyWJSH14/Fb4kPhffgUKx9ajEH2G9nsLTmjXHyr2V1HSKnzcteWGAZouCA7t4uuZj8s+9ZP6eeU2UJe6FTzcqAJZ8ecbf75aeSTBlqVdJFNeCKSVyDBRqNjnYULCuX0Tg1j6LN0JATZ4rN4L/zr0qK5mnExieZu4QTnFZy6jLGkNPrCuiSh2h7apfG5laGVUDzERMCHZSC42j3LLjjI+JXq7XobigoyLWy17x7y8oSFeAHGpdB269ED0E0HncAK+xBwR3G0lLiNXjnQ0mL6PrZ1YGORSdcqlGRrkaS5QXnLSg/wVC5MFjPkndTeaW1iGFRXT/Two4sSAt/XiZZ+EsNP8ixHqU1JogTeoKBaP2TTxwXYZwl0RQB0ZVOLDDJ07zj1miiFNOuuk3Rc87dMEZMSlS03HFG9GLT0ADWAFiH9iEpsL23RLzNBFSfHdBsQhwKcnBSzPBS4cNYYdeC09bGb4QTWinNL8xfzmJjMjEmD494ajTCrUnVm5WBGK1AZAuMM1W7TgRgrrm03XPAq7HW7ispCrQNGs6XGZ8K+NNkVYqimX2wEW6silFmM2xHIWjZ01QLublp3mmTE25F90bESX+70b0CjkHGBAB0AAKka1WdWq4Y9VRcHHVQKv40cAM5sAdX1RVm4CjhcCjStN3fECBoCqDb3GWCorzcAogzLLru6VeLhTjHzR1WKRNTGgMs2tHI1T0V7MEtaDssNhFIBmK/KNNYsg6630BJCCNJ04di5GqyA9aFRUkTWyMYyNyLGpWljtwW79PT9iyFJaFmRgTepeEjCvgBvgBWArqbhZjTgLeIMV6Qm/mpNEufRV4fiz+qHVjQKhe7bsFOrxkkNIH3dgneqFmRck8BdfdKCXYreMgSAHUAtvFXhUC3RoxpALljHw23MAzC9CZKaGT4Xjk87WMWrQP5R17D8s0kKqkhlj1c39OpBGkr+2C1aeqTazNt37IdsENPGNDuwfY8RLXSe4R0GDC6L887Qnqfiqu85OUIG6tXJMTr/4FnkOpeCWLFk1lrTKZRUgqzN0WmTXSRj7zpTLakZGvA+v8JNHUfVyZfmvXKPBJKJTKlF4rXMVUaNjEDjCHL7eOp2cPnklmvkiV3zOCqaC+LSfvwEPl1XWuSsf0U1EhTmBM1XcqFYIC0KZicK6GLC3Eud/CmqbgWkTscCPoKnyhutsNbPB4jzt2Xr9d+aOZ5E3pqFQKmzZALpFotPGq9aUrIml/nJNPM+dgaJKZZPOBR5XvpFaKjCfqSJXf+3WNXXCaLD72JpfjIjqR7b0Et05FjB4KaeFq4hYiUt4U9RPaJuVS+rHe54s6NpsRWWiuH3e0c6QkHqiaJIdX/OtcknsJyuSmrbS7g8SwQFEIVkUWq0GqaFQDrulnVixbQaZ9P12XJNS6lEIjXSeGcI9wFUL2nFs78Hiqvwzyg9DzajWT6POxRtFRCaC7Sw0BZ1p5Qzb5E4y0Vrct2Uhe2oJ4/49zNFBFNDMT7C6UAgli7m2ktRTmoLZgbgqufJeKPWdXLQd8gXg/qahciEHVkoGPiJCSZXhA2tJKIeR4E0qHgY6J8iu5PDUwojeGKftp7L1YRWQSimWzwvH+yOEoJJ8kWnduIyT3KDcJI0f8mUqN94sG1gksmmGIzSyhQIpdCV7NpYYhHvkI02fBSYJrkbBv3VnQV0ETD6krnr3C8ead+nKS0TnZvJ68yo4xHO+TqvFPaGUluHOPFqy2Gfan0p3eFZRVKUz4JOVCWWBUX/kW9ATMayCW42tyRoD4tZRZfojKTY+9tPHbbT9R2lYI6KpduvVjInaTQ+IcGROKN8zBOi00GGy3auKTJCAmWLTTNaj176MFzPiib3h3o0OzMB/JZ3xwj1WuIUx4mofxQyPPL8QYDrpg3pxZ9Csi41ojqiBlpAvidSlsXJNoMcTJSm97S0kVj62tNMLwEC/TiM0NUon6Vg6s/V4ZYwKlMnyTcF5kjKVF482VFibVpRI+TY6pvSXvIQbed0gjnqm9YoIySSopJTArHgj7T5yqJZBviGcOZqsbSRvylIpSbUcL0Q8IsUCrVCJC2W9Z37lFZWT+1FUXKJvRJsbwhC8EaqKlm0JdIJTUWTm1mC05Yvoj4sXLLci+p3dIELwEiZLKLjxVZiPL18msQncQIqWmeKoZTEm5LXdtjM4Y3z6VCOHP1IHbJ7ehJhfccweRgk29fKUkwzbdLw/qUYIUNoUR5hPdY34wT1hlJw/RIbJLM2SI2ed8wTWjlLuE0E3JSs1n1or+Lll6lFcoK9aVqsvgoVUfzdFT0raR12F32r4QukrC2acdSivq6iMpURJM63i5FhmEI9c70l+vIXhqv1lUsepVYn5wq8SL4IE6kkcOK2p1KV/TzBEMV16M2Nw4n5DZSfWE3MKmKkxDsXlUtvb0JLlKXcRu5uxhVTjLV5atLr05Jfy+f/+MUIC15MAEsAVQBfAF8AUAA6ACa0pt0kG3Bf53lXd6DJ9e9PEkihxpDCKLZFFWeoJektOUKsf5PuS6p3tZGFli1pZXTbXj+3Nmq0Vak3idYLdKQjBChVsnyR56SbKMYBChA5pQ0JLF5RRwpgrC4JPXBRwooKYl9F3WSO56LHFiFu0Lp/b8mpaCnYx3K9UITYlyFJ7szc3VEqlmhTjxS5JlO5vaRX9xR6J5ON39Kw155JZaM41fQvBRY8k0tuu2dpuYoGrFCDKgnHw2Ho2ceLrdZTXDPTa5ppF0hyUy6zS3cMEaxN6padtzRvY8Y0tinNhXSq2YCUEBnTxHQLxUqBCdHwztExHNYaFcb9mLS1U5NwcRL0MDn2mlp4jI+bNBUD5llRxp9bcD5WHSlEv/SOtmz2081N7xtcgXcp47ciqJptDCbOcXjzKQag7TdAZQnZKtXorIkG5SqrELr542423MXraD6t8kULbnvZFDEG9AwRNeftEvhOt9YVhvSzdA0myjDrKKlSfpHdWmmtTHLNDSsk1d1BkVlDVR55AY3IpdTI1YQq1yjKiioCvlLww+Xqkg3ymBCzg/kEt0ONoF1zCXeeMw9VUz+xqdEZTgDC/hyjaLE50pyaTo92NWq8XjIGitXzSfp2TtKaqQET5p2B4dwXJCJabmgYa3YgXfPC1t7/tCPB1XhqRvOvbVEDhjsFEBAW1Lj1xV31EtLFzzHTAdksXOWlJCX5Ux+vRTShjVkhW0vMI5tcVQwDYeRa5zjqAHSVULYqbshTNZ3fo4jHe/yELDCm85LhRe/yl9Z4oqQWv+gbIgZ7qhE2/5mt9o07P3GTkCTmKDCQmAkqnaZ0V3bT2ij2/H5hWw+dtWvETkdMFZsTGJyGSm5JtwlMyZ8srtaxEbAOL/LZ1WiKie4oVIYaLOKl0tPE5lQAx0KiT5I7WthtTGRPImRQwQm7b+EDotdRpBmplhCZYynymQrw62x1TRLaRJotg51YkmefbkeS4jG+O++fCtzZcy/nKDzMtwWOwBSzE6p45rgUeMoy/x9kyHWM/5L9YhImgssVO8/vpUrDtNrVJQRTFxNeEc4Z9WIPcIulIuBI5cr5kqoOqW66Ud8W6ZIcE4078sKnEq0eCnCLpMlbUWISkeRlfP/IhUCElk0Q3Z4Ls4baiD8EGMECWLkXpmeTH7wkC72ywuRFlcVQTrk4Jw8xvFgDfKp3L0j/p0FnHNLHtcODXLGlDbIK4LOpX00JEivYx3NJlessBc36y8XMt8Rjbelc1UFtJOrbRPvzV2faPSCbeF/A6CNUU3E1iCg5mxKgidA4NP3YBsBpjElpVeK8kvlBKFcUiIXZOUdriyhiH/FWD0DXgqdJ7AzdvuEyWtD5AZM3agi3rfna5/QbrS9W/0aAiGjHCApwjL0JA+k4ZTQFFgN42Ew/pYmLghkgnS8tVbTb9gmGTFq6eHjHaX5zYEyFdyPwrVOsUFoXO1s4kkTsuZkuf/vj/tzat8XnLu67B/t40/5vYjgppS+RsojHGm9ElQJujFJMoTJEmTz1NZxv4TZfphJuY+/KLZwK8e8j3EqZOHDHO/+CUKV5rhNL2Kl00lr46r5BQBSOCYZEaQnhZpSpkkHOxSBY6NsUyVqrX5rkaw0aLlfkuIc6Sljj1dF5auxSjR0zn8xIFlvkkKQrm8RA7ENwCkMhXQpOERcaym0txAtZSwfDGolLycOsfGnyZ2XndGaQPJu5FBzaGluVnxW/1I+trR2lpS98hY295eVQ6qReKpZprskuW76lO23ajeQx78p5/0JUTmfZuqAPikeBSIJbP4UHJ3FEhmtwOpVVe0SEFFV6Wo+1pknAb0l8a0f3wvLfk0Vk2ULkMllJakJLULBNlszYSU0mG0urewzhHpsYVwhkkIIwktPL4BNOAWW1xr+Q9sRE7QuIbu7QQEbYpNR2DNQFYLiQgCAClQIBYSn7EJUqVkP1WYzQ+iOXIZB8KWwguXTPP0NiWrkro6zFCWk1UrMPLUhrpVjbS2zfVZxrQ3c6iaT9QcUEY7QLcSsKscXxwLuSLs1xiU+aMIyYF40EbVmfDAREZwXujkfHaD+vHK4gNye6JVAkLNCpmZE71N/6nbWHWbctU7G2lpr8FPej8k33JQVllioph6t765lFPOfsd4IW31PJfM41BPUEW828kewVk8Qu7kjIDCBaXkT8bm5+THrgyOzBgUO3IUNbZO7cqTxf/V3LZigWtWXJokqrdjtRN6Q86LMlHT9yj9k10ldktLCqrbfS2nk9BLpjoCbxJZbwl3Mb/Nh3VKO+VYgkjgiWlb4sGTQkJhEbHooeshQ6OTZNVlLwcLmqI9cqRuc+HxaSm1nCDTRPF/XL6YuOHZj28MjPtxT+s+Sj35dv2y8a7XvWV1rSfb69oLO9to2pAY0IurchpRP9/Do2pm6h4/KsGAi6OjIqBF8CiY+LhMcKixAKjAgJDag4TE2VHCYkgQcVSfdeqbMO+fVBPp49W81J2NTvntHCcr2z21PWm81vCqormusbOnk9FGm8Zax9mofeDTvqvCdO7XrX6s8KlBWStxIkHSe7eGZYVv15q0PW752RJBIlKs3NH0C7bb9htCR+dU24UEcC5zn/ZKrwpewc1ELG5aT5O2LVOnbmprqNRajfhyjAjQAngfjeg18X0lgV2OqyyImqODBoiVGhALGQUWhpIFy5twRHRQsGlzI0UCSRAmSPuNrkly5BNbYugikuZkUXqBmqypTZKvz2Y6866pcf1antaSozFeIWZKaiNCVjkWlr0V9AJxMDUsVs1d8UZAtKOtxsisJoBBAKlAgoPlfEBVIPMXgmoCDjoXSCKo6RmyJETIyaRlmu4boCJei74uNzbN3JImPVC3wITAl7rclQTkgreDFi2BaQM339azAX+L7CIcMqzRbwI7nGMaoSUjvTg+0bj8h3P2kweShZQk6efFMVkMkYuBgaxYx+lDskUFC5e/VFplFZnlezRMXcyMe6dIq8IUWtjROc1IdVqrZm8q6amf4N+kww+Ht5IwsnwQ+i/T+4a4TRyDukKKig6bgewhAdR+bwtudATomHv7WqDVyVbih6piN2p/8x7r+wfiYQkLgVF9DLpMszHsmF3rTjWlB0sJFF2dX2KAbImvlyFGkGgPcJAvSw1UiSyXYRzuYzHxNOeQgzQsBnmw+Zkmh5iEK1EOdSbufEQ+X3rwz181dFCHipHuuDJi0wM17JNy7TzRDbtkXh3FTA3sjLJxoub9Y3CtofOfO0sqK9Nraqqr0urC8wNaL7opIXcC9um78Gsx78QhS8G5M5VnmQ8pzS61KxUrQ3x2NMSoNIQsrrkoxZOYQiPIMTCrt3OMBynxYZMZ5VmFpz59npzkPcSKLu8W7Wce32oXevR0lKIXclcQjy0NmUd3/pZplNt3IptvjiUDnPDix01cJ5Soq6mFsq/ylm3mmNTlGfC3IZcxIiBkiK84WqSU4mW5jkUxW4laF6JlMLNgZMFW3Um1SOYNAi1Mwc9UcZRtygJH5YDpU8y5Ao0SEIEqzVkXPXJuvhf208c5SEn8b/9VGCEwk+ccC1/xIMLtKSA7lt6eCcsoS0ZWp9tKKR+a2C5eFCubWiQMDKTxK1iav76YcZbIRtlEjLv45HnuJtXKUaCLjCWpaG/UkvhUs5ttR/+KWc6Iz+ZatFqGKlBDpCnMsoWwNtrlCm8cIRECbAECEckhiIsJebXQIJcmBZTohk81NMF5quyq9aKZJal4XRt53pRQ7NrhUpyIvbQXqQMG8eRvqY+/yAb4uIW4QqqJ66ynQuobX5CWv/zXZRl+l8bP8uebrZsdzqNv5DNiU9nk/Hy+PNXdw77SyIwFUVDSmqixk7BHAkAS0HFa8agJUK/myWmwSqwCvLfDypaxqp0WSlZhWPiVb5qcm1cR24y3WyPHO/7XBltPVJr4Gqsfi8Vm/W5Xnl/SgJQ3FBWSpYS3cg8ksx2FNZr08t6CI3g/Cil2Y/bJHrCN9Lb8Scqu8RJaPzZ9dRkaS7P0BJW/opNweU+oQIAKMh4AaMePigAyEDGnWAzYuw6wS8BuGnMpa+gDcCajmCei+PQzYRYf00ARESLg7A7opLRc9X0gMTTiLu9z0Dq9dMsQ3NNd7OqQBNl6ZTCk0eqvyzyRbJu9Mk2xKU6KFTeNPoI7HC6O+2yE52xQWow51eKbfEth0bTSQ6NnNHbT2KzoZC2XFwD9qzCRQI1c4GCLBb4TKOQKZTUTlIalpKWskSUINJDc9SLbo/pvRyI4dkErQyectJgIPC5Coj1w1QiXzBUwzj8I39u9XkSSYjRViEFZEu8mP153C2FLQFjyqFLwBGmndfS8AyvKdC/1RofVSyzvJs7jaVRtKly9UyX4AOqclywXkIrJlYF1AdYHBjbQJHA+poIjBSK7C9HLn9KFZIpK2G2V4fEF04I98yqUI33A127wpcbp/NPR4UHNBNOWRT4SAlhkvIJ5iCEXiIHgKoyeQIhuVqG8d5BkfwMgWy6Gngv/rCh+z3rAcEXn+kQ5fmUIJySi8iJMRZrnVdzTJtcTK7et0x6iq92eNivS9SXfqACSmn+gAKTC9kao2IG/oEsEMuIxRI7rlMjIodPIW2S6VvKNk+YmyooE/AP6Y+WK0L49o3w8PRddDwZBCQS5Ph5pkCJ96SAWwsgwjynnIWl4gkE80fjrqqHo7bHSkYAmhU2tnMXWIuh8tgiftoaoMSgbffG5z/8rGKviO3O8snINbSayokqMkkPwAZgcoF3gS6taO3SeqHcHMSy/4iFrBHvLRg/o4ghP9Q9tJa9deG4bTFwYWlYVqvSVCfiFLl8pPumVXF5TSDhO2p+IUe921G9P8/+4rzSbKm9RW0lXJpPQhjNYw9epUEutOiDQ068P7Hlbdcn9QWsXJcfmG14uhOxIhWf86H4D7tMKlWpvrXKWqefVQAk4I+ZYBEqTlizk4dyQVI5AXROP4pNdelGhYB6BUnwCTgXMBdwcU3XcP0hg5hNxZ2BmgyCIBDhHhFH6XnnjTqg2ArzPLCYNqdvEcz+ItTO7D9abd1bcWwIN2iEeqNP/tGAgsnqhYL64qNcNw74+k01eMkp3kPgZGr6gb14WSV1u3L9UPh6QyPTD9/B9wKkEyCIbKezETU4xeU94LSfNbHayeWiNh2njH0Ju6f2R/+RvJsZN7OCkl8KSvvGufkfza6NMLAIe4mJ8dFs3pWVHcOLpnEsbPPN+rrTxY2kJIxQSPafpL04kl0JiI3Q8XQ/eQEgEm/jd7iEV3bqXZX9onf0jE6Ao4npvRNROyxkHHvB79WAB2gBKgE2FdlxBVd+n3rx0TPgRcWEIuSgoR3IUyE4krws57tvq5mvr9SyWb69t9g8xrhhT2GWIdfenOwOKgT7N+8SVqVU+STjecokkxwyDqkwXqcr++yIj1C7niOmU5OS4r3fu8noP7VlbmiZRUuT3bwu80vIVXUjh0bT3fNQp7ai4dCbD0upXWiQrZwSka8I4l0o6hcpcWTigWjxPTgBIRzQiqRHvjCxDpR6x7bx2/GXFWctEMMWJ6bcqbVwMgQcAwD5G8Ecja7iCnvE97v4URUDAHMYCA1EmqEkRw+t4z2EwYq8e6goRsWBZ2RTDVerrUKqyaxxyG6hMf3cqPd8tMbfE43HTJeZH8lRV8qpcz04IWARg0CyEO92jV0QF4/H2kCaARgJcXZVL2lbGtKi5uXLiizJIoypZqTcH3q2j/TQ/ewrndZbsBZIjBqPN57Ya5cvw5OCQPRgV0V28dPo59/dbW1jJWWjGkioCNI/NbMPpXW9hYshmXikjqSj5ZRt6pozZFttKli8yZ4VJaYDY72CizHP0i9GSZ+DQZAWBkBIGgYBAgMoiurXRKXY/BqFpE1fVFB7kcvm3LR7QdCRq9W7WMrLTUjUbvKjtwOBaePhERqnBKZCAwWebFVTQa+jklDtU4/eqyo83kx5oNHqzH9CFFrO4ZSaNZ3EPC2vFpHTJfM7uowvcbkWikfjIbHxwRkJRQbdfn2biAYlAZDYQYLLUqN7bvE/TbQHzCFBjorJ8py6HFHpueCIJAIAqCCyUIaA3/UxAifCJAJvSx6MyEcnZeZlk7r5tDz3/mFZc38oiKrs6Dln0KsRZsvNNtQYdWjbyJBGajATGBG1Ve9u5sXG49Mjw6cMU+G4/6vHnIWLxCRr0Rua//4xQgMS0T/oP/KAB61My5WhKDNI+qfj9CsNBOamzd09UNGXhHk49ftOev19n92Yu9RpwE1NLN2pl9lFTfX8IIshDayesmE3mVHR+M2Zdb2o8ckypeOwUg1BGfNi0dCsudoNxQcCYSFCGrbIBRXUv05IBZTcKYzPROwI2SfHv8a1L9uRolePY9Xs2lJeWx5lyL2mkgjwhOMpfv1bZSLauy0nPM/qZTsjiCKtkFfF8z08iqr7dMu7GYWWLsLjsLBgOhQOArZFjGyTmD7edig0G0uLVT11sV6kKAmlxQZpF5OyLmWBrvHdDyG5JJ3B0O7Vy2Quew3r30dNKnO5Zg/vG8a4DbgCbsZBtf5v4zsI+kUxBR0E5kVN0t6HXELGsrPGQg3I5aIwVEB8KRcIHSVqiEhLSF0+WnrQrJzTwe/yrWXNCCmSECQQpO509JjK8j0bZHe8PRrjISyJT2LgsAyyyEGLx0rYi8EjDF2c9WN37fD3bKWlULP41iPX7iIv5K3lS/zFzWh65HhkXEDCTMj0VXE1n9GV1b0jb8H7Go9f5PDWR31GWkezOPXW+ckXDE/Tk9Oro8GP1rKsV8MT3F/fj2NC9PQnsi33AplutX6WD9GOhm0l8VdaDjVM14s0xbef7KerTOcnGytVCe5RskvQmc0iDgJZtJxkMjuT6H9cGyfjeEsM4dBCI5LvdfuM8Tr+UXfXSuXCiRqx91GQaz5UflvfOItm8pmEipiArraUcSEJxjGI/io/EpUpdAtiHdqKIrofMfMSteWfurmylZHwM1Cww4xA5rdcZRucyTXD3A1QSYb4oyeATQB2AhikjjMA72eWVNboSApx1B6h+DNShqS0tK7ZTxiSZ5n0J0tHIx1DXFrd3bZjbkWVR3jMCAHSYadqSgMF22Is1qVRZmwzkd5sKqlc11ikswRpBpsaSI11PXbDkmCILh+E6ZxnFdXQWndeql0Q3/gfUrhZu8d9okMe2auQsBCAE7LU1/MB6BZHimr72TUY8v5UwyYcVmgoEdaW//ZAp6IgPwUjNm8qTIqgPHdLjDtEIIEaE6MEJ0GuF6xhczQvXfZbosdqK9pqxRanDaet/NuhuD8EmjeZtKtJVQGfI386tOphS4dscvz0bc9eV7LSSlFay/51RKQmoN+BawELANbK/QxIBvAddqOUl2CeMiMPbargckUEmYwYNgJ4JhBMYzNsexlnig38+k+jxIfw3EUd/3EyOH8FpE3MURgqRQkNMPKTYrAGobtXG3U9M/O1XMMdQbCszZ8kxh0q6l7vbP8hElypfyenpRtOAcggrJaDzaivhVHhdK7D89cw5ZaZ0FppIFP7E3i8R34zdzwCpgCkE4FApzDkidGohENSC4BrTlhPQesIeO9B841eGabEbiX/hRd0kYTM683ISkcnVBtgfQdA+ByD4FGc7LKedtj0ANw3lo8vPXNkfTaMBL688RCEGp80ncIvBbCkcxuWL2fA1un+eolEP6NZYMlJD/nV8qsLEsjPSqFIhJrJDJVGKhUZsI4oB0APGdqbKmYFUaQJVIvNkG3OwdUFHBe1jhsYSnIP7NNFlthtyuqtlmLerIzfPxKUCvCbPIprZlVLgz6DttymE0xMk6q3fXveTI0iObVkaosOqq0qOkWSYK3Dqt8oCg8RnmO4TleTpWiqQYqlG90D57Z888Xb8ax9xKgVioTVu4Eg0qUx01toagg/wI614nP7D5EzEx7KS4X9zjuApwa1woxmA28WXZjxYRD9fwNZ6TgjyiiuTCfEWowTWfxdm2WK9TzLzF6AyAmFGUmGIBWL1YJ7+4GridS6rzXAyPwLNmqrR8tOvWo8rSxEpx067F5hHVSf51XaqCiuR77kmlLCQ9jXVNuMWEXHZCpqmUwGSKBkdML8Z78p2QIzStEaBqgfIoTCsbPIHd+nPcv2+PJUVJeeF+VR1cMRS2WO4x6STrD3BzYAsgcgJR6GAbRcdBaE0gHUVB3LabyLLvl4Poj8Wzn4Cqt6r0REBCxVpNo5xz8TVtH10yvFG9XqYa/e5f8oWIfoboLkA/QN21oEg7geTMdzbVzQVRsD8AzAHwBlAgj8OJrbqa4pt1yVdFkaYo5T/Ea+265zjbKl/4zWIKyQBVDCS0owiKQhQDCEkwCOVWFC4zj0+eXKvse+7+dNe7LoZaCmSwi35CehWiiF/lmCvMkYJTUZBm+VhOjpkeYF2yRXLcCl6EIBZilqxyi9lkxjCufRptImFfv7RoFUBMCECafxBeL4jVaO6/6mxCZTcicIqPh2EdnKN/5m93h/EivQkhFLlmrdMrmjyDYryQLeH4J+v0qb4Ou5QKgDkysLZegasPoRoBUwWgbdtDlm2I74QZwGnoxpqLAmpqLULepx0Bb06dIY0o3iu5ZX6gorIjho8EwBb4SiEUG5ZZ0hmeFx3gKTs9l0HBIiQBLnFTl+rELqlzKb4sKIE649Tm5BOD58AWxC71vGSQGY/qiuI/lWFbqpTr9eTERuwKN6fxFpCX43+jB+SVm87ua8aaZxtpN4vIwnRuuX6TgrPPCDxdRR+ipkqJg69OFjqUqk3XCJYQTjmFbETaqjPKxa6wT+JIJrjOklGV6t21MLtvUuh8ctI5OOEPylf1/595OfSBgcWWPOrCCPVeT3CfkKhRdYTM0tKBLwIbptk1b6rSKymEyh43f3Gtil37iNGs2EuEsBF6s1tYPOiIPma4MjV8Z6WdvNC1+krXZv3yv+0uW9/qiuQ6c1v9rQWjezsnVxpzFfNLKYbP2GHEfk0Rm2vdCgBfZK0F3Pk6fI/I7EsH3vI72FYEkKR4x2Qis3KAtJEtIZt+KDjeO0FbMCEiFH2mC+raIXw89Q30OLnl+ixITlWGSGfBZAQ1eEwKD8qBn+bzJtTBwRzNuiOhSTF7J4Vsq15y8PfwQMc4O6G2l4JjAWSrc0wYlmQbvqcU+wtKqfhhacrxOXGnjIrks5RiZ55BurTPWg2CS10C8l8kR0zSQbxBjwUrbmVWJTLCJqEU/pMxDDilaavoWWepNk33DVHRv8pq0fG2YKDzEjxveQiFDl4HYgpHfPzRcz0gB6uwJ8IxSdXN2f32ldaPo7csZdudgkFK9ZFFHhp4l6FetyZCRwoqIwVZCcSwDLc4UlWbv3Tb0Wao7Sm5vulLsZSvvFc9K9Rz+DbF+aMkDyB8DS36N9uRGCwcIT6IeKXaeFzHIqRFINh8dQk8X/EqwFy3V/zgfwuzI/pZNMhGbLu2L/tARQEBtevy4ebQ1V8h1xM99SmV3xBrikJ09Js1Ukq9uSd2AE5rexRkNmICQzvL5FDwvWWS+8hv4MbjDOmivydy1pgNuOqNj3IpgkXxytNrTTURLhgtVOmKneF4KBSCtJqf/zli860waZY8+7EMNn3RlB9ZAkcb/0L8rLYasypbi6NFBC5jWQuN7AjQ/OrHZYGViYxlMZ5+kru8OvZ8JOVOqZsLyppTb9yNiOU5Sx4PqOPe0lfNsJ0qp55s7/5UVrA4sWtHDz4PfpNw+MfhRbn7OWM09D2J0ugzPY+t2QXGLvaWf1EIsEQ9WRKfsREkRLaEWiVM1mLihC1VOQzDlLw6hhasbetKKV0nZc0GtNwkPU6GiuCCDA84I8Cdt9vEMElb4rgv8kGAF1aZExOAqLoEUMPflGgzAwoagK+gjGL/5BHQSwXueNgwMOt++m+90Gixt9YYtLySghJCL/YjehvA4opS2kFFSukv7wohB0LwQmhfZMZKyODr6aKGT6lFPzIDpeMI2J/gVE2t01XO8KTaFYZMZ+zl1fEBmcFc4o9g51KCmkfoJWw/oOTEpXot9D5miEZrw1uCG4k611CGY7mTRIZWQNUdkpSi+zgvEUPSbEewFdI5FXcl4jpZJDGyKnKS4EXDGKfA+zKWuu5qx3lvhulVJQY1bqclA2YIsE9dqZ5shwZcB7APz/g1QVfhMCOEa2F9JTpQ6lJlPIOGCAQlIutKjYXxaW4kbIevAJdBU/LLbCOA7NyjbHMz93oxIOFFfJFlS8e+vWbKp0xlYgwRq2anbdui+f2SOtzT3dmmbyg2NzFCB+1M6U/1eiZh1sZRRiGrNTa7l94vx8VeM8KuwlXrLEDhhHpqSuQUMXYTHYlKpvBfsQSFsXlyMcIKqOdierjxOBrVI3iTsQfUagQUL4ExxCTY9dTpDnhoiUr6QbPt5L21OUP/Tb1WVMlOjqhUs9F0iDY3ZI92ElkVYWW5iDdLrqUZ+umJNY1Pvmuri24kspQ/0UQW78GdU6kO1HqG57l1UzIvwyw90yJ+/kQ18XDr1HHDXzapf7PmMbZ0qXS3Ee9TtS5Fd/zmDUv56nSORYJYpJJEDwBz/UGrH35s3BJ5Wo/BRbCU+V9v8G5hSdh81iCg6oiqlJn894jp+yQI1m+oCR4v2Tllfnw/jSsoyflJy+JjtzY9FNn3otdo02KPWSKq38rvCDblfqJpJIGy4g5VwFAx3iyY58RFlAodyyxtHc2jbCOvzjjHY4aYpKQov3CsmKpbRM145tOkcyB9aHICh8ekRbwmh8wZgcMdEZoF2AqLEhwJu+cRrVEeh7XJ4wVILDayoXvq6N3pj31BU7eTz561iEef3Joxjqtq3Fex4irrO3Unw1CUemoFjmzkk+jT6noL0uDcKkfouJjkk1ahy0JAJFQmYdQJ9ELZKPHSb8CMzvCZoAVxKgnyCEcQarsvCmuvMmza2fZz9EgtJIr48YDlSeESyt9Y6QZz2ZVoAmNNwp6JWcgvKXCk3S3ofEaKWo2CpiqdrLiU5o53EU5KSjP10YojZtVEmtNU3shS01BQ/qkvJoSpCVnbc1ZsUy1U7Tg6CSdRWj3eODN/7CD6aEZhg0LqfaQEC7TiC4vy0sRkFTIBG5arkubeufoNBOQrNJxV37ZvQunpNnIea5DeRheqBnduJgs2Jv5uoquWvmeWXga1Q+sVx4d/+v9XolRkG61W9X+2XaTJYk3zs1MzhiKp2BZASgYCuY5OAbQTiIUA3B5DYeX1NMwLHcPUHNU1R9Zst1ROkIzzN0xYdjUoRnIcCVdX0LQdI0zRvCsf0PUM+13lNw2Heez/r2aUUAp5+1k61yDyGSmTkxYpTYigAxIBBxAYChyjQN0AoBUINVnRQKCAe8FTZps8l/yUOU7MzzKsMxPHgBeFlmdjYRTr/+KPGPO+rxej3ZpSUo6m+rmpE+P0Vhr2XuPXXgM8VZNFa4nD+nUZ47oU9x13nkI8R1LlbyXHURTTV8Q7PNiKQ7ytUm+nDW/eFnUz47SsGXCiVSaXVH8nWu0rvfiROVCWCQPe5kASUJokUjFDrvjJsy6+YC8h2gyA0JU0/cK091au+N2mp55hWt0RqZR+2dwA+wA8QQZhAVQaxsJRqGwNQukNZLYdQOoBDASwXh9bSB497EtkeX9/MI6JR53kP3pt3kOr5uRjJ7arfGEo/P3zb7A6qSgsm0oOVgwj/kxnpfB93S09+L8SBK84yPIFhovFz0C1UjPoZwM5yPJWfE90FUZDe6ksaggG0ktju3J9CqfJkIWpu+T+w1n97uXZ8vPZtP1SPdVQKlarCla1JeOARPWi9aXDEUGZ+qSNykiNECwsELIg1Gpu4Iqv/hcYmeblTzWJbOcxZEsJ5pKLiFUaRrYaT6VSSU39PSebbxz7ryERhaEwTioVCgJj8/PD0XCkLwvCEUGp2aLU+T3ivCpKtQ+HT2uovWtUh0clhIQJWjZNadkYkDhSiaunKZMgQ7EurTs5U1F4842nmu91NL8qLmqr63zTX1FdzKRXsymd7Oa6kq7Svp/O/1VYPBEeC0wpHYYhAJhAXHJ+EIxHIQi4RGTpYpap27T3/wJKjxWd8CPhgS0XXli4oOKowPxCRrHpGZuE6tyVFRExVrEy22FJTUu7Tw7/N+fzQVfTf7qtm7Ousq6wsqyo63d9cVNDV2cjtqz9z38PWbJ5cs1C0gNz0/JS8xOBGJjEzMylQoMHCosNmiBQmjtxvgjn37gs6uv19WMMEFkGipw6LCiyZ8mRTK9cFWS1v7Dez7i5VlZKrhRkZOl1/1TIsowxERRSpekc2puDee53vb9F343Zbd7O3XII1hfHiJNlMlKRHpFJ56T2dnZKSd0aFixKQsYaMck0eQ0SNGsWnpw1D6CGVtX0h2tGyt6ZjHM3dtnWTPXgFZSstR4W1FdiTTdFjRIlKr/icEgkStBCLNXawloWJ0P9e6lL7g0twYONoucK/ZEIctVsUQGDhzkgwHCmGMOEcYKrER/+mdcMRzIYIYMIQyzClReCDVNP4VSKcRmegEGeJy9hXJaNeU/yS/So9pbciyZiM20dKgQpzEsYqDQcoRM79yZZxnLSS/7pAhXYLebdsZgpGfuuFHOMOQgc2sUUYMXPp5Zake//4xQgNTET/3f/e/+W0pJ4IikjGovZQXcVsGq9DRPVSVT5T20RBkswYvItFIt3QkcT7JoYulnfVnfQ55CUqJQ0y9VxPays1Swr6vMYue5mk5yIqMpUKm6Z3XlFqSwkHYFT7gquNCxBn3MGoighhG1Ngly6aXLycMi4ygIZpEIMbU2KWRMEH1Lt73sVsprmO153JRyWdZRJC1H5zKJ2tx6/tOKfi5ifJsCFpDKIcRwQKBgqhjnUwu3n3I1czKMyhlNkRdIIOhTP+7dZyqDBzWeLRK5BwEWHmEzpmhj7LFpSdguW11ZUrRHCNUUyck5JS8I5xjy9GnKIiEVmTChLUpeE/e/silz1io0VEb1GJQ3ZkpjHG9BBWm6Y6tqaikM5nCU0iDLwQUIl2pFfWFGyu0LWbM4TRlIKjORTQOb5yAoiH2I529ELXcbHQrKQqILkWiP0La10vNDFRM1nE5OQW8jr8KZf3CCm5FCeiCF5gwqYg7VQi4/iL76n+pRfIbc5bNJVRRryHEkqKJXU0uYps1z4nYYU4kPAYU0LQFStz/Rl76SLUbjAzwaUmIyI70G2tPkJKXWIbor3imxJvJuq78kWFMg0O1487Nz7dOJjGJpBz2eI3o6Kqx9zZSHfhQ0nKc2cdQArgAC5kAFtLBazZaIWZV1NAJ55lMcbmQkWacO1rCKgiqZqci3IXKkw8RypqvT2bGWSCv6GTm6+5bsq4l8uSOdjdvjeZ2xhxfM7KVEW8cyYh9ijcvS8e6nPhY1W7aMSvlmslVvhk8mItp1J2HRtV8SvqLKNzJDOcewTGfmgFP4uYh5TnDs23yl9Xkm5tQf8NowkayQIsK/9zuduVpKC0hYcEFTu4X+rQRkDdw7LnXz5xr9hdmK4qGSbGnUSlMpw1WRpyz8HA7XmHq1eKBjjIYZIWXj1C0K3bbYl8NqWkVpbkU1GxzSqNkQTjBapkUqSMYRq8wNjFUaPSEgrVvxd3oSNlpAZ7F6zbb+wIIWK0KvBK5yTIkxluakSObhsap13CZtc//Ek7lSeDciqLGi6rXQL2YjIG4qEgmwn5H56xC+sXOi7YSeQma8I+aEsQqMtoWi4UjlEIyWEgJr3x80dq9SdupTE4668UOvXZiz/kjRETj7Pkper3K9MSTQ/aWhK797j4JsUjCTkjesZ0VyRl0qr0I0bvmREkSGPIw58RdLEpdSKq7pbqXfcQTMu3cRTMihX6uUVvBCCkGSZM3ic5Uj+0qk9YcJop/OI8bNLliqgjh+RHjOqS27mcuyaWxJRN5WBPl2rwIJUgR4VerDkyBWf8q6qnclHVDJQ3MzPkp5ZJM6nGHPKroypNqOpMEZEeFz2z3POVwT10Q+UWFolk5ZwVYSpS7X/PmBX20klTiukXOorLZRiZUF2DJw2QCIkO6IwPz2/h3gmOCKwJjQ+Q2T3NisGFlpo23JLGED7LSKcmhfSNL0mKKbVdSi36Y1eulsc9PuNLNyppdxmaVGhI1LVWjSzmeYr/CG0pauz30/WltfMz31FowrFdsttmYuBGAxAZBYEwyGTBu3Pj0UMyP7tc8e/hEvSYcH1E5o8fJM/kMwl0EEOYeRvCSH0HWHhKuZ09YQEfs0L5AQoB5gcwvXu2FHa1T14BlgbISSEKWoZDROxjTlpnRVrfUiOLk2qnUIpBMhAj5GAPcKcdqKMO+toQK4eND0rQVy3RV39PEpV9ucRTURSfSD0fDcdtW+LEeuTUtbx+VuxDRzz2vuas2/6AwwBWBzINOxnHMz5PToATwH2SBw1f9rYjwiykfvuvbEhrNx/uLZnq3pjvAlRui6JgTCZbuP/tdF7NoScw5IaD5eDFUKaDQRP6x2/bCu72n03dk9Ie4fXfkUsPWH3HXq58g6gWgaQUBoISkvePIHyHULtiuRky3iWlNQ9gW9K67aH0XQ5WFxQPoVYZQRY1xSFUsM1n9gtGMqLDuS8qf7WY1VDPNdpLcr9GcFlqpO7RS0FQHc+tN8vzVbIO1JTSWnjKmQ1kfCU4HUA0Q/mqq8yTpUOQlQxUCFeQt5ZSk7laXBL7t6Rd3HVmZ4ZHHMTwrBhhVkKqlCRaEIHybEh3lSUhqO4nHaX30AgXC2NX3GCqkpqN7wawtq36PkNY8nYhoKqE5NypwbSAFAAmR+rQosKYgZB7ivE2PBBHVGtKeiq1iWnVmrCVZkSMoqiREHeeIW4awo0sxaVwGapVP4kka2suwOZy86rTcIF3IfipBZrVuNlRsCiq4oLCIwvkrGUFR2NJSIuaNj8PwYW8wT4nCpOsGIKNbf2nATpuKmVNIsAp48LY2GJatmWV29wlEm+C3OYTwqmqtcZTzuS5Mk04pq2NxlNlMYwqDzT1+Xje/uaJV8309M0+wD+f7zPgGGoRVG2tjfxofcjq6RnaZNnDYBpBAjCy7e8Cdn5IFZeoRYVbnysbhb4EduF+m7Leqfl592hnTSvoqiUMW2CcIRmD+iqJE/l77xGo0dbMH1yiaXJRn1AFVXbI0kTxadYoLzGHYK7NQaiVxpnU64FveVseIk6CjnxD7FnFAlCkjBTDrHnth/B9nIihXR9cg5XLr8R9SnOnlPs5LscQqJFGGRpU1nXLBKEkDI9UXQcKXfNcJz/BXuV9M8zW5Ekb3ZTVIUZuqu89lKv/713qWPrPTuy9/rpbgIkehICxgsY5Ag8bG4wNiEaGnu3Q8JQhLwFZDFrYUQ4Yl6AmMjzjjiwcmAZgYIl19qT1G0/LUrcZzKi96WCo2psgkkOUZLOPidN4FgYTrYmZbVz27uKg2n8lvHlI2RULuCUjzoecoFeMYeyRqhjRCIuExIOYKwaWmdTTuKRFRlJzFhDBffobCkQqhSPFTBCtmFalo2Xf5q0s9TnxA11OLX3YNx4jG0f4PlXGVDiPfa1WmtelCdB0ZuKqbxn2j8D3mWzkWoLU+/sgEpNTK3h9Q0J22uIr5t7wQ4xzR4KSAkS50vkZoVsO3bfpCP1gkHodhpUz3lIZJayZkKfRIUm0rUSyEaJXIpYbRlaSBW93wLNUqwHrHLXRGYaZaJpk21W+a667nzFlcPjuOLGfM1ok4544KojHAaIHqXRcok3BdBOhLIO0C0JhNnPLSaFH61uuSmoWU66WkMIZ1M0nhFjKZ6yNEl0DpwkizGLlf9IwDIFKxd68iyZIUy39VVWVJykoWDfc5xRSV5pRQzV82pTVWxl7ar/Ja+KVcqKUAuQJgeuFS40DDAgLL/77JD2AEUfAXKJRhhYmNQF05cZuO+4t8VoTW9u/QxTToxqDdKqSI0LQLnR7q8R+5zFX/r19JbFGPNy+gT2pokmsaLuOJNquzQVtpFhSiJ5TaytV+LoHWm5kwsuukQXIChpaCl1njZB83xKVj0xgjyA9xIV7E9naUEq8fhFXPmFL1K2blm+X4leSpHMPNyxH4GkfDTCAyVojzQrluv3Us5X1KDr7ITRNMqTGf3GHIk9kdCVlPXggz7hOWdhPJIqZ8IbLaSpS1d5AmYDPBIIDiZuAGLCoB27dRqgujhl2eU3Fc+5M+3Lc6zIrKHX7aG3KbfnTvCYZAVQyTAxABUn5W3SqRMEzbHLyjO44Bm+K812GGs+vbP+1namInnMZ4wqKdV+mL0GVWqNANVUa+NjtCoHWy6cmEjkzABRjAQLjL1AErDojQU/haC2HnkwBYnGiee+Ja2x1PPNfaeylUSBVMuFsBM8bxxZyh6KSJ71Wf0jKD9MVxP9V/N1ydJIMgcPTcCehD8Fo57OhElQCgfdbWmyWY6mvRdp5qqc9sGtUl/TM0DLjIZSv9aeXcBaRKYYrxoHjJQGf+CGcJKYy8AV4tc2czQyiDUtscQOg+GPEwaUQdRWmbHQvn3S0pAcaj6+j7r5PU7WoVMrwtyUHV50R5lAJlsTHuucJTCTvfcXGu8r+dkIPt7AyCGkDI6vDOMGJKadZJa2o+pExO6eAeqY7CwyMw+gngVDrI56ZnCsMDxEFnbpOG2Zku9fXqMN0d20yEvofaZBzE/52b92P6IuJM6A7kUFidN24gCj7UxJB2SwfLCpp5ga7JmxWcu6y/Jbf2CxLdlZdBXV8cEzshNBtOcQgG8bpqHFaZi3Re9nfecBQOasm4VS/sckbAL3Z+OulBiaLhcy5SJ22DaGGsLeUQkU7P5BXyFz7C8inngzr8FTtDpL3vv8XFqwpydns2+PakvFWUV3jPJLci/XcSQJHd0+FM+72tgFbMf9X/FOMFdGQ8lHEcBQtk5Zr/oXIPVF4cY8+l5AvP+k/1dXRp7Nc8Pq1xiiLTb6pTfkSxISRgkDy1kbp/DZ4h+EcJilTvIul6JEY4523CVpu0laLRP3USNRFCeW909ldvWDNKXRTXUZ6Ua9lU6a6I3NICyBzSRW1e5Q4gT9QnsZs+5fsW85GINujo5AhuiSOIMAyOChT+kaoMvCIh7BI7njF0KfLd5KNHFY5+sXoqG7Rd1mSDhJ/bFoqOMukEStXtFrUI9tZWCg6v7UKfySfst0+il2Gis6dfErR8inhpMKpl+SuEMA/62KfUgrwOSnQlTWlvOEvQb0YhUyWBeSjL4+4rYQzNBBVq6aSTEsZVFBQhlYOwzJo04YkA5KSPoLm9zP+SL4fd0aNkx9wniaPD9r1NJfP3Kx/Q/7oSZi045C65yWWid8FLL7RlzFoHFGUfVWFTZZKdQhGtVsRZN1zTJDl51SriBCnmiOaZbYl7BAAxKYEaFxHoH/gQZNUSd/9Zh7yyCjn+uIl41AhIsg6ZTlF/EtbcWoUfkJQ6ooAXsZQgPGRvOXRw0I56KKT+XEY+3SKPcNFiJvlT6/rrHMyKOTYPB10sitSs9iiOSKEz1Slj/iIffkmqPC4VwSNXmhPQFlBkgUc3EVptXqmEYvBPgXXvUGzI4LiL40t6QNOo7fjehDDBzJHCgigHN8E48BuSeftWBVRviA6UhhQ4lpyg04eYJqdRO1fG4DjhODXqZSiQj6BxxDN/yUShutub0OvA2Ib9EldcJgZdePbnIroFFUTCyWGJJy5T1sEt9EK4LKdJ2SvNnWSuPThxVghY50CRmk+vHdYZ0CDAQEdbyyebog9JkB4wuhyd5G94UESIupDhAQjBf/WaZT53G2WJOWQxrbXRL5OQIuayW+uIjssv0E1jyYCOjoCikib9nuSu50CQxyOBpaDWola62kSN2apa+bp0jM8l3fTRL2Sb1XtLKc9JPfsNQ6baU2a799EPr/UiMxyrdFDIVGG9zxLi6q9s04I6JoPiGEfUTMBkADngOcHf+kpqW3YlpU/mTZz3D806dIxdhiT4rZAz3JKR8pJdXImdyu6t9RwrGEUykpBjeURHpXMynv0YpFcgRy9pNdATBPm+2hn317V+rmiqybnjrMSSsZ5ZRxEsqisOycikGhGQmmE5/tHtEwv4iS6q3hCP5brAd9Z4QaTk2v8KEbi8LyYgj3AKD/MrYmlFGm1N0zd2Sa/N1r5JGud95z6qCDWpJXUA5Fd2G94bCLUbLOApg7FMzc14Tb1KgO7h9GiZ7U+RkawtfvTxUwS++8boKJVdb6vC/TXHzouyW3J/5Mlw00lp+pDTP8AhbNPtoVQyI6uhimFtsA9v/luokpWBZ1rrYUQT2NMSdI8115FmEx+wIok0QSyIofCphs6QuQYjjkaokcD/10pEXLAbBkt6Uw95kFGzi4C/Ssj9ylo4YvtiHCBX4KLorDNFTQvdAIQgKfmjAlsO5h5JyTXcSJfGyHslJEeqk3YycnJbJSQkNtFnqIc3fJ9RrPiTCpB6NhMGTHc69km3J5hXZ2yASVwrYLtGrCLTGGM3aZINJG4DjxAC5UlO35LrIlSHWCymR1VR1vb/CdeQhNVLLaBptWwRan7CGRMRVr5H1vMUrRlrSLGyZXNcjqaCuPz5Fq1nRraiBOfdcmakOTKSVOXEee/ZYpCju7nPAIVvaV92WS2j4bSy2uEhjigxleHMeUKpEzABMD/+MUIDkUU/6IAdRpJnE+Hw00LCCVVXdxkOloO3PyCuTEJ4f+qxlZ1B+5azQYkbc+HdlTOBtqba8nqmYWXWccQHHXyJnZszVkSe/UVOwZV6uiXy8pvItMcX7bK3uFsqi+Bm3FZMpUCVFC0mFZsOVA4OqtRW8itpB/IphQfJ5R+xRLbFVmOGE4lB7tGBvREFI9iCNqzyUug53FIhHrAxN1hBDW4b3Ejgn1RV28VjNL6+6aT1l5KcNfp8sr2OwCN3taK0JNcJ3HcooIaijbbvoIrYWNY0khPDCVrrf76VXSPpeZViypQ6uzTiL0VL3I0xtDKalArk2tOujFOFI3xF2IJx2KjMd1iU/xX19tL/heiuYJOAjQTfNtGOR0gyZBL54lb0rUUGRlXCIc8T9ViwOyuzN9pIcgujA79guHw4EN8FRwJxiDAk5RL5XWJOQwc7M0flnQwkiCS2ALI6Iu5WivCw35+MHGJSHqV7C9H/czcy3feFfUqthYEdOn/woHXXfzm63K0tUsbOKap/MEuInr4FM085u0mE0LKQLQVFQYtESqMzRJXSolEeV9LuZ9hl8tp5XBwEcCj8EtYBCt7GR8Bpb75UouiDuIeRDQBG+FyfzF5kYy4RjKGa3CaGP6QVVFilfhgIc3W1OLupKStKfMeB10gYxUnS3lBp7v1F2t+ZkPqtDAyNMpwgN2ocUmMK6PaucpSDWJU5hDDIgi85DNGcEpu5lF8EXbFAqIeOgCSJAIGeuRzi9RhJLv/7j4JDuaUj1Gi6eUbx31FHMSq18zalVPEsL2x+Gq3Xa80Qglj2+GOzfdoWPSmC+1TBgi0tijIItvYx890TuasMR7lKwFkv3LDY1fhzlswUWltrwa97MFQdCkJypHNJSRAEURTSc9wfHEmQVBMlSr78ZBowGOClwA/k5kA/IHkAtsZqJOGBH5vR8y9hafniQhACNz4TQ/lSAU0mpXqG8UUReO//LNXeO8ZxeJJO8oS2qK4ni0f9HY3XODx5qmHI6j5m5XuZaRhJEguDwyxpbRC1YuLtU1H/TX1eaBbwvEpOehI60PGjp47FCFLpqNKaW/reqNM/IYo7bYlQOJV0fmbsOzWh5ErqxNYpnO59t6nKhmOmIBr+NpC2HFaq6S20rz+2IC9gRYBUoAHa2eADfgMOAVOGfj1g7gYCJPzTdDueFEdCwuVCIQm3iRSgqiITK7Xcd2Cy0a2VjlCapA2CAFJCmqe8ge4fpWQ5L8twuGnQuJ6hEoB9TMvHa9QkzwKJ1yMq3d1az2tjwkjjcFh9k9L+scHCTRa1Zpq60tfP5/Z8M84wNaBU2kBIpyW3nfCHFRFCNmWvyH27TeozJMr8yiHwRUv/sapOVV7ibRCATTfqej+CQyaRyM/elqkqHVhwgwKkvAFhANWVYA9AWIG3C8n2DnPyCqviRj3XlI0GvRLQnZV4GMDraQY1xS0FqZswMgJM4SZTSl7vH7O5fS6XW0yaKdVUfztFOkKO4HyR7l+vMN9gsricFAq1XoDRk47XbU+75irbTne139cw3XJjH4cb3d2syuopT2kwraZ7BUEbemgNdi1TwDYS1Q8vlphKoxF5DnIpb0xgSfejl7HCVxI8bUM5V9fFpRWt5hsbRX4fSyJUZZ6QKS8oEwDwOBHgChMoDqboCLJ9KTnWmu4rSTQbP9xPBAWb/SxZKEVKZL4Uym5/mRSeDU6iuzvt5weY8yBlHglIHAmGK275uX0rtcmFSRmap5Bz6LCZ45eOb6X0nxUcuX0QK7KtRFc4R0kgCyP0DD7ANKiELU3DD+ikYIS+YIRiI1ppXL3CmUixOPAICwRc3QffMQ2CQPyqPiRo3g7GvoIKbm/5ge7hyhPFgkDIbFmMcJNBiUGZJNmKRm6FWIXkK7KZqV4sRciPS6YLhUYn1EO8ka9zI68kL68iNP725ng8pyJbKRxdw1NDAwN1HndY2XsRmbt0I1ollVgFhckISUgntvuQun4QkwLILeULnkf7weFIO5pmLTexFqCSUFkviC0iAaFFppKvhl0jR2MOoneH1bycIkHlYvS+rT3tJWza0UHchqjN5gGwaDYxMVXu7neOSAjSknDVEs2xRK/k1lJXBJKpbUC2QCoAkmISXkIVpEYT9iwFEgVgpyNrt9EVLVCxeyCoyQT819yMVMhcJCji1rEkMln9JckpzpjuZ7DRq5B14F1RIU5BIrkiOpDyiBbOeIQEcn8DQT2di4a2npuqccvi/tkErqlxkrb7rKmn/+UkFBZs0fLSmylDJPWoCQKhtD+Ti1sKAfa/uSElXHhiG+cnUM4ZgxO4BgQO6c0IvsozrIC5ZHnt6MU/CaB40zNaV1F6BpVKt1TUv0SNip82143uy6h8u+y2R4TNfxZJ7+yAnF4SKrK+QU2Oj+XAtNQSQEv9hCnGEyVUx1wyQkzflHuyR6cKGg0vUrRgz40STx9YJl6ljh8Lm6VaouwlELL1OZVahWEbC6n9BUmS6aXXm5LVshmsy+WJw0U8qty3XLa+xQqRbbOT1agKihde/962/3mLHn1rkrb6FgmNvr6UtN5gsu8+mQyR5b4skkRPiOUJspEzH7xn0nE6n3BsOAlPZS4joJDGtZ8vysi2n7IGETP++MsLp4/6OGSmfTqmMirxtQJE6qqGLxVSYfHmBGWqVA0JmIQs8yjh2OyfP5taIQrGdZsQSb24oZrZZ6FiwiutJ1MS77quOuam+WZARcU4rCtWwkjZkohstzhQZbbcQ12+85NEUfQjF5VwqPZhShYCBuBTHWaT3N0ZOuMKd7WC/PAgURT34Kg4a5domi6ZiprRZafQf2Z1SIK8SZJFfOc3GhEdFCJz7vb4WQ67o1s8JKxv2ioKTcUoeiTDFGYFU5CT+BhxCizqayV5qdX+lzq6xZjGk128IOCCilI6ml5YxCf4K9QNOJn2aDPU5amnwiRdspA3lLrcsyIHJpGyc3EKi3szwjRJTTm86zC5zTFLm5qZWk07bGHYJzy6HAwLTjnWDAwVBlJawmnV1Vb4yEe6Xb4hut8orW71xqlFLppGsv+iqqlpuBQkbbUhuuz3BUUYqBzp7H8ydcdpZ7B5ZaNH6lY90iSWKav3+YcKbLqlClHGGOysKkiE8jWOtdVsYYvXNXpAjfgnfrI1SSU5vO5zyE8nUO6lEoVUquyAvFJjkfQeBSBGjcU5qQlKOTRIbYqRnC4YncEpWwwOMbod8VAzUbTK0hqi0bSEzr1G1NQ0Vr8/FmVKTKTIQneZ73R/cjcKHds1ApMQK3TL7CmgYwu8ZYwxWCy4i9VBQxb0I6vMhDf/lUBtbLeT8TV3Mwz10oyphjmxebNL9csMb1760npURCqFQ8ymUm69ifUlXXknIpjptipWX4QdOjC7VzIxbdDEufS9oi/L+J/kKn0ommtKya5rutQyVyEOpt0G/XjFGfeR4gS1IO01xPyxFiWqnVnI6FDL6kUxFTe1CW5RCLikaONDos8RrZFREqmFTS3tP5WdixKcijFBHh0iCPxi+XFG5MeZ0E7mZYcSQlqKSpJZtU+yQs6F5pYs+3ykxW23qLbohOVuRLtuclEshK5TU3nl6eIlll7VllJSLIoj29pUKTq1JWfa52M6ZWcJ03ipk5Li2M1Jb7B0iEbpbEg8tgTGhiR5CaOuBMj1GLkFw9JloQayEj9RuTzVDmq4hRN/XGXZinZHtZBySLQxSZhcjia0pFIzw0vJRU7F0EPERcxCRMPGJ44Awxorod3r2oK5xUMnnKrWQklay0Q2vNDoBbW/PZohM6PxJ0iQKFMI/ayKXLyE0Js2tgV864rtA/05bVPHyUghh51aeo0TiSk/W8WbAqJCzmtlfOLmbRVChLMUjOaJimEj5PqiErGpzhR2C1V8rFqjxTMESI7FoLVFjKohWqASeJwEoBMcy5XLdJgdmwEEgWloZH966Y2YwJS49iNK8poi0ivE54OEIZvCQt/gSETAYmbD73LTKPQjgtapJ7eqCO68PA/BfL4MllrN5uQDbyNkkVZBm5lHmEZqCiVzgYN5DWUgE4whh6GREXc3dsQxjGY9HE3pwxEfPyz/bZaMDCOKLoKF99xlJv+lj8TyyKyBNa595C1sbokENhIzsx0fdBC0J6BEccJCTC7jyKFCAq+SJjqVMee2rQasWTM/KvUoum6ASCMvTMMpaYLub3VQ1RDBiR0KKfJ99MbiUqJjU3cDBG52VJULpetIPMk63jTn1Qs3L2yMGfMJ6MdEV0EjhR9260RNgtbJVHnpJKYM9dcJQp5A6b9lAcrvtyKTVM+aqLosKUPlSFzPjirXK26YHGqkEw4cec++QGoKYVpr6lFuKsuk9WGYXXllCPqm2f6QYvUWNzjHZZaVfTJ9sIz0M6mpS5Jg4WTyPjmNljUkdJC26ppnYZ5H4uDKqF1K1HP+OpeZREmxSccglS7rpYSwglbNpktvGazSxCCTSAmJeWmKMxRA4iAsIMXJR8CChldayKCHutnkRnEOuYcJ+bqxBT7ykyliFu2ef3NgKfs56ITSFJ7VoKL0UXBHrM1cENxhMFJ/JZ/o083EXEXxKuz0fU9dcSVD1EF+xG+jI9fGSl5FarasglyeLVRifThDKn5hACkJnJykT3wRh5Qi9xsXOCQXdjf+jCkKIVFoEOqGPNTye3GoR8s+Oaj4xi576RlEu3HsWQl0w2Koxa4FBKlON0Q/c7ypSbxDcQWxDlt8y77p+l2dS8pvItV2lX9CmwQ/a6olReHPjvY/e5Ad2D/+MUID0JSABcADwAWABUAFAARABMADgAQABO1MvWBli/ydJBoCUcnjY+LCH12qohXcaY7XR7qyayahXW6ZR18VcO0Qt04V/ELRHq1E1yMlZWqLhjcWsc90ksxJBsmNer0DFpIHuN6kJtjMT2OTr2WcSzmcuYqE/KXbLear1evso481hV8JTKqUmrYepQm22ADALJMXhg8ohrDjspSwQCQZOT90hYtqMmS8ryCwSBhIFZ4ixRFk8jS2MRA88xcCCwp7dM9UkFItdBq1YbVpBCRbKhlZ9y94yoUh1LiU9fapqXazTlDtiKkLZ5nXWTCk6w9S+YtF/OH77TtOeI57eVtqSeuxoolEpxsgilNE8JlXjN654T3ite1JTpwqSJbOLsk7T2TlB/cpNKP+dGCOlBDUzmC7NZJfsJxswz6FiJNKFns1cOpJnvsOxaz3Q4wyblimSC3EcS6bYVXRdEgBUBAC4AAS0PpAGwBYmAMHQO6IEvGxtwVd4ARQAqgifCg7b3SYQEhg98xtQcQGlCBwaBQ88kHcAvC4IlwjMJ0TVAG06jbLgVTykcMCBSy1ySKtDBgJDAwNNAMRrAs7bIQMggQEoajK6rteuuWvJ4uwLpoxRl9M3IJF49LreOnLijghOYtnqQkUy+GEEi/ckqMOiCYLTpcgRmEOu1JaLKuGV10TZXHT4Iuim8+VRZFBVJNDVacsv4kcOhb9TCiSAzfPoYecLSpGa30eLLXt+LfU8lcYa9zZOEH7yWaSWoug8T6XJSbwEMXR4kg8MilZ5XJY88iohk1kRusKKL2V6kuZbluSEV89fY03Qwe1tCetMQLix4ytsphNuJ3Zg362yDJESlFpO+9FlhazxFTX7oqvF3mJGagMhARSNSDmuJBkyIGNIWz8qgqj0Ya2/Z8quV6/pmK0aeQYbeIdYGII8PJHOaEnVkykDF+PkaJAm+Q8ekPPllZ94TFLIFEIThle3VlRX1nEVHJOPORzjGd66+MeOqGYKZ6ngQdbrTFBhtKdC/Y9bIE6Oppcz032y7JL8K06ybSiYkh2aPVJN+ErsToTVhVqbteXYXKtIH1Ua+zaU11PfY5lA/eS53GvplJ115dtMsnSSWb4v5Fi6aliaN7Un2TD8yQgOwj1FqUI2gqynFbPVNp7blPGSPKeIa6myyizpAQ9WBNGm/8am6hXaNHC5Gr7vllZLqdzSSGUUG/t5+QcUm2u40vhKWuNwioh9JpJMvlAtURh01eviCd04asX6mf4vfUKakrUjlDEiGJokGr3tmybbi5u8JWJl9pOUCD9+xEpONGuB5Oejyd3tygTP5PDvskCTf5fCivAbBp/U7DHwdqU7dYTuiS6XoOEhaZ8bcb8J6RGuQIFgnFuUogXRMEzw7KhGNBiZFpHHk6bdDBoGrs8n4p6oEISNbQiIvQFc8H4IF8oWKstblQrD4FSDkzAIaSP3lTZ6/cRQREhNroaIa87jfQhaAkQPLCCQY9qXCGJEd0JCKR1LSyEDE380YEpI+CONlwKLQ7/G8QVok9jmaSZz4UMQ4ELcRxmOKDsWbauIsPAnTQyDZtRL9VvcQKYIEPV51jWsHKEIFinwYhvewS86UEsVLWCdt5CWPapoU9KMWrduQuBD6cMNFEaWu1SYlZBhh5hDkvWWMUUTYqWLJOYuhQlAvINAWSilhgqQQKuSSkT/pcUiEQcZtiS1ClI4KHGGHNoR2oMSHzA4roDR5Bp5sBwVRljIjbWaE6KOKUGNPtql2gKNHcIOUCjMNPFB48YCFId5FEyqhxixKvagb7mIpCFoTsuz/rwpEvMByViv0w7kCGb2hzRKSmZ5aQVR6AcSpWVUcnrYZKzHIpGjDGILLtvHiMVEymWjWinyj4/DCvumKkRmB0yROuGcLdQsw+Qw42Og7v1AlPp6oQR5MWThiH021Rj0xsiGJUKEPYSMXVCisGGMKMID9yYQ3S/X5liBkfl/N3K4XbTu68pCOozqykVCqctzW/BfoZXptzrvi3V0xUkE3Ag+8NPCCswgVXwdk1jrszhbG8jNS8pK8bSU3hRtMReXjelS9xGjq6CJvluhHa6kCv5tL6hryJeNsMIFCX/AjwlUkLpaNQE9dEXHkH2RZQgLlfO3tTG7C0xyitEX3mra/3YqneQ1Z6/p2ag2TUlwq7szHniSCh5Bqn+rSv0ukk3+S3CnLIfQhOhLCifhKFY+oJCZCOd0RPCFvpMDkUpVaa3yxYwkwsqzyvhmem77VRwXnsIXRRGqKtGCeYDiSBai/PEwyBJk1waLAQX1sIEU0IbrAmJCNK4krGniC/CIQRZbCpOL9ykqqsRKBEtxthGth2Mxa1Wb/kINGkMUtCr5WEY14uVSLxBnMn3CKJ1Hcuyto+QoxhfCDtRq7XcFLps7NsjAaFVDSImFfSPkFaxVZ3HImV3I9hznYqdxP4XQtiDjHWSG/FUS3fwZJRzH77ltKIGgjFNOUEIQEjAgWqDWFj7FDDEGus0bD1aByzjyRC0wKJCGCfILauEGJMJhSNqKEURqGzzeGOGEiyBKGfcSjiRagqMy8KKXKt0vCjiExxMxkTFmuP9SJRAT5z1W1zvFGP2jk9JCt4WkhZNmUZlfhqIJHrEIKWQXa/tiabV7x0b278KKHIlz7ERVGWe/xn0+LyMSnBDiVEKhbUP005SZ031mKT0OgI9jHFHKT/ICaX+LZT3CTPEhQctIKGQSh3RKJYQa01hYkN3vBSXaIujxXIbvBRpKgrE6EbKt5kkAegww8tbEDhvpIs9OEVQIbIIIGoQnVNQIWwYP1S6ZulG+EooikHqgOsBmK6z7YtgdsXQhBvC6pb3GlByTynQFMO84N2UqHW8xsFOBKg3CDJUh55N8VzbfqkGNICmkU26HBz5GiBTzHBN2PbZBhg/bywiMQ0SzuVpQ9oQjwoSKtQL6bArAS6sFBElqUBJQqCFNJSxQKDR6QyiVADk7tLpTfVudZhBWb++IgpWD2WHUapqvPcHX0qWsUgYcs5sKcHBuIC/LzElEhIygzATJfBStAUw6yW5C3AidIC5OFKC0SOEGDdhxjg0INWxY65EayEnDcvzh/FFgSKAhBT3nFID3eCnBa+Vo8VfrCOUQhWQQJoYh7SkWdqRxwZIkhMP7yBrXuWa3FiAk8QV+bjArX2DtGKFihEqoLvRmnayuRZiTp9o4aUagQthi1WpblgfIQIEBMVhkqCwp0CCBFdmRfGfbBVb5WGx1Y7w5Lc1Tm1ccUs5hiOFp9w+zIFkUgmRDCNZFYgww21asYRHhQKfbWgQUsWZMig414WYXuAU/gCT0C5uxw6UMKTZjTQQ/hWAqjSQKgmXjUoFgcDnoViyzBYKFWiRQKn2v6otnQLwhb1+xgsSNdgYHpER+JO11WRTnJ8r0KNZjgvGAQWEOmxr5eKEliJgngxCwl3NdUCEE6R3HnhaYGAq+m2haLhVepBzKgtov9ELFoekCklKtolZtnL0ojDOGUIZdet55mPxQYQumjXckbpzXQkyix0mSaYW8DRdHC1VKiOWuBjT7wKaRT0UaohAi2mgoaLGNSVihIEablhZ7WBl3oUJNUjyruGDZL3K95XGDikAf5xR6StrJcXsPG9VmCkkjKPHx1ckcWKDiB4T6xI6iDOPKT3Q+lWwUgWUC1hBBGl9TQ2z5KT/H9LRahDQ9AIksjcNwb7uviRQYN1MWNex1CBhQR823bQfLToQn0FLtk3Jb1mEDGJ7GlqfZ0irvTBZEjZkx8YqEn/+MUIEB9EAAsAEv/7tSweJQ9gZqwumBjXheGrEAgyAn7ewdyhFLZZ6XmaSTckyqB7CjFtUrlxZypOYd2ml5xKs7tGBSkpM8zdIKYG2gcs9bfXidOlKRkDSBPlAcMNMGpJSZuQPuTkIDkDZm3HFPcXthziqe8LaI5hVDSaEMUBFC7XagUgskEgJXIpwhp5aicOCi2qpHCCsMuXeUVpZwg+gxSXgkTwQga4hK0rKICz3S+iFLosm5KQUXhyC0Crhaj33ItdGerBVtWWcKIg9KCDoR7lh+DPdCVrWJ/c62CjEavDyeU4pXp7Tka7fgU5CiBc4IkuYlNkWYpLUQXKJQZDNIKIDRa20QxBXa5cMR3CvXbNaOqY7QTy85R2LsPB7AR4LgKFmkBjWnGE6oYaZaJJf7lKPPYa1wHKhxcR9aSlAggcMI9+4bvRWyhIwVYsvyW0Y1JcJgU5jlC9EOLpxYmVQGAog83TTpwhvyLogjENebOuETA8SbSjgIg0m4xRFmj0sOUI8l5+tg4qC//OvF9SFIhnDbF3rCFc9nZ6ktZGuyEIJXpMKI6OX92LI6kwyXs27R9+FZtrRNTd6h5IiSXo+jma5H3IjKhHlwKb9x5suQbZDfoy3c4tZOxi0ZSdlaE7mVhjl3htKIRTmpT/N3MPe7MbMzOwk6SS8IJRFDepKxAze7venz4pTqIks9dwgxUGbjfYfUoQ8g3g/SWoIdxB3bCk7CEzbmeoo1Pr3Gdl4rM08v7tHIaSWvHw45a2RyjvVi71naan6QQVZ92Q4yvbMRwq048J9TMTkiX1WqY9t7k9bHOU1U2hRAgiaO/5VaWFISYhJLGLYy/IU24tFZTZT9+y9WIyatd5iCCHYtbLMOUvXNajIuHwgkEjVT1kOjlesSJWUzRXhQ6ohsM+6REFwyBAgI65hBhHOvcjQE2Pmer72xez1TRSIE7EUak0AxOIg0GAg1SuTgQIaTgsNkEopHGwRjqqFEEnO445SEQSWmET1aYMY2bXGiUx4ggSGzVDM8tLmNVeORhCU4oU5gJgbGTtsRi4ZhgQ/ghBgQbIfq2Mggcyui06kyEw4VXMBAYgVRVeCEIYfB7lZLDGI3IFjqDBjJBBuzMX+X9CsxEEaqFVgiQwkW3MllBLWal5CGGQRSGDIjO5IrCbthkeKOe9hBqwXjiySW7qG8QsrQMhm1tZWIIyRo2dFtngk9NKkn4joNu5X3RPBZIXJ4SmUR8pmiBCeqxiCMEKlvwTElidFhXydECKkXCs3FAlFIJAOADAAch3EcnQLRjk1optzGGWoZUTnQ92NSP1lIc5ezGIJBHq1C6rXNmQnn6FZqEMDZnQpxqCYmr2IyGYqerbHbt+pxT+CpZyr/lJQTpG05twmTfIhESjc180sm9HGPGVYvW+7dMjM+W+mIRkX5LCMQZttiNkmhWioWQq2fy2SjLugrwWOWK2zmqz9WUkaxRdiSE8pqRGtFzwq94fXlKvfVkGomSRXtwhpC69vFXKwgjCFb667QQmjFV6Q3Mr9VjM90SNnYu+SM27TlZ376IRiQTJMKio4bEwsQsMTJDrrqxOSVE87MTIEtgqMzEjSulbEpJiIyTepkk3vbtBERPrhMzIZRKnIpkTmWRMnRFwuPJrZ79Kty1EJUTL+yk/VIjEMTESCa71fMT/d74y29o0azOStZ1pOIyaZI3y7tEN4UhyOIIVHTbWsXSEj2qaEluXJmtEPcmiq7I1Ez34lRO6NiJo/+kjkcliLet+bESmeskfZ84xdIsGLn1LDJboO2mIipEqTeSAIAAEAAKAAAUIAAGMAOMABigACuBAo4QDBQHYg8EG4/kYn47qxGbcsMhjESowyRC7kzNaosI0y9kNtspRObXp9UJFWoiafnCUSNqdPNY7ohqTopUnEKiXNpccx293v0seVNzSptGMMgoIy0YiZCTi6U0RiFVEWxGqUT/HSJBURcSEwlWIMFElUyiMFCv8NM1vzOe6aMCGQsQUXIxDI40iE1HGCDLOUQIXbeTEkmxOc3vfuJihcmLFkYshFkxRBMp+t44aUgZIeIdzyapMplQhiKQwgwmnAgyZGEsUJqxMQsVGSGIMIyKELEySYFiC2EZCgkSpMVYWiMBDQmikkQmQJIRCGAmSgQwsLQRYoshYtCyqVohiGV4simQZNhGLaNJWCYqQ7TEiy3JIFpYiYVRXOQxMtiaYsWmLS0ti0JIJhIpghiFEJLJo1ixSRMRrWqsy4IkQhk6a6EGCGEYTKjVSFRYsiGCSQJQTRPRMqNGytHJaYgxaQkRUJkTVKrKKwIcIYjiWkSYmrJRZMLtGEyc6iegwjGT7lsjAgwl4I4XCkXE0lJ8SVpMKVLYXCayJCKCWTFoUQTJkIwLAkQqYWCIiMCMkSMlET7RkxbEamQsSMTmxMk0IyYmSSpJc5JIQxcTEYtMj6NVMV5GsJi9dCYpcjcIwlRNYnSWLgpqaRMliYssksTRcUlCyUTSKUIYIeSao6aUJkuiGXBGUOiMTLVMpGKMpkmJkyihYuVRLCcRzLQIMJkZOIpCNUxMlkPEYWULVC0qSwql3YWkndi4IMWYQxRUVUsWJIRFFMWkV1SZSyki8TESSpUiyijQ6RZInJWWSImRi1RItFxNTJ4jpSKqRMKSdudFI1EyW1LKGkVSTF5SJCyLeWYVkCDEQGIogJLWymEtaMXlcLQXklCk1BMRRUoIyCZWEaLiLJMigmLVMJJKsnMWJC1QpBatZHCaEkVIlxYQYRooRgjFVLVVeJiMsXggynkNOK+iz//jFCBEYRv/4//j/9//4tKdtGyBnXIpLiHGeZW/MVraY5KjsgoR6RTeJPEnM6bmqjFbxlRHNeZSOIvGKT5ljRRCshTeopiiHNanM7XUQKEpSTXbplJOSaVEVqyksyeCDmqm+kIOCFhikcxQwpN6xTO3SKTxHMummsMOELkcYUR9u1yHEeRFMcR2UxUR4IOMciFNCmO0cQ4hycgUgICkimdrWdvrSeiCmKR2rggFCf6SWscYcYVscIOZ2dIUR4xUxyX7sWmLprKmOMViiPyOypFI+klSzmLmLGOS5yLOkJWKYuzoujkeaqy3HE5SU7KhWFI6kVYj3HEOlt9Rd4g5MdrY4wcSlJ+n6FEHJYUIfjBUqLBBzdxhSfSXW7KECiKkqcmUhSbpL29bKIKEFaOZ0ZxFyWs6GHDF0ymXbmK1TwhW5hQi5Cm9Qgoy8YVGKYplhhxFrW5nI4j8MOI5lKGOyk9UQpihHb0jHN8YUxgoZ4Qo1rczqGPDVCggsbmFNLIyqGBwzplSzmVKR2u1bxN06MOG/ZSORTYoYdpSKaRM/GOIqIURyLTFMplgi0nLRJoicwoEBxG6XCBwYKBBYJ9ScQKIQU0M8EOaOJVEdCPiDhHzYolckVrEijHRPCFGfJPiOEFEZyNySiOEcQpr2kTjFwixCXmq4sjbVCWVvQ40qo5IpcIty+RiVZFS6ZRFq2EVFeQ9UZPeQtVJKTCMSqtR6KiUVudsZnLVCE0QnNGCSO3FPK1jSlkNQUJEfCPIeR5129FI+CHojt6KRsM3niE9quaqtQkYNFPM+yiThwAtACggABYBgwsCwQKWEhhCyTlDcDNPUQkWEV7xSdmDCUqKHlXPbTn5pjczvqXey+vJykZtuT10ak92qLCGs12yyvKaKDQw3mHmDxBqiXEqHjHrnJTuN6vggeIp7qculFNo63NEXZm0qXaZqCBYYSK/goFggtF256EPOB4EAsYNVo1wWOC9T/DVTfWOFhGjEhx7q3okJ4WptqKHTxd5NynyW1M0MGzS5wn7KDKFaMwgz2z/FWdC6B25VFE7YrFn6demWGVC5Bkk2enolFznjDCzBzBBYUseQMeYEIFnjUXljilCiHLaWTeIrCtUTJkPqxGYQszkzC0Un4chaGJ+rO1mRBFsAumGAmAPiQlfDQNmNyZkVkp/NWjd7rJ6Fo2GygiXGiwgNHRlB4T8TZx3rjmdbq1ykh7/aMbMGSvufpbImv+bpqLolzCWP1tr0uy0QwW85Y3NZ0N7XXgvhI9Wr31K3Pvn3odu7Gv0tFS9UVIbFkSOGxGkJUVMnVECr8noVTli1JlL5MZrVqwgXtmlWtwq9XfxW0X+0qL67xym8l0ns4mnt17pISWPR4vjWICyBcAeKW0CuBYYpUQdhmqndhtmxTgcTchvI/vQkB0zUKlKDDFYYGAwFvwR+BIhF6viVXROdLrKYSVvXr2QhKKqoKHzRM7D5kzbcN/0oWKuPCGQs2/VWpbnY7VCned7nOUL5XZWzlEQAagHkuAVZOhpDaOxGhFPjDPES8w3CEWpc2R3l+M3UCiHFaECleBXNp1GcZlIiTnp3IhFpYqg34/pSLOTgbxQw5A7CeXByWXYi1Si6R9Tm5U6KVR8UkCSfkHafsViA4aoUCBauBozHfjF0dgCOzlq8mkPBUP4qyyJU31X14ANwAlBgQSMJeHaeaWVwJ4dpqRFyq5r7di2UxSBFT2hrSEFKDLQKElZi8l5nKOYLBzmLFB7/0bSdE4UBFzwu6zSeEI57XYmHKf2q+bzB/jb44lNDkwghQFv6Pd2JI0kP8RqG1PA4YZ1SCaJI0elYRPyY1HEY49tp7rKvfq8eQFR5mlOqCVv+ehdC4LKB60VgRqV2S8M+ezcBGQ+Z7osG4aWYwgnCFkf0x000VjEhdwy7ba/7uA8TQuix/C1syQSlFTN3VhgT/t+ow09YN2LazCoGCIcJ/YnTSRpWwEq6hUkqR0bjO/u79vSSKo3HJ6qSdnqSrvaV6uvKQVZW5KOh0FsOvwfbVlxXw/dlf3LHELNhr+DzI1JlT5MRLTIMcA6THgG/n0hCBl319WFSBDx6pZs9uriKoe8ZRC5m6nsjc5XGjHxQWo2kZyUrytEjYHmX0nnEbHym27EOIdpLpGdLx3fHmrk7hyDtYL2mW7czhBXC0Tt9/JPzzEGyb7T/1yHRuVfVkHcQhhvs86qiBegvXlImSnnKBU2SF0Sr+Nb7Xf+1jhPIzmcj7ZGvktZXz0g14HFeiRyBQ4SFkzwoHWQCzD36EEzvAsfsOi6ZBVXi2RHrxRNjpt6u+a0IGLyxLbS+HzNKpT26RQnztVE9Gvf4jdj93z7LUAKWflF/rqjl6ibT+7XNI4m0aV+GX+8TRc3e4jsc3TWnRD3tQfz+N4/NGGc5JnwbnuLs4qoqjq8xOXXo6a23X/FlLjUmkestbS8PQKIBJTUNsD9dj4Aiac/0DquK2YZ6z5aq6sPKig1oikyDRL8KEKaFGFNkDJvRCQWibQHPIa7rPaH3WdrxbIZcszW2N3NC9pxlzzCuUghNhNilebP19qRupcV0SW9CbJRPqBnnR89uSynIY4FAQNt8j99i4DTRgvv54sZU+c9xl2Lf/2CZr+7d+FHKqlcWPOFFjLNEundsPblLetSJw0KYnjDCYirUTEMKkifO5b2+X1Ulf10HoxBs3eOn/oRIZbH4bqIUxVX5yD5iOpF1N4k1pzV7SakSTdWJgkC8WuoUgnsHSh28wJHovs+wnqyT7uzB2dONTKwpN5c0USi2zxqtHvPxLEUp0l6Lk8R0uEF+EWFyVIlxwhLsEEn2GmxFGRIojpDIMsPx8pZVAWhYATRQgJAWoGxaB6OZJBMJJ+NiFMp6iktDyiUpF63ayqVOQe5DX/OjtpiSe5T7EatslzLVoMtQRchIf9Uj/mx076pgeVt/u7lR0A+NZ1ZF7aVn/HXu3+1RckWO8pz3MlCmDCAhXKHzNkS5pJGGbEQBVPZcFwgyy4AZ3oJiTERkCKehqdHg4nAxLy7nrcrGYTlBdaOp6kBGvzBqMDZ+ESpKZ3MjEpvWHuei0WUHeJO51bSdqrWYc9iqZDxoZ+hu5Roybvi/Fl0xmyIn1auRLqcK85TLLvIO1+ki4bLeBlgwghRXFnlEVPmBl4i+JALgYliLYWILAjQPhZCq/uxiKKgJ7pPiFEpQcEFpWSCSjm4K6PgcSmqqRDWCy0Uc1eKvwK6NrEb53dLF2OLGrOCVMGw6/3g0DNI27YturdVO6qNc63LNUvEp12EeyRazqXIFRiRJtAsseA8xVDBHxMuZmQdgZTkA7GSHERJQJJ7AwHnD0mGY7KhgQ12VEsJ6n7tpOuq9NSFxuyb1oPU8qtSYSGooSUs6GgpJul06xaxihl13j1tb//aJZd+lepw1SPrd1/2hB2S9v/ci0283e5RloN03ahO3fDZgDdLxhwippNTAW1ZjRI2iYHtgnRwk0rAsCycXs+GM5PBzSrUzD4quyMmJauXyizeCn7GbVpow+qAue4WanYcy9E5sMKeylfgf3dnq3xf8tKq0pevqSZ6vvf+O2NtgvrGFWaGXaB16g0ywrwwd0kBDzAjuR/nEFF3PTNdYPgavQN0gNBfD1QAVFoHIhBCZh87CYshgmBAlEZKrZEhcQoWi1fr2cENSnEyDyz3OiPGk7UOje6ua0xnuFtwLsQm8P/vfVolk0618U1Z9G46jZ7tOuY36WdGGnGVXENPNRjjD5CqSwW8Zj/NOlUxyOSPB6vApflbsoUjMG40CEsLSJ8JUqKQOAhXhA0tmCSzRO1vI+K3heITV9PWwhVWC/Cm4K/qRcqb5XGYKtdncyrYtMKhayw4et1efs5O5R0xE5O110MvWL+/VvSw/+n96OeSuW4Xb0ljWXu48UpV5XXzY8hYry18NyQtbBVenFFqC0uJaagJ/AhVVqfmVwryFe3n+TW9uTNRvZX1RtblVEH9dKEzYmX1fBT8GTVb1JJownxZtB9AzVAbQnnTfh8VZjvdHqNKEhH6AMsAeQjwL1Tg2ATIEPKVK3S6R+QhZ1i+rLlt7KnfIKZjbkEjRNiUqSv885p0TVp0O2hX1pfjCUSUfmR3HP9fhfEFAwekTTJRgRUCu3jFr07Qp2S+YyRB8zZ1AmYWTbPZtOjzI6vrKeLH+JEEqI7g1oCM6xq5a1j3LGERYzD2JWPVPXYLc+J+52ZJKKJ7w0RHzU/+qSHuOKnZ3u2kykQOE5AOUFwAntOpUDLh65eof8EcKmi0ji4C5xls5bY5WBREQGIlBxQwMtNI4sYzJuWqydkKJ9NkJ0xuAwLBsSnCeHblX/MLYVxZdCydcYrPy5bX1Z3eOE3Vx7AUvfEpmCdq0htu0yXTmE7/6NzQKjNp+1UJUja7Rg2u1h//lNW8P1q5ySytU1lmnd0wBCABcGpi94CGVOrBUpVQO0ElTAQgg4/EqcTXqejhGSAvTKHjMllvqn0OF7CdAkqPqrWDTRo9/JSFTIGVAiP3TFS/ZLLpJmiVGhEpXcXKnFHFmww8YUtc3PyReLA4b+jcNqzScjYcp8fdOFOYi3cGLqU3HQ2NF2c8qHEb9nVftv8bGm2sVFksZKhIbKbIpQTQ4DGADrgzaAmpmdArsZ2KJIiP+KOF6Luw0pcO1BLv1sMFFLq4BN3Uz4sWlb3O0E8OSuaVlBnPmJphi2DNa2DdKaaustptgZIbg+w5In4iZJqxetwNVtE2YixE9PJ5ny2/U0r/p7neVc1xCLwlrXwiCZdPNhSDrMw9eXVIlQFv8CYO6NYvZKdwFZqbxV4lFgrORngB0gAvQig4O5wiEZWDX5aMoCTgm5/3T4GHzgQ2FMy8EaCBjnj0NasRAt18T0TXBEiqsuXyU+JhK3YDAv9L6dF+2UJn7EjG+6WLkM0FbG8XO4fzYTMDauhoWZ91wW3OCm4dnHJFqLmtEqGNewgzffGRpU/6oYwdeKObWl6D6eg9lKC2Wk61+muasaBqy+tyIJVwBHYGsOu37UesWDBYyf23Im6FuCBys1qWfyarJeBkQnfvmK7MPIVcXYRRDTruvx5TSn8u8+6tbdU7rKnokJob/zelBEC1Laf2ZxrMDwWWMYTyoNTPt8qNYd+inAaAMOcF7hqbT2HEApsdQs4rFYqAlm51X/33zui1G9/yMypd7KciMGVDQh5jC6wKRq1PXVjxE0/voYA5YA0MLmOFkWLdgQ/ANQjSLmR2R1QrQGhmMCVoO50k73IkxbVTgnQZWn561nMmmJR2RkQuoiw6VbTZ70tad9xXu8lkTmUsVSQRK5ur4B5L11SwlZ7Sj1MKh353Zfn9NdjZVgl/47wVVh6/JFgBX5OqPO6kAp9LA91WNkfU2U+q7NpfRzzNme43Ik0Ew9gX/aVMovopgt/tAlR2VwDvwALeGYhlv6zwQFIwBBkMj7wFeHpvxBKoGUkaQIliPK+2iGo5rCeAT0whGNJlgcISliZl0+aCa2L0VutMyTdPCrCvmwJu+//jFCBIRVvuVBJENtg7GCJIA+vry9ILul+xz8Mz4kbU73I8YiJBpYPd9l4oQDvyJp78JS/DAisndFwtNXgyHYneuY4lR1W1ilN60itH/OCOqH/OYYlwTNHvbrL5Pq+h5F8F1jXzHCCVvLTMFlPSAInGRbE7QuaBYMDOa2QADrQAa2EsjjSGgIcKWgGVQHWQYRLR+2zkDFBByo3fv8PcWNXz4askJDH6GGrKiGY+aX5VhynYvdhZgqYSyUQjpeeecBYWWs3to3pvh2DVj851GVINGE8G1EhsKcJ4LF+VtL5l2EucnxtCOcep3xrW8eO+RVzFaT6Gq5pYEoPE9BpVZRJBpJh/rz3MUE8HlOwgGPYn6wjqBmsDOdvAB94ADEAHLi9wtcLFMigPTgC+YKmmXzQOowtwAp4CKCUkLIEZzYTVvRYPUPuLoI1eXF5wSJCw7TK7hzIzsUUOCNUYo7mXPIC4Dt88cSW3EpmQdWx7LxHb9iidhDpWogkXg1knr5OWGjot7drfYLNCWD/jQE7qRq5FMMNNgtl4xo5v1zna9foGWh097Su3TeXtLmQ6E7RU0QlDlIPYmMQTYABToByg6QigZKRUHdQEuQOli2Lr65qaQZYBMrvWBZrekiPlewtYNUIhPkEQEMwgeNg9bQi05IjdS9zIHwuQSjTnd5oqkh4iHfJfW/r6/K+HstpBZ0I4GIl+oFWP1Pi2bOu+D2tmdwxK703BlCEDMjaMlOpy37POWCRazuub/fG6d3rM2LE5Vq0cWETJ5/MXDD5oPIiC5mwAayANZBNpZYTWckO1g4SCq4vW1eo36YU4CJCJVwZuxtv3OOs3JkdGpnykkkdRLsSNZdnbl5spsjqlFu+Vq76q/q2sX4s0ZypJaFY/Scf78zNx0j84kakKGcwvir+oPuO8+VYJ6I29/RhpDzEmZkQs+Sas/9tSNKVKPnsZohQcyowByDgqw7B685dMIShU0G1QJhvRgE8gALCAQMkk1sFfL3ApaBqULPlTX25niugVMUSal3vqagHq8w7ufWcyIEMxUANChFE6XQFQbomCGGHmEJo/9t7fwei32FJrbZl1Pm3Ze1ar/NyrimxLQksnFJjNqU6wfjb3zkqtfRBpK7cVTprRZtYmwq1mylarrjfV8Qq957yQs1qqokuUQ1XyLIhKL4gwKAs6EUw70ABPgB8QuN7YcOV8CQYFNwkmyewawOSYCvBxb5bE+v6ZQNgPNR4oxAplEKBPQRGETry29srJOijW1L7VvnvMCZ0wbZFpjC1Py25Slefy9Pk5kMkKlxiDRjLwCXry6fqSsSptSxqMyhgSPdUsUT3oV3bd06Na+Z2Gi///gNRbAwxyVNz9LvqwanYuSBuEBEcsuBTAAGogMUTgkaEXl9gSVB8057Vi5u5zmgT+WWGWyt+bqVX90s8sUk/pfyfk0X+S+uzYNYsWY6JTOvNSeeyBpFGLNRAAnp8rxpR8gr6WZHoPkZuwd2xlTXUtIh7E79LO1/IeI2/hlNysvvGgqBQUo1P7GdfZF4j+eu+mLd/hq+tXZaX9apetFKQVnBFuIgB+gASKeqX3cGLkLSh7MUF3KmdAKpJL4mZocxrYNfaunRAvUSOORUuUL4/vVjtJOzzUiX0RM02ImJ+nQuhMiUu5t9621P/m5z8VwqAs3lZruWjn3KyseNaowQ3Mq1zCn9W+RIpQeT5XTtHvyxnCaP6kwVG6Mdi9lrCu4t13Jn6neSNFsQpaEryRIqoAM4A+BRP9ovIeKKQh383XrRCjpcl3xIiCC5B1LA0U099CWSJnApQ9FnjjWWtsKnQxijX3gsA4ezzwAlVra2HcKmcF8ffGUGGkPkklePUUwqDX2UMZ6DwuiHSenNUcBzn44jJWCScCYvw0gRhvFst4hRsr63CpvkVD9ZtgkgaNthvU8uJnACfgO1a9L1/0Y61m+32VVpnzkaouCIIlZSTtQnlG9o8U/5YtVtqK23rgQa14gVxS0L0Jo9CuvdAuYZKkZT7Z3cKLTOvFjTqlirkUE2j5u+iEFooiZe1FKaCkO4rz3hLEOMed809FirLmSkgoA+b53u3p7x5Lkm2TLH2wUBKahQIAtEO0UjGwClQR6v4zLxFY7wSN67+dJHMXpJ2wKPELpQsO0XulwTqSymkrCXMQm0JzNzdRO8nKKWQe5Kj7q+gXMtWVumF8xmxaDTEkILVck9FKiUzrJ6vozbKzEUoPXa0Fma5uh8+5VizF37qq6aP1WJX634Sq4i6GPRxEnEAY6B4rdYzfY05UJZSP0n6pgL5r28OIuLXvmwWJIFLO9nrXHekNzE/nRN+SKizJbM2VqmqG8tyB4iY6zqRNza6coQkkViGHf/l+lYL3VCQ+0JCuZWEsrovzvthEWMdOo5wMgbP+CcoNY+B3rgPq6k6bq5pAElWbRCWIXxvmBCQHjqjCV6prQApwR+1lvp3aNSiN44HezSZmLm5QLDJv89DBth5spuLaWaZm6WW4I5LrQ77jPTYVFfd2fkrZ+TOsscY9RppQ1Ayx7TXXwNnVSqFbKeN759xxmzvPYcjsLXsqzuPIPa/U5Vqfb1P8guVbLcmzxGcR3wSEwASyQCoZfOH9iEtDcTJ3hE3IVraw0LJJLdjzzWCKPrWoyPuSUsnwkvoOMGtaxiMpGfGxIrU3hPfhDjXkTqqVKihBKiPTdd34/J9Kr0GoYcW7dpC/lbpn2nnHcmw8BYzzvjxj1kt9n+viUBV7yZYkGIZi15i1LYFlDnhrkJR7pNqDtTYVHK4IQaGvajUrtDmgX8LISpLwkZUkdFKzcqoKnWRBlGxMUgJzJcZgg5SjxTRyJyDVqqYWjxjTmWlbL7RsiZaO/MuE4kbpaR3i9ES3dx5haQprZ2ktl1/3p1C+VrPsUuok/xk0LqnWSXAIKI1BhcO3zvGVAsUUkhZHxMxgjXTGDh3qvuJpRJrrtvJ/f5fY0hYnq+KUnm+zo3xsaDujZxpjECHMEnNaXqy8lNwDJHWrkSPidKan9kY0S2pHSuv9cZO24k/LnT9v4kxU0On6u2qulaoC8+aXGNR6EuGZwFUkKQV7E1eHC1A0g1c5z79WQwUUSMwMzZKz8r1xKSbnxfe3PFm1c000QicPEi5NRLFJXIPkldRYjEE6eIlxzBeTNicmoMIwheVodB52vcrOs0a5gO7p119ALy1A0JNKn1XuxM/J7RGSCN3DvQl0K3D8TgRdz0gzUAslsIt4N4Lugd0tInyBMQ14LiPKIQLoLkEfHpGVYN7exNIk9da6ZIlqakTu/W7qLE1R14oaqIexS5vqJGKkUYvRfj2FLIw+j3uAgTR4OiHX+lkOh+rU20l7KcercuSuX6dOVybeOlCFx6YWeP3JOJQE/gINMbdALYIY8QqX1yKAloWwKKNUJOUUcoO0GGNm5pOy5HLb1UeOzlVXVRxyrR6lmqI6V3SPkM3qx52kBVJ7GhaE5heUHUY3z6Mc+LgP/VbZ9BVqlFn6KUXrnfKTOS2bmW+TKaaP7CqxiqgWXWAGJg7dwJshfUYNDLjjc64eoaYwxcDpDvhqQl4thIGtfsYAfYlbKZvQ4pb3KIw2GbSZuvirM21SE5H3UyE85SCBNJyJTOvJ6qRSJPz0Ljk2urXviMGNmQtvxBQSsGlBRQr45YOCAwoPGRv5jFgyYQW/rRdzP586h/HSMAMgNQFCD6Bkg+QYQI0MUKwHSC8GE91saArz/Jxaqjb4v6pcga87+l2jxZtF6B6EE3kepF6QT9Xb8dpI3X/N99qekFOSStvWtdM/Y2IR0RMsYj4y4U0KWLK7ZCxXQ3JRZll63o5rROkZAwD0N0bwU4XQeYVg4h3D5CnFQM8eY6BYi1F6d7PepCFammwiEN6Esi3TqqjWWB/bV0Gg5pIsJ8Kmmc8gUKgKEvOyaaoaiKulPPq5YuppTpsCFrDij1+EwY9JkzjkhvqU1llShzqsfSRVS8OYaYgxOCGPoUASQUwghvBAC3CgGgKA+hLi+EybxuNF+Fswj4YCCx3ZQKGyyKKmdWgFVrff3uZm8YWmF04RdIWFgSkl5q4k6XxcNSiqRmBFxnQoo2tLNK25LyLlH2/b4/dbXIMLEVqm+qXbGMhoi2JwpDlGsIYRgYRLjKH2N8sxKikHg4x4tdAGk/FotF3hl9Zh1dvxkh5hM4bSVbTIg6LkWO7ztc+bOF9QxvdGVAdd6REkzDMpxiB5Xta53wb97GRaNWQl5QAQGhwk6vtFFNgJD8FthvLd57zxddvnw+LqC6JE/jVHgYw0RthVI6XwjkpL57GgVCN1ZLpD1NclK1skLqtjLpOyAmP+rxfbDalcFhGAe0b9xHMuy87dFBjSIMQKjLiD5ZjbQ3O2KimT+hbwEgA853wqAuJ5XBPVyQ+YRYMSlHM4yY72PopXDOBERtnKjf3BNkvI9AkOLVsAgyapFxJIGICtgoFH9qrYzsOCaLcldHcqts/5PynkXc6kt6bLZIZH+hNiRN38qs/Lj29REhMozRTqyj+GXokg9bwo2ov7FxCppPX0oFI/bJF46synMZt698gpab0QzRRZcICkANG75JWEDULp6zfReTbekpLvf43bdlLmEGfCIqIG3TWE8Ia1fUxglvca+uSKH5grjKdCNpbSjNf8mXVCJL7oQl4OrVhW4UQUJaUKvIc53jY90PelTqkFmT8RM+418/tUDX/1txglqKqHH4X3e0yvggyyUT3lGRGxyUvL3ZeFFyb19JaqK0MLPECdae3YoSHwKXkXlSXYQjMoWmZTBOcigWLZIx0eNF/iGdjN+MK+8kXKyprATM6Op262bqbzD2PwGmDoOLGVuVuZncEz7a1xrWY4apxDt8i98dJd5DKuVaJLajIXZwiGd6JICupdgie7En+uJ8tFDPf71wNHwjboIH3yknExjYmLx6SVBU7CyJOpzXj01qqzC2hAQ6mJCTB4/kpE+JeykCCg/ipd1vy3PEFmenabRIiPMGRzx4gwY1SO4slrNeE/hs9ZRQp6t/9kqCvu6U2i7y8ZvuRi2bml57watzPVZyZiHViKZhgh7T34xBw+DOLJjYhlHXCsAlKMyJnpT+6c8FebgGXO4mCWmqvLbl3CtaTSBgi+IxEVSL2PX10cIft6C4JzLlf0dWQd6JnNK96Q4mLRdNENxEpQYNHhThIdifbCHkIWPbJKyEW1vvcPfy7SS10eNKrKpHs2IpLQU7itstn3SNPV24rDv3ruLENl36szbUug9rCO5k5nb0UvYdcFPeZD+wP1hSxYWFkJ7HKYteKQvyFHbQSgcEO7kxClpgo1+ydC35tmpNakSoG7zHipYUYB7l/haRHFGE8sVRxU7lg8V/HKr5G0YSu8TgE7WijggsymF4Bg3S0FPgCOYdcGe4Xv7TnZRElh4MrlUH2/zESHT4E6E0UX/EUkNYT3RR+OqiFE/ROlI4OEA1fUcW+QEHcSbiAqZhvcZaNO+i4OSSKs8Q7ecGFdaOAJm5PhSb8FOyjTL75g2SFSDzrTkbfl2shXSSxHYi7v+GuG/a06O6AdjMVKoCpOvj5RTPNI5cLCyfyIQ0Zha1fYmDZHUbgXnWQWyiCRJOutcJvQJaHSOe+Gy0YipAi+og9gT7uT6KC3EVbKCCKI8sSvQdZwVUXvbbJxK1Dy5GTfm4j8atiqTr6gHw1vmaZgiDwqauh5RwfAjFBbP1kdXii5N8t+QGxUUNIbUx+4sLgbDf+T8zQPGhlsNqJFpd1Ya7DSQwH7k30+GZkBxUFrledSG19RENFE4j2KnD+n71iVBOT6REOQMDCY8TZqQKY9ZYtEvAN8mLmgUSom8EKhuqLnNRsqjBg16/Ylkkb4up2YEbV4P5Kdtl86PMCC+uG/DFc/ReQpHW1XhRFCpjkkwijK23f7Kx6vzqMYCauRRChd1Sfwn5FmcUk7MVA1CBCZTMQtG8ml6UOV/WMgCDcK1GE2YJkAkV//0DLJMq43Vgsyq6ggQqN29ansv+esIhuSFaYjvWVF7T+X1Xiq51BfUnEEP2EP9ZNSo7TTdWtzTLV3m6ZSR8hvWUiwoeqryjXkykLZlaA/YaHUcmC7cWD92TCgBW4nG5J6YWdTaN3JGizoTWclRByQRoeRLJB1E8J5ErEpOOdhyBG3qhLO1Y6MEWRgDiJYXDSAysGv88ydn2uiPEEW2/hFdkiCn7CibS1YmEUEIEQ+MxvgE9PVl6XSsZ4W0O61BYeVJ7M7HkzBkgjv5WbXLWAim6gsr4LN2av2xbKahXI9+2Zqe8xGusjolB7x5hsj6pqQUJcQtb9LSKr8EBWQujsJS1x5gNBJwYVP6Q+IXNRIRma7dKI/4oFrgYTBLwO8mZpJphhtQDJp7C5mC9dffLCBAsp5Jy7bjwza8lQCX0svZtNjFhMcj8Nfi7BllCqi5XoVJdC4rVbbpCh1WyFj6yXz+xu2MO+yTmx6YpYwMPRCJ71jjewP+f9r96dgi2LB5rTqbb7LE66rWkMsiMRX16qFyvKpja68kUF7xDYSLvSKOEU6ayP87MEbhJE2AL8uKTwxeX2GY7SLVTAQnt5AOr3x8xmNv5o+zkRk/3h1Uiqyeve0kMcIlDdJw7GuqZ3RKKrDQJVAQRCzhymnq7VECDbrSKaUhVMzJN3fevZNfM+Q2vQSfqC1BbJ8uUZZKVvYCVdw5UZ5twiP2er8kcTCDprbSrJIo3v+S1WicUI4o0ZeQLSgMzmWsKkKzbznvPJmQua7ccgr9e7iXQoaY+wLMiNKjJMjPwRFEiqCEmU9nTR7Ike1GKqGE11HzXwteFx6qEYi+66kjtVzbpEn4n7uJDNFy7v514qiaz6OxU8S8ZiniawTMf3MNq8IA9xV4pzJekdQLPIZ8+r/JhVEmUizNTPRGvXQm0JuzTXI4+guQUvzIQtqNKF4VbOlzWr53W7WMKn9p+FDuMtVMFFlWtKmWH3EM4hGbFfMYcyRjFdNT6Zqdc70lPW14h4kkTzs9S6SGSJrqvrVaPxBJKjczER2usq6n9NaFE26y6Sw/TpwnX4bRFqadCe3JIjXhMZVoNqAjcQ1R5MYVAFCjABRtmmRVykGVNMX/0y2hHrJl0CExs18v/TlJnaHWgjQJxNaPbNCMPbYqQ3dO2IWHNv0nCBZYagZPGE8rIePqijQixoty/d8twSmy7BXxi/BDprghMjDs1OnPFbuSgUoP7rxQp1+jJIOxN2Pxc4gvKzWmzz99s//tyW00LHeZLrKidTObflopCslT5vx5+eZpaWAebyyybC7x7J3xc96f8SmlaRaqVcunxNpJqt/z/EUewTFdKnPFaa7v7rXkOFsRmWh82laO9J0a4e62N7NJXLm0X1Hba1/2qBO7IDcSEkv4VG9rrgcTo+vcJpRAJciidGoqtkRVzxnXy54n+rsRPg/jdUsStZx2zL0zaorq/OrwRMFm3xukdKex20YczVDvDxtJEoxLIaxL3ULuepyde87spSaYyq1Gvkn+nx00+xCpGRBR3tpw5ZSM3DbponekXWROWg7YjowQjcgFgThSNmWtqUNnlgukuO5RwZhpqbD2R5Uz9tdJigGMtzbEtBrLC0OaccuS6p1O2nsCa3R+kRQ/5sPZCTR/qruh6iav39lrMnSZxMGiwIsWhOO5Cuk8RvFplIR5DQyZWZFqHABh4Si6dcGiU7P0ZCV0qZgNcNTdY2t9mdUkSfn6s8Vh/VuTcszhWoOPNLWmvMtQnhkRjzzkX628OWGqVaWjdIcSwATAztsvztOYB2ngbK66KwKX+eVJyapd0wuLDhGU+TVQXkMhXvEzXFUNCoWfqd1Nd6GHARIHKl7ur2Pu15zFkmpQSzQbQH13cdKUlWVhWVt0iZ0aM/Y/L0H9k4olJdzdDWD5DNnxo4VTnDsJaLvkVptQrllEyIFQ/O57ijZ6Hsa6h2J4HpnjKe7hLvLQ71pHEtGKli75EdawxsnEtn8XJT1SN15po7Ea6CCAQyOfeyxRja2AH3j/+MUIExYUCE8DYRpI0MQmpd6Y+Vp+CrfkQzoHYBhyJw5MRLmzvtWzFeuDsadxSJabnf1UGhXeHmTdoN0LIthGKAeL1HKC6iEpISjUeDr7Q3ZUoeLeKZOIWWRP+7BAKCAGxUSsG9wcdyyGFi6g0WFP6+BlgSstkQLPtnb+y9gzsg2nLQJVJV7k1Io64J9TwPAxNRxisLJ8+iOisG53H10/h0OYK50qC1zGdVTH1aft93yjtxjTBX8d71OxROy72ipu13eQeqIIc3yDRKAE44yVEnj4Olszse+/Y4BFYMWKKg9uKbi3AdCXPAieLWiRQJcE0Edyn5PVGuwWEG8TlvvSvRe7v0FeuZ20CunbHvSMFELuyh7wwl7qj6xq0um8mZ63bTivg/cKrW2sLU22sf58UylTXGENiLVaavpEK58xYWz12DgWDUooMxAjFIGwN9628llsN4A1Iq8C6oKBlFgJWRIAp6GQyawVuLFSw4WXLKdyidOziK3nM/DGniNmOIAyanmI22Wlc+jtdfRknCbPqom4taaGRjktFmEnn1EeEraka1ryb4WuLCyFfRVY8SdId4DYqLjm/t5IRZrG89TbCuUTlfdJ3H2QLoAd04YAmUBdo/YAWJxoAa6BXshvgC/CFGm/640i/XUcOJBCoWr/wRsKy1CfsEcJp0e+Xtey1vPzWmXb5hCzsUWmyuBZtL9PzjFyWRX7UnlUBBc3SKtf67IzKY6MQp+FvRdF3t+zhO0plmxeYwDtZv/yIHf2gDHAFoKCB/4KbNuAviigCgQKlfwBpBnya0Vx0rdo853KOHDG0tiTDOqWkgkIxr7Nx0OE4P9HcZP6ZYDemcIYn3xclsFbZcpM8779o0Gxl3EpKUdHDeSkeX0DSqrk3tm9Jsubo/lx/H0z+/B1dSvcNRcNF6Ra2CcgPOOyDfwfK5gBIXFADGwF8i0gCiHID9WBmxWARqxepT1QulZpRSlvznYXQJe47V5m1CjWHywWV0eKe5Lfl9MA+aJMpcifyS3XMjYvxOXLuTJpkfZuhXV51z3za7+JZH2algU9TnWOj7OwN2+kq0XtbPe2snzImNAsQMOOFAaWgcAggEoAOfADw56AGQBNAeLITCLgHDP5Hu3DcAoMEj3GIwKY62ri+jLoKQbB9EZTmM2xHN6LC3ChJS+OHWidQ7UYa43kPwWu+npDLO0Szn+Wam53Oe+xlr+WC1mnK/2EhBYjhyO6znxBtWLpBhCR0AqqUYmbgWufcDXz3y0Yl3AEdMfoHuQyXzALIJjCJLkJAB8Du7tdE40JctnwjSss1WWKCEyeFQsC4FinT6Oen5a440tKS+yPWds74jzpiJW99en652wvMy3lORCmmI9eKs2j9mvlv+9uOJGru93REgR+a+4VrUXRYrOSUMMy3ii5fxO7shWjyMDzAloQ00xJZuqAh8VoA2cF7r8BAyyhtr3RSwTpWxp7dYS0V6qMa+sSJFrBUB/FGd91YL8r6PGNjng3AnX5K2xAMUaI5Yc1bXySAjIobnsoOATS0kBt7NPETketTd52FSyE8xdgabdJyYOYOJA27jCoc7ZTeBYXY4JDoUMQuWt9DChxsKwE8tJ90BJt1hIwp9zHGPlNWpsBBGOorqr30YJIsCnOjXIk3u6/PlH8hqir+lMnWZWMen8qU7hTmUxXa2u+cistLPS6Os5bjdljmdREiDTOcgNjZXuEfjacpWxnlvtOZWHRDUKQzIzVj4jFtO6CcNm4iQ1S5qCybCFScb/LStTNKrsyHgrDNd6lkGQ2U6iWQh4QQZxLrFRG2kFFFAblYSSyYgsMAvhviCQSMPu+yJTlLe22VN6o/D/tUi50JJXwjs6GcRUgZOxTbZxMRsa3VWENmgQge8B8CAhC/UsQL9hQ8dp/ChA9d5kwiEkjF35OOTXJlOrjaKqddphWE4744mXCIoul4+iHIzcsFNllRcKBt6F4p4kLVqIWbW3qKEa1LtwrSwmSC0l1YOIzdDCVKkHaORaUt9HlfJsC4EhSDkVoHUtdNqrhAZXm8ZkyPx3MEREJxGoDYmiGZ+ldF0AhM1A+lHIv0ETIhJ1SxQ5X7ySSPP1KQLDLkv3o09cyXfRJF95p+Wfnq9Q87ZzDA2tIfe/efGDZ4rc68QoXOy5d05Z8pH3Equn4qUMTlH4+Vc4oF0e6GmXNfb47paodLEyiW/mucj/+ERYlK60TLN+z6dOu3qmZ02zEfJMIMRqv+PlDlXA4wrfq5JovsLpEWPIj75qhHpAcUJmdpCWsFT6PDk68YQVrxR8mTJCh5MVE0jzp9oFikxE+TVjJwkt9YYsH0BWQNDiI6uNFnW5lJmydI2rZ4xrXCK8i3kT/3BapH99Tjel508kqbYNJU446XZPHrIV7TX5QfE8ixLYubmUMOab6olg2ysSQVj75FGjnd4GiGrJZKoy0igoQoTdfXI5okc7RVc1gMMt5jk4hiDgrg0DSfk8liJXw457z9QOEEX8keBd9gSQQYNejBSEJRZ7qf6MWhWWF3283WjGvrs39y+mmiHdrpL8U1yW3U8FGx9k8EICa7j0cucymbQjCQ2xg5Cfe2lMwkTw4FYJE4CkWPPRq5hiUCEGpJUjU6wg53fi61tnBAWYXBSBpuAjC8VvkqR1KViJQaJak5w4buuZ3TNaMKJCyzhRGiRPKk0as4YGFn5FHlmHMBejAjPuNu7s3aY6FPL5c7imZ45zSZp7uolRhljU0pk+i7N73cctuGHSWe9FXTRHKRFeSevnCHbzKVo0vlBF2SiOUFmrMEQJJIru48u2dLjZYIVy1kpVKf8RMrdaF5z9ITwxHhsjBBI/TqLnDkJTXTzYMGHCwlRGCzacV9JWilxwoxd7cX8OQh2wb/3OuvyHO9c+jKWLII7bgw9PXnbmY6KqKRkpagQ4WmHOWWp+fFb6yip/TseawiH4VO8vPuVYfJKuNZULJ9zEQqZaT90VvIMr2r6E/ojDkc27bcdFe7YTd0U3tRpWlb+3yP5KWrJO6298v00snx2mzSdkXm6EH2CaZyMW2AfDDgSFRM0SuBU0mASD6licSGmQ6dzKExOPUu5VuK1O6RWPQWCS+c3KjR+Sz5C+5tELhNclXh7UOjEnrWQl+PLu/ZzBbnTQtLkSMO7lyI+hoS4wwHzH/BoAQIHl0AhGvlnKToP1Wm6i1KCH4sCpFijvyGkFwZ0CDY1YWjz1oQsUgE/6VVsoeoHOCAfW2FXil509a0ZPUdfOhqLJe8myfYQ64A4kTkQvMUqShd2cyrj5vwl9OkgVX+J7TRHnBlRpHT96BwNCN/icK3/fOlP//Oaeenm/mBFZleH2OJGQeW5O/G6cwZQQwMUpSc+YRb+R9jVldQKFFk0Q7iKAb59kV5fE8qxIlG1iOeCELMzlZ4gINnPuaUXj1c1gQdopqSSSeqmUuLH5frFrEpIXBbmf9MXL70+2WjF2ma5Jw5uRIa1TMadMUQ5PAoce864RdUsfBMHUGYjV3REJ6ECZee8J4lmr7E50HzwkMMCl3TVSvZnwtXgvudAxoNriwIVg0MuaFwQGShB2ms+U4yq07equxjsiXu1VByD1WWSTOUpzNKPIJ0fHCcf4BOiWQ9GzEhNBxie+2tp/R5Zh54WoGrZZDAk6Ql6nIfOal+PLMtIvD1Rf9JkVcIwq1Zhqti1K7n+5D++vQuTP9R6esbNryZ6ljqFZTfRhGSeJU1Ub+nc78+yMXkVDhgQV0lihkQTPdkpIlXgBcCaw/a1MS83+hDLaHU3G2BFnsUkimxGWhM8XOCaraGneOuOXko3bn5Qihfg8veyVroSRcbJXVfSWIePhbgzltCF1v/sdl0Kb9vjvKWL6cFVlFfesmdMWBORhdpV4fD+SRKYCe1wZvW3zPy+btJA52grOrmKSJv2ryfgkROyiZLsg2182oU6sIQmBoPMe27ZmswvnyVihHpOP5cAlfvs9Ui51PhK6nKnu+KWhqJPe3l1PqzQwlPDltcZIeA4kz/muzBn579pdVp1pBEz+zgqdd4tXV1vxa5Zt4VEbcXCGj0bpIXex3sdMZf0nQT6rCQKCn1K6KiYs7DExxUrIdSedUg0iV20JfaQc1eEnAMPeqWJdaByoITIvn8tq+2g4wiSTFr2T53WMhvVWTOFdkSoS7xrxncctWth8sx3GVYT+Rh8qn5dP2KbwvlE1cLTpjLxDri1bBoYmwZnnSaPEVf3ELcPFUYzJPd43BpkWaMQWlkWJSy4yTSTM4R/HmpVY7OeHNWvYf1r+8HnvDj2GV3RWzxoZ942qgkQvsWVN7KDWpPjZHBFgt9GF3dhuE8JC7KdJNHEJhSbvQu1DL/l+0oy0Hl2LmJtjShtNl18e0iSK+eTTi+756nXQdWpjM/I8mE+MDBWTT5iprh7VqpDRIIWDKG+Y5YQba54EXr0G53MMaM8ljuuybUvMMjTKtrz5PCmmA7RtmwFIslqd6gj1lUnuQZMCwjo1q463cuuD5LUmnkv16sNMhK0hAizdZGt5m4zM1Vq3Ao41OfSKV7DQ7oWkekgv/PYL7wbyVKXNuHA0Y0ku2yye3F3yK8iQLk0SnLIrndysC1eM0dHBpc7h72VZoSwSu25luWY7hjAsV24nkW/s3NGl6/g15pWBNOkIWsMjMb/OYim9WrFhRoYGMegwxN69vXG4WDxg6OUc6+kfwhlCTJ+yrUbCAwj/Q5RVki6U1ZvQlUAxUWfgnH6bbRURGax46vYVmkh2bJ1n9MRMYlES349ZVCvFsao1+QbxvOEh6s8kS8vWLtyyhtIOI1fjYad5u0ppHI+x6sc2iClKs4887Go1x0s4dHNekicqnBHEgQ4W7MLJUIckezdVSKZ5q+AvEnjVCNc/w1q3kdL6igSxOkr4ZJDZp7Im5FfVJ7yrPDFIuiI60J//VSDm4FNTJAXC9CLxhSLSGiNcs6bAYnK17AnlsU/vSwleTSaYbFQ8N7DwrHE202tyXR2unICKEoWZLpXUg3Zx+tcvr2XlplGbwwbZIcF1jwReookE2U9AI52V7FL1O2hfFU32LuwacMikNVUxKuJAjztYRQP8b+6JlDjeLpUkyWK+IgUR5jzqSweGVP7t9WfvPwJJY2NBEoO4ciNg1On0snqyZDEzG+bJo+42l0LOyWTA1LE590DYJBfiJpUa6GopFCrlheuauGlYBAqdnmcSmDT5yGfKtOtXEYTSxcfbbuRTV6af2SMVgyRMElxHitc1CYk36qYiKsn8D41v/DT6GTzibZExRZdEkL6TSc7c3nDw/nt32gJcPAVUJipKjosfqVMmnRxDEhU/iq2+aZTmNWPQ7HTO1YnR7aP8YgTcENV/+Zzw2ey6JYv4i7X1vhIBQtDbX2oBG3fIVR0Yp/mPhKBAY+RYfNfDRM92zKUYAnS1WzUJbsuzLTCqwg+DuWoS5xDDRqsCEG2xze/QkyRrOYkO404mLv4YE9ZibTzvwY4hTg458iFUEW7VRhczmwP/mu3zxQnHgHFmKmSQK9Rx8YLVka/T9tpZ+fxMbKtn2HlIQcFUxR6jAD+BoPKtBHt+8wjjsMx2NNLcH2JNFCO6pMi/2NlvsTgZDEveE6sn1DhJdIqrWj6W9wMuIV6rxAqkpnpLlNtIkFJTa2Wcv/Nwi2nz3mIgr1HydWloUrIIGuuUoJIXKAAywPAOqAILxNRgjf7SKOxiV1PG86qrFEqtryPL/7cwNsm3FU/ZrIlXW/wYCzAp4BDWrJMI9DkvsZTMEqa8xGVmWCVS8zcrSIiKxrNMfcfteXV5CO46DEPQdUi9QKqmxXC9PD6plrLYYB0wAakcUAMFAGBpQHMas43jv+uBQ5g55rm4sV8St01FRjEbY/LbIW17FF9J/0i5z7rFULlBGiLPM5ZHs9cJyojBODB8fdIaYv9pP881laM/Yf0rp+0sn5MykkJCuHmFIQ8jtfHfQ2/oVVd1+i3w3x0xCkQDLAcSBdsAUv42IkL8F38msIG6MlimrPcQ646/b6KMXkQTvfBiocBaQqzNHjNXVKL7d63seDEhqi3A/JdNeGhc6pHV82NAGLkxLf7PlVZiTFUvkSH5D8XDdrbSRCpppijG6cux9tjJi0lTKDU77yg+jTHIBbAAO1XAAAjeAVPGIgpA72OT/yoJCHFHlx51LdEdxO848UMnI8Nuvx5fo5FbCDoWxKV/UcoyeJyiNfvUTmvM3Yajtc96WlqDyOUqZwc8wlN3L++8V1725+rUnHWC854u9lOFF3BbAS/SBbeuKY29ETgB1x//4xQgUA1Lpe+Xo4bjcEtXd4t0BxhxPHP4URbQYZemZf7nxcQd5/8wFd9qNIB6oCFiVjdxuAEBAh168iiVQc2CEmeFUEfIaJtGiwIi9Sz4DGIMIqSjqCcVZnIoMJoS44ql16q1XLEXeMIxRRlvQ2zWE4K1T67w4pOFMTzvz0EntzatGDdXLqiDseBSQwPu0X2GbmwlKgA/oFjAVOF9ln9bk4c5qJdxEm6CCS9/JCrbTOYG5M+JgXKET63xyDvIS5dJj2rW6rOSm2rlxy/GPGAMVW3rsVz25qUZSm7xA3Z762nTVTcRwLjFneiU/LZNK7xJBYHj13lDEXJ9Iebsev2WQrhQATIFeAxcFN67S5Jo7RLJ7w0bUj23ytNBgsgjviYGNDDsBGgoDzR3tAlvPGXJLWkeqN5n2z0ScmbeaWMVomMyHlmQocoKIbIcth2W6DT980jPbkJ/mHCr401n6c5yu9PVO6DgbYSdeJNPZqCSAAd0XSPPHOrQEZwxCsshBhzC1aT8MfuaCzCbdowMCacl3BMjTehOZOub8QEsvwNX0NSJJndtd5Q0KzVJ7pnVC9nYTNo79mIkkSdzqYOiTGjvArIyubsi+VRvAkNR0X+03Z8Vvk5u5mWAGLLKa2CFc4g+IIWtQwhhA4CMAhMTsoNaHhCoRLBDmBTrakOZ2Sq1Oanu1fJLoVZKVrVeG9Ww1AU7pYAl1pEp+EknqRCwGx5bScBFLexLNuAd3Xs0jZfUMnibyV+oP72CuhFAACbMbN9a2RUOTXHleqkPGOaJn2FlTuR5z40hkfYRATckZIHybFsFVz7XByd9maVJvEgsZqn5qzlFTyjr3qiYOlmjgKfoP5pFqHgL4guFL7pw/5ANulehoYZdNYCHpAQUe4AABXECBZ/+cwHxHrZ5S6UOhP3E/BbTdyWyiemwaBRz6NJY4CoUtxOP9MdUjLfYtHz1bM71PrVrlas0eQGKUaLa4UTIVjshzrDGTQpDkXI15E1vh9bFLe3+g6oS0jQAAkBxlx3qbBbRGZfnVrP9mUCEAW1BxTY8QHGEcsNGN9xnckZSCizGbUzycqSZS3U0Q9Pox+BQ4g2pRDRUmulwsMc22Sx1giOftKK6+7ekp6Ux9mU/R0xoLO94BdgHAdXki1YAJ21NgCY8hx4UMxOl/pFeXGcvgIKlZvN6bg1kqvTiWjqw6Tt5OzcBFXCu6drhUY/+EAZlAGeQNREKz9TVi7+eIRhLenUdvsWjjLToeQcQkN2/wAtncZNPjGddh8c9JjcoLO2x8GX41jSqHSRXhr6LTo4JmtZtqYsTEfxCMwtvKXOgZ/Zbnba5gpx2npy0Sjd4rCVS/gSuBWesrPO4+jtX765p6zp0x/yVgcAOsU/EI8wGtze8F3rcrJ+EKiJLb4/NKpRzaQbJKYOe2GcjSaMoSggi+PYn1W70LC70b8c2w6uCS4WkyH+wo2FR9nYKxJ6NqVKnc5wmCNkGeHiF2BRACkbvJdiQGQ7dga7jPVQboLCCGn8t5QHhG5Djxf9KI3qZyAShSBML4TT6UpW8xL4UegcUqlZwHBfe5Sdxh/WRnk/oKYg5uKbK9mRCos/Qa4XoEeEcA+huvKMoIgMb4yTrCvWgY5iOACll3gmC4dXORauQkuo8CG4zInh3Hw+v4SzFYSF95UXdTjMwisJsOT+cEQ/9joNOb6lbn7ZXyFyjynfnBRg8wsy4AihCvFwGQGkMYjZsl6eha5kAwxruK69hpcahYBBaEFHsOKiM4ThGE0qDkxNRMeJO+KNaZ6InoPJXCOwtKt7Iz1QszKuQuideP3uN4+IjQgxTqYdRskC3lQNAaihaBW5ekTeuTYu7SqjhFKVBltdphrUMStWF3KRYdR+EhXLRdJmkVb1INxacAcz8/C8WToVGZjf9+hMsXDUbXIvbc5QtcEGIMxC0e/e/Ngawkn7/VhO/jLoGGWO3QRjgqXCiGQwuh3pTZYI9EFsFQQhaXHkKwqTxF0FvGMByD4qk+kVYDSRqK9MxtxiDKFBn3pu8g40oRPhMlSoBkJ8ixESI0FMu1d+DlODxXpDBGpN2TrwxhmkFyJjifs6SXuZDq6E8Vn8OxJuvEUX9qyiTWq2abQ8SubDIe0daUFgj1GoecRa3S4m22WIsxZmqdQvkmWJqKYgEBKEuUT7jGA98B5uEhPrNSBz1g4OGSQ+y8v9/PycTwLawDajp9WK3Votfbko2KpMgpI9BPKoQ1QpULKMktSv70mJU8RdhPz7ycnsCTOQaVLiNQw3crhbhAK9Ayj1rBRH2isM5QrHji3MwuUY7kmpBKK0XzkhQjJiPKbbSdV6q+R2fCizCgyq0dU5Kxueoaddqs/22owlRbm+MsjCk10axQ9OTBqrhth9BfsIVgQ7KqXfJ2Twly6PFKCaClYlKlSKgoYxOr6EtyieYGAhN6/iZxb2e3E53Z4mwlog4IadpsWdabf42aFHcmyGarzjUb4egu8ET3g1L1HvWh2CL1BXCNaSJTJ4ah9qxwz57EDi6dumE9aqxQaQwN0ihsXO0+rmjlFTPfsLxZtMuqb+cSmvVhGpuIN9j04nW2uxom6fYr3E68kBftEFc5IXDbbqC+EfiEcW5tI/JEsmyRazvQjuFzdWW+TmanX0mlU8MQhCsTmlvJ7D8cpQ0NdczOBpOLmrVtSbUHv2uyW7otIitbq/GuLV8v8gCIBCvElgiryjKl3Dkc8WqJZEbDNcSgT6BwqVSSp0+kZS/yxgDA3E0mN4yHlAkQqunEw668Vt1n0TYlbR1pYra+966yUahS7HgDZOVdnWK0W6JzG0bJuywYiWUezqhvWsl3n4vSEmcsLAg0jzRCE1hJ468RrWX/CsuhFOTWuBWUZKMaSj3RnPtWSp8MSn9Lanc13+XFfPzeXx6b1tStKtDjXLMU543JJNs9abID25VahRQZ1lZaZ+T8ZRE9B7k3CtzFqfe59OOFR/I9Mpoa4aXcqoFzf2VAW0loS2j8Q2okIGddFp09F3jUC1scflSKXdLddZSmKIkWPysMAU9PFj8oCPRpBFpstQk3w1NncITAYkEBtCQwNvdTKmbQH3MsMEjWvRDhCfozNAqXKjVVTKxSWiFe3Iz9TV8i/YqOu3uIacKYhr5xHMSx/ASWMzyYIGksMYEJVwmkdnB3YHzSQv1MBMuLIYkgWEiTTSlS472YSlNx+KqlHtpFunyg2nxQkesnR0WLzR2zzNf5LgQnq1uY4rq3h7mH2ZRVbgJIyhHLc8tAg57RwFVGBrqg8CGxJHkLF2YdHA0MjkYjlR+5E7YvPNNUwerWdQ5b6nB1jU6c5YstekvCYnfJt3lDra1FUTOpC2rxrMAgzrTyqBJpFUlrYLK2OLMkBzw8kMhFN983Nd/cwulfcIDw3bTwyNzJExIDopBDUKCcdNJzRk/FnhT67cos67ypZopZKTL3AhGlqihlGDjCp8XrjV13LTOjUn6kEZyGoCFcKV4FrmTFbwG7//lu3jcjTdSDqz5YWEATToDAaHA8vLJQ4Ixc6k8wn476ayMoy5GTFIWI8zonUIyBRIQdEj7xli19MRfG/o3/pnf078rwM5SBn0hlowD6xBrYWi+Iesg2cDXMzyqSBOWliZqaljBl6MUIjFhbImzxgrfP9TJd2NLqzuWe8pM7NdwZOimuVUhI6bFxA2XuFbFEj8sE9qMIpCCcjvqtHliONw+l4CH8RQWfgkkxte0VhcBhXVUuxdSi1JIaLuh1PIweipHQFGQQD5pMqEXmZkVlmdLimF1H9vPSxhsLxc7su8WMRY3hHxWdVVm1SIsuMM2JFWQ0ZOaxpxiwCWEBhIY4BNOA0wbJd4ncm0y8PtY+rHvyMKLwOZeLaN2xeyhTTlle/1i5awMj8iWPEHBY581CGubBNCIntcr/lrxvyFRyNCHh9HegUrMiSYgQhchoGRqSFVpI6vaQqwcBaoTWhCAiDfEqZ3cmMAzIRDkARsmrLOEAZ440kIh/gJurG4kQwkgnhAGcTO8qBYYXA1MooRaAwNbo8jg9r1dSVJeSQrLbs9pE3zqwMerZPQPq4uqm9kqjqgJjF5RFDXOHoLIoNgogVi6iK2MhS6CZLRIFnQ+BbDwJcCfqCG9dTmzE17Z94tlmAuHmiHtqMcYaT6bAmiMhkETGFEmde56KatgeJhGxsn4ic1jKXomSFBNiufFklPtzB1sMTGyWElWs/yIXV7HgqsTudnESH9YpTmr7Wm/HrWERyDeUrxv4oRIEaTiZan/cIY6T0W8yovXY+5vab+mlBBqIv7BEiFcH31G3RIlN+BypvqZqeyYrkq5S72+5boqgoHBc+3z7cDLbFQ8OnxbNWOKiavKljoWsGSHXUJnnhZ2r1RhIlyLykeTYh8ql1a9mDC7P6VGg+MDZj2CY0rI7JqiEQOZueGmSgMO6LQad0EQCVRXsz9f00zbiSaBnjKHP7EEK3qF66Guoh+tRvn4a7Mx+0jhbiWEOIxB8ojHiXhKsLfQ3ciWc8TqfIgDLXVpWkW4XwgYjqaZJe6qRaVOA8W11pYm1gkGeS1vU+mfbTK08e7Wn/Tu7XkseStJKWVoimfgJy+ZYghPnRBUuatuN8k8IQBXgEcBvlxXFG5bBrjkHWxFXJjHUgodQ9uIVZklkq5RXmm+F2NBDGiKY3YPUiq1vF+OD0wc6qZscRXDcIvie3LoNOoyihUSmRfW8mbZ6kX6z0lGN1VBjtylU/y6kTzI1iwU/4UfWV+fUNzLfRUKqSWvlv7dV1gcMUQiNQZwjpaH9IARvnFG34e0DhDcpq9hFg5K3Xbcqfho4Zton5pNnI2p7gDk5wbOwdONYQAWp0EQQlyltf36J2GWiQQL0O4i0IYuQtzwsIaPRVvfdqzkcuc6E5TK3U4ZX/g7FMW2dLw1Iy+ys+r5Qez/JuP9HVeQiEVFI5BuKlnEdmoBUXvlTJ1PSGS8sG4VLSbt5rEWyFehjpfw//hviT2lynzrlRhhclGPAIgZgRoE+XSTgkzoEoGBxOTGCM9Q7JONRwKqjciVJ3zedK3HdvbmPKwSPYO9OspJP7wKWvpUXdzaWj2whahG4bTsO226CKX1ZYpumV0hWdiCZyuvImJZCcqrk1hH8iHw2dSmcW6GAlP4wOZuEWrsrmFS7e/lfh8cLZdab2XWCKOalUXvA5iWhbgHxe4RVqmiKOPFTTNIRLXFY/izI2VPcZFdVwXdYpcMUY3EEDuWbcPHpxGe1p9zDUny8FniirRBQuqXKgnn2lStLX9rFlvODGN4yex/oqUtiiPhYJmDycbZeIiI8fFWhJ4lUZaf0KRd0UmaISLiyWISCVRiBpuxHf3aR0DssWgvPO2luhVcvI65bAFYDtHZAbXMzpqDzhyCIHcdwm/LLydHbtsf5uoxO13OCstnzt8J0fowXxOH1XvmJ7QA2sQXi4HmBGhT2oLRJIbscMc/5s0zt8g9BbFsQo09msIJoEsEB7o6vIVLmM9CEwHPkcHZdiLHYgDSVi0KNJHNie33ZDFSQWk0NZNMyX4Ot1JNNEUbRV6qnXnNFQmBzRiTdXPuAAGLCyR4obqJIjKQlKNItshLGZwLvK3Sy/wjJkWpxV45Es+2ryPWFVNM2DSbrLRnLrEjU9WUG0ZG0sQTUy8/85apYx0FlhneDDPVNdYkxqsbcGHTXRvYx3C6MZp2eWGJtKFgbWbIloEdxDdewR0+B0mHiHG8XI9uQwMAI1c8hrX74Cw/JCsoj8pRl6SO9qGG4j3ngVj3GiVcK7SWAApY4k60AdSBcGL15ZZdiZO80OPjLRCc198aou6MdPWSVC75AMT0KRh8RCEicmLvsTtF4bGcx58pdfdEFng0DRHmeVYkPY4I+sym9qtHyGiqXGvLnofs42yV+ab/0FE0p+tLLRfyEZ5ylxS2OdquMZqmYROOI9kcawbVbSXfhHpMs6b+yfKeI1qltY/BXs25NupKy5RjvhWy4GqWT3moRgUAElL6BxYB7IR4qcVANfAjI7sehYpD7AW4vBl8zYyy7pTXSIT9T9qla2bdlzfq+tw0NZqHk3V25L796RfGGppfjeXagI+uXGtXlr53wLJ2ZoNpEkkfLv20ryQ4cmqtT1Lw0dc1ptACIqIE2wsBlpRMBgK5La2KNkgMslnmOZEQCJ5IUSZsgK6I5XKEUTYSJ7bwIMvx1IU86aVo8qv3o0pr70e7AGVAfoASKDXTJwwCYT4wekdOGfcTZohnU2rsZzINmtKBMheKoN00Gobl0pRDmfJadCSugqeLmr7UtaIPaI3+OeFmaJV1aRgzI5Y1e4os4SNfZ8M5E4oaPqix9YLlBtbONru8fwqn8nUaif7ebILAWYp6sQQuX1Y1xJTSvCjW0Qk901sctyfY7JGN6hpDoMWuZp0iZkTKYVgUjj4cMnZz/+MUIFQRW7LTo2eZx4o7cC9a72mDs9QgiGQgTJQbztK2UqxbJp87hfot2oQtwI/ugCg0q93LbwE4QIXrj2+0aNjCf0rgqI0oz+RS/FulqsySgwni1rO8dhdRQ+6kbW24X7sf8vtU+S9c+F8HVCvqvljhKu6WxsYvecHCsMMlS8SYGzoiEYozxxJL3ieiW2Jm9GUDMknyMohxWqMbC73Id9OHRtDfWkLdE5Cnhs2zKOdLxeJYQyOVPatT1X5MYJ25y2AUYg5mVNbWaAzglQHyBiAOvBx4g6o0DkMgXN3/c7tKyoUSjMSi2vDfl80CUVWSK+swZ5tR7xI+9EvIxXy15EjR+Viqh0i/1IyLodvn0XebJq6A0PSXYcNQpMWHRFxSbww2NEJm4uixvOrxYNAtcCizgenH+gQJ/cMy10GB9JOKbGiFbOu2rhNHyP5icOUrhd+70WmwD7Qq82rU+Go3hg8qpCDELUvPu+TWZYpJP6yYIEFA7p/AukErk0TFRjSSaKC1vdo3oL+SwzJUZNuov7d2tRVyxMQJPsbUv7lhXGtsLKEfIp/UaLrVV9kU9GPLVr95CjUMxVLn1n3XjUCajTTvJfrEbSRBd0YjmXFI+uSy8fUiovyYVW0VcQm9i+K6okNLGZeyp5m8CW+3gZ1uSbOpzjlzs2fV1KkME+poLVwFoFqINvN0HKoUxD1pXL6YCSACLckHHG5CeXWTqunLceDwO3xv4HveMtkKLD448pBQi3Rdt8laIwWJcxr0IGkRzn9G7cuxzKhXGoFrkpmN5Yo9aYZiusiZX57+Hjfe+RLunEfrLBfnDFvb2gHE6LwwrmXo+9T5lz28RHLx/1z8ymintu0hfz8uOa1qUFwt3N7V3rU7fkEBkkyvSdDHu71nuJFXmEAVwBhQI93OIxoJ0izLU0op4mdSRKomI+SLQahSjclJSsXD0/PpTHSihOHASpi1+0yveRYrEmEvpKaPR+hR7l7t88ricrIW7S5pSgqqdidi5kZyRioRIejj+8KaZZQ3bcn6HTDhbBKUYpmhc63FxGCpzywHcUXaef11Ic2fCOYR6JNGtlY5iraATgECSOrBOCgjbxnEAIdMueTARddcefuhKdE0EkiTctZEkvTSNDwO1zTeGK26XLftxoEjVen0dn2/+XzSQ3NTSRDmnmULiSXj8VEQ06LMlKO8CZaXHHSrH1ETE5Y2NFnsV6IunyGg9mSL3+Jx61h7FNgJSvDUH4WnLFsMO7CxDQjPLKmjmzmxTIDGxe2M+CCiItt0G7BJrlHFaZLhL4zt4iMkfcvUmZkVobjStLnjNIlf4+yDYjQqi569Mfaj9UwL9F6RoTS6IV8fqZUneQauCJsqYGBgsoEGeXXXCy5v6mvfYrVs9aMnJzP1qjA1KyVQBTEanHIZej12ByUAjHwzQPdSAccs+VPgBNO8TO1/BJf6ZpMWDy1gRICoLJHU0s5YZMKuHZG+muRGVdypp61AtYEokH/jOzJklQxKU4ugUVsKErAoUJmzjDIomZJvm2cdF9Gxw1TcqzGPVqe2EZ63BKEYXnLFHPk3mg1swvxphBEof1Y4ziohvQh4McgYKJ8K7Vf0MCPkX80+UkWombZqxRla501uHit260us9mi+o0/ttX7txi/LN+E9eK1opMhyRR38LRRBkIvEEIsltOOoXTqX7a7extJvpcSsNcXM5eQpT92Yn4tGYahCq3mQdFvL8XigLQ4D+IJz5T58PcZrwMDkXRtFjARU5Y4ECswrRaTvIfC5m4wVfCS7RPSg+SeQ4ZopV4nv5xSLOlca0kVuqvyFRRSXMJZWxFpcafSOEmKJ1bJZP9C2d+rl7Zzq/aqxXWNRGelI9G4vnDlQULYxn8ennbwFKIckhONAT1LaOBY/ETFgkOhlWsQRYfPpsnEiBFQmclnKxYutYS3tL+oUkjZCTEKhbbUzRjlLGlQNpGNPWtIg5kXKECBkRPSBEbZQFky/JxDTBD6l7UGaZ69Sl84I+xCUgX5BiQo4SwLVbFakXDcDABuCIBSJoRqCQAUjgTxhMITSDGp0EDECRK4WdiyZAyi+JoWEO0dqiG7ldFos3hcKWn2LKiRMkW2+z/E6/Qb1S8pMWG65VEmbeiIlCKQksZWwzLLcHDW7XFzQV61qzNCzE/4XrwrdicQ3CEw6BKLgXsEIOILwRSAe2Tcv+CLGU7rci9oqqSmcvR3Le7WtS9EYPqdcQsnSrsn4J0SrYuwt23Zh1dfESRcyR+VqVUuKpTQdaQoWBmwYK3G15o5MsSCllow4mOMZUlVKSpLcV7MU8RaS8+nr/0euT8SikR0kJdKEbAUiSlst/a3A8Fo4A5EgUljciELwxTaYaF2ZETXChISWnkT500QXKk9yzWipDolRbx21aTvr01lShpOsWki4sq+ona7VJ++vQQuJ1E6R5L4upyUbTR/R46KeUu6nlKWo2pyvciMnOReW/v/pBXUhvCYbh0LZFVjDmfJu9RF40Hbrc3GBqEzFdMq+JGBJMXIGAmodUmldxYz8rnrt0a2VNWG+2ayzbzLribJNleqazGjynClxT5Qqk2iJv3FnEWHmEfkXfGKWvFri7vZmK0tM/xCtFotamNOXZPQnRIFSX57oPFCcFgMTwJTQhKjGhDjEqhTRRPuDKQskNJhcuSPISC0ixbbw2cyJ6O7CUiUxplqzCBdEm7Koftr3ipVGlFKi9FN1xZNU49ZWrELa7hFHJHHBnGptRpb3KUvckpalPzsrNcRn9qperjcOgfgEgE4JheLsfVLBq6Z3ridMv/VFZ49Mn55S8VMEDrJocaFHDqhQkjbM0l9+SORHHrv0l41m67LELy1JsqmwZdrU+t4kVJZlkEKjiO5dv4o3+VRso8u8oG65jSpresaxjaf9i9+ZmrkjW4r/hKQCsMApBgMxExVXVqqELopq+5phI2R2MnK4jCLXIaTbcGWxkuMtvFSqbhhvZZbMvlsI9om+l6dIp+3KkLqypZIgwcLL4k6nu24/QONZvPlapVNEykwtXQ4rKd4M+Uv+6F/aWuSEjPyMtNWpTyR2QJ7CkPA/ASB2FhSuQLAuJ8kv5cKWHaWWtBnZZMsqfYFFIuzGkwkkfcbMKrkXKH7taidwSlrx+kR2Sy3eOH5h5LoLn7Jn1W2E8dDCViO/SEdos8LvrZL6SbVy2kS72P55pUZPORnv7cfVBQa5JjkHK+78LXIlQbspDIBDFIklRl9LIoziI1QzGhzBM92XnzFhHCTTlxFOKtTR84eXEWJZm6hxr6J0CXnQ3fMbdt8uap+uOsFIUDUCgC1grCWqXs3n5I3EkVn9YgSWbv67RIfiOsb/1inKi4OOBFqeeuZ9gJudZ991F7yucltRFFgcUB9NxbEIpm4npC1UsgjSITMsY42mLwpIovKMF3B9cSLFHgi8PNWUiS7B4dqFOMUiGeZeqQ9S8JesL1meSLNtHgqohOGLCKMirpbQwKEDbVcsrTImEXECL+hNb3vs//gI1L1yrKykvLwlf5hC6/OD/wzAgBeAyCcXC/ZAsEjtCjE50U1o8UsLaRdtadTjb0NtyKYUQC5G45TYtMad6r7kKpTRZfZi6VptZEUW5kvm8dTxrxlbQWV0puJ6ibFlZp9px9Ou56jurgpU1peazXU3Xv3YjKwnFZnWQmzBQLzpIlBMNQLgHIMpBKDgBWmUMa4mpUObcWpBCSI0xB+E1oupLplzxMiljs0+qpoQ2KO4pcp9OZrnpV+h/EQYgbASgJgQjxeXbnhKFjLLpbeu9xOUXKN8vsSS5MaZRudeWHHY/zPvGol94bf/792F3TTet+6G5SuJ5OSR+RPYcgTwxH1ANgJZ4BnNgRaShkAS7Hs+6AuS3KkxEVCbg8uIjQuZJsUSKlkarCNZanlc2FK4lQ1SLdZF6rI+hCApAmjIAgpdHQ1DC6Rs0HXDyWek6n4U5nyXJma9XO5/nxOqb1nElbXSaZ29zFf2hiB8NxrGzWHRlAwDOCsY77EZ1wygw8AIIoPK/BDS1QFCzh8YOgOpiYICgfSbCCBlOlU1RZFdDMlUbCXlobln6Bf2sdaJnBQ6ebAQBaFRECkHTuvJ8SD2xE0HS2h6S0uoG9spCiipbbrI/byZuQp1OocWVWPmiUqhSF86InBiV8gmmwQFQTBGjAKt5os8SeIs536GePLQyJgl04gCaMq3g+7WqWEwh2M3OSobvn+QTF9zPZLKDkZS/Ti/kpyQvhOLWfiuFbEilMw8uicf2YnPrc9Ey0v2ipQoP/ZKiYTgQMbnHWIo3JwNtjNJy/0qaI7mOyCeqHW8OjdlSt2B7MAY9eksczktUTVMvjtWvaNxiKvCvDl2jCIcoSW7qFzVlIeyaMWhaViQZYPbGv9RdtLXDYJrBAARSPOLhKJTl0IwLDc72hLSl+7Ldc8BWDonxUpsbnamLIY04Kkf2Tys4HRya7pA4S7GigUe/zzUOpt9N5PEWRCA4tW7DW1h4fhKQDDFGYuMugxlHaVR9qr+6ed73eRmvwfndvzp16vTdVgb+0OhuvUomBhXuI1UxT+3bkf20qJzfFagN1gzWQ9LUskyDvaU9/WNZbUs0zMXZqCVe5wXVmu8B/LZBTzlzkfklQmm/YyF4hJ9CYG1l0cOUKPTF4IVDiw5x113KNtSxS5M0l36ngADMAA3hugDVgTLBYHT+U3qz+xNGJIZWgr6IECMapulxSGxQLZgEBYJRNYq23Of9UUoT+qVjEBrxYuCqebuq5oMuV/k+kWTnK1VU1RvPTe84rkpanTsRKLvMfek+I4HxwyaTimEkjCrxqWJXydtEpbTVMY6dXmuJO4qA8xBVzVBYGHsiSMmZPAygoKhwFE+kAMwCGGrENYBSS2zJEhmfQ/U5kRhjkhiXgxBA5zDMiJS4CQAEBoxK+M8V6sgBw2waGNmhOMk0yTfpV4KF6UkDEGQQj0Qo/UHMXSSbC9iXojkH457LJuP0ZNCNA6iE0N/Hj7FdxcrJR6p9t1G63Ao+rc13WR49E4mF9damLwxfbsbv5nodjKkrU8AkQDlFBGp+seH17AbKt7tgMRq9GcsHDZdQLQ3xFIZuZkcjJyPRlxnggDieZxUTwm2bgEeH3rqKnNI/CzMeieWP/lA+qMziwJZ91dyoVyk0HJMJINZOoNf66lIINjomkpiEu7+CcfdeFN1adVXM8ftm2CBihlYiyp5uOO2VvOr1v9PFeM8YrKMANsP0J3w7orYQkSoEWWnxpJ6LGSMZ0SmyshCSof4m/XjCvJ7Ur7gSRCtKhFaAsa3w7cIChtU2ijWj0nVdZkfCBVCcsOIKTuYaa0Ru+QrGlG/miZaXXogYZGRQrguq83cZxlK0hIN6sWHR977l+b5ApVsIhquvuJE08dK2uTD0sebpSqssYyoYgBAp6PjC2AAjOCBWjaMfbh4E7G/LCeuhw/uEQKY8pxYrLiIrWTycUYWwkF9k91YnE95EJGnybZOoI6RlZ4XGfM9USouwjy5+dYL/DzKMc8VdqVGr9gwCoSkYuCWQI+bnUubQghHbxmzDqSpUtRKKG7wrRt7eIna2sZ6LS7tu4oqdmCNcQJLAArkYDH8uYtw0wXADgxASIGcOQWLGKv/4xQgWDVAQrxAFDPEKIwiuBwwFCQOOAv20ow2+kBjg5qkIfn+ngYjMAIQCMMR9YxNIZt/DJIErWWB5MZhEGhO0QitBoZ6UWdwrXnAIA0C4dC8asqidVtSwCEIBeRlBkVOyI+Mdp1Tkmw7LY/OSMGJHn6F2gb8wkMYUksyUxHkBvLYmmWweS0u7bQa4guiOdRbINvjFlaL5JeRdEks94d5g9IV2nCYkuPfnr2fFhYaECXPXYumDmREzI4TJ2irQpK3jo5FL4bELVIp1oKJgJhMJgtEJaUvUe+s15/JeJD0uaryeqdG9vREDBJF7e1/LzFPjMrqh85b/ma1uvgWKliazteXiU7K4vMek1vZCEIdmJOVq0P2HbsvF5mYqrr5WYzkKHUnn1+Ko1ygkRONo8Koq1RQNgwFwuMF0EPMGioQC4QHjiP3N3vPEcPhImTSrf3btv6tST5NB+rOzM5aoeHBk2RW6t3KlzdgkVWddLGKQt/d5TNwoTrkiHFy5WxTXVYbTVaqX6FH7BiqqbzC/dypZzxdpL231eV90MqNjvBHV95plmhzmgbEhETXY3oecqWhkJm3kTPEnY+yEBkYPlVTa2s+7FDZITQ5Z51Q0JZ+VP//My5k4KZKBeQ30mbZdiy4U1lOKdr1B55XdJb3nzwDQV8BMzbBiVltITL+KZBi30OGgx8dKZBYqFrB1p+1+VbgMGpeWLvTqv8U2X18WtREr9MCHcm9CgApgJjiE8Gx7yTmHQ8kcyCjAWvvbRgtKcuK81E3Fomvn8VFf2e+z3lGg0hC50ywCH+mtdqfKqYsWrxYoXZLaiN+69a+Tfybc4oTfhyY14lrDL6syTywsUu06/xune4mqUY6YMQ29EjEkdPZ16EsiK6oi5ZQ9qK75cz22MMxBcrlPnVlTlCnlrNAlZfhggYFCiiTVhPwgw46Fe+RPp/rdhQxo4zTch94wgcUrJB4SNLEGBAQDDsyWkFQU5HVcTEoQQhbC/LjLGOdi1tq3qvDcxAxVPNCwW8L4IYFEM97wmEIEO6i5TrsvH2SNrJY5yEJ9ODKGKpAWNLF8fFFYhp5uWoOKOMgtJP6Q6BU5nwTC5QxRgiMslOLcwgEHCh34WNLEmjOIDjd3Ubu/yggsRdYwdJiWkiZ8YoIGNOfImb4YIIddtG4E0YneF/9tOgxUykad4LjQqWMjHgiBgqfLF5fYeqYSrPubI8QwU0xXWO1rWWNV5SUp49XWtc1SMUDzCCMRh5m8KhXLybdIgqjKjINz6R/YlL2mqTBXHVN+avTaKsx0aGmeFt5BgUVdmj/brOYRiiGkFpW16Lxmda8e8U1xXEaQJpz0BHiGQQ0jE8k7RgplrXNQtuicZQYi1D8UUf11d6VkMp1IxhAlxzCMRdFVlbDTC18dZBYADoAwJoC4GD5r4go/ia6svpZwhGP6O3vlS7lqRnn9c4tByfKUmr5FFj8CWy2vlmf+JxRCKT1pS2j2y5CCHs2Vh2lSGymorIrsC+LJkrElTjdcMwwu0njl0uoLBUEh2rTKSdLRKihO8exv7EYuVMjh/5YdHAqNLwtSSsdt9eCowSDIGh9Qr1YCI9/ZqNEzAR5QfBA3HzxsDOzUnepzzrrCYtaDySPlxXaiPgZdEnkGeJhWhFqxaQ5bpacogwgG2GNeBouKQchklMXFNVizFJjhzvIRAV8yNBGsGYZSNak8z6XhbTYX17Ly8UXKA/l9oEPokIxv0QRPdDrQ+dZcHeK4eBVmFS4Xf22a6phiY2ZMsQNSA0WW41ZzAoQVZGpFag/pUQGFQyUNHclIuMii0Ljoxcqek7CGpk2o/+jeOOSrJMdst1nkCzS5DbCNONC6gYQaCAlhjpUIX0LQXwQBgFs2xF5X8kBHFRwQUElK6pXT5YwVys89w/tlDaMpxqxdGZemiKFOEMUopBeYn1OZnCWGWiuJ3NDsZDZ6gU5M/trleaWmCRZO+yvDbf79iWmlLqz6gjc82zzmrS1frrJjZCr4DjjshE5UdEWaWbZ7mA/bmximtJ/UucWCrHzImRPDakQlOiowI0r+AColUkgkb8xdj2GdKyYuIznHKnLdxoW0Wi1vLYKyXvFOOuQR9fNpvns8GVRAt7zjW/S5zdXrcApav/LmSH6McY8JG0Lpz1GrarnxbCuq+wPNapZXjyhOe7rZ7vglFMwoezyh+T19z5ZLW0AvLL3l9sACsKKb2EvlwXW72eZeUEDbMmar0msjY+Xw5LcCF63OJItmJPjaG08lNfltDYerJgj6LC/hPLhdzUIoZI2URp6plK82AtO6ZD2TTo7MjOMryJKyBckPNJZnzKYkwLIgKpcPJBmQIhSUur3O2Qev3ja6QlnkrRPI6eV/85sluXNaCT0y93KWw1XSffqtWOUCzlAtPhPwDUBtb3QPFDZt9lw7JRRVSPm5yAkWRMyOSOIInMTNRJxRVIAuyUFcwwZR9YQUp1dAxkRyogZxa1AAvgQwooZEX/yxpvEmHWWnMhJ2HbVHMgIYkl7cl90xeojQUozQttPQFQq8j3yeCc+EYFXVciBemcWl8RwqrZC+NtWJqnPLVQvQP7ZqqOEf5Vqr+oUMofabMyJQQ4DIjtQ7/rPkIeGmoKChiNRZxEOH+MsMY1eDJhZO6pjYmjLOmSIDXDM/h2RguGY0xzA5aZ/VGAHHI6+JBaAe1grrqW3ll6Wlg1rsKDpVRBdopnEbxEkNJV2C4MWiZvqCy38th/GbyLka1IIzq1f6RJdlkm8Ur1IZTTGuAS+rrWTwtbck5FD3o1u8ImFNKyrUg24I+CvwuuNtIPWGpk9CrPVHqCHbMoHexS2/POCRZh41Ralr+cQeW2mpFDuivFbSfnwT5saY4vwZhyrN5q0hPmqE2JGeFSFbtr4ruHL0RDG8XUquFJNU9Nr1Fr2mltLjN0Z3Fmfd24roc216QKZz2YJdnSyVXXrUfSTu2ohfjqt39SPCNB/VHdG0aS6gt2qI3e0k5oD9PtEwgf+A9AZSIsOJZAOsLXJ8JpTagCNR+XUwm4GDraAVqyF0UwOP8c+W5JVi7o3xUXr27DjqFWPNWCj/lgTDNE/xxVcmwz8MmJZFVaxDkICDvAYAqC4TG/X1MssjnLSCqbTvtExJTBCqbq4vOYXhY0kUXPc0RnOd0L35+gqx0+XdSVfbqGZBaf2ue++RbZb7gKGF2kqgWSAYEV6nBBt1DErDRBLsHJC3A0aZzSWT18lKc7jYw9dO84QGiyzdi+N/GL9vFQOtCMD/OoNmtqRFmu9T2MarNSqRyODJ6MrgoOodBzllma3c+HXpdMD2WSRJwm9+yRa5Vbo/C8suWz5Im1a+cbCyFMbaRmc4pPyOjW2KIuEHQ8XVMRr8IhAyQEkAICdEOiACrCox1ruQJhOTeG9aYTAmE+dMWOA7g73D+PaG1kKDT/zOnQFtKQsNQnDNUghdkoSoJV/ku3Kc4N5NtZTJfjRwz6aRPaEgSW94rHRDRotWUWUifXuANtTboy/Wf71a27uIhOVUTHxK0XC0vile/qjekd5MqOqb0xK3j77e2BOBIlLA3rMqwDUHJpnw4h1kQfgiwoAEsan+Ao64PIpjIKF8/YJu0J5vEGbJY1Hee9VkuKayeRVrhTUX8SfoEAoOJldcmnFgZWyu0A8/z8V1QVB++jd0m1wF8qbCOBWc5xtJFonzIxbk4o9pi+Hld6jOj9/ZUVzXHQVeW1eUMyRGEfYa5/iHgPHtD8ESnpVRBJAuhJuy5jdCZZBS9vrytI5JaN28ip/O6iD+FxSoo0ZJ2pflSU98pmQNak+p5GIs2nouljwNadehUH4lWGgTMVaciGVcp11KHZfxWW/HJX3duLSaYXxGZUJabnklWbTzD1jIzdG2pV9gSbuWKKRPOr4I9JmDA/LieY5Dgp6JlHEyZKmpF/DbJBec/WSabH5S7HxdNW45+fw6lzBB5EQ2ZYG6RuCRiQQjBVVHpfOUsR6P1r0AsVfbaqbTh3nnZrQZvORzJ2/7Tzmot6KZldVOvNDlkuMmvk8XaK2qzJ5FKthGpyVLszA1u0/EgOjdsrpU3VELdtjjWBdgYE/4K24AAukDEMuZAonKCGUquFILQZDTwVuNgflA4dgy2feFVbCnLdolk10Kq66UK9ZItRIJWOjBkpU5nMitlQZHvkaFCaKWU86XMB+toQ0c/gpGSCdU2STeETV4NHt0Ux2goqaTBGMtbL5QqxeftBeihfvQf32fmrC2tZbVpSSteTdq9ilDlDXFpCPm7DAOUssbZJfreRJsq1KjKJI61UtuhnNqor6EiOW4UkWp6sz3sgJlbmwtNOnU3YkyeV1J+2EDFXKWjLH1fe5Ty6NzptCkboqG659ogq7VGsLAMH4GMKptriDiELugn1D367ORxUVMAtagudiL/0lMbuFqh55vivWjKPfNc5jQG3qN7UFo/j4TKz13aGGEL04Yt6ZYWwoE1EppzaYPIxdCk6Q7RNPUfu5gsA9Kgo/dp7tFW0ml6GSmWbO3ZdLLSuONk97m2nZUd9DyimQfIwihf0sKfFtNOQ/lw6bzGMw09m+UBPuAwvBBQDuk6hNP0S9BNUpNcU0tpTfR4tEjtlpqofe4IDWqm8k6fnvLqN4qasHG5VOk5sTT4PVxAhRUghw8S0CBDKLuUIyAI4c/O9TapUlytgmqGEwu8rz6EIjJ9EvNLlGH1UXg2/pn5SDAzxCIlH60zYjD7MuH4Ou9g+pszzCFigJIE+ETgXjGR5aGnqYTocq498QfsSnwIs/1b7c54cMlXseesJsq6NHqydZm783pPyvs/JdyITzl+yDucgvIT0XiFIAmUBYCHXCH2EHXYqFYvcRtQbQ1R2ApgIXhwkkAiwKJ0A1QhDY/yR3sGFRo6IKmYpgiI5B/jb79kPWhL4FsKn3y4GpvfERAp5BJY5ccStNWNtPvKXKhB+yWxih/FazrqnMKz0T6nK+QljrbCgoLpy/5P5xC6WCjSWgOvy7iyIEw/jmWgnjN+ClQK4Ty0mkQvT1dKpFDz9kWRUr9UPPf2644k4Tzw/N36TadmlPg3OpzpfTIVdys7E4R1Yr6ksayTzIVh0DU/ulYp5Rr3jzvczrkQ3OemBFRDQvglVhoJUsxNNadt7nbGElsDKQ12B1l+IyjqZlcSDd3Tsw1BbDt2PJQN/1jm06Vu1OzINIiuuKZxGRkQhYqXp9Gsy19bCisj6+zuq/Lvx0AYvBOklRfJDZhRl5VlWI5Hhv+1J+pulwkTlHjvYZMk/wkbnXD3NAdpnJKWv0bC5EVRqJDJycG1YSX2SXpfW/put7U6OVEn3Fu1JBh5fndDj6iq4VRXB1NEMpGlyCjBB44ZW5FGqupOFUelTEPkio4oMMGFqQJxmzpkfoXhSiThOxoyBRfkSC9Qh1Yf2+K75E92JMRi5LUqesiSplVzXg9p3XU4Uk7SbBus/VaJTzFhYv0d3Ut+40+Nq0I1yD1B1bhLbM2hk6Tq/bVtbLFyFQCULNxGOC0iR/VdvKY9qXaTFSgg7mZOzq2e79IhwYc1aIRViRxaKEjL2VksOM+1kkopGjvroSy7fqYhk05Hf2ILCHUM7cPi1Jvdv6E4Q0YpJF3IT76ORdCXEPKJCIWGDRHsbbho5/nFngmtScbhaZ9NDBL0g1lzzXzIM+a//jFCBcKTAAIABcAEP/9//L/9AAAtBgl7Zm/f3ngdn2oyN6sm4jAXCi6bBPfXk4bz2Kn4KDYcIqJhQyxh5lApXns6hSiMa4knhlk4hUkjCNiE+PLmMlrmrobaZJQv/BkQTvE3x0tlNfSNYNKrlN1ukm4qxAmYKtVjC76YkjwrhXDti5oZHie7LloOGRov4ku9GUVm7dlPRGliqGF63uWjs8zhihjrS0LKfaxOt8sseNOx2I2mLarzJuT/sixolFQdVBkF0WF2D+L4ZAwsBuCSQplMhjYb7Cov1r6cszkBDssSzDREmD+QVwVM4MJl7CJLQkZxumd74xwqz5UI97s0aDGeLOLFYtqXMUSc8P/jYRurFM5cTzHQRj4YmitqCQCVRQuO8Q2BOgDgC8FArLnKEGACcOKV8TTU/AgD1smKdsIfWjPivSNGeCHhgjrUSOTxrH1NjYuf7XQcpoH6BBM6GlxMeJtlLvkirC9LJtGySsMUSMrRsrpYyQvCdVdaXad1+vottT2pmMeQqwikEP+jG+rOrdjWyjbSMXFVIvZgaMnGykJedOG1Fn1IzrhWZo25VdxdquXE5ON8S0WCZ52ak5dMC5au3BUSIpVVS7j7hGGPK7PDYpWseXlqkroK63OFq3rGu9V6gm58zTldRqQJkrKkHXnTDfM1cJll0XmVIxldTNOdQhKlLrdU+l9TPIY20ySXwavKWcLENrFLghq0ddVyblUY40i9IaV+onF9y59GPEN67RLLKT3Qk0pIlEZ4lXm7tNrZjatJqJpUrHUKUSIsEB080ET1PoQkqWR69f60ekjbkIIrURUg2wmpGJAqtO2MbJNxU7qEoTjmbxFSFb+Vxzql4qPuQyUXpqm/EhE94AEAGAAVNANKqhPjd6WIB8F5k1fFCMmTiQFIUcrpmtz8OhmFQhn7JJCMkI/iVpTSnT1VwwoXe6LVXitrYzLb2+e+KDNiK7OaLm2G4XQ7lTCkSyiiRZ7xYUSaSLKDCoYnYlIhk0mgk+WonrnVxIExAvRF1mipWq4V4J+2N+Jyidta5TO2x/MYtjtKUHK08MdzQj0LGKBdZpsq+1+QMcGn8aztp4kYFGQw2EXCxmCVaSJeqpaneJd7ZItUMk+5Lya41O7As4ZMf3IjNtW0z0KpV9NshBeaiWSYrqb5guubGP4hvYUR1lmgITY20nBmAfhoaEROIBEqsdjmTdM69Y0+ZJmdFjnM5JChQnbPaxlRvTch6mhmVoCtjVny1grbrkrJY4RKmdorW2yW0fHH8pLveVyCjKeuUv1qTPX5lW8soZ/WyOqhNUxZDuXQNoo/gNy7oEUGAHgHAQk8tLwgEE1FWYUTD6omo0vdygP1RXRyifGxNsuM71YyEzhq/TBkHSabNcXCRsUVURPg2q6R+Ew6RZ15w31uWt5Wgxxthep2j1XiIWJapZrqkklmvCZxBM4IbiBvI55CVqMgliAHQHANGUrUBUXzwos8Uowaa9KVcUk0Om6jUmcEC1Wg7ZKMtKF+IqMzQxQmVSZGJiT2lWbyciUFzHovKENYorcXfXl77qvLgcadxdtOtT73ZcLqV1/mI7aUxlFUOYwgIoWyMFxW6ooRgCYNwExbXBEYnfSUU4w60o2ogEVF4UhIYNTSmStkK8yNvNrYkZqtbU4zMTNYl+mq1o7XvawrLhCTJccxdEqFGIPujDUZTi8lo+lnNUeXVYctz1aNsWPVzqzvShvyNzyHcI7Rfn6SQwsODbIzhmBUL7p8OpXJEoBB9x76Vjkf3/9zKcZ2tFasRIVmVFx7PKPe8ZtuYpipYNyxnzGh4VkaogUSBuJXxctmzQjcu2FDrpqLBY0x1QupEnwfMigT+dF/FPW1o5zL5TDm2jWGdxSjRBA1wSTsgDjN4dAFMpkI4zCtJbI4WLCifbmG+KARaqQoiENRYOzF52IhqVxzWXaKxBxi709bYpNyC6EEnkhbKSmrJZqSjzCAsubKvl5BQ6/i5mdhoHjgY9mY0RPyXbAcsNfkfP+qLx2jsmW4SRZoSISYYJVh8DwbKXWQLIOIemMR7IWSIIkpgo0sE+2L8mGMwDyStoTA4e+QSz55EhK/qZRhTydQRwwktDJn5xunpWCwVglfJqRy+Ha4rOYnKyYGiLvOsWZSfk0h28RmKiIvpc707fsUql0bgP1FoFnk+U5MiJCLC/DtYIC8N4X9qKQCUBKPqRZJPLhF6+sccIL92TIgJ0+0lAF82EXFoeo6KKiqqdF6tx1Y65ZKlhoV7alyLbcPZAFxUXkXVN6Y9EjVIx1Ir8oEfGasTQVibsZ5WJ7wkMG3RWfdkGzYlVzLp2WW9UWIcSIhQpw1wUsYA2DeGTBGkAMIEc6kESwTYRCld8UE/uJlcYRDZxXq6vMpHQ6DaN9SHF+fr9k+DK/CRMFy8MFSYXz3fRVHgSnJqRVDHOKHU8tiViWOS7kfmKkYpE26ddsFQTDHUWAyqOSbR0nn8OcwWPIr+/On/XVNnXlMqIis4mAVZhU1XQQIRg2GvTWQaZSb+pys9/M3lsl8sDSz23YxOqjh0NrlEbh3RvtFRorSiCRSJ0jF8jI3tumQRQDuFpP/9Jqo4lEKzV8+L7CXSqz8DFybOxtYG0l3JiUlXlXF7j6fGrVvF0xBlySogTJJeG9PCdU+ckBKB9hKXPNIDOGivxPSI/BBv3q0yffzx0pjIQyvubToIw1utKR5tNl0WajY1m5HLaJI+mUFJZGiz3fKs2FAjFKVCP+iMf5SmU6JjErtwEc41L6sCis7tEVl3FsWusnou8NhcNh8qt6U5+HX/86/TsmRNOWFKGIaJvgwogJ0n7N9IEuP5pGjK7CKTV56/TSp7ZXkOhOLSZd++UNx5VOSSZODCBNQxQhHt9J1EgL0mTz/CyD4PT1rp0aSGg0qxZbgFIYDi44hQN7OS+qhdfFLBBQ3vBLr2Vzh0KWHt240zzZMWbqrLp/qSdu1nIuRUVctPYB9h9iE8t9g3n8tpSVfsfn0HgIgVvIzo8yacVRzErBy1suCsRXbtw8TMLiwJO2LttYl+jy+Fa5qC9Vau2Wg4CKjrMPGvQShrLp2lVgETxExk8N190WBAkPxso1VmpOknkhmtmiCC6v1oSivZR1V1jTFzyAnFGjJm8wCzCkFTVMrQSSubsl7PzFqV4U4xBGXXtABxYwowRqdoPEHwFMJIZ8UJYJRBB7g7R1lPCYQ9lvkeY4DiRxTtfNtoc6mdNLZ3BKZ3Qy7mqxr9cVn5jks3izLmiOiwbvQsOSohJpWRtw/r8vilZN7WsfvIS0ZjR0wsNlAxAG+RVd58CNcGuGtsbspq8ghA2T/r3+SdZJSziovAsSR4Lwer+kBZ7bW4Q9UXFw8+VZ/IlLVb9X+zUEzv++7WgRR+ohRK6iTWWpH0HyFa4yPIN08fAZtQEhukF4Uc+3QtlNUei++/MvaF3ZugV/siX/txzdh9y07IA0A1F5LeTQvhHaIhdAb1P4C4CtHgB/e1daIL+qGoJmn9SBNGubAS+sT+O1Ca7dmYW0Xi5TN18h/OyD6fWfx5DnmjtbimEtHULldPfWUO+GWx+Qs8noyTUUmNsumE/UJdoSDxTkW9R2lgKr6HObEwZl9eQs9JNT870AJARaZAEXAFqGDvghob7UlxNEGGKUUU9qU/hLZqjJNjex5XghSUzEzK7OOJBHGON/+ItJqRdkbd+AQS5rEBoculUrKVOegnasYjYWKf8yTw1Rqv6FLgk69c2oOg/dqkdWqvPk8hxdlvNpuhBceu8jMD2eyiL+lJNf+wxw8loAqZHHsz/pJseqBB7gCgCSHfEbVq8OjbCoUdz6tsU+k0sud7vxOJct0/hK26g3U7v1m3HNSzGoZs/hKSARx9E9k2jYrhpApWYxt2n14c2bzKuIPFKtAFJi5XPerT/qc7cOn6ez7V5yck15t8SUq/LnJ2Su6sLUSQSE0vAVx7SgTJ7Ed+QdhKjl9m0XagNg4hcZFN06RXG0es9l+p2vCs+jXphd1MzELClEiZzXsW2kHfFCn+VukaWb5JTWkxv+b9dvW2Rd5KyRpd5G0f+21n9K/Ajs6XQlZmH1NUREGCAsoYDiBdwginCXgrwNSFys6pxJYpmMSYhvg3MDgKn3cmxTs27UIHf5UkXf6t8S5N2NPpfV9/S4Gv42URolrMVZD/Ru0W4qNliXufXrFyKGXm9Rck4kxZZ9wpU1JwFNSkqDZxTtb3LUK3xfoDNJSjSzxP1QhHRYg2YRosMTQ5AD4tRG/IfsW4k8rhOAgCZsVoVNfJF78is2bIRUu0yKK43hXDh3lLmlc5dVUjqZ8DGWmEf6CknGuGHeaJbLJ5mcVONesFKMmXzW2/Wa/rFBTRICJvsktNmK2LPUUoiKd3k5Tl4dGrzyi4tFBM8WEvC067lw0iBx3U9uAuP6tB+TJVoQMQxHY5gZU5zAswGcBsjGljhGQMEQUbjiDBTFOgZAbg6UFI42MZ7YHUBohAJtjP+5FMJlLhDF+lxOI39gX50o12IuGk5Cr5pRi2yWJNfZnPFJ3mWD1h8hIcZ1mUhmTepTTXXGjxFELc6xJErUtjV7Ev8Qt81WFfFmVmWjUNgXh2ia/ULNqyqKnEcxgsRplYZeN6MdkM0mid9OCvXLD1ZHkdo32CkWJE5lECsV3D92K6QxJNeCsLMSi9CGvcmtG8EMkRUXYmPLV5Su/Dz+x1Kn18YekGFXci/yWPqisPkAL2Bo5k1MhXwsJXUN4zDrsOzwsAhCKW/JwlRmgndRT1IMYv2yoMwdHe+QoV7mwnMPSgpSJ9mJQnQpR4XILVGyyn2vsAmBYvzco58KAmNDJwyUh/SzoaJkRR9EEhuYgVQWZvnna98HSG61Ojx/qMfERx8ZAUBW09SMh5MbBJuIKBUsQZcYj+Y0XbCQTqOE/KRIihFxN6dtaIsLRyYuny/Ltlkp0k2cOxWq1/UekKP+rCjlm5pJrihWKyLFoosL4gg/NwqxH9YZa4hmrC5DsULmwlHh5nJkQbQUJET0yUa5WzqgmFa/M9KYJIGlFFhRPFsfjTHjCWG5dls1O4tv2ZJdgk2lERFjMNKvEZmOprKoSRe8bGBlSJmmM95Oy+EG0KS1dheaQRLVfaSTKCueFUywz5TcOTMkiOVLfpaiOF/L9LH2s9ja9vZthcsI2YXQ1+yPE9aXWjs1O8xqqbSpaxaGumYHHjozPRdK8iH4oJILy8nFUiCh4yiQxCyLSICwos+pDe1pT4IjlTNwaO3XUuTBrqS5Ma7LMfEkeq0wgWFCUclCJ+MwkHGbowu9snNrGkDQh9XiwxfQnmJy9zl3C7Zqnxl8kqgSGJWM00cahEwszicyJkQ3EJ6EiBJS0RKkyjdKCw4SUxruXEk0+XCWWSIJWcEsZ+dfnJWAlez/+MUIGCdMAAD/9f/r/+D/1//T/9G1ONTWnXCgZsGI8VjGqjhRhRGUtLUj//B3DiOUt1TES1C6OIEDNQ0JLJtjGDAwpneeeajNZNNDRg0kmmJioiXVSICQ8eKUl9va6/MYUQhCO71nDS3FPStCMZ73iM9XnjuDVhHUpKca4pju1pJJqfUoYMCjCIe8SJenXCBAQIZMPaaeTSmChTGZvrvSDO5SRKRe4sYw4UzYaSrcRs1MViMz4a/5SRTDGMQuHjUmp5KMMKIOdhv89f7zjmOlpb1k0pBhioQv42oj1TVLybVs3cs45zEbhLSTfTyijU4Qsh5ti/dLiIZkdcJpbdfvIIOY518nJx1Mu/JgmoxWFTyHKYdyKf3F+afsXc9ekiM41ILFsbWXf5uHH5zZVa8oIPhw2vKTanU1j4U6gHg6xJNuCg69tHxF9h3EhS3UvSQFLBQEjL2FBKQOl100JKY3ZjPrIE2O07M9qrY5v61ZTU+wl7jRdMLnCCmGodTKapDoljg2WdJ/A6k/BsEE5sKzKcqfjmD4WKTUzUOUk2lGfezlcDQ1oQgYEzTKm4yRizTLbKpgZoUFKlBW5bWzBkhneBoKS08NLU/KMV8rxBS2gxANiPlgG9P4dF5BZy9Tgu9TP+pExzrnrZv9uCkeCaOzTg0vokguKPMV34UK+n4EMVZ0MLuaDVxbXq2i2r+cEvu4lqxEgqmdsJXLidTBiUMNzNJU6MTWNxK1cMURRxuYSUKf5Kc6cL93BI0Cvx3FNkUrWWW7ZsZJSuUOnFG3/p5Ss86iSOl1qMS2SNiN69G4xZ923YlDfecNjFJPfuji/SrJmL+CB3fID1ZQZVhPdFk/OJQVD1DyvYc137AM4DijCM0LTMiKkm++aL1qRS3aecUb988QQr9vTVDGrFExgxo2krGp80FI1yXUfFneFLcNz2+0mrsebb0zktb05EBRX+pSOwG9ECUQb0ap96ImEFdEQU1C/qK0OzTwl3DLCaTQuWRBd/ojLQIKyK6X/fYyl07sEHqSTfgNuG24ZsTDfe+e90HVTKwySrxZJN/I6TbVYqqmneMvFHmX+0Ry17R2L2EbNFESBzwbyDHX0iXRBv7YT7HU1nL6SqyHas+8RmKswUA2bdyD7oCg/UwYgg0oVf25pVEnkydS3Q/9WXUHA4S76az4+OF2gRZHPXtJ4Qokijs+ZPpBukVS+tG4CV9HcSt5N/xatBMD9CQ8/95HCnEPMIVtctSunKgKHdw62B0tdrSjJSxQoLJu5tGQnyxIkGgy+s3QkyScJISBHX0Y/C2MFBp77CqohofRYIM3EJKdoMiJ6YCOWVRFtidDRv92BvTNNwwBtbCG5QicprHMUSwxVdGokmiuxvbtPyZYuLzRprDesyZSV13iwWSfKbZ6EhSt0Ap8s1e1DTPN9I/SLiBdr73REmn7P1iwpC4cmsSI8SJiSmZ8x/Mza0S/jNg0S4kdCxdI9NMX5vaz5uoaHJ3R/rjZluNtrdTTzKJlXW89mNHOI4jW54Ci79ncbn2wDOAXj7Ak0uG8xlcEsBpM03089GhXH07HCofPigSeYDbaZc6lsuvqTs55pTFDT5xUJremIjUrkEoupRY0NZwNn/o1K0JDxybfKuuiupyvlV/urG/aZ0q4k5LaWksNXA+ADWUQBswIifQfg+SqC9a4RvbmOBFE0087n0r+OJ0UTlWvgahv/p7gtnle9L8LEJPLoBDorbFOclMiunBQEkzHAxCQZgoExUUio9n+ieu5tYSuJ08Sb8pnJgq9Yv+AIJVVNvrbzFc9wYCKKsy8eBVIux2hBkjJIIJACozgCnAB53AAvnAWEQI2qTtoG8BWGkEOeNqfQZDGcZ0rV7Zdb8JrFI+fp7ta9e52r8pYljJaF8aPJTzYoobffwhjuJSa94V4GMxEMh/v5wkBP27zlWn1fRyFvSzFT/5OVIRO7ez0bfSnGtW3LceGjdd8jN/YDmJmVHlQniBWqYZxEQN+SS/lkAP5TJdO6h3DKWTBKGiIgqJS6aCb3U4BA3BxBnvkBqjvJ58o3yBfV9d52RKdcSl6WgvSV0ISZqXZQlcKOuxc1kiN5LqP4xS8aiQWFMTIDeh5djeVVRa61VDIog3WOIz9SunzUQSxpeQiFSWqpsLGYjY6L73qE4MBAeRjwDQOHxfRWVSPgtRR5ZcAiOXNbMa5AHJdQjW2PoUHBxVKCR7qLUntsXEPSzWkLLQQ9u5gjIc5Lo28lZFwz5K/fuzMqqwv7ivw/Ki2mV5y1exdMK3pHBJWlDHf5kBIbMjHMsBosqK1x0kHBSqyIgWcUCdn0UBFAxVsHwSVeBzNECplXGiuPDbpGeqDSy5B9GkmUt8VQZWqdVOhFNanQJYMKErewrxMdfy9yE9Y3xD01PTfkJZBS6i6idrk7aJNL+8LiaOZiZMBdh7HyJkFgUFKpLAQ8egcWCXlLQDlAsMhTjws2LJkCjlGLLc8rdTSRmOWjmbC77Xlsi5Gby3yI+2v825GSjMnJ0Z2RjteKfxb+v/w/iQ23WeY6Tvmy6GWjb5gy6QWPGy5MqQffbOExEqJkCRsiLMMkQUEpnkDiRJ7MqimuJWpryRP5DeqIzdaQnntfcYh078iVJjb4RC4+DZkOhkHwyAuKg2XKoolvyqc9MFFnqizx4wswkYHlBiZY4JDyhY8UGgwKDjhw4JNJINBBwoQs4aWYlRIthhKeqVRDsFtrZrqiXc7bamSpteel2ypcqGToFQ2CIuHR0HQXDIJsjpUymhL8nVEBYthSxAsSMTaQQaEEDTxw4YMJFlgkOHHEjAe8Wc0eJDRxL2BRosphK1CVkkOywrr9Saa6E9dRR/qOV3V/pZyDed2/I3Z2I1ovIROO2pnQzR9obJ5oY5eGzRF9NwuReSefKCDj5JIQNmCyZ8qLnDDxp08XKy2UIli7hUqmQbYYadXVX4Xzwww0wR2188c30oZd7I6UN/Kflynbs1ZKRl5qQlpOfiEJ/yuxAj8vik7dgg8PCRJBAwQctx4WEAssW4kOKElEgoPBYKRGMDgkaEniQscOEHOILaJYaclaW1yjoptntulgoS02z25yW6wpYv0PKVutTkL0tMy8xJX5qIQxel+tZLI3s1qxhk+yJEmm0yr7BMXFCQgITNTJNCCSxAcFhp54oSKDSxZIeNFjWHJuEko65iU1kZwrVm3eM2Ryijxen6LfXjWj9/XpUqdq/ITN2ckpm1FJaKT2E9+G6B79bBBbdC0VIOIPETCPqnhFUw06q8VKMrsmiRwjAgg8OHixhIaSPCihDDiWOWerrlcf7ZuckJbsn1VRO20aV3v+8lXy7Z0iOmwqPjIE19EMISpRm5gG6gTrv5K88J4MlCRFRF4mRbpJsFEryC6nZZhhUkwMqHEyDiMmvfSeOsmH7y2ReEa7F9yi12p1w7aFPUMHydcSkS1Vyp0kn0U9E8cK/9evVp0pvySsSt7aUkZyhQe4lOUxMtwrVIgndQibeZJ8wT9prmUUSaSFZRkm9FCkIFPhstCjEo5mCh2Ok9yqHyyKXzzP8qR4rp61Z8G4oQM1txbOz3i+EsuPc21X6Mqgu6qqHK++a/Gyy1neIi54jXrY07jXtqa9Woc7FNCq8IW5A/oWq1Do5gnDiQk1Q+b0HgVg65SReGnUJA9KD5q09KlV/ERs32YXap3h+YQmT2dBugjIRUEJdnVnHRnypMOStWs3X1zKGpN2IXeq8rNfROSEoW4mYMg7LdnYLBbkUgk8562Bh6uWiYTI0VC5xmi4Zek0izx9OjEiJRqGhy4Eyd5Q3jvSdrSrm7LpGTcfCAjC2EARdXZ9fjeWCLXmoNNkWTiPj++/p43mjyJroa6dNTMrgVSyiVU0r/TUUZJLaC9VWZjBAY7nBWMmq69TBI9z1x0u8ul4oba7ksvlCsh7thWQiu3YMNMhTbUqEYF9stdHeiqZvZBCE3yE7ivrMbY75Wbg7gmD/TShDU3MrCWjA+heFNtd4TGIvoSzp1xkU6iQNKlo1joLI6bStgqkKSGSZ+WE84NWbt0QLTFF6bdUOejUSBreNuVplIe8hOTNZGF38Ed4LbFm6RW7yqyLXTteiYjbBn/hL2uta006Q87lP2u32j4nWcxz06dxWGT8dqFI5yzNt4dgoAr2ghU7B0G0CZuruDiA7fiQdSNwxB69bBFT3AKzjS0reaAH4OKNLooxWfjHZU9g1C9TYZD4bpZK1e1+ienhmJ4u6ESclOZsWy9NRELcq9X4RW4dv/usr0jElvkgszyGIshFg538wC8I9LvyaOhCjWViTXCPNp4FcgevC3DKtr520kZuIq3rXnk2mYQkQ847tkYqOU7VwenQ/eYzVY2YXJYJZQrXbftHu0t/KusNoGVpilxVW5l6YpoUHtLYwXxwld2Nq6d5sStUBvmmPqHnWQ4B6j9rm3TiehkxfnCWgwi84fROCQvt8OUpAtDafI2cSf3K1ONc3StoiSjoYoV71q4Rio9SvuBQLkUGYNJw3Raf345RgLGt92Y7nrhvfuw2mZpYzLvQM4jP1w7LneM0giOE07zPtqzSCOKFSAmmyUhgiSUSJecmc0A9M/jDlpJl7kjLG3/WijT21B2VMDsONvVZMq7RHEzdDqPHyJLWOQVFyLZ/zT1sexexJEidfAjCtSzP4CVuZ5lAb3QyCiczH0MhPTpEb4p1bE/dG+cZqJ/U9YvnIL4WLEPFnZYCyAJQAlYSkbsAE8X/poiHsEuBVxQEEArgxsHRTAkO3YTo0LMwUu9GqdnIBjdgu7QUvt2MosK+5Iqb0L7gqVUXcg4oy6lUQErC9Id7F7IZd3EQ1ONzd9Hn8kqt9XmSpCgqD0VKWd286krFv2nNZy+Z48bn9yd6IFuB6QoMW600PuSR6e6uI9BjbFFkKsR7VkB4jxHNJoX2ktP+valcE+kH4rqqFJiqJD6x5hjtD2WZZe9AwPoC7Pc8z5YKQszqkqqkC8K3xzDqNjZxqzt3B5VBDrrriePveft1b8vbT3FYVXU/XPBmhkCguy2YHwAeY7IF/H3A9RmMJxzyeORUgNg7nn0hPYhmxGFW54Usg6oTllnp3Iuav9xmFAgndtcNyrKYJLstQZmfhuCMRkw2+g1zJYIdLlrivAnqj6HAKaraY8vu4nRoOkLK99CaFhWLhLzoCgNS4LpsuSNv6sAOsOcLSA0brAyWosiRDtQELZrpApDE1pcCZ2PxmO2OXNDNSUqUhivs688jn6OQGA//DTvUGmRpCtn7mSQItBxq3sc5yDfZbffWl1mXX2Dz9YSH8OsxHWI25pLffg45FlaNMdWuNr0tMLGTk2KL70BtgC0HLAyZSwf57EqpQ0A3KhLYCFTWVfoR2V+N4sZjTyty7sQKkpeheVkcJl/FEdDM4e2G+ex+uAypNqsLAzkKhVG1YyREY2mOUXU1evMXUrOxagqDZasldn8LVovpfhdWJQNOcPFfKoallHOKRkF2AC3EdPaEzClIdATHPoTUu0sHw2ZKKkjPvvM9zUuft+2zM1Y//jFCBkgVgT9BBsDCwEa/mj6m/jw+Mv5ePf99Yz0F7SnnUsXkF1qSQl/F26GOBv6ICyNFGSpAdSxk7j9AqbkS9DEzoT9Z+kFQ290ZNfkilM6WucI1N/OqWr4q6+SFsb/vy/OUWHuoTdmZF75SunlMMA6kBRwFXFPABuEDF9b0QDrpiUgII9sVvnE13ojdzwCaRd918nChclKVGUdjtDccHVs2nBYzwdVkkDxGFbTYvcQktDh16pkI5C/27NJYx9EtyhLDCB35JiMoJpYiqcIkKeqyvxAVjyaP39XxE8CyACVAZcrpEwBCgUfpLWHCArowSRHqF/ZR9pX4X42sbeKgoUK2Nc6bGOG823v6Akag2VjMrSBw3W6cEOfdgOqln+hFXRKu5RMXaoM5SLWskR9qvmg2ht3ztGFhsU091zsDpaj3TmvvhuCQdfYs5awuwBdgJr/z5gFoD2slMWcCilm5g3Al5oJrpbo43Ios7IflWO8YzVfjBPqUKtphhDLDyH+OY1ZUorVkcUciM6vJYwQ1GPP0/4gkSWiAMfPyIDv+OA9ZtifpdkMRdWbryCnxlqsgbKohPXr1evc2Yi0BsACZ4qMBBEVJON8X/slio5xHfMAkcYIQlcUYqGcArLeT28pVTfQiuNv0ig6mJy7hnSRbn/QrxLOhFE7CykMiFr+aDIVPYJFCy+UjtJldon97y0rTmLzqFambwJtYTk4PgXL2z4tzBW38uJDBFkBi23N5Ii2CrhBAlaCMwulKhH6ldXNguOz3n0wyq6Cj0PLXNqPDB3XaooMFCi++adLmVYKis/DZK5Jrbsoo1BvKBwWFREGSGugj9Mr0d+Rr2LKdKkJeYJHRymiUesYNud/qZ5xlS/YIACYM0f4BOgD0O2F8T0nwQsQrDn0at3sLOKk3BHYhwK9dlVapl6tBrJXp/tXAVNqCZtZo3ShvrmK0RC4VFblt/DMKvbo74Jje32c/0S/KTGhTqy56ednURWYlOb8gdtl+cbv6I/HHPsCoyR9Uh6PdSdiR7B4g26XwcSqAPCIgbNtp79MZstZY8uJUS2O4/oZr96LMxWncVzOPYPfaKFKcWhlHSaxvrV2xPpbyid9aV1GXxHrSlzEws3Ax+ZxcfTxa2FLtYiYiTjZxM1Cz8GTi7rJJeGJdNmOiAs6cU5musB2AHoAMNU7YQE6b4B6A8Xc+A6GtMfE37ghAn1jgRKOu3Zan6QzFKLEzjH6lx/qN8X0tZZ1xFiGb+wsvFA5DUltlpN4r3BKyMK8PON4sz8gPzHV5dbPe8FraO7lx3nY6ZPvwqbYaMCOVBMcaLpIMJujAKAAJYAULl0xIahogKweP4np8ZGDXz3WGIQ7/82SOrlTyRYtjc4hURn/JsZXH/zYyQeZTyL2bRCMkSGkQMm4OLfbH82Tow2PTDwZMq5BcD9U2lR3rWYKwo52TwXgm0DRrWbtmfZVKJujRJtTx3eKG1J8XZ8/7SADCSThri1BqSYhSeDsO1PdhLOtldO+WSaMds6qJQja0POF00e9GIm0cjsT9wYy+kmN+1id+Y2IxM6Pw7ghrlakQbDD6OtCYck6Eu5PKI02AiJbV8n0pY1NMv+1kRkznkU+plfOjrWaF7f1w4KTX/fJjlatOJcwWOStUAzgJwDP0bwcxO24XxZoprNNjbqLm8o+GT+sEEQS50LXxtuOZI1JCo/XkxToFGt2LWOIc31rUrXrxIMlH8QGpuVScHZhOgUwWCyGzq2ngHEIiAsiQhwikPIMxHqmbW6wqbrx8tBAZs8pUP6xkhwzbHXaRfajTJapUhWWRor1OgQCiA0FqbfSVRxqolLy0W32oErrmTsFNnJN2l/hurivOiB1YlNQWMxm4NCcrmn6tbMiIJojl2ovmjMva27BPjZUonKitk1+A5ZFM/FALdjniikqVQUKOxJD08kArXOCMscDApbHdcGF9XUz5rTgLfZuenXl82hUuyyWm4+NLv9wuMgS/W4IwbRaE0wYolUthrUXi3YCg0+cqc2uhC+ZZVo9K9kW5sbQ3t6D5o+ivGUipRUza6//iwgpajxoR4npuSrjFY56bZON3LpLuLugwKYswh2ewlLb4SXwkIGbMpPoN0q81iFYl+OiPLasPRoFXH9XqdG+ubc17uysKJ+tmMn9720QTiR30vkvCKIaxb+rYeSO1AVHJeOgLyAP4d0wLBpyWRO2nEx1am8q3VrO4o7duAgFYxPD08Ur9DtcsaF+Rx1peLzz4xY1yIqIBC2evila0ZpKA5TVGDbv/0/7U67CQ2No8AjYU6/oJxAFhja0CBrzqGolzidGRIZpiKhSX96EiycMkouetH/8Se55bo2l0QRfG00zxjSpYaS6ymEqBcLnYAlBkAuhrXVhjYsCMPnNgdfezGIKgKEHqxrrELBSJQRjMnUaanBrbOG6g0lPXtnKnyHuixOdJMcjo6cMFGJv4fMGuXC7qLDgrbE6VIaXbnJH5qJyQYuTcAnQhpE0RE0jlAtlcCJgPdMrJYvg0Eje8WWlSE4WRZL1Yhy1M6p/1xa4JvE9tfxbKJLJqPYJIId2q/sXDIqVxmAGiaRwCGwhMXsQui8Ep3G/DaTQJaMEAPUwJ9FoBStJQTDF8geqCmtouwiRaIgurnNmR4VIrLmixURpiM9LU9b1+k3IxzVVlopGLHWrYVDpN0RCLYTLiYJBM2pyWyXy6p2f9hEASK4ewmMmIXBq8A8cE0jc/Pz4hIYyetZngZiuwlvYL0NPpG/tF5XwnSrQRhSL0A1CdlLQIxmIxizE73yIyKGAKGqZIo5cLkAmEiRr8W8fqM0P2i2cVaNCokLFWXXH0tkCSxr/WrTnKvnZ5J9phN1p0yLvnRAn7RTQdRcrkTF+8unToiwwAHXf5Aw9Q2FyozlpCIspo7nkoMjvLoct74ouKMkXF1Atu/FXWW2B7R58AhlVnbXtL14edFzMK6XRlLtYQJne52ejfkaUDMOUBzijBPF0QWJYNl/JLsLIS8V5ovvj0UnSl9m6ORUSvHGZGUV15s2MfjtMnruuMyasSQmPmrTCqxUC8rawgUrXrFbz7YQGyz1NXW0QGT48IMlDEnprj9l+Up46ovWe58WW80cMr8aI7p4dcSGlW8kbqz5YN4mevGFZDJ+n5kWy8w44NzlyjpIZyt1BEp9rd7o1UlDXTCgRqZ8vIOabf80aCU8ZEgsXwk2+dOnWz4iECpRhgiurw4JnS4odfSYsGCiOMy461gqT+5tJlMUuevu/vqNajQs3aWd6t3edwbe/48Hfs+eZxbP559lJoFw/pBofx0A1ALoZjNOe5KTtEGC3kQyAeR8TVku3GO8rXSk8vCPgKY/q1/mOn+nO6uhANI2CCvi1YHUYYShWm8nZOmMb+L5t1l4bihoqfnTEhp/1EJQgGCUi9Yk5BR2+8pPiV+jo+uBm1crzU/OnSziW++VM/QfikoujkDs3b5kGOXZVrcT4s+/FTblkvJDIlO2LTiFKrhRcL2tPtKJcQO1aJxsW7u3zaTMnTO1tMaDIJtW8kyBPfHA6L+6sioP+RDMm+mWbTUJu+JnAmozFhVZx6RBp7CGHiR4wwOFhwYSEsmESEmiTzQWJGu79Z5KONoNezInPldkZ7rq4j0veHRMuXfMsnW6roxFT5d9dV8RXiqugj8jhlknLKZHLce7qngzSyjzxIYDASeyhxglIeLAkPCyFoysgksLGBocIUekgtfzhAQQw88hJBG+7FNC1EpafVVhBRR66X+4+JzRpaCuc1XTXNo/ontXrb+x8rV3/30cIUmoVQu3BGrTBoeLUneO2y9FDho4QwhF1lN9BA0aYKVIQgvD6zDBJokg96Hr7PQeQSkYIIUnqqWXLueS7bdYm2s9ahOHdrwI77huWie32TqqZNFVe67+RtO5nO//iaRLzQ3QuSSfeWwfJ6rwYzzvVJjzmOCjCGdPZe0ZQ53BHkVZjMYVQhEcUbRCaKrDqQ6HV4yhmqQoRrjEmOpzJUI7rZCsDGgjsYIT3mXAOBYcwSOseYn3cQ+ucOsZ+20Vz3MOH+LB1jg7iP2fKyhuGV8I31RXnSDvLZ1Bhunt8gwvJJOrSjZpdJQiYgqUhnUL0WKlqS5Cb1IpmppiVNIIa56suRU4XFONuWlqTbij7XlKyxLNOk75WIet7cYKaZkNFN+MlbV83z0Q88YG83hS6O6HTlWaCXDgpiu5lm4T6XI5K2bJqjVskJ3lO9yZZFzrSMJrKi4CT64t3XjfkZ88JgUT7QMBuyS94FiY0WCI829NEJDpahQ6GlZ/TQQOEsBU3eU0fvFtQqX8ni9FXmybrPyr+uDjOdE5tEBDiPDuzskcpv0j0dA/AoKR6BUdzMQwAjfN6a+UBeW5kGt3YMbuIzHaoyLvzrbUvatr4/v5QFMQimjSpyH8n+UBIN4nKPVWxLcUjCKqIXNOZVaD7ZE/UgtcRuqGcmtQQ0S3dsJbkvmRzrFw34TFze+CYqkTLnYEOBge2j/unTeWDjUdyB9R0SwvvV2GhrTngXHXBmktLOHwIp0kEGEzSW9yT0RN2kRdZSxXKJ4V83FK9pJEe5qp9rIaEqFmgYjbDIAknDHPXzEj7+VZJmKkvfG/Yds/4ye4f1ZJIQrjg/8HVUj2cTZ7URQX1UtPMFYhU0EXjbfEBtIArn73n9RGcjNgg3hEPcgSBhIHxP5kbjjUktOu0cCQxvZiYFsWKtWAgEd22CyIVVBaG0hIc/sk7M861Olwu5QPK8xCqWpqKtccjCLRD9iEZZ2hHbhFCQLZWsMeqJFhKJuY40D8NZgtxNeSBhkqhDMTjISEtuJ6la59nM2EGd476tt6F3PAuvDsLL9KWUKzcYSxlV2S0q/o0CfZWHXlahtvTp9udsyzUJHRnc0bzOE483FrunnQxwXKCRU5gLbUawvDyihGFExKtXxP729jQeSZ9QT4JKBSfyQjkYy6lLeMoFpgmzXCjhYQXAPolcF1ZNGlXXNh5MkwT2R2FcQvd2TBbnNfM2P7C8YDKMhRmo1JfolYppn92L5a9AggoLr2IBl6Xqmtsict11DjvJB1SGJb7ZEtYeSI47GwcwzCSpIonBTK25ZuKUtJZl+ilM7QzmYm0iEq33JjqZ07rat6Etkm/3ol8G2dfpeWdpyPOELwLJKaGWiQEPqzUzCMhfSNNS0Sw3D69T0UlBnBeP+M4FnsRBJaNTHuuZclfkkr1E4hOEVmmr7JTmMjmpFQfHo6jgJJIc5zgrzXbCokbezkrvlqiAM5A7Js6xUJ4jF92y11RThUOTOyehrG4tmApsk8sh4BDPxLdL9VQUWSF1MVVoit2uD2RWgqsF2Xobzcb1KHsKJKnGskTnlaxNMrNdlXJcCN7SnNCmQ+rMu8pqmZiqkahhC8QSiDIBLPjOwtpBSNPcTld7YqSvqJhlZM6UP4lddrsT0ztNpy/y744zopUE0gW6EhNKQ8h6CmetBxNyDN3kw09RwFVEXvhbbJAMdH/+MUIGikSABIRUsLfCNYIkwkCmAezDCYlFydm1Exrq8UQoBONTIkQ508GTAMW4wR+LmoNywdYZMivHXkUw9Gg2ICUUs4qxQQyIDDuH3KYkgBaWrFnSMBh6tNV/oK6TYQPKYRAIqgYlJASEg9HYqXG09gjvfGLXdiJkpoy9U3ipGE7VkOmhVCJ03aXMj5ZMsfKF3J/GztVj42SjIt15Ua2oD1Ow1XKkimnJiRq/AgQtUWyG1s0l5qoaG6BKt+SYk7KMm5MUzxSOSg0zWmCUxVIpqxQKjExUzt6lCDomj9FvPLb5hGn+ReArQ9DI2/YVisnUQRk6jCfQi/vh/bRWscY3xBqZ7lz4gMzH+q2bqratdT3YOfTZ1JqoLqj9S8n9XUP2RkhKdUS+PXksSRV4p9rkieSfGZEX5uCTJwlf/wJ/VGzTBR+S63lrahciQfqUNU72k+sWkh0mL/a29V2PpYYUEZDZkYztEU9RI/J002dSzcj03VH2TeelbafQWoPviO09tYJulMuNU3eVm6ZI2tcyqK909nCpTzMv0sk3m49k4Vq/iqGPC7qxPLrZQsiNc1bT7n25lzFRFzjXIiToCIyo9PWdjRNn1gYsLieJKyCQjphJOMsPYVzw5lcyc0cAqI7JGiJMuGBhAVRVwKY88epE6TT6sSEKBcI2JKL80wuT+nU0Y0u4WVIm4h5QP1BDjfVptnvVE5zvbHFbEnlf5q88yidzwt7pOBJJMyvE0WSTvTdpUZSIQLxiVieIXLoSpCyL9yR76M4676+dpNeR/SCCpFsYPZXUojc4UGdtSvdX6VirNyD0t+hAmjb0tS5mjegg8uqwRPi8cNKDT321UVf1KCTkBlFP3yd04WQSQmk+FT/hQggSeTJup04pUgUzX8vJplVUDGo8Qn0qIzcMOSh++c5SmijZZZOrE1JRR/CS3Ldlr032Yy/pS1kmpT35PlceYQL9otOrW0U0sdnbMYEX3RZ6EzBbSrP69TZg4koUxfrq88tCFmb2XZIareE/Iagu+y7QgQKGEHcvZL/KPSVhrKe+5ulqep/UJPnYLVtaqqTUXd6xvDiddMLOQZzCOrQU9s2RfV80ktbB38v8mEdIoYMQ0Tsq1uCJFr1HiT5oziCGQemKSg4djSW/5umBGbvv+uUUhCJ17z6KdJCug1f4hxCshbWmpe5xzOn8Q97ggck0+6rkyIKIvyTbZVfymJ3nXyT1qMEMp6zX7fEDDMeT+kViCmVFe0+O68hUa9/+nVKdVb/3KDClJ381ddkRK045XdM7+/SurS9+uZ2ZnZkdiKwrZylLOSDqO/iRAgmLbr1dGRLP7UI2W/zXIlbrrbZUbRlSItNE63vmVf0f22ybVkS+EIlUWyPiBCXuU/dDEaTOqsxhDEicvi2oRFflLepCCT6f/JkRCSr/8SEQn//fobmSb6+1GSS+q/qERNF6rIYRjNuqrLI0gsY08kIFssNlBEIS9y0CJFHhl4mrefeLvnshMsNDONlJtWpQKxEtuq6mcXdoq9aIglfD5ZQvUevQSRcMpFEFxPS4kP45egjipoSyVl2maYlQrul9c7a0ROqDI7lllS7IdimpOgUrYuV5EvSvhM5OkKqa9JcmJ0kSq9yCXia+i1LRRpPFdStSTMvcL/+0tSUVqmRJmKvNVL1sRkyKFW7T1SnkhhbxKuMrqEekr0qTkqjJxJsjqidSaoQljKdBDyibJlZQKPLpJZNo01ESZVck0mUaRoiTRmktKqUxGhKTMloURw0ySV6qrStrcukRlGRqErvNHjEhvHKPJbVCi6tJJCRNMTLV67aUhp5XOhL2r0VJtcxJIFaaJJDslWSEVDxDdWcVMo3GK0V2aETJz0URJOi8Sv0sSStymS5Oy5plSJCmy1oiWuFSq0tGtJys1OmI5Cb9dUwwu0U45lTFbJ3i5C0610qE+VcQEZenZVTva3CknE4rFI1P6xNEOI4jCu4myaUkdSIW1HNSRHSnOJ9KTkJ3REq1koyUo/9qylSS5iInKVt6Vyp5dFRJLVy19nyI2UtE7ZNEq9DMQlTYjUYSRDRkZUEnEaUsJKNku5FJv4KEYAxGCMEETlOweIEJnnWBqYWCokI1RRAkIvaUQl7R1Dys8tGStvLhPlu7EiQq/xIVoitNrJNTVRyRxoW4niYqsEyfdCSqXkcpktK4I8psRk5G1LWRp3PSJl2VNCYLMu1BGiplJsRIcTTcUhcTYstaac+8Uym/WUy9ewovSPpmi09oo4jrlyzFTIynFvKVUYWc6QiXCepciMRkuJ9K4kuYjEUW6UXVJ1iuKKcJyJoqk9RPJRtXSJEzS4jxfsWmUWXWKFohGZhWRT9Z5Jok91U0oXZ3xK5iWiQjlbWpK01eMWiGnhF9wyfdSxqMlsUtEYlTi9QnUsFU1TJoiSPQ5YtOKxlEF3bpoTl5XEklHaIWqxasjS9MxOUnqb41J0haqfSGuK8vqVIT5lCeKVpelTKig67qyTQr1FuFppWWEN2uKZi0JSJ767SXueS51EnKXFQr2rlNRUr1ot0oTV28ti6dsuWZokkzWkREz0tJNcwmYiIymIWIqv0hQTTyHKa0W6Xq8kUPySwpU2sUSFYubUoJHRczWiSRry/2ySaF+4k5IpbDZyROxDmiZbFLfRX0OEWSuQbvvlJGhuxUEo0slLVIRCTuMjkOUz/yarQRWIVmrom2jixiVL0Qk0YWM3/+MUIGy4S//gASyRCSNd5RFRMfJSCrn80kmXFWSr8rtek0SNFdKES7zQiZDhG2RNH/DTYqiraRFK4qHRHJy8azGUJRS1akERWWNlSzfiWszV6iETvSKbFQ5wiINGeIoJbVcIBb1mlxPR5ybTyiLDTgIWlYnsJKVSJvrET8FgicZOEhpBS81I+bl/Ez6iMTMKEm6oj8UjGI0KB4iQKYNNKeSktdmdJBEw+EjtAhFQcSC6SEk+CCzjKiLCpPTk33hQSMyWD4oiIKITh0iFoVM6LailHvoaIJGN8ZzU0kS+OUQhbRmnQEJJmzPCREECNh0puiRuMt0SlI8kxLYhRO0CEKdWW03NDkT47FUjIt5orEC+PwtKyg00Qjs1CiUk5spFw3FxxEPxCX2inpCScQo2ba6RNL5lGlpRRlPMlXLNJ5cwtDB8yEm8lUII5wUQuLJDYiFRYZRtEzFMn5Q8kjN7EiCRluiFAgkw9l1aC3v3YSSTQ9IQgm6ZQZci9NFjci3k9RaIiKyoiSSaLmySmpKlMshpgiu3v3Jb3jeF1l8Ll4TIuUkJey3kQiG9H2FIs98IK9GaRol8IkSNvShXoQvKnLgLtNUwgRm0UN6cINHTUNWWuCCCJmoiPbYEIztJsbxEJjZlIayEoeC9WuJII8IrGyCJHPSSQFC8Y+kjghP1Gl5RiyFYdEhZFyzJsqLf5DZ4oRQb2Jd8VGKl+iCc2si6mlmQl1PlKASCsHOEnRCeY2YQlQ4T1JT/RBSIwevZ0RsunixZUCCKvkLBE3kk2bJh61WPEQkSiWRFIok3BNJP2g0uTZEiXotFCCUiDGBxV1bG0UIQI2qBYvBKPmyJg4oRMPxGtOrafcCJAXGscUiJ52NSaIr1JCbiAzQhBPGPgVkEVZRQ8Mi0Sqh0qgpE3Je3sJEbk4hblMJuSekFlBhsXlFJHaJKEBNZwwhFXiZF9REEyuQFmVjDK+mOQ2kmTLNgqU5qaCLRGeQSFA89yTOkJZ6OhEUMN5CWa/1GlRZEulgQRge4QKWLG0kkWZQUIGDGEsVjQ2YvU2hJMM2hFgRB8oiSb3BSyklgZzQUetCrVCFDHiKRfmUXwJM78RErSKIyxEhqJGxovPtIrBU8tZVJzjMLMzlEQYxSBFDWRMcQI6wiE77CxLQknMxvILb0o5ognLgQ0gQjaFI20hDmmyDNiIFfARRISUTRUwZmwleiMGZjC0EZQv0mJ4IhBBM0zSRJkgRxmRQhdIkNUxC9Y+GbZExa7DasCKJQiISRJL7/BFvDzQ51vX8ERQZxiBEIS1sYaEE5jxe1vWooiuIKkiCkxnzgTYWUxmICdFKOc83mKKT5sL0KCRD4L6Hk4xajTiJSITrPgiozRlFGueaBRZGkpNoRkEKXZNsLq8mZIUhKRsmKTTeaT1nNChSaEH2RBCRM7DYiCMnMN70iIL2bGSCRLudhKR8kWjciDwgSRGaE2JqItvh0JoJqiTVPEy9xZsJZz0QkjaQbhEiEX2Z+8CESW50QlFZt0hJDc42ghS30RBAkpTZiEl7x9wiRzxci8RTPYK1YfkPpfxEUzBlWQIKI3k3xoQTYvzKhLOQIseTllzRiByLmjVpFnQTiRwnBAhgpDQmxecNJSRzcBpKQIpiKxnhSIkJHNBU1NDFq+TektEJW2yIShSeaNL9pJtGq49ChZQtuCAiLOonktSnnezEIiZno0uEEPJMUG3NUq0UbEQlxZJyF3mYttOiXM4IzREkcySCFPCJ5LRe9izi2iuai0JLJ0xXETbnGRVfDxGxCn+hJ6lMoRCDQsGBbkMOk0pX5MSIXivE4vhNFwYqVbqXyXYlflCL0S2aWpcuWnJLwm0q+TebQ4ITvYqRiPVMJaJnktIoX2nKIlkv8SC1tD5Ek/ejUhL09kKSyrRG5TWVKbZOFlasaJEInS0NaIi0cHRJ9JixidLjKWJaNrRBFlk3kYiTLJxGiZCfNSkc8nOVERy+iancjeSLdGSuJJybI2UwU5ZJ1IXRIS1oN0TwSOnUi9NLIQkjnRCWW5NN26fqQuQ8kultaskjOnYVo26SQETcx8SQqfTLVfWOWF6WWy7RRKatK/S6ha1skKUnKmlaZBc3CPpYkaOpSh6R6SL+KEUhyXFEj2zpa0usqrUaUJla7XoIxlFXijOV3avSy5pEqLQCAD//jFCBw7Ev/8AGlzLV1RzlIl5vGic1NM0RaSwm0hKifkVV9PLUUzXOkLSZ9F6K7TWlEi1lKdJPC6295GT8syvzIuRpyyRdEE3paRcXyTC+61lSeVNcIipS/NVrlk8pemQu0IkcsIaI6TiO6qmk+EJkqgxpKJiRotEmllmisTZEbUhE3wj8kv6p6QFpGZpLkgu9xFEUj+UimrkT1HW4WjXaJeiF87RXEq7TFKbwjaWRVlNQqKtyxKKnoLvFl6bzeVFRku0LAmeq5bQTlNL2p0cyom3ltlI0WcJfE0yXIlpuJ8hEXsVOKpbRFZPtp1kRLZlrWEZHIWFFTptFKVuRaSNJ0I0bSqhkC/kkKNiDtJPdtlOU6kixDVxMohUnFWiSy9TFb1KjaVNUk0jiyKJ8YUtMUbFpi5SiRVU21ypb2GVi0TdqgQxTXYoJXZFDEhDQXwwhO7FhyZdqiHMninfR6nrq0u0ToqJZEuE8sp5NeTkKm5F7FbSo3hMsSMv0TLW1bJqLF0jVKvnLS02VpiLumjIpW7KVExGTPUVlYxCE1IfJRZXEZsSaQWaPktFJOLNLS7RS5faf2JefRJXiabAuinIXmiTEONVL2knIopuIzTiLTKUhJsqJJmmSS4t4tGVLdayVVKiyTQL6spoj4hlEtl8iZF1pM0tWs1RLJPZDUmhFWmWkLNIxMisVRbS/iWeTIv1I1NcSpNbLpEhpcklqelLSlWpfTrQimW8Roo5lap5cvka1aXKpWosTXkdZqLE/MqIudkaSVLRPl3ra5ihfMpd1HiciT9n2S3RrpEL726SUVmKtKS6csulMo0xSQciMmtX9laeiupTkvI8pSVzRFIofPrRHMp4mVUSpZbInVeinKaE7yJ3VxLtJazCmS/JqtLmmUZPS7YmK0nDFp6sxzLRJ0zWWlc0rxdFZK6l+0ysX3eJJFhPWaQkqV5EVKOSWkVkmmWRe+L1XTkzKR37RcIyZGk4jFtGSpOT0iSdKsXCTE07VVpDWsTVc4smtsqXCXvuiNU0y2Sy9Nep2C2l/NBIaIMjF5RPZXil0VyaidJyK7smExLGSaRX8qlBO8yUUsk6VSia5Gy5aRGXr3SudFlGl3lsUXLaa2SyvihoJxa9+K5VXk0FHIYowCHsBAaEGIYkUMsZImJCDFQynEvnSltZcSRgFgEAAYACQAYCgQAYAWeFMgwsoReSAwU2CBOrIeFotSmTrSy/FRTAjOIxKRNaWQmoJtI9IaI/EHKeqk3FmUk8jSMhbRaMpCR0IOU1NejJTxLV5bmIkvuU6FuJqoWnFpcuaaE/KtWZdk3JDJ9JLy+SklrdElNPFWpNlSfLZak0TioppNy+pklta/TVSnIjJKjJW1XFPFzVValjpiWJicSbF0rmi2JF2hGwKOC1+pFhEOXJkrSykTVNo7SiRltvhfL3In0mWZKKhGS9LJS3z2ISMuxxWutPlUv4QySaNFVTJqJGpKW9NKxKck1K13EajSJCHEUykQt3JppfeLhXNMmu0npPLRWtI+JtLIjVRRKKOYmll+52iJPVLwic3xFzKZx6lSDiUDCLMtrMhOmQhmi1PK+y+E6jS7kITqW1RKT+KtKYVoR8nVkYi9MJHhCGxWqgQekYRNE6Xlvhaksj5LuLXTr/kRxJqk4tc4pROotEjScuQRpEHFD0KuKNJeCWdIMJC3FIZiLUWk/CaifGnLC5bMknGKdrJ1fJFapMukq5T7FrCejeKkjlE1SWLU2EaRXi9GWeRNMkRlK2XqX1pByZGSqU8V68RHpZKHEa60pdkhiXCWfowmBGl6JlETIyQySqRkwjRrLJp+0SbujJBKJkbpaIica4ZFJp9ELFGWRpyldekasLvZClXyRKTJosctITEZeqVzSyMvymLrE6nk1aOFYrRbSdEHUuUQ+9NKLioomoybRWy0XqTSyXqpFq5/LivnbWRbiRrUThbdpKukNYuFZrK+yknaL0jJNyUkK+lEUTi+qavo6aF8a6EUg4YP/+MUIHTxMAAIAAf//AAEAAAACAAK0qIT5m2C939modcDFtuzkUimjhHib3I5uiOyKiXVlTZRhSIKDDmk0kh2pNKe65KLKvaymnbqOXlUll5EZGqTyFuULHeSKXSNRtVdRmqxJum8ixQHgEBtETUacfI4eVV5U121kwjWLYvo1jVV5BJTcQ0i7VsKLKSuN4te2O4t1ZOim++1+SEXTF8oIpVnJj6ZDQma82xj+O+VLM9EG6Mdq4ZJdQeCkpCNyMgi2Ihm+iNt9LevIhl2VtQ4lfK5kPWbOxXVNa+jOkxfwo0n+symIgZP+C6KUT5MFMWq/elnI8pBe8XJJM0Jx6p6ueLgbdMWSh0SQbuJyrCWHuUXeuV+Rxg+c+7UcGq+mKYdp2kyj0sf+0iQipAL8DUq7MmTwG5103QbxGiawdb4WOpg3PXOTXfvql5tO0rCeqC2+ppe6yvGVzXTmdC+lDWzObg5CUerQxbb9i4pmzht+jNSOO11Wu6lfoGffP3dqk59FbGygypSITNCt4dGAUQXUCtAgp896DlMksfa3C3blLKsiGYoMILP5VVRy+ydGWNVGKINL4VfOijdlUa8UW3YafYqsLFHOloE4eS05xsuYi6ldPF5REEBKjwoejvciAdW73J46DNp1hSjVepyJyqdQlegnow+WiFSQNkdQnc7YXKueR+hiiqELPWPPqzRcYJEClkzIs12EXUoSGfiooFuMlDsiaAwN7n6LIarb4yLFOtxJVIg7ddlz65K0MVSbt21ek7gcRFB3+QekY7wmgxjVchfEwCZGQsH/TU8EKdfFNyk+54bwxnLaEAOOhF1wSVKZ3oYPojNqMjvlnhq3vaSYUeYHj2QkJO0qr8gJ0L4IKA3YZzfhFBNyDBmjwuwm4oitmCQUQLenL5Vx8Sj2my+9FbBgn1nk1efd+q07JT3ClmroeYPhORhCvw7UbQa1KpdmwWFmsXu6hUCHHb+Hlncdh7bCz8qW7xMZslVhj04uOyutTSjj1rH5HGKznEvuKWpK1alzmNl7Z+944QYLYakMmISC/HTBXAwMAUZD4GhxoQWQXkHOPqbKFh7x1BxQnjL3JDyU8+KIZQPTI7SYd7CWncZGWigG9qibiuS74BBBSxGnvPN1pKUi2bdeqnh+Oo0sERbxHdI8uq8xTZTMU/V7Mg8pI0UW3Ta5PjmGGMOwufaGjzC0oobj5pOFI9vdOKxUvKkCjhS6KRNYsTS4PbRIB4Ahsr5pqtLvZIrLO8YIpnbw1DQniUHMlkNPa4KrtL6Zxhmaln1dH8sMGl6Gpp0X2ZTHPUpnXckmgSJL2yxLNE30i5XpJ/L9H10nLoqF4KoorG6NwMp/2Yf+zZ2bJBdqzI+vvnh6KbGzggMaQYcW/S+tCIRUUsZwBs6e8mZJOWxkHPYQTKtp1BQWWMimX+HasB1Cx3yW3v13sVZrQZUlBcHpcfxT1PbsCmbJKvxmu+3ZJO3wU5Z0Z4PqSTqvX9cOPb7B6CI+5qlLQRmbXdCN+aA1bT/dlNej6Wbn2IjPap9+Mv7CKnC7ojs2MupZA2ZXts9z8AY4aLAgqoZUli8KhRnUEEkmJJD1MUIEUpLEvKqaHWu0+TnlcLUIsDPF6GkGltM0ubAcZf/4awykAnxrp0tUIFoGcnGTxrn2J4E0WDR8o7caP0kHEJL2JUFizzo/kVCxZw/c5uo1PVHUZt2lV/8ushPNvDNcdpvlLDU8jsLoGNbkqBvmmSwlOJYeSPxCezP3frBBEFhdolXD/M5uP7mXaLibJRqH4T3FpSq7Q/s8Cyrtt0qvaj65XBZ2S5CW09+CwT0eHqd8iPPmQcQKAiOr/jLxagXcPhVAQkK3ahly7Z2nItKbEkBmEpiIyPtXaCslFaNWeTXN6P6XMCH7otR3QoibeCul8s0qPPjaM2NmzbRQWOiRsiFDhofMmiYs60GQgaHUMLDRdig0vUgp21fs26l+9L1LHsZtxu7IxqKzvVC1M2pm3awRU0/7qa7EuVqj6SXxMgScoiYyHDqFCiXEjC5QgcAIBQ9W/OhpQUNaas3X5wokfUbZWzxsRLURmXMFLq7RJ/lQpGC+u31DyxUbDL+hRYIouT/a8XSqExJZpL+VVWzok4mgZTLq9Lq0eQMi58m0FAwYa0VfXZUIBAeBKZApS5NurgcAsgYYSdUuicLBYx5SZdO4s6GFIKLxuZihtXknMKuguFV2aZb4CIifE2V5U7tOasK3uwwmdH/kyZh1J5JbE6wZxVpoKBpZRDfSBAxxZQkKEjQU5aZlRUgaPEJJLQUqH4mLA8WCD7rNLWVW2hXKXBSWodNPJpTElhbZCUQiARrmptMLyY2uH05OxKenLgnoZVIKfvmdH4sIitIlfUuyj3bd5WTGbJ4VcPV3QbtK1kFyKggp6y/R7d5YJ3DEvcJX7KRQj6XL+jN8Fs0d5lESerq7sLSc0ZvQmJzbsoeP2SNtJiRK4RCRVIYFxYEXJDIskPLIvBtHwupUtxs0vYRm6fI0K5suWug9iWEeIxWsok9+MEUVyKOYeY1Z48jhJJMg32STi6kdmaDo30bG3kBEoP3FQ6SBOeFZjqvWVpVt2UGreeui2Mw0w5glbbmElKiiU+esoeOCDRo4gJGltQpJFxCYhrzPzefBWibLvz46TKyFe1H0bJmxUvisxa+Nb7An3WKbWzqSCF0mpUNQcMGihYhPzZDjD0GJUsU5y1GWbYjNgxe4So/VvNTa8S5btmDlwFBIdWu0KQIBSOGFRbJCHEDGBnDiCjHFBTwo7QYiEpLvp8wnhHm7+KprpxZfsOv/BF0iXF3zpPbfyYu2VJ+Vglvdq+tVZOcrpJYUikobgcQOIIOEHFBQgczjClCvMppyylIOeFNUCLBUMjMQrlaxjVc2SyHlWXB4Ws8zSQ0aEjxZ54sJFiW+3OEoXrJyrPknP9RqdrRiKKFUFBSAcxCOoM5hCkU7dN2rqFjikVv3E3GtRDcUXdlmUK44ZYogQDjAwhTiApAQ5RUFco6XXF9aEkjn/0WUesqtruk+nW+idzaKYnt/v0U6ldL3UJqfzSKXsehzV3PcQSKNFjxg8aOIYJEEiTCRAlgQUsYhylrsZ5RGCrbuzLbpcbERUVGQiLjYbPgiLkTbe53jGtqMYWnqkfJSjmmniSzj3uKIcNPCgoaFDhJzUtZotqjWbymnX7aK6e00UX21fpr/TPwb/G8UUhXVWnJvFOGDzhgwsYWUNJECShZhZxyBj1Cmoa1O0Z1iv35NVt0uVMviZdsVLmRMXMoXG0xEy+Ik1/pxmjLlVtKaUaUIHiRoSaEjgoKDAwYNFiDwoKPAgQEBhAxD2IoeiY+lfKLa0pe7W+ubO1etSkb1OUs1pK9KSFyd8lKGNPNpJhxTJndBogyabJl2yzrJJkk6bIFDLJN10gUGoKCIDDqYYupXJbi1yNtJqS0lofmd7PtUQdSiEBCQV3DCmDgxwUcUQYhlKSsN5j+LJNsidLujZ0XGTYy2TJ/Xbz+KeUSO02YZvDOu49VC1mMMNKGimBhhY4s4whRwoaKHjBgs4YYKPMNLPeKXMXoxH2tbW7DSdO1vlWWfpptvutlTa4yZNipsJmwiHxcKoNhVt1u2VJKKdzP9MeUKPILRlBarTSBx55wok04ssYYUILLNIIOc5zHMFJPNUNLJRQgmYlUhhbRKPFrqYktjnOa1Hk+QhTtU1WyZEiMtiI6fHwmFwRBsfBUPmR0j/8bZUfRvZ3t9wIUSQpmmKW4aQUFPHHniBh4scJHDhpo08YcKGFBhwgaceKMJIcWtRKjVWLUT1eVniEKSpONczmnHJGpMv8dImQmbGxsZHwTCoLgZGwbGSbf5JYcJZRkI3+2KUPHtIeyiEeKeJLMEFmCDhQcGBINGDRhLhBooUPCxQSeYIQeQw4geo01hhZDCmqUnrrX/cTQ3VaZt64k+9LlKhK0pWXkpKcm5uLz85P35D/LHGy8UEncytCtIfpiBo2ZS4TwyxLrMk2UyKZEwICZAwFBIw9fGLEixgUCTQQ8wlaKEpFuCXiTUGL6mhmSxUhuHs2rfNk7fn9tcTJhkbDIMhlRGWjEdicVisUkZLHHVQ8eHgmeKt15GYksIgWHA2ItKYuXs80+CZNZ1U64IFhgdJCbyeaLKWhcobIlbKGWW2VMt0XVBAgydW9TWzzy2U6cpIYYb8M64608aVaxLV4Rn4zDEQg7CsNzkdhGvNeiBCHGgHRgoQDQ4GBjSJYTVYSMhMKiRDEpJ25fWjSNnyJ4HX4iwQLpxw36CYvJNqHGggbiiZksTdLJVxq09nktLlbfqkGBFkY96IkpltEhUJ0PDxopPNRdXMinUTRLHcYQ0hPDfdPcuQ9LwH5pA6FwUg0NYLTaBQX2SFJmUxxonE04Trh4t80pV18TGDUoOBGXEak0Zr0SOpWiZEIBeRBa5KTNWpb1lTW/4U4Dut5XGbIpU9mhQXnZOORe7P3bPf5vbOM7otFst2pF39pqsVxvcgzvfv37QV0JJhBgElTAto8X0dQfyCukvnp9j44qSbvRv3hK4MlXXigTisJ5ZaziRm42KFAcHRQe1OsnSFMhJZIROx/wmWrZ136e/z29DY7VFCoxHXyi2thzYmR/XthTI/T+Ui6d81062Sr4SPd7Veapbp3v885Lc/nQJINoUAelK4IpVZnkUv172ol2q7xm6oTLbmxP5lb0PgmGcJAjC6PBobDGT0etOH4UERtX1z2WVTUwyvtOe5nkHF5HPG417ZTNHvQ9Awn7vL+0sxGSNjWrepaZRqlxt1GkqsVKu0qtTL72+YpjmbRk46DSH8ByCaAgkOG0QBMw4NtWDZQYabnQIwckWM3rLWHZXsMg6iAHERBzOY21nqzcUtkSPw8uFARcxmbBZ7VSp1Um6DOTOVpeNFQdMIkImk0kKLbVr1RdVmAjVvGE/3qszyNoBU/KfETNF2fv67RUlnDP2cykXLs3Afx7Basqrhzj53IJ7WW1Xk86u3ckqOJTYlei6dFcmxSGekhYpdfK9C97XsTtUuSFHmKnv4hNgzEIY3mI3RY9laNAqNT0+5ICwHf/4xQgeNUr94/23/Qr8BfvY/ES0olZFhYkQa6BpjPYxsiqr+9kdybUD7dOHp9blb6H7SPfqZPF5iZRZ6jdGyWoIYZw6LUSwsBsUYnwV2LrhBkCIhWLU53swWhxbgpt51sJwMEACECOnrFn1qJtoncQZlR6B+JCE3RVDo/2kQ+x1x4DASSSqVMiqMdBMX0BL+p0X21SnmEMsziH3GQ28dxjWwhiGApjy45RpnWFaKPiD+BuPwUguASUaRZzL4jwUISKGGFblPLXCyOqbGE2iBgUclj811CssWhT17eNbl7FUwhWHFRqSxqfZS9tAs5iI8nlGxSYVzoNW+fZaJV43RbPiKpNInCbVEuPz8Hoajs4f0bz+0vQEpKkt6tZUyv5MQAZBltsLcIU6x2++cRdRgwiNgNZPSU4hyqJgLokDXOnhXPC5DaXZMsa2uLf1qD0LGZHNpB4FNWE46eB9MdwwyJjNn8e2Nj7jWSukV+FR69i1/ZnIT3r0AqFm2U/MMlcuOA2yNXb9YI5YdNHy1m3PqaISon02KsH6iElFdDoLK+4THov9Y5ymr4JOxlQSpiq0lPM2q/ahZ9tVo7l43Gkeq8nRCVZwzGCzlBhrLclJZZBJPnbRpu1O4snehMIyfRllRwPbpqOWyKw6zfKL3XIp3v+Djdn1aKl+hQ1z0rN+r4lpYXiHSE6wJOAgxiGPF5C8aNNwce6kCjChxppk1/GqJgnEZSV2CAuGxwCvci7bCJz4MdBMwQ1OV4GotCqctuC2T5j+12zjlWyIJwRK0fR/kQZ4rDL76FBOFNJpNEeyz6s68LmuWJDlrnxZsr86QpzBFqG7DngkIMMRQZr5nWCQfRnRJwPQNH6wXtAiWVJ70okrVk4sZ+ITJkVJgpJnIUv7oLbNYnvdJsMWr2JhLqFsgsxiOWeJ8fNC47LrHeoVSoX0PvaoqdIhNlgUIkc5nEUjUN86SJX0eCo+mfmrNvWCgoulrEuiaUU1Lh1lMK1jwNxDMwChgUSWkVDFk/CaXXE7c4wtr9dsTjPd1HXqi1uf57SianfvwasEwCpt7iIcwLa0bElJhYKPVfe9fNRRqQiqTZStrKwSnlfuYUltnR2bhtttNEq1mR8cNtxo9biLMFbghwlwcIzQ4g7hmCMegAtnKwFOiQEEkRWgAox6HpYhIiIginOqPAtBJ2y2Lx/n8gls2FjF/ODDPIXLeJkqjgCkvd78MZ2ItNZVz2oygi8rSZ6Xp31AEvP/npkJCIrR4MmdGUeGPSma43vFknxbi4t5SRiVuGECKQcR0xHhgFGEPjYvhFfWDujcZDkdPQV973O6hVFR2+k+XvIxN1wwNS9uSwu0uCEokmvExBhIkdwuiTSRTf1SKxoWCtux0CRThqaGsSSujuFywjNpFCqokee+SsrPPVhddN1VUEirk8dgxv+qbIIFarJ+gXKDCi6YVLWvGDtjIWKh2/TTRwT4EVsAuApYF+Q1y3Ew/v+KMt8TKAhr8linKhGBFMNUOrot1e5MGIo7RyrgjEMuU7vVLTsGUvZrXNZJ0UzCyBl/wTrTFebYvxgx1TCm3MTORsl8GKMSCzb8d4cFGgmAYdZAP2C+IKgCp/jXtGXqBlqL/jG0w3XSrBEGTef5fXUje3zc4L4qomCPbNIkyjkvRdCJt84RHLtH81C44cJjE8+N5qEFvVT0FJxGDiHnpdjb14yZ1kv7amFQkh+4G45QtAvYCnKupwwZgGgO6W+ltdA7Jf2oMCwG6MgT+Cwg+iK99LE00H9g0OaAgcbKOwmMaJIttCcS7jDT9FeZ/JKtvQ1llku0paNzyJSxa8BIOLa6lrKrMIHa+rZWDbFiXvVU0JjzH6FvD/WRroEGQqhN04J900fCTjPbt+q4Rf0BogZT6CGATJUCEGsPszhIeXN/oHEaSbZAaLqtDWRy8q7QI5sfzXKS8yyhJT03o9RxKXvVc1SRJ0iJ0gd7wzGzO8ev2iHKmCluWW0xJ9UTOczyyWVlhlthR5YaYot4F7E0Um3eJY66QN4mKqhEdNyHYRvYexQKVoFx3WakticXEQ9EL0mDMp04XM1M6WTJQmBejQolc4yyD6+F3JZ8jL7nlGJtW1ikJ8NQWsrMwuo5J6WKBMzIhLCZMy0YFcg7i2Ae5O/mzBO12nnihG4Jbw0cJQTFCVmmk8mHUjRIIdTOCVzcxDiOvSVIpwSyUKc9HQYzlYjMGk10Z7JpJVXUpZAkX0KN1+KSFb02DTSv0oTvIltl6P0wwJMbITLmpC0l5IFEumOsQIb5kx9gkMl5fBKbrhflgLyCCZl1kVRWnNjEZfk84SExlsURb2OiFAgEAhVJxEFf+kKSksmLOuZRaKxq5kza8aBXaJ++tR86T1eNbm2vXOZIzQ6y7BNuok8qEzSDy5MwU4IJA+wpwktAilY3FUC3PxtJYeKx0TEV78uS6vkFK+6qqhQLWAU4qOZzW8zuMqkrI64bWApOmod3BW397STD5CnQuzfR2mrV7JulLvNLk6U5JmSeJdqTkURwkdTEMydE0iVNgcYeRFiiiVcohMkJ9YSlW/orkHuTJKZr+41Z3y7U85LJKzs02R6B+1RnSDD/Foxa7RA1Rl09JdWD4Uji5KW1dZ6hV+vLu0irnL4iiGcSaX0hO/tq95vjWcH1r55RU7lpeaivjKTHbyg7VqgeNg1J9RSdEpvNmEsN4yUu06EgTuVROp+3puVvz4iT/2TFXz9LurXqRle9fjCbJ0o7CZ2t9NONbYulcxz1vOJKUJtV1xLK/AIZ8LpAhzLUBKfLyZA+OBGKSUxJUg3Klj9FKk9kUEC54pRdkq9ciUs1KZGn+70dZhGidrZhLC3bzlaBCd8IXqWvUnjX8xJylKlIBL1kDVEp4J9jQ1XeStmPi9ZH4QQashNS+VLl44ySgPWFutNVLCSFxwoYe2Uwh6OZOO2ZKeV5dKWraM5eDcVSJ0d6L9VJmZjZk+XBM+mOm10J5R/ddT6Kl9GFiBAkcGmDTwpIJeMDQoCmAgaUIFtCFSXv4t8tt9BtbP6JZlW1fGZkzJgb40y4/0Flh+raq3oVfPFkBd0fX2SI3rXiTuapA7WHJ5FMWwhdvdxvrd5HHIVnFUYV3KllpRk4U/tmDbs/JbgnlylvD9S96dCUm7fqNMObszFKICClMkQRBUFMYSRRSIYQEOzsVEOfydtqqlN1cFktaXctR84ZZF5Elq0ThqX427VfIo6qQzlFTES5RTmcrMYV9OquVarZ03i/w92h82vy8W3KJvlzqSPxGKhPRfcTSIOjndUnKVjlcjCpUIdmq2yZBk0DKuRYqm7o+KPAU8FoVYd4CtHnTOhlMa+1h3ztxBsQiiIEAlZk/ajJRhKDXCGGsqikXmKYoRmZcldgpSqUVi8IcyJBClmUMDmzmc7daqNTCozm+SmdqMY7AnMyEgYjooyoNTORKNpqSexeh7ArOWsOSqhptmdgVRxyB2vt4gkDek/zzGiGnBBsQgSMbEytXG6CYw0IJ1pfFfqXddyJyWEFQwURTp/LWKVJcWa1qoiONzIU26I5lgis1TpE2ptrCC5D7rb6Q+tR0pi9COmnuR9pV1u0TXiZDON4bsRxFQijdxFo1dlabao5JHRY+9Qoy4hYbyN08ILWrmQplmvaWJlJvCQ2UI9ELyT1k3EVW8bhIFEUWMcj5imajLBjxnRFZlbZroljeS/YoQUCOgRURpJtSUi4iiFIQ6GdSdJc+qmKJ4xQgHE7jOSeG/IZbN07KmUTHIQ7MVuakQ5NGJlNWhizRRK6aoTJtWKlhXk7SsqUkjmpzYOIg4Y9JrtWRSV77okQhRIpqa81RxK5EqRJpiVppLkChsKMlTp5o/TcwoRVNuplVp3EWmsJdC1ydnZHIYqAhyEuhDicXIUhpwnRETuZdYT0GLY2VNKNUp6x/ZvY5PRctKLSdGFhxc4uq6qKW5LGA0KlqpGa8xxqnfsgglKAwA8EMHvQR8VJRslI01HGV2/3X8NLUMZCxERBREHXUhWAbQAC1BwM4IUI4+R6DJgHARGAa6aq+HNilsichhVuX1w0ag0dG4CRo6bLmFZiwljEBSKz/uNQbQKmvyGqcrgdiASQtpoQxERHAGUQm6U7D/QYZBwwj2R2yMBcSKBV1+jYuLhcOEaVrajX8KX1f32UkvxsbHpWyKIo/q5FZV0I4qizwD5SLIMo+49I6Dw1FOgWnp2cDcYBEEYpZ6DsMgOTd+n4UY1B8SBjLrJGigsFkU3neaynzl0hgP+hdnvdBym2p0fy9dgMBmUk5/vjmTvu7RVU058akuCufMA0SfAGJAMvQwWwf5yp2Y8CBsiAmQUwxAWsUcVB3GUlSzduFkX4ZxAB6VtUwNc/3JOmZmbooHGjYpIT3SsUhm4ccl667SXIZgDB6G6PJBsHE+0lGivVln2ObAwGMTFY5oozEOdQW//NPgCzWBuVVy/T8MwlTdxqz8WeGIotnnyCmDfgTmBKaeQYIDJEEl4mXsf2kMqBakMjOQVqJsC9nSNTkveMRj7pBCT1Wmp0KK0AUr96+mHcHjqC3DzGih6WcmDvDglv3fZijnW6rw6f0t7JZkx6w6YojtuQQhJ6LZo9xZlQQJt9M1xridkf8ztvBV5h8lpLtff9e7NXcTaL/7NY54QxJ0QMxBAcRA14ZQQ+ViWnAG6BWQl514tEUWGiBS07GJ1tD+IKnDCBuj2tC0TsJGIeWwRrbAlpf6ATJSNT3Rdy684LBLBnzs4ohky/Gx+NZOVgoNosCs3ajeUfoimEI2XFIDXGE5RETSvXyhjtgbUjKi5WOzCdToL9X67Z02QtMexRIFmmYiggYVEgx0ruD7IIKCUp7O/FhsABSDHHNkbrs5atqyZ1/Do5dmRJFL1p80ENTazwH0LY8F7a17WSNFU7KDWCilgTOq92H1ZiWQXKUpCmyId2HFiVK2xSCerwuczgq0r3p8V2KgJ+0uZdhxKM8DUHp/Ua7z/F7a22sFFEpT8ArcjEXEHdauOj5umMWn0OShERqZr3ANk4Bw7eXmZdYczszA6IxdSuJN2srd0fZETWZmIGKKt87FkqVq0k+gLWJf7ftuAg5MeORnbOY+Q/TWcTrPQpb8QnKZf5UGq7eMW9adbbR/pHLeFg+h6upP/OMyYj1x8zdflB2/kpRs8wO5ImQQ2DQ55BBBjBhIwu4FgYCtw5Zmpsqox6gRUSeYznBoGM06nYl7Ozo1ELk35CvWJsYaYzrQ4K9SX2poauLS6CzaazVZcSYhjl2B6RgU0yidgyttRanHhDEaTTd3HIPRCvYianXX5JekxUXmiPF+rTjteUF77J/W9jw6CLUJ7YPTrXJbTBGQO7JvGrAnBKYNFSGecibixDGuiY2BmcA+RcoTfToQ9VAJUO//jFCB8yVBFmDdoL5A8xEJMNOwjRCboMrwxbCE20GOWuHu+u6XHkbZgnhY/BgLiSj/1ETiOhOKwmEr5ISLTKCItoNfOtaLMaVi52RL3oqP0iY17M30gVkRuZ9bTB88Ssu7qW8OhcInPumsJD9Iov1MBxS96uQi2uRsXthjsMOT9Woa6sKpRl5hIXhPtv7qsuvtDZk5jEAjkUl3qOhWjsWtdLvFHhMTPW/YKx8eAfiaJLGgFj0NWkym8BD5sQq+A/yyVLzNeHUKn5XZaCKVqt2J1o4xqz6JzBpZJkM5Y+hddbvAi2rXsMJRRZtR9Fad4InlnA+SXXzmot7vxmddZn2OKk52krjwgJhnAoLErx2OH144knQSN4oT2Gqb3ZRsFN78yH8KKCygiM76YD4RKhCJRGf7sTbZXE2ef08uoBobMoFtJIRCNfPPTZuH/ebCso0G3Lp2nc8vPI21IUk+X2oITWykp41rppqaSZfQOTphqm4J+FIG27RtuX7RLj4T1aam75ovtX8lSsEUDgwEohnDOPV95wedofZKD6i5gGciYqY20QFkyIMBPLU8CaBp5zkKEtkjHckyLunIh3wnF4+/iCSeh6qLUOcJYGCRqrvC4RK6tSs/jzKhPpbwtqg1DyVbnIRHoScm66LzENuU5XbY/kxMadGZJZWTzrSMjx1CkAs/IpIslpq+jdOh9uckuCMwDKwikUNrk96pztzmI3cF4ckEGlMJblsZRaKWqqcL3YKUKNX1iCd2mCNyskCbMUy6J2LhxbHiuaMZgFKv7IOq7ijLbitdz1FaloaNV1JVc90FaITpiqptS5e7WlBod/qS68tuDfD+ZXtvKiSz7M6q+VPKyurlL7troEb4NndjrJSrh9j2oHLAemN9MeLU+1yRn6F50O1AZMuM/M64V6QsuD3roUwEdtEDPgxUdgSiwiwH69pbmjr+w4WmjLBfkuKX59f76iNItlZQRU8/twV6aVgrNK/XKR1K0J4wmJVfS8clSDtfoRevRT7E/qPR+xDsd+0iWvoNQI72zMH36M7/YgRHSBCtnegi9puA/GMAXeC1ZMUtXAQMK9a/MpCYekyQzkzIytB4vZL2CkCPjWqPYM5GjFIotEmJ1xmJeBpA+g5/Vqrbi9aJrwjgiNd11bi4iC0apYnW1EUU/t0pQbwSEZ1JqnumboTnUk96pUMmyht9JIDSsi26LqqWs8ZRN7bBspuGPmvsquj+4gTeyfgGe/rQDlRPiXR/r95iwsErU+/HAwiMacl6mwnB0azX0dozsVRl8HmxFmjKjj1WsM5Kyy9lIivz2iMd0Z84lHWGwtblhqzeJRdHFCL7j6pZhtpb3ESjKOL3Fqv1S9HtxTTZNMJZgywoaj6mlN84ke22tcrdEufjXl+IPR5iuh3ldcd3c9WM8RZPW8ZkX/ZJSB93//i4RUuSBfHFINe0EnBEPzehOKAnhSPLnsFZ2wrdMYJQ8orBp3IgGLn/e4MHslPTpDWI8c/rlggNQR5M6Izik47f2KZQBNoTJ676E1U68aPqUyq6LnQuJyjjYHRJBN56gVur9pThCbOy358eecFE6a9vpV8ueZyLPoaiIhs6X+5Wl1dw0MW7lAp6TIcRsuX+oZ8PjMKZgCNUBCLJM5MyiZVpQqzO+F8laqOcgmzShcJzvMpz5/jG04emosrRdtJpQ5pT5BM9BPojIsn7uTP0u3cH503T/gSSr4y78H+uQXX6hMAFBXa7LSETWpbgDCudjBFSumE6IN2lBIAEVCMW4TdcOfWJd3H8ISlT4Zd5i/X+9ulJ7cUZpLrZrtqFMaDffWO7K9ch6kX3e6wKdIRWtLWcNFl0pbrZr71OIzZbGE62tkqRUd7oP9URnPYLI3aJC6TbeG0eOdyD9eCmFbRShsknHkyK3zESJca6GEuN1RB0nH6vlGo+30SP8rsUWiSmh7kwMZmGVEbM0xgkEs1oRrrAKTYV3EIlrTw1p7BYA4T4ZWgWnLk8ZVLCDanjW6Y4Fy2CA4chUjUZ/oaT/i4xMbOdTRDHtrL9enLm3ODgee50u2KjGajWK3R11Z9jJLMqYUJ+DCrO875V+0DZOem68QQWTVIDEPQuisMx9spyWwUzO8IddTwpntceSTypkQHVS5TL3sR8K5O8GffmRkfqsYdB7IhcX6MoP13Xl+lLvNtKWmvbGE89O825eAWcbg7dJl/MnZ7NwxeVwkOr26+yhG7mvztdjkqfom7xXyqhcaro8w/t3AIR0hcCmRxhdfx0O4Xiwvu5CWI6lpYJpTznovOKY54zhVDkmbyQkUaKjnwrOCj7hgf2HJPBsp7MneyxRnT29UXh8lEo6TVnuiVslTV28jkSW/3w6949F0uEs3ae5pr/9mROrNwgs3UE2ehzpFTkOwEwIxmk0oVQC05BzeshLJwaggsCk5Kwjh5UWN/zP4lGBUoVO2mo2Lazjav8r30t8O0gUxRoS/sJNgVk//WvFNe/ol66UnbZOwM1J8kvC2PviVvhjw+PI1P3R/61Z+SL9ujnIeDs3KWZ8hA8ZZlYZrdIck5Qnje4/ohS8FcIAJhA+6AzhiDw2LXguDqFx/JIq6JuLxPbTZT7pK4I6IkMGQ0Nrw40UQ7SxKrKgZjilkptcvxBU0XfS81rzO/G4fZKU+/Ky+PofFKg+CjnKuoy2/F6pKpUjRJvcxalcDBUYnxd2ZtqpCitJ+AfpnGk5SUO94BReAS0sz55NMIJ5UR5EVpNBJaDcn0+ulN/fWSraqJUCQoKWmj9aYuo6cRLW247G8ITum5iaTZeInmlEmwv2uqp7d4rOB1EKnI3nU3vkSXhIxsFnxGfELl8r8ozHKNplKnPMPdWAcqkC58NM6yTIeI0QomC8H7iCMHcqCk8UyslYNJgVrEyEkKxlKpG2W8uJxXd/SlqhaRlRb2VxXTkkpYLH6K6kjrSa9IfaqN/gt7bNllAj6SAioyiqLpEwr7W/oUkzTb6Yicyx1aBn2f6vSFTpflyXqdZGyHaSgCTZQe5dOEhzLa8Tmji2aXDmR7HplGkIXugBEFk+stmJRNBZLpPTf/3Pa/ZCzwbCnckPubqaS+1X5USuZTCuZbaRFLQ5VZFVkRaIfM3JKbo+qRhoZBet/GRFdN11xm0C++7io294jej5SPK/WCZr5JnXEwESR+aB1isAywQQUZMhc1RnjGRkj+qFLAiiQTyoOlRIYYjEVjlP6vEsKTATSxXkYRHvsJuuZlfvYnHtICx5mm8EOqf6dwZdaU1BQy3QgVtOy83BJimj5e078qSzI/VkpSAksyAhoLok7fEglz8NuYM+XfpFs0Ws+2wpgd80P0n1q79xehTj7NQCNANwMNyiJXvFUFs1pJbDXHNbH4VjN1iAfh1DeRvRJRgrpfG3Uy4MNqQaEXP9SQtbO6zvkY9RK/ITVbRXfJE0+tDNGOjfD069rb8I1sUcPZ8fpCI6TpZ+AkGRSwWfZ/+3Jo9xtdCjNXviT1+GCmAPcdwD7AXADrOQBo6LqDjAFYAly8JmeBFFA1seDJEXGY9l071Ya0iHl9VldgThnPF+JnoiIbex1JTsbfi4TW2Fj0LnA85AqrGe2463nsz6V+BuqzT5tbPUD9ZWXawFR8b9ZmU+B9RfA9fjH66u7Q5n0wQeSLchz6RQt5YEKy70tVkswM/wdp+gFsBMi+E3cP4C2l6RnAswK4RYOy4JUwr5CD2J7ZMB4vJuVuWybhBbWYm8uEbXP9XPHFdrsQmUGoj9mozJBsjwP+kzOL/1sH74JyYBjaItNJQTydOKzuH475NjpqfdZllYakuTtJs2bZMSkYkekUc2wDoGzuRCgLUcAWYJmDWY/RMCGRmBog3pni34kllMCphHpqQFLQU8IM1yxpBXd8CfDKFVbQdkp0dOumNA1dt7NoGq9umQizJ9Mxj89wSvKPTOqYAsnrmuffqFRKZpela5SSqJJs9+9D+UVWc9l1upCa3FDsDNf1QHfk7GxXksjzTSkf24s4aMOGNm4wAwmpt/tAaYiA3ALTkRqFJmocnALol//C8cttRYATEHsjl3DykBfQaBuDK7utg3RPj9zos+AsyG4IjTN2TZP0yhAdtFJxwmNEPFEmtwcr3spJyIJ+xsrcDUxAnB41ct3UsUEQNMOS42rF1LBtnDWbnxAg2VWaVMbI8DwY5JNXBRkuK39sCljzhKx+gC2BwtnmwKQqxqAYe30XCMOPKt2InHxHE6F/ySYle+aUC807JjVXJ5b0p50MZY0/7qFZbdKryNGxUFi1xv5mOhdlzbbfIlsZO+wpN6p6XI/o8MqkGS8h0wjD2Jhd2jy2C6bsoGoGFijZJZhEtKs3VshTSqWm+BI/GBgSfkzMCNuCVkHCxADWQ38IyAgSQCdlZyCMnlVvk0RjN+f5JMLvfIS0Y7FQchLouVTIuWmsTNluAjsiRB7F/xEZueIqVA9KHvYKxv5J1GAZea24uROa2kWac9K8ov0wjGgTq9cJBnJ2kBy+BU+YSnaxlINN/odlJHTK6kbtqisJTZYW1tWrGPCYjs4QAvwI5J6aBXmssABqZKSbMvmu+QvChYQY4hMTlcjMdRUCMrjCoipEX78Wu7OIFF5ay3XRguDbbG59m5ixr113oVjb0dWICx3iwPIVedpc5KAo9llQrGvKhqJz1pK0bGbuhryn9eSIj7dXaaXSIO56SNpmpre23jmBNy+ZrwJSdsLAABqrl2CfgE0xYnYJ29iYzVNbStRLzKGaTPzye7Ic5UA+QTmPJBqNiRmK5iaEYiXQtjfLQQe00udyhS6FHsklRQnv5VOJxfL/StfTNvKqenqySRdJrKFuqMu+nLsHrZtcjG9BHbpUIGhG2lTCym15l00rVE6IrpPYUDsnTIoALsE6vzKgdyBlzHtxN6zLzleQFNSfIM0zA7PkdqfnO2LV9dHuJ1xCUqn1aXjqZLQTohiQiE1CZ3KA5eOSZaC+SaXy0lU3ZNPOXA/zc2UZXLGSo1gQd5P9SZzlkJZGS5icylH2c+qPTiCd+PXK0rUtXyunVK6ioNiETnAAWoE2Q5zQ3AjgSMdGfUNIA6YX6ntqyy4FOEpEHHEqquWDlOMEvcroKWsJBy7bxpS8JZ3tbU1KLq1cgWSaO3WTjZ4xkh9GVhSHaBqcuhJAlzsGc/komGiVBIdJ7JBi0f90s+MtTZi5VbVUQVWYXInLal8W3CCuGREOu641AAe66RtoQOVIwdMjJDsbheqGeyrsqoPIRsaNYTiRSKpkXQlauuxxGPLruBKPC1zWI9T2dYRPyGxSxXxo8ImToMZ0FQKvSOpfkrTHiIpZY1B4h2kYxF05Muy1biNQ2fg1eIc37dvizS1/Y7MV7Yh5lRtWpByxVRNAAdDfG0CMgLoQ8Y0Sn/e0pxtwWQhd1pp+iTktY06FGJd4Slddl8VcpKKDEixW58oMphnnLiatpbfbKRigZaGO46Wxjy8VNrM0r1M3VMJTikO/o6lHEcUGuJ9384qtt/uiRVbELnPbjHZ//zloQcl5/W5Bnymn0AAhSQEKF7AoBeRjyerFWTPOCDfC4/OfCIKSUsqIr2jF0hWEREfFTJRrWFihwG2ZZCoxBu6udwJLDu97HUmGg7mwYjq82XYqWU6ZXr43m/WGJf0hT/VDV1fAo2mOp3tCS2ALQubixPrkXE7bspoOizovwAfjcS7GjTFnGpd0jmxDWZIW4Y8paFSjzyuwsNCxpns6qVlVTXKFZ2ERbA4RAMFelnp5b4n8aMcIoiRJUy/ait8ydhrK4EKk38aVr47j0qTdRLYmm+8tgNvo838WxleB4rP2k85iRLUBC0hdRUgFiACFGtJkYnYC0k1J9ZSFGmMUhx0VXXOkEJMhgzHZwN554iHLOzuZShyPEEZAQomUdhvzDkTkNGX5pjGUjERZYcBkLenF7IRTfBA665b+0GybjXivORifA+vdJe6cARe3v+lOzETM2uYJWOmSUwgAMcCFJUeGNltTk+51r0NYd4USQBGSm6vH4x5KQhS5BGNKX0PeXvbVkvhIjCKYSDHf8n5l3H4iXDhIANIePRfcoJHirijKpnCgP6tQWmZLHSkU3pTrEXr3zj7kfJ+lKX4Iu/7hZVQkJZRvQeVGTjAAPkK8oAXfDDu8croJl+wSpJg1ws5+w9+KmbzB0HkmekZaDDDjwuD0lWOgaQmlh/XD+rBuKUZpwIFXEigJ06atPrOkhDSFIvFbI28aYrbbMIinswMU1W5vtJWdl5UQ+Ji900wJoz5gcePK+AXwANAT8IEAJ2YYVPmGoa4RqjixIOjoGftu6rQFeeQpH7J7ICNm3dmmCIH+ow5gj6UCVtoaUUiHEwlBkkUjF6C5F0PZvySptHcJ3sfDdflpEOyT9c2uILv/SY4kecsFp/0Uay6vVBbbSjUh5cxwH8PP1Q63xl/sWikQIzkQorNQT+/tIl4BxXWCbIB0ub3R2zY6T24XE2BCyobj+PV78wZWmElzLRc1yfHzwmGvofZ40zlE40UxfCbM2jaLI2ehl0zbv6a2gI/tSN04qFXKrvaBmNZHxmZIIBsgiPrAUC+564ZRVAVMaC9ItOcGA36j1RxHR2EbwmQCg9XdtcdPjqJi7Dn0/q3i/zxcW0hAy6+zqxIMQcx3GLRUijylJzZVvl9VLiipShLDyVeQ2G64S6XFEJwaj1ALxUn+utNuNMKqEBF7BfKzA3ssDSCzDCmSNjyB4+k0yz8jZnioHiJj9MzeGZtJAXltWFZ6mlQfTatfi6v0geEeL8mXoKSAShS6Ame6LT0S5QoKrf8ueue3zWqQC4u//jFCCCPUPoZ+TH4iPeA9un3GfeV9uH067SiThgJYPNuQBsJL14D2NXy+PodoeqGouqBDOwa0dyUDFhTwJx/wsSDUzWT52TJvEYyfKMK+TuhCrkkYWO3vfr4KQMXaUu9xRlQ1GO+MZPXMYIlSos3ztCeatOlKP2WEljLB0xygqReSyJivtk6g0RopuWoN6ga5fl/ljfF0e1VGaHQmEcWkwBhQAz5hhk4auHRhmOCkYAmhgXyU41EPFez8gbIa0Q5fyER27n5eNuMWL6xD2yyUzo12opQR9K2LRRirlhMZsOKSfF/kOphIRwW0nPI69qi8tUvD8uyzU+87aoVp+VwJicRoHR6QeNjGIzoDbgBahyAy0G6iZRCeUE5AhqGZH6/ExoqiVtBOxaCOnnkilb2qkyROw0zJGe4zGuM8WTYa5bnq3/9qr0WJgdNlONaVXtRIKxRUkR+/naXdSgxC1mbm9lhNm6bXU8Kx6HixLaKyvVkmc5cAsQB8Qj01sEn8GodogyQ2wIRaJcKT5MzRcbwUYpXoKjLhSqZMXU6baVi31mMBm3EsTVaXwwAsNyYxBW33pq69A8Y5YLqoG/V1de9m1qqQ9EuoQmuco2ZZF83y7JfLgK61dy8XyKLXbfgB4BhB9cn4mws7Jy+oFDCzetbBIoh+8HKHMXrE0oOfMR/BeTdHQW/a+CK9JUxZmlPSzsy6CP6cxBQF/WNxcvPxd4j7pLXw6U4LR6w7CbIhOy+v9XKcuS7S/5iIZg6WTk9PV2ait+WwCnBpQJVEWk8pdEEacGmfGOZTA4yv4k6AiSNxGOUKur+gRcH0wA0WiWzKZ9QorU04JMlFXCq6+iuWZuX5QyCqJpx9dXUqpKNJUl9Bnoz3GaoD2NDe1p+2WGsH4NpJkv0/T4KYWrnbz+DKAYgEohgpf9tPga4NWQOEtq6YVqXbNUQklMt1yCZvCSGrza8A0FGyyly7636OaCY05JQRasez7UW8EfR9MmRBg3M8pJSFtJpXTMnuJRyPYzZ77qEvzu2ouR4Fg6C6htEhFFbDyPySYdfwBSBTI9cf3czWhYkvP6DCbxSwQ5AZWlBp62W4mEJO91KSv7JWB1qRvm7uaesrr34QL0Ve97w5MmcL8kFVqJtAWqqT0LE4jvY+mXDe0rj25rjHi7kQT49hLTYn5Wg3CrF+aD2Xq5zkt9EoWIYM7cVmRi2whC2UNfu+kopwjcuIhqKLMMWCpEgTC6yAjPE2BbmoXtVUNnDqGWgBDBYVtg6lfZCKC8yK5wu2zi32lrIucSix06dru6aO3ziYGaExR/pk72ZiRKeOqLro6P2V0aclEAEwc0Exo4rZDRfBEDBGbjYhS3MYFgQRuZ6ux8Fw+xVmaPWi3aqVAr3urPPOhA2HRRtWdhDaEQSyxxZFZJ9Mu1kaT3yXCZkovO287rxmNadFofdsYlQSRx5QSx6vDkn4ZrxByhnFiw0TJEPElGPjHyQYXxcFThFNVIohaCaJZSOtcjOd5fCcSZH0wh1p8zFX6B4664MpP8e6hYmkMrF0R3jh/bOqehir17NhBV+5F+tlxs1iUDZ4MEJEiUueZ2rdfi/CdLkcIwUCPUQJpP3TIM2xUpBECKa7uVxrEEOxffjmPQIIZjGzC65XkIZcNREKM/eUrDIDOK0//zX0Gz1ZO6KJ3OMEggUYOJjtfJLsOk5HjZwztpJ8l1G4nsdRXCb7fx/GVXGscTvpko1UthVEVn8Ehsm/iM0tCU0TkYnGikELIl1uZNL09QpvX/qdK+HLqils2C0nigMxnKL0pQQ+BmGSzqdZvRaBICZNgsL0z6C9dfLufK5ZLsqHnUUh3qXySZAhAD9zTaE2QJZNs4Y1MM1K62Jo7rSQaVys9zujH0mhddNFAWyjcEdALThmUMj+BsV+BSR8GpH6bSDsdLcoD2WNKnkr0n1F86y+rfpSEu/SYVsU5SUeCfnkbnjJJRKq07Krt/LU7feRPOMR0eWWnEwCRR9fapjr8qO6VZiPr916h0scZtErhXUdmdi4crq90SykbNU0zVNDRZhKCLEcZd7xP01qVHfU1mC7Ob7o2GLQfYjO8tDPsl83W/PTZmo40E0N8Xhkv8yOTLJ4rRsDlM5M6onFOvnjWrQNEan7FrLS1I7yQdGb70iEuaV3Y5zqj3OLQ5VyQXfPlIZIuCBVz9vBpAoxRRdemYba2WMm3U5S0lmUoyhgxja40bJKxg0/VZoeJ8GX0bVa2hNhsAhTQzV58kQ/VoLUUBJncRZKF+fwozkzSqE+KJjsv8n6+scT5Jy0RuVC9emnGkXzl3e90bInMCjTXd24TwSmc5jUOKWgRcadYWcRRJm0ogmD2ROK/NzSIBimWGUdDz5ZiEAugIhRlFrPtyZmEcEU/vLIxWqih1k/MpC5QbsQ7QZa6ad9cwVpYUkUjTQGub23k6DP1oWh5zcPVTdjzXzX6ITrwpC1RyBbDNtyoNdOOJZpC/g9+6eYicyfVzt0vSpbJPQJ1mtCR6rIBQw1/eUkrQVNr1HKNLHQqG6H/MZV8TZSfN3Bo6paI8hMxLiT6lvPRO3CaR/Ij/Ci8cZl9+W4JakGMJhD/wT0X0AjZ8C+QLg8gjCPIRHc5P/paeQnA3gnB/IxJvz37kshMC2oQGfcXRkPZSZ+FJVcKpLVqOm4kM59RKBDKyJ9KRRNAl9KBPD0HUWMRPGgcRkOp+0y0JnzUrG9419SAlKOhWCKMA0k7o/m5hbiX0RkHfWfgthgK8qrzKhVekqrPL2sea+iZIj378acSeZWqAnT2dMqhF/layJX1vBVKSItJezZfU3Aw8lS8xPiCJ9AIbrS1/OQy3cS14MT1JwsXEyWMze7hkDypKTm8eNd83ARRarnUWD6eCm9f70xLwY9eDPJ9EcJwVTRK369nX47pGxJ/RsEmxnWB7DoEEnfxGG0eGdyKLICw/rEv1jv/Iae0KPyrBZGmEZgoiwz1Y1ZjliENKoZA9jMgpappZ2ZfQO/brzCsHsqFYGcMA+my2IYLg5kZrJRDFoK7rT3QhRiWeqI9WsqaCGi5eSrIn4TuRnEH/YjpN4kyWbvRN6rMf6a76aO0lycwTo2BFko301SytXMzVd3q6Feq4x7GegZDQc5QyAqSihkzvSaEXOAsDtf1p42qs3cl1c8JFI1aYddskMZ/M1H6Rj99MWuwF6WC/wbZNPl6e8Vey3kYYwhrlUwSYTMhYa/69cimW3iZFUMEokmhK9ckg6dUxiTfCdR1qUo3BE82hi6kXE7SF0o6KqkChK+P1/bKaPpkMl/LuYQGX//3Yl8VxMdRNlCeDrdkJVdK2bgxOARYKYzVoYYsGWp3lImOLYy3km9adtZ9BTqrLY12BVCJBuAuxeEWmsRs/ykLFuYulo5ZWDHMpSH6R1YxZD5GUCPCUcroccZ2TipxO6QJswjnLZw7mZjpxb1BZBWmZGk++LKXcYIICHHd3lSGsHy2CsBngYQJEIoQpIO1PKNIZdDoYClwsHgv9rZzFUKcRGir/aLqTQWcyVnXlgu7wrfoSCEf8mGUNXlt/UueM2hK00odvpCPM/Xvd78WQoh69YuJ0uxTCCT3zMijXrq2g3cBQJvXA/9ylOrYgk5DEFpUEdfkQ7Zh/ESSDdUEOl6zGy793IdIY9H3EKjNojxeDxCANeEJokdTGhL/PKgJ0IQiehUko7SQKMvtGxVo5g7zOmZ2qnbqG0VUTZHPPlCKopUdMxNTrTRNuRZCZ1jiFGstiFVvpOKNrHiPAepwZeLEtRb1vtMwRHi0Vb1CkP+idQzR2CpKpywwpgRoXSHnXGLQrb6/XRQvsGEcfkmvGf3KW5gcbRvJNjM+1PwMUxEEj4PXfRhw5LTZDmIph5mElW65LBEprgVeZ3lgFaMgqRmAqwSSnYsYKIZraQ5MHrLlMSL81S3MA+QghF/Eq21BIw0PfFkIO0YjxZBTkp096oV4mj32iGLm06NNCcqxLpvzV9KkMIkgIAg0EvCBoSWOtOOQ3SC08MogjwgiXir9yY3eXdSuoix3Pm0Hu0l7vsku81/Qzz26S/MjzMkub2GTFse+RQyt8RAyiKW45ZCs3cj2SI2kDdLDoWkXPX266ox4WOi+bracLn53Gt8liIyK+366CoAgwtG33InM8EOl0ciE3Ukc/bytjGIQ8UrGiUiTR5eGuTB1ggD7Qu9xCpF8gzuDxEVwpNiO9cSRE5Qph4rrC7d+O0latePvRFiSMMLSpqvzi1V+El3bRSuq8CJ7ev+ZXbJnKPGlGVnSfxj/SZgn9WSTz9Dl9a3e2x+p8zCKzYxClDELGU5bRwsjDx2HBIQ7BvjCEiqEGqj/Lyjt4nfQCNUZWW+8jXwh8PjeBI21Aqme9DlMh+5vgzDxNS8ktPiJlJaebwv6rZZXJ5g9FNw+aNJo9Z04D5dHCwMlad2u57S8PU1vHAKQw3xMpNJOX2YelPy5LIWgvJGMLv8Shrl1MkqIA9eRlIHM2Wt0s28j4me5LNEfeRpbv3fVMW23PTwEGUDKJFJl9ikvZKgjeKXRkDDdEZNY9vhzPDQ4G5+lEgUJ2yv7HovIicbw4eboWMYhmOn30u+d4W9W4GzkdBTo6iUKiz0VUsWTwU3XKy8oSb+PsfVxr8/228JTxC0KxIjqlZYyMfZELMq0EoqRqY1BL8VI/jQJVVpj00gQkFiRE1cPkNjJRyFhBEuFh/LFyKAwM3PHd84IodLrqibK2CoUmThoTM0Kk1qtpEP4WH9PpUJjBGRCTkDX4ECMadKJBKAac1HhAisko8SNLFhbwsso1FUhuyzijRLxf019cWpBs++D36vP+4+rs66X9U6u3mWJUv8vy1Zb3K2kEILYXAdwyBMDGFBJmT6t9rov3mPx1GEYxPQ0AgX+Y5GnW+6FTJ4lDuOR+CMIKstrd0SzSJeJJp/dvCwuNN6Gowt9ZXStjOb763MWl8TBsQlN4RydUpVu3RhYZELhQEUtKzGpotK2FP39OIo2f8qsq8WbOMVZGibgmpaT6jFjK+ECaAcyXGFAOkAYJjBvWrlJQyCiRmT2lrzTmC2FYjtpQ1XuWELFp3tFmssUbfH+NwLctCPTiBUflnXMmZt02Zps70+ELsYpUswgHkxT5Igypib0uYouHVpOA9jIXiF+7U3xTl2LMpe3slieDuCuH4KZgNJYSKth7E737UVm/JrKCTSWo4D60VDnTn3RemZXIa1s4K/j07vf/no2NF/XBrO+a+80u57y5m5e4AngpwWUlgA7gEmCPilpPCcGZULf4Uo3yVlKKAqCa5Fum4ecTH7othdbEbwhRGj3JoiyLX6WwBXT7mP9JCXQ/VersWgLITjo3NESQSDfCf5CQ/XbX9H5FtVECi/TFaBANdT6UvzlFSWQTRpMg4i+x6YrC/GHno1LoaHFTXDwIjIRyJ2XN1nLjxk01sfgWdlfxHX7rcOKuY3KqCeEISJK9AGcZ4UenAGmAdxpxq37OEU4UUEdWNLMmZdWvBC0rbpvPF6Sq+MrXyaMkviUhaPJOsJ+FW7nEsrFobg3Xp5iFIVb9zKTlMihGAhhoeK/MYVWCeIg2nfX5vqtISPqxnhR+tPZVk63dO+wtBGUTAL56dCSQFdERmf7/ejMdFvVs5xI7+feuEYmrlG0tvm5Mr/zdNU2WFe3uVepu373X13a1TszX3drx46TJ0k3CeI7xGiLCjfIoAZQktYcwAwAHRVjJuHg4wVYd5l4KFTPI5ZMJGGIVmxs4sPnVZOs9iMCUsmMgiQJbwia/Bx2Wfp7kO+VLP3CKdBcDCGYvK5MelGxS/MVe57xeuflaSCWW5pemxgR6Fu4hU6jFOQhXOopzZXSD8C9r7Ydy7O5uF/qyydjvOYgly9UQRHI4FnUXxf/88Eg1fkFag8spG55M/QlYf2z7mpm05RzHklF4AWDfBVwuwAdCD8AipVWIkTRhawktXtEzrBUNJmimN5gKSm6k3a/Pq3sO23yRzxXhQGMZLHfFGZT2yvkhU1qUtjqDINtmGNASJCkiwVTtdVXdsUd3/L6dLfOQ3otiWT1MmkEt13Juct4VFYsYfgRR5NYphIERfrdfk+Y5LudZ1qKOoaDMJ4fzkpMTtaqrKcQeylyXl01NYRHOqtkZ5/uelLuCP5uZXvfxKuW2rzjnkralGS1iPknawPhnDghHADbGSEnj5JJcoYspU97vf3alk8+UEQX7X3RMNHaeAgaoxy6Q+xYKCps02ehMopEv8qprq5rnGmeG90nYXQwjoWzka1HGRBXnP14bVWejAqTOkGg8sqW8sJL99bN59b9MxpFkMZtLIUSSL/h6DjG/Jo0o18UFAXAQzKTBORANnS+uvO/3adxeiXGdIdAa7ooAi+LrKz9O6oHfaJecXDMXxbT2WzbNnyBkrigRA1RM0WAKAE2FxtptJuZ1V2fN3vZPrLJPU8NAz19kyVLk+//jFCCGIUv2c/4UAXAB8AEwAWwEHAekCaQKJtKnUqK7+wniouvwnnwm3vozDihAbCArtaSi+iKFM1raatSpKwNhgHhabUQaNrWynF5cmE3oeb01LnnQUqGSIlpahE3oERaFw+NNEgaIaZ4fW+oRyekTtrwftTQbr2VgvMP3q+oMVN4zblTBK4+98svkPS7q+ol9e3lP5/zCR0sfRnP4MIVxhDLVcFoDofu2BqB9WnqyX/fewWYgceejCQ0qdVHpsVUgo5NDUx6+Oh+eXtbzhkPS7s5Wz8+Mh26k4KBvK7kST2X3RpVElSUbT6WaU/DM4y2hiRFhA5QpmfetyMujBGZCAyFpATi0Uuf1uJ5Vdi+ZTxuIIwCw8loodaDcR781Pb9KfqQYjEtomfC8bl8u/b/8zt38JB5ONd19PvqG9VbJhXK/+tSkn6+N+IQC+hDTBaAhutpswTfi0nCMO+cSjMJgZ9UYWN6y0evebSe+//f0czY0SjYeJ3+/WdVs0iDJhfZTEuOhwaqSgrTds9tW4+XrV1Qkx4kRmz9r0zGVHhW/eLJyIjVeeGSwvOTaQVpuZxjVDihC8o5RWpfTl8M+D8I6fgOpPZqf9q7V/GAis6CZzW3r7DPjxrHKd1UUMhvJDcTCO5pMITzP3dyEAOQFo0nRgAejwJeDOO92sCaeRCxUBscLBuMirEwuLHWST78aF5SODQ5CorR+stpbyab2NJhSyN4eCkXlTV8m08aey9f+Gx6aKtPHj5QxZeKTva99mipSHJSUiUsWo16z/w22OZQnpC1I1FyfJVNqTqTWn9hbWBuX1AxGnoQjW5vBzNq4/srx4Nude5xaXNBU+PuBza7ulJacra+lFtF86vojie9ANgGgf9AAGQJjn4sHcpKobWduw+zRmSlg0Ev1iQ0NQYSm6aFSBM+GAiAw6+wWEZSPQjOS16x6OBo4dB80UaJVczFmRwyMq1Qu4hONF+dAjcxm7Xijs2fPig44sbIXKt0LExb4wIThhSMgdb+h4nFPWANYzgL8xl/OfUersje2sQ6wKc/I00e1sNqduxZu09q/eHFfoVkLY0knrKuOJ/L4tmcOwDZJJ4CUAJSllv10DsMYb3JY0okxcEx+U7qRDZ5aOj58WTAqIj8IyxWzMHW+TSKw3115reqigqrQKCK2eTn+0zQ8Q+SoiaFFJc11/PXKtPvLKsLEDwm2+TKXMNYnu4E7ILldoOCpSbFhqgMh/ey5bX6UuvzJPvVO9vNf11pUStGhaMizgjLM9XioW0uoTI4/XoskknMp9o2xJFWiqhBjA6BGCC1ADk7PMgVPfLIEWWoDpoZ9joGHEZKQWNVZrVCKSyjScKiJUItT48Sk/9r85NcMt0JokmQOep0AcuM70JEh3ZCRr2WQT2IVb4tDetTpMuY+fcbKLtfhBAhVOIUSMMBj8dP3zHTg6P4FzeaEhww63meFKTA3RPW+9L0jaZw2tR151nQSWVboPP9J5lFP4vaWnjIJD/OBcOnnCzGj3HjNEzw9R7Y7f/C2sYH/jquo+tKzz26vYzUEKTGl9pSAzY8VqURJMhAsN4IM1CKR0RUiMkLHk7LGIwdVe2XEEnCyWg8hSbxLf0nu44QXBwLnljhVEKS+ER4dXj9NEoipdYnloyVsq6ynFGJHdnh1EoFVh/tzJUgBUgkL0dtMnepWPwzpZF5D4k0SsyFpyMnHkKcIFiQtQ0cadPFG6FMxqkp9bZgqtMjVID4WHSVz4KDYUiqtTP+I+vJaK22qBiYL9rClx3R8jWR0XSVVZkCXjJqXG5QpuSapma72GRmwLUyWOe6lG0LUyeLf3BuoYwpfJAukRnuxeXSo4CJqrpQis+1EmSLvOvLwUdeSVMYuNEx58xmC0HJCHXiVMHhkPFWPNqwVuqdK6ki0cG7Ri2dyIiM2GY0PWDZ2XOUl8nytE3WVwTUekRC0t/XMcvbL5eZumJY5m8XtHNyo/Fd0bUgEp4Rwpitk7Sf1zbyQWyZcql5ETk0Kkma6RVUZqEfFmrRmy8RmjtdF+JBe8QCMQax/IupqLVavft6+TW3RDbFFQ0FzRAEQeDYQHUkirmUp4Rwq42LOwttUmDAEQYMp06ljaVAmB5QjCRyrLBuLCFNXqkUpLvaENl+iO5b5HZHqkc/aIdIFahGm/zQNfrUSsqMWU/pYMR0NypP9BagXqTLWytdTJxflTVL5jVJXIir8t+i7bKfKYqJ6oIZMlLqFaVMYmxeLj9ZgzMhCaEPnTE2PxcerFoTkhWRK+s9JULp+o1w723i8dmDvSi2S/SWOOSb9s3+4Nx0EImd0kR2eH5Eh2kgtsyZkT8oI2ybJlG3Hxo2tThMxA2OEZ84mtxc0RWnCer4ygi1mbBk5u5Z8o6tKNTRlxQqabSzsoRMiqUSFE4KJKmUUWct4IE8V9co11HuNQJDheBgNBC1LZDWNtMt5qI/iCc2z3vn+hZVzRQsxN8mp9VwYeKX2IWMJONdaSEqika5LPRqpk4aHBLqvDceIaQlU3SpRMVkEbxDyOSRDXX5TUZmupIjYzL63fJxLviLcnMSfXXqaqk991e0vt5Ljyn0lBNqJrm6ICxEpRj3PYmGJxTXbNUlxZWnDJrs/M1Uo8hKohjTL858mGur2RKu3u2kL6ozVRogsqKpGLMJUd17GmfBSbMJQhcIJKJ7euGfSicn8n62pnmmE2wuMTOWlRbCWJrTzGub21RIgmkSSKXZDVihYpqopSVTLCSk9bCSHqSqLRWshLIeMJRMcRwYfDCkyxscGAoJlMhwj6dhw3UI7MVEclVKUY7ZWk7PJBRF7HKVILFNnK9FzE80wWIbat8psFHkXqr/k98KWytYlCcikkJpxJGLckZ01/VuqTz6H0MLuZqw24ulf32nXk+Q4mQbwg6cVehz1JGLxLABIBQOgAN0AGwWPADXyrXM9JZL4+bfKxHS38jNdah+guS35h4X1q9OeIrYcqqXA3/BY8tJUyNuBhcllRJi4SZpEUW9iTBJD0MZ6PItE3bKbU4HcFwGsJSTcNwmqTCQncaOcNf0MQc1QUhBMlW79uku9OURET/ckmtrQ0qE5dyRX9l8KORCQFeb9gO0rTbas3JCos8ZDAMJJ3BYGH2is1EiDtfvMp4KmQ8uR+ZBhVO7ARIPIVIiRJXrx9bQtdFG5BdpzMrcRu7zkpOKw08lhC3E6djOM7nYplT5HpeoK7BcqqVfBH0s/Fyou8AKT62Dg4K9EB5QCAJFRdZEWCDDjWKpf7vguQvt5q0LJAiNIk/IIkTcUHBw3C6JfQ6bE2jYR/R9+siatX8I3eKcxS2k4GLkZvypWDudvTkVkD6aYHiO0rAFAJUJyd+nXLGdekOiNQGNTX4LFgv4ztqFgCJV+JGfa1pFp5bxmslHr76UicmULAwm188Hs5GBMsdhx/vSQL1TGMpFx0u6j4foKO3pK/sfBa4ZTLPTmx20NEHhD0IOdE1Ea1hd02/HQIEKLR4o9eXq4as0HjPnoUKBokMfNjK6wo4tkJvh1EihY4fuDuzKQgo9ev78JPPFks3rOo8iY398in7T14tkY5og5VQgX9PohwQW6aFHyuBDO3tG7NiwfIbMqU8D5RLaESBXxhqrGnGgSTfCy0JFjgyCiMjqacjAMAn36zYyGD61lUyLmK7r0m0rV0kZaIyPnxwM+nNULw3lrrrKFGV3m3FQ4Oze26pE5IkrrGuTjqvbDujZIlu+RBgLRwA7HRmOBsXgaBi6contvTIIrGwrO7zC4m8ep9dI64kaqNAITUrxVC+tIdRSr1J+zNPInXZ+mrvZSWbXps2XWia0kID7iSu1kyMkEKBGSXtlzirDmCJkoMFXUaPrJWTZI89Wf7YlWSrHxIrgiS6bvKUfzVL/7itvgJf1b2t6jMxf/yRrR2EYTh36v3qztfgyA0WhGA5bQMFoTBw5v2KnsuablYbGBAQSKNslQVqUzK2oxRrCfSrsSopYnGPryI1L96di4pQ4qnbqIj5uUukLPx239W6cqbCXRrqt6y69Qccut6lec/J9+eHcKneJjojJXDNL6flMDdTQOcC1iUkvZD3mK5SFLeV0EvNsSRo2u3nzYpk0wSxxVLTHj3gkcegY2JCwo0cEOOC3OA1se0aacYaKERRBI0UUXEnumnGzyyEicg3UUrI79pU1laT+V57qcFrrmLRK4V7Vxy6rCV8d+JY5k9haqJ+kKFrM7gpa73qYFf6dPm6t3Ryuf2r9JXyNqvLli6VWiiRSGiCDxjzBgg0cYNOHmFiDhQ0w0o8kSao9rTCSaGmS0kp8TkoTJI08jx3OH2ob0n+m12mdaVSLy4IjhmNm+Mw7mKc1/9juqbv0+nOmrgegJWThZR9jdXX5MpgT1ypkbl05Sjs5lIGaEcpB2EOcg5DsZAo8EMQ5WcpDHIwo0KJIRfQhpjVXS1GsNQnmsJxa++FFqfmazZS5uISo7Mar9WIf3EqTfPc9h68Jxj7QepbBbISpC6EBYIPxCRzRFbyIgz3cySDtFMkiVd3K0IPENZKGTJD2ZVdWubiFmI1y1Ejn4y5RTTGsrXPRS3JWWkWG2uzaPixVjT5wrpBsgjy3VPwlHK3Zcfa3XU/rOpV+gugz5eVE0lZQj9ADh///jFCCKBUv+9/8T/zf/J/87/0//a/9//2v/jtBoleCJ/cXCZOfgP0oTn4YympYnpTJ0V8eVt16DmFM/JEvYmCMsuJ2ldS98nn8RtjESEtDgh+8asr7WDFFuuetmvcZmrTWtoW/SRmuKRDWTOel+IKlXsS9JQL7RlSm1M+GUSiPOKg3iV39qGeDkR1ZBqSMvxBkfFfFIhff0J99CddNEzWHYS2jfSslspZDz2Yk1EnfrTqI2p3OmkvOXEkZGwz9ClndDf0o37Jo5Sk20uaB1srQMsYQh1Z+GuanKpyidL+EPc/CF1pr7TWXulQepCXQiQ+gQ4wscmx9BBicbcCSgwx5HuzoNjn8frA7jDOZ2w5TDdFUtd96EiRzrVm7QSmeikepnOeQuT4S6Thui9l6YmDsYTl2PnHqhe71YY5IJ3Ea1kc0ibJMjls4m6xU9gxKji6BpDHnCO2Vb1+lvmrYRk+p9hHw4ANmGeddLyiN6lDeudzb7SMZrdeV5wJsCSG61sIzQigsz2QM1xsBg+17otBxyC2bc1wKHUikWdgUI9FW3xZHyWRIiCOlScW3L2yyMt9UOA6xDGe3Nmy2fCuLsXD58TCaMRW6TuLYtEkJjiEJXVNJp5fvIvyVgbVzExnkmg0WwaQJr3prSdF90StKakyYuH7qXzBO2+qZYQxAdUQSFu+2VhhiLvkxOC+RBy4dd2xZoSkU8EQJ+5YmDk9x6RGjhpdlHLfhM41bJLJaRkfdJWFKZxUH1SMMPBFA9cVw3D83Fjt0j8Vo9Q2jK9LeILC+NHk/USb2OtSah7j++KethRIEaF5Lya8jEQ0ZzLVE3l6FzgRy0c+3RNLAbQSNJ9M06YXyctDqVGoJoqQBDF5JXXhHWhlHRxdRcOPClXhKpAZ/jJ65Z7+NybfPBTrmJB+vluvMVE+EnR1Nox9+0ufEmzpUWFOny8s6yvx8fFTjzCbhjlVLV1cullvEcsiGQxFYRTyJIxj6bxHDu2t5uIwZgWAgA4HQahMNy4sKSkxCg5E6sQLWWF/n+6RKdh6FYaicXhErvVud/oI0TExUIvhWjS0bNiiBcaoUfjTOV1GZ2vS42U9uo5vepXr+u3e3a9JSAqyvpLyBkVOmyJIBLnMS4mApSDjva9lGFru8EpLwpGUlsrsGt4TGlDemR7GEPg/SoEacUSwOZRS4L8wfcpV19zvL4QMXPWhgrWtgDiIwJ7MCqGojnZI75B6Xj88Scl7c2tghqNxKkgKqUXiQKwR4tL/ZYysQ7r1FoQJcxRua28URFvUtXFlyotaVMs54xRxcSNAPkrkW1Qohomo2RFW7alBAqriM1Cqg86xfa1ZceUTdLIe9TTE8YQij9IxXr/FgTUt/HQXed+UTvNN5AnimsJGpJ5SFcJYcnC3HR6Pu6P0aJpcl61AorT5CmIBHIWx748VTVtiWaFeQHsQDJZn5UI63gd9CqtE5N+YYQ5FMUfNprhEgxwTYYcD0hGxtSWgMsAQLlWMrwvgoEJEBGhd31BF2tCJIxV+9QEu3HACLh6WYQBij+FqwbYN5cv3pSqhkzR11rRMFojvF3BRs53cOvvPYryNgnidTjJ0yEwXtQ/+xMfLwR5BnobybWDmIm+MX4tLZKjXjJsEm2OQBTqzFMTZNzUoJf0zjsz//6radq39KC69B34152SEntEvDznl1ICBAHWS5VSEMMIkyMLqC651Li/p2DXG4YttYZwLk5w54yLyNoN03guxDYd3oqWN+VfIG7MB6D1MJISIxkxVU8qz56sP8sTcX2XsjSYRodTjUTrGsWR0HA6F4xybQ0MwyqB21gupbvp6J06CUcSWchN6WxVe6c9itV1945lnw/bl9lUlu4uZE0JjTNnTGzDji1kCAAS4OpPSZj2GerS5g4ZFdXzBZRHHGWz6p7/1Ygj2FGtjbqDhDDJgt628WkF7a99YI7s9shkEeijd59fvdSMjVbYuyueXZ0SMsTG4D8k3hlaYhAoj2OtfusgUIl//RnULVwJuxSiV36JpEaxMduOqtl6iCbUW70hPMrUYvJOWRGk18qa0wRcxQRa3jKKElBdTsgCXAAwhJiz/AQQqBBxhQQFnlRcXVg8HovP5dG8LcOoS0mP0NYF2OdIAkMvmblKAq280T9UqamgugtAYY4xcAYmRnQQiY8pKbDP4WII9mP6khCmFLNrQZ1KMDqFQfsMIFPqwqIz6bAyORYey2gplX1zuFs9/J/deRCTZ3tzbfEwU/0+G9TXX6oH1TLSK2xzIRKJBdXUYFnBnV5FTty6CQf5Wa6tWSO4NroXw4VAsCzHmmbFjOhmrYE7LchjRRB+AVjCcS6FfeSzfHvFYhWvluhAsgZiK+0TV9f/SMNBCReGudDJXqLIb09hGBDLSdQ3fVHbxIW9N4dQurLuJmhQqqyGBziEIowYi8iQhScKJTGvOMMcJVu+LA0SBmqoBKLUfQRhLGSQX87IAIqfQenq4pRe5MeuEGzBnEey+tpNzv0D1jbq8FPbJ0vaedEfZSk1Hq/ozaGMUsG2U95HVP3SPgcifBtnhTNNPfxlGMh8pdUMvIthvcCkl7fF7itZwijYXsxd3U4htcLheeMQxgDXmgwxfWwEonEqEKe1ma9RFnuRorSr+dW6KmPpu7pNtft9b4w4E1YeCCkh9xbSxgLQAAKwI7AJqmgdAGPOuFgL2TLOq80q6WsQEwqhm+OsdLkKe9qRMdoI2U99C+XA3phIGCsiIt1UuQ0mxWPtb7GRpCKgsi9V78bmWILQGHbWLrEXztKEUxF5R7GaKMMyXUvISXaMbcJcUX5VAjBoGUGjqkbT+FU18ZPMM5Y3UW+xtVse77Xt+Sm6XmefWm4Wf6tTKcexsgADtPkPxVSe0QTm6Fn+FqvkRLLSX34HYwfULhxiSX0QYMqgcyb4kgpSDr6Jsq+hUFUB8SSqtAZ6kjtr+iZePn2tlZNExh7rb8lH3uIMthFDIVRk5Uh8ktMWbBkmojtbp6IzXxipTr8sVPdYvivcW9QNdeVidPS/rsSyhNPcwJMaDbUo2bVP4qgO6YEKRYf0L9zOeMArA94YehHQtgMT6QIUZClRQNrdrw6T2KneF5EIo6ku2xtKWMqbBX2VJDYZFKCFywQx0QJ6JAIkopS7c8YnqwEUm+bmr8cwlne0XueojHEtJfCLxlcDqNbb1wtBDTLF2J3YW4WqRoRwMhL1KKWQixceJ5LRsujBujQt4T9sp9PBcxgG6UuoDU4bHNOo/udf6bfePBOQNOGnub9UmYVeE8DtioVUSFDJWd1pyFZvwPgRvGq8aFHL00fYXlZmydTKCEUiWcj60emr+l3Aonjm+YISpS1Okaw4EqJkuGAEcmUT7k9KEyonTbJLQNn77l6O8Tk+n3WHYH+hyv1R3sqpVcyFn3d/VyaoXGlSV3gzmOIq4ahXFP0neXpjcpqnpkfSD4klNYAlUsyB45bic36IpKeCOhjaZpWnXkHom/eD7EMIbh9gJGatKFY9b/nfeklv11T5HxDU2p9pSyLPq2Fea8uCtjs744JlL9KsvVAUc5+xq1GETugKWNt2ySZ2r7OHrzUZ+8WaVlK/qiG8g9GxtK3ehNaq6hYpUQkPHq9Qx+9LqzzJO9m4/Iiw1u7LhrSY/Y7ao1UkRLRDh1N3q7Ccj9RdCCpNy5LKqNabyM2L3My+WDU+If85AbUvRHjN1lc933znNJkTfRxk5PnixHPHg1PnYvdpYzM+4mBLU+MlxyOvVFzrRPeq1XIVLfY8GirUh7t46pEtPZKCrqabGV3VYJqqc4Vk6C5VkioJ+s2EdNhHT7I1/5a1slRaHcJm8u30VI++V8vZb42WkQQwF6h726mnFhzuOUI52wgyEn1MzY462q0CLz4DAEHxGUH/n555YEBTVZ8ZvQY41nALS4mIn5ZzS9C+nN1FkQS/5vF5CnaTzFVnd5iQ9y+IusEMEiFMVYJQesIlvGLwKgQgfJPFG9iDT3USOj4F/HC7VQ168LEZM7vGLlZiEv3koUZwtcZKpB+ozgkNqxfQl0vidUvWxcIgLA0vS5xK6HOsWqege8anKiK71h3DfkXzK9qx3H8XrWsWv7Ypq5o5W1BtfbBLEC29dFNStwUZvaxltrvE99ZcPHfJq7H3obcq25yTp/avhgpzD9/EcfqPLjsfU0R2DYq3dUDv544c4pw2LCR3o6DRDQgrZBQHeBLQOEElDgHPz4XopAs4EYrEBqDUq5PmUurHdCF9H9kr9y79D9wcxpb2OIDN8q/WdJWgD3SOKMkKIhOSVxaITXhGIJG677nMJi3ErrMN9aNKHUaJNYlg5hg0ZxkCTq2xuZxZUC9vU0HF2M5uCHsvJJ2+/xd2WjVlBVvbQVvAK7Ggx4FwOmoTMJmh0psQR48IRQihFKvmEgujleL+KN5Zm5sl+jD/xf8+Ibp8jtUPRJ0Omx3iCRfmbQ4iU4SCCCKkLApgvtpeHQgHCvC+6Uh3UbnI9F+RI7UIS5GrFH4BJrzb6WXmbM74n8g6jC5fz90jEImKtH2wkvWsz2pwb0U8u51f95XBVXBfZW0lDiqXS4I44LYsGMEjpy6HwuIJEJxKwkrD8YSJhwVMCP0/7uJQs2EKMjY3Dp6gLBGaPQIlVccCEqbKpC6vW4pcdEJTzRpqFDwIv2N1v02z6s0qh/pS7T+lN+Up3cKXr48yP/b1Uk93X2ulMz2CKq4Hp4JUvW9TZcbE0I8JBUJiYCRYUB0TEhg6FSKoKFSh8UE1R0UMCahoi+0TdV8WMk7Cw5m+9yqnz7Qrd0WuEtDn/p7Ok9W3aqcV6/3MY0KS+0lPXd4lmJRXgIxqgIx6jnPR6YKx2LiHYgM3xZ0IkxsqMgkbCpmiMRilCbFbyrYv3C1bmqHPqRk3H28f6s1EUVzDMJKV4i2EVIu6V5axPABdAKh3IYShLgHAYx2J7O9iMisac5iq+PqyHXAJO9m+1OEPhykJ+PPEp0H6Stf8MHKWFQvU9+FeWVtSKVwTi1ZlrVdVRiS09DY5mN1UK7l7uSg2LIhDRC8ty1FJBvF1zgrlWEAxUFM6kULYbOY+nG3xqF7LM484YSwLskK2iLFqVAy8z2141JrmuFSnk2UZN+avd4ZLPLO1KRbAIE1bDlLylCsHv8FgunelYNoqCaPSwYyFrh9Z0m7u88eXQgPtv+DrtS/ViAEGIic6oqDFdbmkICTNRDXYRxwBcgKjNJs8OlL90PG2tm+Zn9bsO9i/k8uNrNZfO6/fr/Z/TNf70YIkKzk7iYk6CjE+MT02zvZ8DYzT8iHWYoyTHfVoYJkp2xAmxJtIdyTcXKvhQMukGILmIbLlJ36U9p9SP3m6GBtWyhFKm/X6vLLXgVqGlsIdGO4lXc7UXb6GZOWWCJoulVK49Fost+dIlEdhMh19ozte/e+lc3UXT1dTcn+WXEJ5JiUfBR0VICdZzGRBD8TsnI4CKikVYFMASzk3DwCeLwK74RV6hEjN9MwRIZ5znPmXsAXIu9etcBSYGyaT+DioRoemAKI5hEUrii9hIDoOOAPctutDWMIidjTXEYeuV+kVaaVmtX5BYpJZ2q/Gr744lE7Sa3TtCRMtpC2NDMvTpgJZ7SYtWrIIdZnyOYFHIECHFoYze9pLlrIhltX95X4RL9xblXEjyvj2VIaBy/F+1BjMBFCAro4+g6srKXVzO8Rvb6J+tZCkZq/61a0Z1Llgal15cU3KwbMkr34httBb9vskalbVE3RTt94jV2xDlqN8EqNWBaTSjxkWCwEcC+pIW0HwJ6N1zTwl0HWE6miHWj5HVCVFv4jG71pTenWraBkfwK5oUkTDM3SWA7iFKEz39qOw91DpX2RuIyBGpjl6r4+hfKx0YsCJSjkVdss5flgoPE6NUTjJ36h3Lyav0cWGZ6z0bj3bGrjX0STd9UJzLgkzZ9+Q2Yx5NxdQyi5C0ALuBGC6gMEFtP4S/xk4DGI2j3cYTfrMz0WcLaSQMXUdOIlIVthSgYEzmMScgZBJ8jE5djlwpiKYJfMd3LEttnih6NEGoErcjcXue8CmKWQLGTillIn9D5K9cNNJrBtasTGTCB7yPwyrXWhCCIuR57bREeVMldLnpdWrYM9rRisu+G1ZAbBllTPyCPWMY4/McHlKFiU2EtdRdiRTNfEvmiytIOb544+yXQxQlkZZmqUuLt2LR2fPxJ0EKx7OZ+kNcPnn5Vj8axKEYIQJ6ptpeTNdLNl+tNoHYynB4QiXKIga5jvAV5neTE+z2tCZZUlzBRiqeomf4gIcNtnPkI0Ef3AvQETB9TkiIxwEG6e7LCBfGvE8LWyQJKaDloUNKHerZckDCjKbkFxZQEHoKU/x16wqjKJQcyCZOWvIvKX+eTUn9MMWbnvdNP1m4P51pyMWmFKRJWIw5ADOShEpupv3bYQNDYhjUjs3iY73A/TYDJE0s5T8aBCRaSX2fM8WmcsnorMh91pmiUJ1hOgkwLMHaW5YEIQaBP4EcIYkFCr26lu8WLu0RFSGVABuE+EoQI6AF2rg2+edo3N4FUEI2CIFh7P+OcbGI1WRC2phdPw9ta109LVbL3as1mvZ1TeQRSKXitonnn8WDN6r4pCEghr/+MUII4ZIBe8HhwddBb4DqbSjxaGZ/6V9gNChonDYHoNs4BJnK60P1PjRF/S4lpXfDzuUcFA7PMY4Rc3o1cZGoAjAbJnD5P8EiZtkQO+fUJre3D8W2NYMALQXJI0fY3UmjHzG5YklDgIYBVAtgmgkhfGB5DTBEgZ4vyX7p52VQQB/ByPJSjbCzZaPQppqWaMYSSAUnG9sR8VcS/+KD8JemmGJYNLPrKvwvEJuWnogFFGcsZGfjHLkiQoOQ37qP2/7nfHlUd4rjkNNKobNAogO8EAYR3k4KET1/wXkjZrekmr6UsSD+F+pcZIDlkpR0b0sNRK4Ywg349RJChMBN39aVy4vIN86P2IoiuP33e+QlVZSKTbsiLLEUoiVHdOB3M4Rw3hpLj2eKRN2v2evpm2QbQmj2WXth5bTQ6x4WLwzNdpUVy4zJIErUSabxMuEzQNlWbTXKCpBBg6nsE05JzCx3IKetojcXl0OTSzvJKFAxsS3+o/e9f+/ypTLQgkA5SUJopkYlctlGij0VROqprC0fmPxnkP6WeRjoRZ9VHl6/RSq8XtQ3xQHIF8GkYgsOKQRK5epSqFuq7zGV5COQzs+GpJza9WqPyY+n30LYqPJyVq7yhUK7W7xLMQ4hztcsGSwZgH8GwGk5oNR8MfFFOL8Ypd+/CiHKQV2bi0OT6Qyp5Sb8emE8+TGbBbEMTiOT3l/TVks/1wrF7rtg2epiJz0VCyhps7UeMuIFb4E7eQDtQjBbFsKZlCSoWE7aUwfNW1GiyNTwZ1UzKhXTyE7YHZ05tzzLJjkvqJPfcqNVareJCi9MsXa3NdISYcgmgOpsBdSZGfcKTJgs1yr8ne6DpaS3OTDdn7lQdDgKVZKclMt+eLSklskvhDUy+ykJry7t5fPhu7OxuZ6dnEbQJOyScSw4Jy+TDTVmgl81igVD2eWfmOtEDnIueipbWmUVP+lTgVtpOY3BUZVfXbNuq1mi0vYovH6/HhRLBcJWmybpTruzxDUFwLotn5KsZWsYw5A3ZBgobFaAgyiUmC5ZeF1Aw8oNatoxSGy+5ehQIQ4GgqbFtjEMrlE6rbfMrFxQaMsZdprr+MJPF24IZ4JJo5CoMxwPRcZH7U3aNLcpidMrKF86R2TIoSLUuMg00Weqybs6RvqvqeTyiXzaMp/C+IYNIjh3JbyzJgIggALEgLAqkAEErBtcBfMGkYrxgZ7Tk8epwqOqwPpAM5oKbVpNlwYtBaxlyURpbtX7f4T/jI8bng7JVC1hslVPfe6mssvNjVk0ckUzITIQuTNFyuDZiIlMCgmZCtiWoiUhQFCBYSbFenlg/8vO4iyVfe+q5FZRNJJjKIwmM1iGKZHb/+lyJA7EgVHVaHcqD36F35hOQ8MOjs6VSFTxOZVF2llE6QfIYleBwhYGu3A9LWrQUCWCY6lxluSc8dmI/xxvIqvFO6SuuMtzi2e1ZSuoj6uKKgssuRHg1GYjNRSjkCOsUcDNsQlzpJiRpXvdpje70eTTz509BT0MmrJDYzKSVsL7+NJ5D6sl1Ja1RsQmxiWdBTEpRZ+Q/X4lF4wZ7n8lED1Qc1Oe4CIgfEkkKAlKy15nJBoIFifPppmrRlVZ1VQ1zXdBX4GdF/qcHLGwo6Kl4FngxRyKbVQVJuSwjJB4eD0Vic0a5vGD6Mjo+fkqpk6wEP3Xwz9t2tijZ1M3iGWS64ofPCukkWQRwph1dSbNhdC1GZo1rfFxfI6pCUCAcBkEqziLKZS+UEeZWOA/EzVLp+GgnXJsTwfDY/SFXbAQNltZbceLtUUWNR64qvMgsvOW17H1SUuxA0KvFJq/Pyp8/LC8QlpQTvD4mExuTmrFo3TErFsrT4ved1x6UG2h9e7L9V/P9xZyWWSiXz6bR5YrjvnP/dR87IEjkQUBDfCZDNiWftQnGTB0mShMqCF3vaPh2UvXOroYiI9XJGxUKXDUm/b/TJwy9eMm5E0o6m7Pm9aJTkWzY4ZkrlvLLunU2uCoYEDgoTA28BxEEjAFAqBlkKFo6iGl9SuXLiZK/KWqchaicvPX569E7Orq5tLu2l8giCSTCXSSYWdfzxIt6jyQyA0hKKIdnkNE8dEopYFjEXFwqMHRs6FRa/VLtyc7WGTmgS27QjX7KTPXmpGTszHSvZaXtyeSla9LxHwRsCGN2ksILUT9NUbGhEXIhUSDwgEnBETGhoaLvvPkViJLItkQ7p3bd0Pap61VBVUtPW11hV2tDb1l1XSelsLKotqujoNfnHm05lap+uESIcqB+xHj8VuRM/Oy8vKSA0dGxEQq3aQqxJQw7ZT5Q7450wof1Yh5LeyHch/W4of1qdrzf/IlktugwoUUPkypQsVPCBgbPHRITJC7xUmXpQmm+rwvix11975R/pW/5GvK1pixcv35CVkLte3Wr3qlyhZq1KVfbrLbLjNignURKlDhkUPkGg0GAkOBIaCgYDAwOPHjB5g8koso1dBmjtm8I7ircyiddM37mNU8qptp52hFyhKzlPUSPmGiRIokeUcQ4p5Bhq0bYrCXZ9nP+VX9kfskX2y6LLL5l8m++TLrs7d2y/92CJl0mOqp9N44oIHBAYKKEKKKFGBRwwKMEDDMKVRlFMOYhSJ7e+XfqPXFrR5xNLpG8MJQjd7KkhVCiJRV7HFMKHKIqpTOJztUm1nkiUhPD1w9dtHtDyx6d2BRkzYNutdiS48a3Qq3rsaLfmzx9jAA2LYF88EQMIHcD4Jge8A9HQw03ZHLO16iJ+R4p1ljRLT4ajCrSkUJGnxAOCrbjoGekFlhJRZo3YbR4q8oMJkSBTp8oKH1xCWaWYUwVQMKykhRVqyXCLrCSJjQO9ppGJDdX9+MgmXrGyTD+9P3JsLXjSn1i4JuZilJaq3q7UOyxiTosw3EYhCNQuUZbEVAqNZfbjvZZWyObnRvFNo5JDkeUU8M1XMeIiEU16aGOsRk5hNZBO5ReqWCLUkdUXjWsu8kvRBHMb3rtYyW++WbSJ8jts9QyamvcX6pbdSREfn7C92kmrxQnmIpOlBepGnYlMoIkZc5qp+3kUVzTsEqs+MS4zPo1rTFo3RJmrxLgvmLJ2JrzEOH8l0WxOOjFtBRzk4KXD943FhTQRd5DsEwl9gKtAYg0jJaNFRb++153cbyxkSshOIQQgXM9/TM3wtJIJdzZrgSYGleY4CFUEETrbHxOzW6no+mJpTE2EnFUoIKI95BUAjhmnHH1OKAXTw1H/oRHmRszE0gVaLxVhIwslnXea4GSyH6QSbwrH4hGeSWnV52KnFzNO5/7lalO1JJkJoFq0mlEpP7EQLtzLE7DB7KemvHq2sulp9KHldEojBQT5kalVRi6vtV3ljQtQwzUIHqjeHamPnUveLtgejjSwhRiPHxMJ36WusJ1hrL5pLtBfP6dj/23lw3faRCF1RmAQZ6EgMedPx9QM8I6zX+Z4MPcQBZkpa3xCi4OHq+K9BuxJcZ8nVM5umSTzUmIkcqMmiPHMN00HOioJZu6EF2CqHmqMlNSTzeEi72BjaqCmSTcuNfPp1gt+rww8RyuCbXO9H4HLQsLL91d6x/gp6ia7C/OD59SafeJdXMdYtguVZoFKZHy4TALsaAXZjfBxtjPI4R6SWj7incRuv5AwU8nF7zisOvVJZF3VLfQi9dGHHSO2ZTfSb4vnPUiYfatbiaOlmLgiZB2PO/FcaPOXkWTvQ4GfJJT1mMjbjpDKZ6oaPxjuTbg2WCOWnf2FgHsJyPYcTZAVcpGoiyLSEM8E0SQlhSmGHlmUDefCSoLviIu7OnWjcTlv1cLYUA7pxwL5ZHJEd73jseNlToqcMF3RXfDSSGKHyaSliqibvmG3mq3nWjq6FuZNqM/tKZew3JASS7I7DSr0QttC0cNfvAxSiRt20kviZqYerF6heFcUIzepdn9SoZl2OlN5es+fIuCS/MbUdyhk2pYjDL6aKeVNJxJtXpbgNpsjElWuVkeN2nNr0h9G/M5JeVRIMRc7MF5eMjlhCsKflnsbxDgRmj1tbQwqc+ebDsiMC3puKO0OiLQ76QFex8I02ca11MaqqyNFYpWm0sBGJBWuoGJY3RFfAprSGLcsErYc9SxAh4yci8fQchVBZQiZHgXJTYOpwRIAYQGzo+RJHDyzSVFRB+895107B8sPN7sTUZdfDSMRI02HByU/6IPKt6ufpaZC5uLr6qZxWfamXoG35n3+GQJ6JAtwY4ugUQNgfabaosByNQ6oPk4VQ4QBFMJ59lZVL0nimzxVhd+z2YwrRUt3ln5apn3r1qFRRE3V5m/l0acKZrI9DwRNHAhN5lrzEFAmlsl4nLQicaSljFrOd5JV8dvHxqzz+grAnsn3+qhOb4EhocJp0jqcGjlnnsVjfPVPI4XqrnQW//L0skT4EqNOA7pQQxQCyEh45a3iuRbly6yFFfyLdCTJcIfvsYnx9544WATA3QCVj4sHEZ/KC9Mdh6T2mFaPGdtsZOQBGdltPZYsBJCobfDVMoJIcDOFL6zLIMokjjLGBuWzfCMKl/12K48taI3HeFJ5pmWmXZW7SuKVxGkYpmqnIQiej6x9WD0AyN9sT2alv5e8D5KPDmR343ARomZOaXYnnotDqFqRe8GA/cIaymqdlmDFuFXHkS6tMPx5FH7/lM2wj+nHwwPYjjGco2ySiROEfiMocBaEKajS0hkCqfQM9fHwekOjZP8mf99llGiLNfXRxtnREEaY7DDOmi2PnYpL9PE8VSfeP54ndssh9nylU+Vxxzl+C7b1uw8jrO1/76pbQCSB2IY6BJIAvyqRSx9JKCT/vc4UoLwceruDV5J2czHlevWS6/Fa+vLcTWidIsfJbw+Fta89WcnKkyjfZgu7+Knii+Og8z/L8weEdMM4i3Zfqpey5MJfdFjjEGKT26bg5/n0IFVuGI4WfTDZoSuQ92jvKgNAhV7Ncgf2XmxeaTNy3cViK3lPj1Afnzq2+ZwW7kTcueHhBNAAAZSc5DmwBEYBm0UA5Yy8LEJlEbz+EUATkXKZ+h8haOCh7q2NnhI760ryHG6h+S89SIjVFEhtySukyeq4ga0lIIuTYjq9rKmHmsg/bB7SznzkJ5k5nDmC2t2asCYZT3jitpaEkucouUFElpJIRHm62HBSlXdvXtTczpU8aHlHokiC7W90n4nS4vADFGAns0R6k0kjk4aEz0Wbv2jI5QCjrlBNZIYRgACIpzAoUAm8AmijRx1ThiBPcgmmNwqgKCM9Pj0tZjOSqV0lYbEQyRXlnnr93Y1KKeDUj6Fm4xa5zigksVNdNJwY/pwE6yebb11O2JO1q6qu/C4hnn5Jh6XWsvZYmF6FMSjPX61DJLNpXxaSH6jQnvzOtsgls9B5vwXUYboMByhAO/o7j+APsr2M0I7vNcGURaFW+ei2N8lgJYMkefmqEwCNgCihTYBypJ4TA9qKwEbYeM/BMZJwqLV4y1uiIWMTY3A/ZPoMChc0dUFdXFWhdi1DPHtYsxIwzFPkFQI92DasPoNgYzoRUaUUHr3vzMdGWPLHtv7YsY1COkTNE9qjSMI9rpwqXvkyrSiL95la/Z4WW1X5pJAeyQjtCayEtP7yz56sitfa1Gqd7h3C5Q3e9P5hFGsqInSLwPIyE/dtKvAAMoVsRqABDYDxhOokoVIBhSSQJluxRWQR29+o1sPfosHk0yJlCQlNNUI9VurO9JXEFFUclQp1D197B4DWnKRxDhDbb144hFv7czhBiaR0jtumHuJK2aIFMoipEgJqTUpx6fy0Qw2zrWPM7egRf+lWQ262Sanip/LbUwgQqrMr1r1J/M7wAYif/+MUIJJNUAWMDaQTqBYwE9wNRAfwAIP1k+2f7ALSsrBi1Rsxx2aXxt7ONX2ECcNOpSQlNqM7W2Tza958KiVVa9SkgF0fUrUChwERB2IRF3bSTziA880GfGOF+pVERHvl7CUYJNHas+yXZ6lyX7lS8VxYMrom+XWqHx2D9r5cM2o8RIH44RaMEoV9R1qR6CW+hPHGUkqRJsQZsukuMxB2NbY5J3HFWLa1cv76Y17o7GymRMglowE4UZDKDVEAgxC46n/hI0L30ZO9M1BBViyVVOf+LXvxrvphfNZkUwX1ICsieorC9QkgbqX4mXk/Uqnbs5tPvC23jrcgVqShede+s69kqcEtL9b4o9a1AeVPWizTNHK1zPPS1jQ1F9DfaY46VxC0UKSt9FPFBkcrKVf6SoFU4I8ONFcIC4h4f8upSMzFbI3xHX2RRwN10Wgzz8WRBa3+O/2sQxsDXuMpDeZ3aL1UE5S+j43PfPHIDDKq6jqulnrIIX331VoAEaF2UgFTDTD5k7N8P2Y6vQdDpRv2pBzxlsGt0dc85LSKeMAnhsorDkSgSBUBK0t4nA8azryT+1bKBSnY6X2t10twkmSizKZCuRZN/vGud4gPIPTbN9LtEYE+ht0yNFIv2Y6uywonRRJHTmeEgEA3vzlcE4KZeeN0WJ026o02qyK/qlRoib4/Zfv09nVjUwBtShwgY5I54nQAECUqsztvi/jAh+gXtomeREqYIsL+TkcckiieoowsLO3VwLeHCs6/ddXEA2kyUXA6yc8Xsl1JP7LMl0UhJVUcy3W8y+bjAe6JoVj9C7AGB1UjT4xBjMcqP/mgxc4ViUQrQU18ILG0Z8yLkUxR+Qs0sgbzSmTZqee1vNhR0GBYoAp1uTPsSbZUZevMXJsm7azIoxNkuAHY4igtgOUDwDNlSp6LQKV8EMU71A4ADNSibNJB4FFoGqUgtGOoia1GlUDIOlS1zHyNexSrN+NJa1cZlsxTKcptLwK8+MKQlFFNEEqPB7WK+PlESN0s/T1GM2WhaTZve3o2p3e3G+xlMvsvfcfZGumfsbm3YaQkvhl6zhWCPhJox4FMvtRnWTIZJAkj/i5LMOMNEDUAAVUJMY9xEXNAC3mmZY0/MKxO+QdvuoeSkYjPOHSczz/tClmU5FRBqhevwwtyXHJIVSPDuc7WPmgVLgtRkE7muYl2KhTAaqETah1bCRixRZmx+oJBKNAexqtYnqOTHwxFa9MvvD0ShQ1PW1kcZWCqxmjKxIs6Aw97HZbc4iCQ8oo4HtJiqt8CaohrCCGc1hnC2Prm6LMwQTQCQPYCfC6bNALExQnl7EBHDkn/sKFkCPTCiVW+3fH0pn69P1TMzgWzDreWbZ2deUfLqQkdfMXGtvCc5L+Ei5jwtLDDW8Lvzo1PAdEI2PbU/egJruWWlBpQ2iyDJUkRDobMBEJEyGLxFbpIPFbxir3zwh0f7uZVrRDHHJT8qsamb1a5CWvdelxE7tSToSFaIQhb8qxnEakPwR4r+3I53v/K81GGXUpEYJoD5p0VEmyKtwkUGzKoqQJCBQJJBo9EPKGFChYHoJikREoNpJM1i3Zax7aGzd9eKLECVEOZNCg41/wkdcHrNFmziC6FiVhKrW2YJmr0/O1x9cJj91fhNQ+6qqKmR0TVdEyKIqo+XFyr67NhGqoXddKnVVGT+gqoimBLbLA+BLbQwQKhYu1pIUMPV6lgLDhgOWFhQ44kIHho1rOIilxJE9p6RJBAQVNVXdOKUIspW8WaDn9INjLSxwKv6NgvXUJHWKUe1YWXjrcmTJxMKZvmi8HdEpA2BDCgBdyPRnG8vZ0MRAgzStlKNa7ha3220D6pYaGxLY9WUksm2Zfi7IyCqY7EfRar3GZc/JY9PfahfSiiaNPVwiiYI5QEz6FMFA/93yE9idgeTF2SUAThrcnrXO42NFIdqe8M3Cv5qiCyZdbJF/M2G4PW1w7yE94je/5zzsUL5PW/6H3dYO7t7euT9Wzyn4/1woPJKIel4o3GV2jPM3gUhISmwIhICKbaQ7Jl0YYK2x8ECVt69MWfmt+iMuKmPKyzCE3P1iBwlztciXw/SK/Nb38s6Iv3oiJkwJnBZBYmfGAvHA6pzcPjgThU+MkVyhwRfknBMwpKjJusFRc82TSwnxLUnIu+dhPzGTD3C6Idqbfy8xnBy3fl78FP/abLFdyQS7EEf/3IV5eEqKYCCxDRN8aE9ByLyMSdZjez3/0zTCqq5/k3p1a2iEBWaqWjMjthCSqGFlSVcgUZjbkbwrEDtMT2G6m+hyEJIpnKHWxS7XfRmGqa8wy5UNXCJ9qa7zkQs7LSozKrohEOxIaGgXToAoqFwXIKzMBsdtzNh5RP6NMa9n/dC6ROMHPs7VYstfmUa6/xmFnAKN/OIqYNN4g2UNvttaSu7TG3i6cTCCvRbxpMgwAHgBGA+h11ExglP5qPR8MEzDxpCr6LnoXQLYrmhQJ0xBdk0SFxUVrjscHqUqwbStskvJBZafS8o+dfHI08pO5yKSdSiSSgZESKqfd5+4mWo5FQr379CL0cYoLnSLgeYpNDbp4+UdptjPZPU1NBBYbpSwKQSQK1TcVEM4yO/kFqtK9vaBoQ/6rn63vbDzU49/T7+5VZ96HPXqf3cnDbKJu1DCCKgQ4CqTC/dCIO5sx3mJUG6BG3P3i1ETlkySYdZHzEtjpv8Q5q9NNiRlXNFJYrfLE71HhoM6bknQU2pYlcEf0ktViFuq/LmC3F8a9S2hBaVyumt31NEg1nUdCwR4jE6IsiAfAp9yosxlKSwoa5t7xKifm7mWZI1wdPi6t0u/Gh5f0CS0vv4q9Zscj+UATTOpG8RUN3OI8jmLQAXgACkWQAF12iXwRFWo0KKAQVmZtcpKll+hhWYwR7wAQx2SJB0K6QVZmLpHXE+hryeSOApGZNrl549FlT1bMouTlKzcnI7S1rqRqZLwZCtCs/KbEzqZy3N3tVae+FxAzp9Exs0VJ+VkzhktxJ4HpHa/wXq2q1qts4tswlD1MCKvO7/NBulXllM7n31LSCqTFbRis4hsIKm25hVk42r6R2UzILat6UUfVqqVxZDCWYvpXgA+VAHpUDwTrwXOwesOW4b7QzHtfEjAVdE7j4O1MwrSl5vtTOpuWdpRGPvjTvLjDop+KVf37tKiQkFb2REPDGTV/tYI820IOPlpaUCwJiq5IRCocC5vS4fwobWMF+J8glDZoeSEFNCXsLPe8FMIEAsyDWlRoUhAkVMPc5C6xdB5aYKrZLp6McJOqf9q49p1tG8+qB74t2hX5JUNPZLN6Q0DF6Qi1SF5kDguLuGZpA+/aBQRIKZukOiRGQIgIgdKtKKk7OUYoSBYs8glx4wa1cufFSAreqKdSuHeDmfCARHjQQJYYoqc2w0SXkkg3/DLxI7jpiIkkp0QZUe5xwhHFaoIJ/y+gvQnHb7iqsKSkovTCGeSh6OYxknU7WXu+kf+IkmjwxayMnsT/PZj0iZ4vgEhQao0klGLcTO+IppR9CH1mugyxANM8kxJMfiNvRCSK0jIILGEnSiNRJYoLY++TX3lRLtUR6IRgR/GGmFPlDeYWULYulaIeQQSKSwqios6YYkicJcSz5ckpejN0c3GfZja+fqzVGmGqQW6IumeV0Kynu5BEFSUsVaCknPdWGEaroUiBSUOSjvCPOnHLHLhHFTRPFdfNhLNJVDdNDxbFJMEgXASi0AbGIBCA6Mg9oAoTiFOQep7kBSnwI1mrWNNijrhvz20tMlAQbjksuCk0Wg4LwgWoaR/G4QkmDUvshLeJFoPniar395WkLYtleqeNWIfIgeQQtikKr1ZDkKZ0OixlkVaJ1iznnWtW5pCaYaKmIryv7p8yLmq3I9T3Ejm4R/GFma0V9FXLM0j+z1eiyEsSzGeZ6RR7suJjvw9h3zm2r6ipt2o2szENcpLERzksVKFQR7usYWctiPKmMUnnLInzVtov3JxT+r5qG8vLJMFqpapez7QWcWUNcgs4uUHiDe+VN0UHhRaxg8g3xS3E0gNHC1iBdxB5BMxuJ/oJGCer7y6n8lrFyzbYtFaQTyFswSFHn3TFTNXk6Q9VcJDh5U56vj0RuU12ziCzjcKEsQSRV1GR0+hNSjTmEerZVqNQkwkjN6+WUvRBbISpcubjm9kSikoQSKapH9qNqpR7lmRFlFnbTvKS71RZTXTKN5Zj0MEivWIX0qWUWriRR7NmetDVNRc5MMIc1Vrax29UwVEF29mK0FGHGOxZitjs7FI8916OxxB8YCgYp+pcxy+uEsXXLz840QXlXPmCxWpKXSLWYSiclJD8yjw4LKgkj6itg2P7iWXeYlTWLxxKq/UQlXHjFwj2PIlIgsiN7rRUd12QWReZVVCDxJzeKW6qpWqymZSFNMpJlwjJZpSSrlXJEbBhKOunexFoyWbjHmGtXSqLIFhBKMQ0UJFEq5JTSkqi2JcnOS4ll2qPRLSG5HlCTJJI9oo9yTQS5MoepdkFkbPejbRdVHseUaKP7E135KHnCTGqr0bEqXiHswkr/IZ431RSHGfZHIphQYHCeTS66RTfRBQYeBDwMBQMOmqSmKiKh1farc7UWhbIJFFsiOaZrQgSxH8xbtUkjVhwSdjziSkoR6DBI63nbUkHujDVKaYtyynmXphbJ856EXSr13wYacvmFkbCvRiSDSsNDAsRDTE0wsQfz2XSG8p6Km1NVjzmwr6jvhRLIa6PR/XmNOfDjxhqGFkXHkNsos+V9sXl8uK9ScIHjLNHL92+rZ6Lz8/q1jVXLHmJypqrRvIapRoQB1rv/4xQgllBIACBiq36aMW2xBEzvdWMXA4AMHPgJw7XRpc2fEu8r5J0lphhsCh7VVNmYRTWSBV8MIIuZtoJbbuJOmomyFYkYVHaXZlQiuohTZgliHEB2UjRxCktiYQSsZDCUY7ajI0Z5FsoROETjZU8373KMxN0iBE8cOEUBfniJCzkSLYvIqQe6kWzFMgWJLRqLIw8mzeP7kZp+iENiUr0kxZVi6k9VGZEmsfK/W2EwhkYv6INkhXcgQi8vmVyuVAjMI0YMnRHOLkl9XkYapH+7Rv1nkiominhiolinomnjlmmhhmghgmmhwsoySJrJA6AEg8alJGBmBWb98qiYvCkhqIX4uZXPXD79k7ASnJDS6I81P3NhPk/pMZ8nb6OLvJlUNYqWHgUil7i0keP8lMFSpLatVYxEHSC2I0sbojrOMkf2p5HORsbbanzMysTT37JEBYSJ37LIKxctXM3QVVlIJjH+rOtdbEtBKWQy/GKYnlmjbRnxUQ60KlCbCGUDRxcVNGolCYk2KjCeXDYy12JFriIK+nCELLufhCKLyyIy/emXnrU/qpSu84tjwqK8G/HWVrxbYUBOm4/SrJyTL82w9Iyef/RAxEfzowIHtiyvHJLNa5ytJxfEUWBAF1ZPGIr/P2lIgqfQuGUaS8Qk/yIUsZ5RKmPqs7TFHPPvQ8iZ6+kHTmgYGim50fn+B6VFKgwC+qTPcIhkUr9IwliBI29LVbVhFubEwxvEX4GsQmRK1hdkZjkkBpWLeGjX3PHf5wXQi96aEBiakSkxCxNBYYlt5UE0o5KXyMlLD5qrJK+80b8iFWylPungwMvjf9Zmp6ljVZQSOSdIVI1rRkUr+lUaK5I6gf0EEoCiAXzueDVMdBMXRsKZRa+CbpzS3v3GFiPBYaXK2WyniVCiM9ss4WCeRjTqHeEjivzRYuZUPQmkppUVfYJarHBMRmxRAxjSRcjPUywtAMskkxdoY5jreaK8Dh4qzlOzUwwtg6z1FgSc3XYyJ2EiSVOdLm5hgPORZCo/3CgWPWIioR+OFnDmCY+X2g8UPcdKqwSKhZaLLu+TgLCWxFlFfBhjUzZNWGiynNdMt+cWScwXOpyWaJe6bMo2ea5TZF2qWjFBSBZ78YpzoCxKOUGGNEgkmUCBVPan6zmcaWtLAwI69NfTGKMtfv9SEK4hx19oTncYbKSHK8SQIJBbvzDJfTnhCR6nLBgxc3O7G2s4vEFGIwy1AuEJNP1NvGzS2AleFoiSQUgii7MrH0oETEErcKJ0ShY8iRAmz9M2iknCG1+ECjGqFlIcUome20T48jAIlT6JceOMntzYIC5sniiHjZ2QSsn/PFEo8SnQl+a0dXTzlHknMkJeVBM2oYlFOOZLWIvenlU6TYhJiySIjUKx0GiDIhKesIiSQszIWLStUpzWCDRxVlMFXYSFU5Wmc8RbbZgRdKITQmhkytYzkWotxV0kKRiTPFVr29VSZiyYkkpllXUp3yIX96ETWwo4pcIZJn7ytyR7hciwxGyxGWvmUoTIhvWxCVGl0xERJnCCpVmpIJtPkJkyYu5PkQhKcVSIXv6SvSfC3xFzlEnRk0FLjGjSkJXZSyEk9E3pla/Wi5byUhTWHCWV7FNyGSTKZ6KJJZyjyrJ2OKRU+3xFjSGlooieMdzghYk1zCKzI+5F/yrUqwpl9SEMlyZiUWKPEc6eQnN+JERxRmUiU2iCIwvGtkJNqeQqnaFbe1EQlsxrEZbUrEmOrIJxrxEiZWGLjqJirtJPvHBxBLXK9poLD/xFxJ5r0tLliBQpk8IDAg5HKRFSo4oUY5nrWS8/7Vm1OU6/il/+WVxXOVxe3I0dhtjMMgYEEECCJE/jMzFrLzl6iqv1XiiinXoqnFfrSJWnVEIQyCGZExoRERJJfhpzaRx75xucsuDZSRbkIUl8QESJBoSAQEEJDGYmqWDG2Ps8GfkZQF55yCRLeUSJGIs0mSETXGYY7Sfd3qIiBJNvYieXCQJcliCQI0i4QWaNuFseYZaAgKqMMwii1lNEY2aoXTTppRIZsgSnYDkIpIqimQSJl4trEzRP9WRLaWyoySwqmaenWCeAzCkQcIURgIQdutilF0IswLtHGVkWG8BqIQkfhSkIcNhLZJFWMysrvbkRFXOskNoTTfxO2brBeyGImFXryGImNRB/QCLjQoKVlLWloiJIfiUU0dhBJDM25AhbeMSmpWDY5hAhShgd0ClPIuSgjvtPp7MR76WIksmqTTJGJomZfNrkavchjIRiu64gzVy8pyG+n9ilLpXSZNJ1skRpa6+MYmEmuJ7jZ/k7R3516Jqb9y8URBCE6OFRc7hAgULjzIRSjMPMgQQnqk5SJMFh5bfG3V0whN0nKVoqJy3RkxXWsQhGnBT/GEJnUdWTaPVLkMRq4s+YzQUW/5mRy0usZIuMlQjZIiEqE92zM3qlURtECixhsQiJB/EFqDftLASx6E0xEUZqFYkltGxFXr+NEmySWeEiJbz+4YMMzlFlhAhlVznxBhoU4pXu2Ji9ViVESd9EwZsm4o76kCMRzu/bUZsLbJ0YyTvYs2yKNRhrwVWeNAlYpgYgQsNp6RBBI5QYaFCKKgY0JPRFy1mGR0RlPkIl256wmaSREuqlck5m/k3TKUvxCCEdykX5Jl6u5AYJXRXRjEJ6VaRDfdfMQRl/KekQxJ3HkRNehRdnhiIqqKSQQSqpVRLmSKViJPSl8IIbRyioQQYbnCnc2IxUUesxNjqdoQGNin/mhGMvYm3P36EITDl8YRMneEIRGUql0YmRe5z0jZmwLVyMYyqVaSInXoYYaU5X5hBLX69tspzlPmGwrzWRmO6S7Woqk3TN09WyMhKv+TGRjf1i8iOVr9iZP8kXKjNMYyHLo67yF7rtqlPETJjNM2XuqogDliP/4dQgmB09IQv/9AAC1Lj7dgFIXJdJNV+Rll1viqdCKSJBULlYy9Uj6eS2fUVpIRdLCsbCRKsmI26DttbK8YVjKVFkRCzi1Pan7r4m77y82hYk26m7s/t9/ar1c576uctVZzz88ib2dbM1+7yt83u2uRXR20arCp+Q2jvUXUbnLFPBK/O5XEaLHd8mdJ32/6L8SMmFW2oaJQtrXtir1So2b86kxmiwvYjSe3Wk1+mSdm8vRN7UhnET2ki0QjIqJ0XcuIrZ1V9UiEM+mRiXN/RCS6V4RSbx/W8bW55UsqGFxoROjoU2ssz+2+JSdEdkyNBtrtYqEVkfEy4hlKTfoMRConKUi1NjWk3Ukdk3kXiRk3KpNkm8ZhFJ1maGJHfyiiGSRQvxqYy13OYgbEaKXGkMQR2MaIjPhGhKji8T0RPNkIjJu6IVg1WtKpibmToyExPCIMgSLhMwiG7xEwQEiwv4wIEQW0pAjEEpT+7EqEFCpcixo665CRqi4zVipn1Erf9imissFSERik8WbSoVERGjkPiJCNXxiM9jF5NY8x4zOvwp2qZfwqwT64vaJKrYqIRDEvXo9QEIVZznhU7gpYVcQWOFLC3WcS1ICHOijNl2LaNYNzl0IEdqdRERBEC/pkcJ6D+UYy/K/CDLNjtIhsVmZodRHuESylapBGpP7oghEdlxkba47ZCMw8WeEzHyqxFkWrtE/Tm6kIUpMVMlxFTCMfMsqGIUzlubKlOI3GbVdmNH4bun0+fzJVSiwyx57KyClRegz2ZfpkvvtZRYgpZrCuvjthzM5XuLNFXEL8au7R/BComzYXlTAhhElXuIiPngUUqUsgXmL/+zVjeGEjBtOXJkTI4sEednUQ/EVYymEqqKHVsvYNhXNcX7mS1LepgkO+r0ME+YvhMYmeRTGaxMuifFfWxND1NF6Gr0idCO6XwiSJFqzoIYc6cdhBD9zDn4M38Mg6k51GTvRXJL2UpScgiJ1swybvs4hCb2JPiMkUkKYGynIV1BDH5oVcZl/O6YlQnXQwjI1KYEpAgQVxGasYTcpMIgjo35Uy6cqxpCOLfq3Im/xojRp4xCXIu2rJywVPk0XztBCDOP+lYYjOy/IStejCZpLoZGqTKwi5foYiOoluMzNtOjdDCVSdWGkN+PuMixD2M7EV+izQ8P0Wk5eXrkTxrVJBslwphsMQTzUyIIs7STNBauzZjdY1BEyt4ZjEiNnIw1hOjKhmyLAwjZIKaQ=\" type=\"audio/flac\" />\n",
              "                    Your browser does not support the audio element.\n",
              "                </audio>\n",
              "              "
            ]
          },
          "metadata": {},
          "execution_count": 19
        }
      ],
      "metadata": {
        "id": "HI5J-2Dfm_wT",
        "outputId": "180ba108-0d12-4777-ff14-1d44c23ae4ce",
        "colab": {
          "base_uri": "https://localhost:8080/",
          "height": 130
        }
      }
    },
    {
      "cell_type": "markdown",
      "source": [
        "Now, we will combine all the speech & text samples and will define the function (in next cell) for that purpose."
      ],
      "metadata": {
        "id": "M8jJ7Ed81p_A"
      }
    },
    {
      "cell_type": "code",
      "source": [
        "all_files = os.listdir(data_dir)\n",
        "all_files[:3]"
      ],
      "metadata": {
        "id": "hWAkjPfT1nCX",
        "outputId": "b7a702ce-8cbf-486c-fc1f-71bdecf685d6",
        "colab": {
          "base_uri": "https://localhost:8080/"
        }
      },
      "execution_count": 23,
      "outputs": [
        {
          "output_type": "execute_result",
          "data": {
            "text/plain": [
              "['2428-83705-0025.flac', '2428-83705-0033.flac', '2428-83705-0028.flac']"
            ]
          },
          "metadata": {},
          "execution_count": 23
        }
      ]
    },
    {
      "cell_type": "code",
      "source": [
        "flac_files = [os.path.join(data_dir, f) for f in all_files if f.endswith(\".flac\")]\n",
        "flac_files[:3]"
      ],
      "metadata": {
        "id": "uySvJJ-3uDC4",
        "outputId": "54dcf74c-9e57-44cf-a436-8423188bfc4b",
        "colab": {
          "base_uri": "https://localhost:8080/"
        }
      },
      "execution_count": 24,
      "outputs": [
        {
          "output_type": "execute_result",
          "data": {
            "text/plain": [
              "['./data/train/LibriSpeech/dev-clean/2428/83705/2428-83705-0025.flac',\n",
              " './data/train/LibriSpeech/dev-clean/2428/83705/2428-83705-0033.flac',\n",
              " './data/train/LibriSpeech/dev-clean/2428/83705/2428-83705-0028.flac']"
            ]
          },
          "metadata": {},
          "execution_count": 24
        }
      ]
    },
    {
      "cell_type": "code",
      "source": [
        "speech_samples= {}\n",
        "for f in flac_files:\n",
        "    speech_samples.update(read_flac_file(f))"
      ],
      "metadata": {
        "id": "0yFSW0eO2B9H"
      },
      "execution_count": 32,
      "outputs": []
    },
    {
      "cell_type": "code",
      "source": [
        "  speech_samples "
      ],
      "metadata": {
        "id": "VbvoGqJh2WXq",
        "outputId": "17e0283c-579c-4538-df20-33536cf8b6f4",
        "colab": {
          "base_uri": "https://localhost:8080/"
        }
      },
      "execution_count": 37,
      "outputs": [
        {
          "output_type": "execute_result",
          "data": {
            "text/plain": [
              "{'2428-83705-0000': array([ 2.74658203e-04,  2.44140625e-04, -9.15527344e-05, ...,\n",
              "         1.22070312e-04,  3.35693359e-04,  4.27246094e-04]),\n",
              " '2428-83705-0001': array([0.00054932, 0.00033569, 0.00021362, ..., 0.00061035, 0.00054932,\n",
              "        0.00048828]),\n",
              " '2428-83705-0002': array([-9.15527344e-05,  0.00000000e+00,  0.00000000e+00, ...,\n",
              "         1.83105469e-04,  3.05175781e-04,  3.35693359e-04]),\n",
              " '2428-83705-0003': array([-1.22070312e-04,  3.05175781e-05,  6.10351562e-05, ...,\n",
              "        -4.27246094e-04, -6.10351562e-04, -9.15527344e-04]),\n",
              " '2428-83705-0004': array([-0.00112915, -0.00131226, -0.00158691, ...,  0.00067139,\n",
              "         0.00091553,  0.00100708]),\n",
              " '2428-83705-0005': array([-0.00201416, -0.0022583 , -0.00234985, ...,  0.00137329,\n",
              "         0.0012207 ,  0.00109863]),\n",
              " '2428-83705-0006': array([ 3.05175781e-05, -6.10351562e-05,  2.13623047e-04, ...,\n",
              "        -5.18798828e-04, -2.13623047e-04, -2.74658203e-04]),\n",
              " '2428-83705-0007': array([6.71386719e-04, 6.71386719e-04, 5.49316406e-04, ...,\n",
              "        2.44140625e-04, 2.44140625e-04, 3.05175781e-05]),\n",
              " '2428-83705-0008': array([ 0.00042725,  0.00061035,  0.00076294, ..., -0.00094604,\n",
              "        -0.00082397, -0.00088501]),\n",
              " '2428-83705-0009': array([-0.0005188 , -0.00057983, -0.00057983, ...,  0.00030518,\n",
              "         0.00015259,  0.00012207]),\n",
              " '2428-83705-0010': array([ 0.        , -0.00030518, -0.00061035, ...,  0.00097656,\n",
              "         0.00076294,  0.0005188 ]),\n",
              " '2428-83705-0011': array([-3.66210938e-04, -2.44140625e-04, -6.10351562e-05, ...,\n",
              "        -1.37329102e-03, -1.40380859e-03, -1.46484375e-03]),\n",
              " '2428-83705-0012': array([-0.00073242, -0.00054932, -0.00045776, ...,  0.        ,\n",
              "         0.00024414,  0.00042725]),\n",
              " '2428-83705-0013': array([-0.0007019 , -0.00057983, -0.00033569, ..., -0.00021362,\n",
              "        -0.00015259, -0.00012207]),\n",
              " '2428-83705-0014': array([-0.00027466, -0.00033569, -0.00036621, ...,  0.00021362,\n",
              "         0.        ,  0.        ]),\n",
              " '2428-83705-0015': array([ 6.10351562e-05,  9.15527344e-05,  9.15527344e-05, ...,\n",
              "        -3.05175781e-04, -5.79833984e-04, -8.23974609e-04]),\n",
              " '2428-83705-0016': array([-0.00036621, -0.00015259, -0.00012207, ..., -0.0005188 ,\n",
              "        -0.00048828, -0.00048828]),\n",
              " '2428-83705-0017': array([-2.74658203e-04, -6.10351562e-04, -4.57763672e-04, ...,\n",
              "         0.00000000e+00, -3.05175781e-05,  0.00000000e+00]),\n",
              " '2428-83705-0018': array([ 2.44140625e-04,  2.44140625e-04,  2.74658203e-04, ...,\n",
              "         6.10351562e-05, -9.15527344e-05, -1.52587891e-04]),\n",
              " '2428-83705-0019': array([ 9.15527344e-05,  1.52587891e-04,  3.05175781e-04, ...,\n",
              "        -5.79833984e-04, -6.40869141e-04, -5.18798828e-04]),\n",
              " '2428-83705-0020': array([-9.15527344e-05,  9.15527344e-05, -1.83105469e-04, ...,\n",
              "        -5.79833984e-04, -4.88281250e-04, -3.96728516e-04]),\n",
              " '2428-83705-0021': array([0.00036621, 0.00027466, 0.00015259, ..., 0.00039673, 0.00048828,\n",
              "        0.00079346]),\n",
              " '2428-83705-0022': array([0.00085449, 0.00073242, 0.0005188 , ..., 0.00048828, 0.00054932,\n",
              "        0.0005188 ]),\n",
              " '2428-83705-0023': array([ 6.10351562e-05, -3.05175781e-05,  0.00000000e+00, ...,\n",
              "        -3.66210938e-04, -7.93457031e-04, -1.19018555e-03]),\n",
              " '2428-83705-0024': array([-1.49536133e-03, -9.76562500e-04, -3.05175781e-05, ...,\n",
              "        -2.13623047e-04, -2.74658203e-04, -1.83105469e-04]),\n",
              " '2428-83705-0025': array([-0.00018311, -0.00021362, -0.00021362, ...,  0.00073242,\n",
              "         0.0007019 ,  0.00057983]),\n",
              " '2428-83705-0026': array([ 3.05175781e-04,  3.05175781e-05, -1.83105469e-04, ...,\n",
              "         7.62939453e-04,  6.10351562e-04,  5.79833984e-04]),\n",
              " '2428-83705-0027': array([ 0.00018311,  0.00067139, -0.00033569, ..., -0.00033569,\n",
              "        -0.00027466, -0.00027466]),\n",
              " '2428-83705-0028': array([ 3.05175781e-05,  0.00000000e+00, -1.22070312e-04, ...,\n",
              "        -1.22070312e-04, -3.05175781e-05,  0.00000000e+00]),\n",
              " '2428-83705-0029': array([-3.96728516e-04, -3.35693359e-04, -4.27246094e-04, ...,\n",
              "         6.10351562e-05,  3.35693359e-04,  4.88281250e-04]),\n",
              " '2428-83705-0030': array([ 3.66210938e-04,  1.52587891e-04,  4.27246094e-04, ...,\n",
              "        -3.05175781e-05,  3.05175781e-05,  9.15527344e-05]),\n",
              " '2428-83705-0031': array([ 0.00018311,  0.00021362,  0.00021362, ..., -0.00036621,\n",
              "        -0.00036621, -0.00036621]),\n",
              " '2428-83705-0032': array([-0.00048828, -0.00042725, -0.00033569, ...,  0.00030518,\n",
              "         0.00024414,  0.00018311]),\n",
              " '2428-83705-0033': array([ 2.74658203e-04,  2.74658203e-04,  1.22070312e-04, ...,\n",
              "        -1.83105469e-04, -1.22070312e-04, -9.15527344e-05]),\n",
              " '2428-83705-0034': array([-1.83105469e-04, -2.13623047e-04, -1.83105469e-04, ...,\n",
              "        -3.05175781e-05, -1.52587891e-04, -1.22070312e-04]),\n",
              " '2428-83705-0035': array([-6.10351562e-05,  0.00000000e+00,  0.00000000e+00, ...,\n",
              "        -3.96728516e-04, -5.18798828e-04, -3.35693359e-04]),\n",
              " '2428-83705-0036': array([-2.44140625e-04, -1.83105469e-04, -9.15527344e-05, ...,\n",
              "        -1.22070312e-04, -1.83105469e-04, -1.52587891e-04]),\n",
              " '2428-83705-0037': array([-6.10351562e-05, -6.10351562e-05, -3.05175781e-05, ...,\n",
              "        -2.13623047e-04, -9.15527344e-05, -3.05175781e-05]),\n",
              " '2428-83705-0038': array([-9.15527344e-05, -9.15527344e-05, -2.74658203e-04, ...,\n",
              "         3.05175781e-05,  1.22070312e-04,  1.52587891e-04]),\n",
              " '2428-83705-0039': array([1.22070312e-04, 1.22070312e-04, 9.15527344e-05, ...,\n",
              "        2.44140625e-04, 2.44140625e-04, 1.83105469e-04]),\n",
              " '2428-83705-0040': array([-0.00015259,  0.00021362,  0.00042725, ..., -0.00048828,\n",
              "        -0.00094604, -0.00115967]),\n",
              " '2428-83705-0041': array([-0.00119019, -0.00094604, -0.00030518, ..., -0.00119019,\n",
              "        -0.00076294, -0.0017395 ]),\n",
              " '2428-83705-0042': array([-2.68554688e-03, -2.16674805e-03, -9.15527344e-04, ...,\n",
              "         3.05175781e-05,  0.00000000e+00,  3.05175781e-05]),\n",
              " '2428-83705-0043': array([-0.00015259, -0.00012207, -0.00021362, ..., -0.00048828,\n",
              "        -0.00048828, -0.00045776])}"
            ]
          },
          "metadata": {},
          "execution_count": 37
        }
      ]
    },
    {
      "cell_type": "code",
      "source": [
        "read_flac_file('./data/train/LibriSpeech/dev-clean/2428/83705/2428-83705-0025.flac')"
      ],
      "metadata": {
        "id": "7mKOEyp-3gbr",
        "outputId": "cad07101-af71-4964-88c3-c954bc8fed42",
        "colab": {
          "base_uri": "https://localhost:8080/"
        }
      },
      "execution_count": 36,
      "outputs": [
        {
          "output_type": "execute_result",
          "data": {
            "text/plain": [
              "{'2428-83705-0025': array([-0.00018311, -0.00021362, -0.00021362, ...,  0.00073242,\n",
              "         0.0007019 ,  0.00057983])}"
            ]
          },
          "metadata": {},
          "execution_count": 36
        }
      ]
    },
    {
      "cell_type": "code",
      "source": [
        "audio, sample_rate = sf.read('./data/train/LibriSpeech/dev-clean/2428/83705/2428-83705-0025.flac')\n",
        "print(audio, sample_rate)"
      ],
      "metadata": {
        "id": "o1wJvRjv2lei",
        "outputId": "8083d548-8029-440b-afd1-b1d53a7a1e7b",
        "colab": {
          "base_uri": "https://localhost:8080/"
        }
      },
      "execution_count": 26,
      "outputs": [
        {
          "output_type": "stream",
          "name": "stdout",
          "text": [
            "[-0.00018311 -0.00021362 -0.00021362 ...  0.00073242  0.0007019\n",
            "  0.00057983] 16000\n"
          ]
        }
      ]
    },
    {
      "cell_type": "code",
      "source": [
        "os.path.split('./data/train/LibriSpeech/dev-clean/2428/83705/2428-83705-0025.flac')[-1][:-len(\".flac\")]"
      ],
      "metadata": {
        "id": "bAjkV6Cg2zhR",
        "outputId": "90da6465-f882-4fba-f260-9a7dab7054a2",
        "colab": {
          "base_uri": "https://localhost:8080/",
          "height": 35
        }
      },
      "execution_count": 29,
      "outputs": [
        {
          "output_type": "execute_result",
          "data": {
            "text/plain": [
              "'2428-83705-0025'"
            ],
            "application/vnd.google.colaboratory.intrinsic+json": {
              "type": "string"
            }
          },
          "metadata": {},
          "execution_count": 29
        }
      ]
    },
    {
      "cell_type": "code",
      "source": [
        "speech_samples.keys() "
      ],
      "metadata": {
        "id": "ntCobj0C4HIC",
        "outputId": "59c7aece-75a2-427f-f4d0-39222611e53e",
        "colab": {
          "base_uri": "https://localhost:8080/"
        }
      },
      "execution_count": 38,
      "outputs": [
        {
          "output_type": "execute_result",
          "data": {
            "text/plain": [
              "dict_keys(['2428-83705-0025', '2428-83705-0033', '2428-83705-0028', '2428-83705-0010', '2428-83705-0036', '2428-83705-0034', '2428-83705-0027', '2428-83705-0002', '2428-83705-0007', '2428-83705-0041', '2428-83705-0037', '2428-83705-0022', '2428-83705-0005', '2428-83705-0009', '2428-83705-0039', '2428-83705-0021', '2428-83705-0003', '2428-83705-0038', '2428-83705-0023', '2428-83705-0024', '2428-83705-0001', '2428-83705-0018', '2428-83705-0043', '2428-83705-0004', '2428-83705-0032', '2428-83705-0013', '2428-83705-0035', '2428-83705-0000', '2428-83705-0014', '2428-83705-0017', '2428-83705-0030', '2428-83705-0015', '2428-83705-0026', '2428-83705-0031', '2428-83705-0019', '2428-83705-0008', '2428-83705-0042', '2428-83705-0016', '2428-83705-0011', '2428-83705-0006', '2428-83705-0012', '2428-83705-0029', '2428-83705-0020', '2428-83705-0040'])"
            ]
          },
          "metadata": {},
          "execution_count": 38
        }
      ]
    },
    {
      "cell_type": "code",
      "execution_count": 20,
      "source": [
        "def fetch_sound_text_mapping(data_dir):\n",
        "  all_files = os.listdir(data_dir)\n",
        "\n",
        "  flac_files = [os.path.join(data_dir, f) for f in all_files if f.endswith(\".flac\")]\n",
        "  txt_files = [os.path.join(data_dir, f) for f in all_files if f.endswith(\".txt\")]\n",
        "\n",
        "  txt_samples = {}\n",
        "  for f in txt_files:\n",
        "    txt_samples.update(read_txt_file(f))\n",
        "\n",
        "  speech_samples = {}\n",
        "  for f in flac_files:\n",
        "    speech_samples.update(read_flac_file(f))\n",
        "\n",
        "  assert len(txt_samples) == len(speech_samples)\n",
        "\n",
        "  samples = [(speech_samples[file_id], txt_samples[file_id]) for file_id in speech_samples.keys() if len(speech_samples[file_id]) < AUDIO_MAXLEN]\n",
        "  return samples"
      ],
      "outputs": [],
      "metadata": {
        "id": "MI-5YCzaTsei"
      }
    },
    {
      "cell_type": "markdown",
      "source": [
        "It's time to have a look at a few samples ..."
      ],
      "metadata": {
        "id": "mx95Lxvu0nT4"
      }
    },
    {
      "cell_type": "code",
      "execution_count": 21,
      "source": [
        "samples = fetch_sound_text_mapping(data_dir)\n",
        "samples[:5]"
      ],
      "outputs": [
        {
          "output_type": "execute_result",
          "data": {
            "text/plain": [
              "[(array([-0.00018311, -0.00021362, -0.00021362, ...,  0.00073242,\n",
              "          0.0007019 ,  0.00057983]),\n",
              "  \"I HAVE DRAWN UP A LIST OF ALL THE PEOPLE WHO OUGHT TO GIVE US A PRESENT AND I SHALL TELL THEM WHAT THEY OUGHT TO GIVE IT WON'T BE MY FAULT IF I DON'T GET IT\"),\n",
              " (array([ 2.74658203e-04,  2.74658203e-04,  1.22070312e-04, ...,\n",
              "         -1.83105469e-04, -1.22070312e-04, -9.15527344e-05]),\n",
              "  'WE HAVE ALL BEEN GIVING MARY ANN PRESENTS AND I SUPPOSE YOU MISTER WHITING HAVE BEEN GIVING HER SOMETHING TOO'),\n",
              " (array([ 3.05175781e-05,  0.00000000e+00, -1.22070312e-04, ...,\n",
              "         -1.22070312e-04, -3.05175781e-05,  0.00000000e+00]),\n",
              "  'SHE HAS A KNACK OF GETTING PEOPLE TO DO WHAT SHE WISHES AND TO GIVE HER WHAT SHE WANTS WHICH IS A LITTLE SHORT OF MIRACULOUS'),\n",
              " (array([ 0.        , -0.00030518, -0.00061035, ...,  0.00097656,\n",
              "          0.00076294,  0.0005188 ]),\n",
              "  \"FROM A COUSIN OF OURS WHO'S IN THAT LINE\"),\n",
              " (array([-2.44140625e-04, -1.83105469e-04, -9.15527344e-05, ...,\n",
              "         -1.22070312e-04, -1.83105469e-04, -1.52587891e-04]),\n",
              "  'SOMEONE SNIGGERED')]"
            ]
          },
          "metadata": {},
          "execution_count": 21
        }
      ],
      "metadata": {
        "id": "_Ls7X_jqIz4R",
        "outputId": "46506216-00b9-4fd5-8cb8-a375d75d9674",
        "colab": {
          "base_uri": "https://localhost:8080/"
        }
      }
    },
    {
      "cell_type": "code",
      "source": [
        ""
      ],
      "metadata": {
        "id": "c-nF1Fgo1mRr"
      },
      "execution_count": null,
      "outputs": []
    },
    {
      "cell_type": "markdown",
      "source": [
        "Note: We are loading this data into memory as we working with a small amount of dataset in this notebook. But for training on the complete dataset (~300 GBs), you will have to load data lazily. You can refer to [this script](https://github.com/vasudevgupta7/gsoc-wav2vec2/blob/main/src/data_utils.py) to know more on that."
      ],
      "metadata": {
        "id": "TUjhSWfsnlCL"
      }
    },
    {
      "cell_type": "markdown",
      "source": [
        "Let's pre-process the data now !!!\n",
        "\n",
        "We will first define the tokenizer & processor using `gsoc-wav2vec2` package. Then, we will do very simple pre-processing. `processor` will normalize raw speech w.r.to frames axis and `tokenizer` will convert our model outputs into the string (using the defined vocabulary) & will take care of the removal of special tokens (depending on your tokenizer configuration)."
      ],
      "metadata": {
        "id": "xg8Zia1kzw0J"
      }
    },
    {
      "cell_type": "code",
      "execution_count": 41,
      "source": [
        "from wav2vec2 import Wav2Vec2Processor\n",
        "tokenizer = Wav2Vec2Processor(is_tokenizer=True)\n",
        "processor = Wav2Vec2Processor(is_tokenizer=False)\n",
        "\n",
        "def preprocess_text(text):\n",
        "  label = tokenizer(text)\n",
        "  return tf.constant(label, dtype=tf.int32)\n",
        "\n",
        "def preprocess_speech(audio):\n",
        "  audio = tf.constant(audio, dtype=tf.float32)\n",
        "  return processor(tf.transpose(audio))"
      ],
      "outputs": [
        {
          "output_type": "stream",
          "name": "stdout",
          "text": [
            "Downloading `vocab.json` from https://github.com/vasudevgupta7/gsoc-wav2vec2/raw/main/data/vocab.json ... DONE\n"
          ]
        }
      ],
      "metadata": {
        "id": "gaat_hMLNVHF",
        "outputId": "d0c59f92-1433-43a2-a9aa-27ffbdbc89b0",
        "colab": {
          "base_uri": "https://localhost:8080/"
        }
      }
    },
    {
      "cell_type": "markdown",
      "source": [
        "Now, we will define the python generator to call the preprocessing functions we defined in above cells."
      ],
      "metadata": {
        "id": "GyKl8QP-zRFC"
      }
    },
    {
      "cell_type": "code",
      "execution_count": 42,
      "source": [
        "def inputs_generator():\n",
        "  for speech, text in samples:\n",
        "    yield preprocess_speech(speech), preprocess_text(text)"
      ],
      "outputs": [],
      "metadata": {
        "id": "PoQrRalwMpQ6"
      }
    },
    {
      "cell_type": "markdown",
      "source": [
        "## Setting up `tf.data.Dataset`\n",
        "\n",
        "Following cell will setup `tf.data.Dataset` object using its `.from_generator(...)` method. We will be using the `generator` object, we defined in the above cell.\n",
        "\n",
        "**Note:** For distributed training (especially on TPUs), `.from_generator(...)` doesn't work currently and it is recommended to train on data stored in `.tfrecord` format (Note: The TFRecords should ideally be stored inside a GCS Bucket in order for the TPUs to work to the fullest extent).\n",
        "\n",
        "You can refer to [this script](https://github.com/vasudevgupta7/gsoc-wav2vec2/blob/main/src/make_tfrecords.py) for more details on how to convert LibriSpeech data into tfrecords."
      ],
      "metadata": {
        "id": "7Vlm3ySFULsG"
      }
    },
    {
      "cell_type": "code",
      "execution_count": 55,
      "source": [
        "output_signature = (\n",
        "    tf.TensorSpec(shape=(None),  dtype=tf.float32),\n",
        "    tf.TensorSpec(shape=(None), dtype=tf.int32),\n",
        ")\n",
        "\n",
        "dataset = tf.data.Dataset.from_generator(inputs_generator, output_signature=output_signature)"
      ],
      "outputs": [],
      "metadata": {
        "id": "LbQ_dMwGO62h"
      }
    },
    {
      "cell_type": "code",
      "source": [
        "dataset"
      ],
      "metadata": {
        "id": "2QE094rq6bh7",
        "outputId": "00b1783f-5cb2-4908-da65-fb50e5d50772",
        "colab": {
          "base_uri": "https://localhost:8080/"
        }
      },
      "execution_count": 56,
      "outputs": [
        {
          "output_type": "execute_result",
          "data": {
            "text/plain": [
              "<FlatMapDataset element_spec=(TensorSpec(shape=<unknown>, dtype=tf.float32, name=None), TensorSpec(shape=<unknown>, dtype=tf.int32, name=None))>"
            ]
          },
          "metadata": {},
          "execution_count": 56
        }
      ]
    },
    {
      "cell_type": "code",
      "source": [
        "len(flac_files)"
      ],
      "metadata": {
        "id": "QxBzz2Fw6hV7",
        "outputId": "5ee0a8ae-e64c-40a6-d973-bbba23af7b47",
        "colab": {
          "base_uri": "https://localhost:8080/"
        }
      },
      "execution_count": 57,
      "outputs": [
        {
          "output_type": "execute_result",
          "data": {
            "text/plain": [
              "44"
            ]
          },
          "metadata": {},
          "execution_count": 57
        }
      ]
    },
    {
      "cell_type": "code",
      "execution_count": 58,
      "source": [
        "BUFFER_SIZE = len(flac_files)\n",
        "SEED = 42\n",
        "\n",
        "dataset = dataset.shuffle(BUFFER_SIZE, seed=SEED)"
      ],
      "outputs": [],
      "metadata": {
        "id": "HXBbNsRyPyw3"
      }
    },
    {
      "cell_type": "markdown",
      "source": [
        "We will pass the dataset into multiple batches, so let's prepare batches in the following cell. Now, all the sequences in a batch should be padded to a constant length. We will use the`.padded_batch(...)` method for that purpose."
      ],
      "metadata": {
        "id": "9DAUmns3pXfr"
      }
    },
    {
      "cell_type": "code",
      "execution_count": 59,
      "source": [
        "dataset = dataset.padded_batch(BATCH_SIZE, padded_shapes=(AUDIO_MAXLEN, LABEL_MAXLEN), padding_values=(0.0, 0))"
      ],
      "outputs": [],
      "metadata": {
        "id": "Okhko1IWRida"
      }
    },
    {
      "cell_type": "code",
      "source": [
        "dataset"
      ],
      "metadata": {
        "id": "XfNEE2Xw7wcO",
        "outputId": "875222a0-1bb0-4ea8-bc23-696dee6d42fa",
        "colab": {
          "base_uri": "https://localhost:8080/"
        }
      },
      "execution_count": 60,
      "outputs": [
        {
          "output_type": "execute_result",
          "data": {
            "text/plain": [
              "<PaddedBatchDataset element_spec=(TensorSpec(shape=(None, 246000), dtype=tf.float32, name=None), TensorSpec(shape=(None, 256), dtype=tf.int32, name=None))>"
            ]
          },
          "metadata": {},
          "execution_count": 60
        }
      ]
    },
    {
      "cell_type": "markdown",
      "source": [
        "Accelerators (like GPUs/TPUs) are very fast and often data-loading (& pre-processing) becomes the bottleneck during training as the data-loading part happens on CPUs. This can increase the training time significantly especially when there is a lot of online pre-processing involved or data is streamed online from GCS buckets. To handle those issues, `tf.data.Dataset` offers the `.prefetch(...)` method. This method helps in preparing the next few batches in parallel (on CPUs) while the model is making predictions (on GPUs/TPUs) on the current batch."
      ],
      "metadata": {
        "id": "A45CjQG5qSbV"
      }
    },
    {
      "cell_type": "code",
      "execution_count": 61,
      "source": [
        "dataset = dataset.prefetch(tf.data.AUTOTUNE)"
      ],
      "outputs": [],
      "metadata": {
        "id": "f-bKu2YjRior"
      }
    },
    {
      "cell_type": "markdown",
      "source": [
        "Since this notebook is made for demonstration purposes, we will be taking first `num_train_batches` and will perform training over only that. You are encouraged to train on the whole dataset though. Similarly, we will evaluate only `num_val_batches`."
      ],
      "metadata": {
        "id": "Lqk2cs6LxVIh"
      }
    },
    {
      "cell_type": "code",
      "execution_count": 62,
      "source": [
        "# 이 노트북은 데모용으로 만들어졌기 때문에 첫 번째 num_train_batch를 가져와서 그것에 대해서만 교육을 수행합니다. \n",
        "# 하지만 전체 데이터 세트에 대해 학습하는 것이 좋습니다. 마찬가지로 num_val_batches만 평가합니다.\n",
        "num_train_batches = 10\n",
        "num_val_batches = 4\n",
        "\n",
        "train_dataset = dataset.take(num_train_batches)\n",
        "val_dataset = dataset.skip(num_train_batches).take(num_val_batches)"
      ],
      "outputs": [],
      "metadata": {
        "id": "z6GO5oYUxXtz"
      }
    },
    {
      "cell_type": "markdown",
      "source": [
        "## Model training\n",
        "\n",
        "For training our model, we will be directly calling `.fit(...)` method after compiling our model with `.compile(...)`."
      ],
      "metadata": {
        "id": "CzAOI78tky08"
      }
    },
    {
      "cell_type": "code",
      "execution_count": 63,
      "source": [
        "model.compile(optimizer, loss=loss_fn)"
      ],
      "outputs": [],
      "metadata": {
        "id": "vuBY2sZElgwg"
      }
    },
    {
      "cell_type": "markdown",
      "source": [
        "The above cell will set up our training state. Now we can initiate training with the `.fit(...)` method."
      ],
      "metadata": {
        "id": "qswxafSl0HjO"
      }
    },
    {
      "cell_type": "code",
      "execution_count": 64,
      "source": [
        "history = model.fit(train_dataset, validation_data=val_dataset, epochs=3)\n",
        "history.history"
      ],
      "outputs": [
        {
          "output_type": "stream",
          "name": "stdout",
          "text": [
            "Epoch 1/3\n",
            "WARNING:tensorflow:From /usr/local/lib/python3.7/dist-packages/tensorflow/python/ops/ctc_ops.py:1443: alias_inplace_add (from tensorflow.python.ops.inplace_ops) is deprecated and will be removed in a future version.\n",
            "Instructions for updating:\n",
            "Prefer tf.tensor_scatter_nd_add, which offers the same functionality with well-defined read-write semantics.\n"
          ]
        },
        {
          "output_type": "stream",
          "name": "stderr",
          "text": [
            "WARNING:tensorflow:From /usr/local/lib/python3.7/dist-packages/tensorflow/python/ops/ctc_ops.py:1443: alias_inplace_add (from tensorflow.python.ops.inplace_ops) is deprecated and will be removed in a future version.\n",
            "Instructions for updating:\n",
            "Prefer tf.tensor_scatter_nd_add, which offers the same functionality with well-defined read-write semantics.\n"
          ]
        },
        {
          "output_type": "stream",
          "name": "stdout",
          "text": [
            "WARNING:tensorflow:From /usr/local/lib/python3.7/dist-packages/tensorflow/python/ops/ctc_ops.py:1426: alias_inplace_update (from tensorflow.python.ops.inplace_ops) is deprecated and will be removed in a future version.\n",
            "Instructions for updating:\n",
            "Prefer tf.tensor_scatter_nd_update, which offers the same functionality with well-defined read-write semantics.\n"
          ]
        },
        {
          "output_type": "stream",
          "name": "stderr",
          "text": [
            "WARNING:tensorflow:From /usr/local/lib/python3.7/dist-packages/tensorflow/python/ops/ctc_ops.py:1426: alias_inplace_update (from tensorflow.python.ops.inplace_ops) is deprecated and will be removed in a future version.\n",
            "Instructions for updating:\n",
            "Prefer tf.tensor_scatter_nd_update, which offers the same functionality with well-defined read-write semantics.\n"
          ]
        },
        {
          "output_type": "stream",
          "name": "stdout",
          "text": [
            "WARNING:tensorflow:Gradients do not exist for variables ['wav2vec2/masked_spec_embed:0'] when minimizing the loss. If you're using `model.compile()`, did you forget to provide a `loss`argument?\n"
          ]
        },
        {
          "output_type": "stream",
          "name": "stderr",
          "text": [
            "WARNING:tensorflow:Gradients do not exist for variables ['wav2vec2/masked_spec_embed:0'] when minimizing the loss. If you're using `model.compile()`, did you forget to provide a `loss`argument?\n"
          ]
        },
        {
          "output_type": "stream",
          "name": "stdout",
          "text": [
            "WARNING:tensorflow:Gradients do not exist for variables ['wav2vec2/masked_spec_embed:0'] when minimizing the loss. If you're using `model.compile()`, did you forget to provide a `loss`argument?\n"
          ]
        },
        {
          "output_type": "stream",
          "name": "stderr",
          "text": [
            "WARNING:tensorflow:Gradients do not exist for variables ['wav2vec2/masked_spec_embed:0'] when minimizing the loss. If you're using `model.compile()`, did you forget to provide a `loss`argument?\n"
          ]
        },
        {
          "output_type": "stream",
          "name": "stdout",
          "text": [
            "10/10 [==============================] - 36s 2s/step - loss: 759.6326 - val_loss: 435.8271\n",
            "Epoch 2/3\n",
            "10/10 [==============================] - 19s 2s/step - loss: 433.8626 - val_loss: 531.2194\n",
            "Epoch 3/3\n",
            "10/10 [==============================] - 19s 2s/step - loss: 394.0890 - val_loss: 460.4789\n"
          ]
        },
        {
          "output_type": "execute_result",
          "data": {
            "text/plain": [
              "{'loss': [759.6326293945312, 433.86260986328125, 394.0889587402344],\n",
              " 'val_loss': [435.8271179199219, 531.2193603515625, 460.4788818359375]}"
            ]
          },
          "metadata": {},
          "execution_count": 64
        }
      ],
      "metadata": {
        "id": "vtuSfnj1l-I_",
        "outputId": "7d0cf20d-3034-481e-b587-7ade707ec8fb",
        "colab": {
          "base_uri": "https://localhost:8080/"
        }
      }
    },
    {
      "cell_type": "markdown",
      "source": [
        "Let's save our model with `.save(...)` method to be able to perform inference later. You can also export this SavedModel to TFHub by following [TFHub documentation](https://www.tensorflow.org/hub/publish)."
      ],
      "metadata": {
        "id": "ySvp8r2E1q_V"
      }
    },
    {
      "cell_type": "code",
      "execution_count": 65,
      "source": [
        "save_dir = \"finetuned-wav2vec2\"\n",
        "model.save(save_dir, include_optimizer=False) # include_optimizer=False 전체 모델 공유"
      ],
      "outputs": [
        {
          "output_type": "stream",
          "name": "stderr",
          "text": [
            "WARNING:absl:Found untraced functions such as restored_function_body, restored_function_body, restored_function_body, restored_function_body, restored_function_body while saving (showing 5 of 342). These functions will not be directly callable after loading.\n"
          ]
        },
        {
          "output_type": "stream",
          "name": "stdout",
          "text": [
            "INFO:tensorflow:Assets written to: finetuned-wav2vec2/assets\n"
          ]
        },
        {
          "output_type": "stream",
          "name": "stderr",
          "text": [
            "INFO:tensorflow:Assets written to: finetuned-wav2vec2/assets\n"
          ]
        }
      ],
      "metadata": {
        "id": "C0KEYcwydwjF",
        "outputId": "30b90f92-96f0-481f-81ca-c373bdd7bfee",
        "colab": {
          "base_uri": "https://localhost:8080/"
        }
      }
    },
    {
      "cell_type": "markdown",
      "source": [
        "Note: We are setting `include_optimizer=False` as we want to use this model for inference only."
      ],
      "metadata": {
        "id": "MkOpp9rZ211t"
      }
    },
    {
      "cell_type": "markdown",
      "source": [
        "## Evaluation\n",
        "\n",
        "Now we will be computing Word Error Rate over the validation dataset\n",
        "\n",
        "**Word error rate** (WER) is a common metric for measuring the performance of an automatic speech recognition system. The WER is derived from the Levenshtein distance, working at the word level. Word error rate can then be computed as: WER = (S + D + I) / N = (S + D + I) / (S + D + C) where S is the number of substitutions, D is the number of deletions, I is the number of insertions, C is the number of correct words, N is the number of words in the reference (N=S+D+C). This value indicates the percentage of words that were incorrectly predicted. \n",
        "\n",
        "You can refer to [this paper](https://www.isca-speech.org/archive_v0/interspeech_2004/i04_2765.html) to learn more about WER."
      ],
      "metadata": {
        "id": "SJfPlTgezD0i"
      }
    },
    {
      "cell_type": "markdown",
      "source": [
        "We will use `load_metric(...)` function from [HuggingFace datasets](https://huggingface.co/docs/datasets/) library. Let's first install the `datasets` library using `pip` and then define the `metric` object."
      ],
      "metadata": {
        "id": "Io_91Y7-r3xu"
      }
    },
    {
      "cell_type": "code",
      "execution_count": 66,
      "source": [
        "!pip3 install -q datasets\n",
        "\n",
        "from datasets import load_metric\n",
        "metric = load_metric(\"wer\")"
      ],
      "outputs": [
        {
          "output_type": "stream",
          "name": "stdout",
          "text": [
            "\u001b[K     |████████████████████████████████| 346 kB 9.8 MB/s \n",
            "\u001b[K     |████████████████████████████████| 1.1 MB 62.5 MB/s \n",
            "\u001b[K     |████████████████████████████████| 86 kB 6.8 MB/s \n",
            "\u001b[K     |████████████████████████████████| 212 kB 79.9 MB/s \n",
            "\u001b[K     |████████████████████████████████| 140 kB 79.2 MB/s \n",
            "\u001b[K     |████████████████████████████████| 127 kB 77.7 MB/s \n",
            "\u001b[K     |████████████████████████████████| 271 kB 76.2 MB/s \n",
            "\u001b[K     |████████████████████████████████| 94 kB 3.7 MB/s \n",
            "\u001b[K     |████████████████████████████████| 144 kB 75.5 MB/s \n",
            "\u001b[K     |████████████████████████████████| 112 kB 80.6 MB/s \n",
            "\u001b[31mERROR: pip's dependency resolver does not currently take into account all the packages that are installed. This behaviour is the source of the following dependency conflicts.\n",
            "datascience 0.10.6 requires folium==0.2.1, but you have folium 0.8.3 which is incompatible.\u001b[0m\n",
            "\u001b[?25h"
          ]
        },
        {
          "output_type": "display_data",
          "data": {
            "text/plain": [
              "Downloading builder script:   0%|          | 0.00/1.90k [00:00<?, ?B/s]"
            ],
            "application/vnd.jupyter.widget-view+json": {
              "version_major": 2,
              "version_minor": 0,
              "model_id": "ad984e2b07264e6aab7e3efce2218334"
            }
          },
          "metadata": {}
        }
      ],
      "metadata": {
        "id": "GW9F_oVDU1TZ",
        "outputId": "321f78ee-999d-437a-f8f6-e7e4217f59a0",
        "colab": {
          "base_uri": "https://localhost:8080/",
          "height": 287,
          "referenced_widgets": [
            "ad984e2b07264e6aab7e3efce2218334",
            "d3f6fc33f058406e88f250257d2c9fb3",
            "d54dd2b41d24475b9c77115aab59c1e5",
            "caf086cebb53432fb7d5f735f9e594bf",
            "95b3d57d6f694e44905ffe301f01a66f",
            "1698a06716954083aea7b8956de18fb9",
            "cd170f35fcb14a98994893ad1886959e",
            "300324ff9aff4532826502a765f4b850",
            "c4d42783511b48ee846769b0b52d5660",
            "863d0018aa3f4f9b92fad1800ea7d8b8",
            "70055ad2ff2e497da3b2b9e86b3e03a8"
          ]
        }
      }
    },
    {
      "cell_type": "code",
      "execution_count": 67,
      "source": [
        "@tf.function(jit_compile=True)\n",
        "def eval_fwd(batch):\n",
        "  logits = model(batch, training=False)\n",
        "  return tf.argmax(logits, axis=-1)"
      ],
      "outputs": [],
      "metadata": {
        "id": "ssWXWc7CZvNB"
      }
    },
    {
      "cell_type": "markdown",
      "source": [
        "It's time to run the evaluation on validation data now."
      ],
      "metadata": {
        "id": "NFh1myg1x4ua"
      }
    },
    {
      "cell_type": "code",
      "execution_count": 68,
      "source": [
        "from tqdm.auto import tqdm\n",
        "\n",
        "for speech, labels in tqdm(val_dataset, total=num_val_batches):\n",
        "    predictions  = eval_fwd(speech)\n",
        "    predictions = [tokenizer.decode(pred) for pred in predictions.numpy().tolist()]\n",
        "    references = [tokenizer.decode(label, group_tokens=False) for label in labels.numpy().tolist()]\n",
        "    metric.add_batch(references=references, predictions=predictions)"
      ],
      "outputs": [
        {
          "output_type": "display_data",
          "data": {
            "text/plain": [
              "  0%|          | 0/4 [00:00<?, ?it/s]"
            ],
            "application/vnd.jupyter.widget-view+json": {
              "version_major": 2,
              "version_minor": 0,
              "model_id": "5998a51d637843cf89abe82e1c5c8891"
            }
          },
          "metadata": {}
        }
      ],
      "metadata": {
        "id": "EQTFVjZghckJ",
        "outputId": "97472c13-1e00-47f1-baf3-d26a2129a00c",
        "colab": {
          "base_uri": "https://localhost:8080/",
          "height": 49,
          "referenced_widgets": [
            "5998a51d637843cf89abe82e1c5c8891",
            "de6ac6015f1742259c753e35482d5ee8",
            "361045df1d0242d9820830ba40b4b713",
            "c136dbb547ac49e4805f42d6f903b067",
            "65481eb972674a379c5a26f0f6312bce",
            "dfe3ab975fa54366905cd950a733c8c6",
            "51be6a2f813046ecac6c62141b42ebc0",
            "8a267292d9f64c56ad17976b969513bf",
            "a7eb45b0d3494414a1f8015fb3991138",
            "a808d328788244a99df5606c5185bbb4",
            "6328d697a68344d381b635f29b963578"
          ]
        }
      }
    },
    {
      "cell_type": "markdown",
      "source": [
        "We are using the `tokenizer.decode(...)` method for decoding our predictions and labels back into the text and will add them to the metric for `WER` computation later."
      ],
      "metadata": {
        "id": "WWCc8qBesv3e"
      }
    },
    {
      "cell_type": "markdown",
      "source": [
        "Now, let's calculate the metric value in following cell:"
      ],
      "metadata": {
        "id": "XI_URj8Wtb2g"
      }
    },
    {
      "cell_type": "code",
      "execution_count": 69,
      "source": [
        "metric.compute()"
      ],
      "outputs": [
        {
          "output_type": "execute_result",
          "data": {
            "text/plain": [
              "1.0"
            ]
          },
          "metadata": {},
          "execution_count": 69
        }
      ],
      "metadata": {
        "id": "a83wekLgWMod",
        "outputId": "3749eea2-dafe-4035-80fa-25680db69e4b",
        "colab": {
          "base_uri": "https://localhost:8080/"
        }
      }
    },
    {
      "cell_type": "markdown",
      "source": [
        "**Note:** Here metric value doesn't make any sense as the model is trained on very small data and ASR-like tasks often require a large amount of data to learn a mapping from speech to text. You should probably train on large data to get some good results. This notebook gives you a template to fine-tune a pre-trained speech model."
      ],
      "metadata": {
        "id": "c_cD1OgVEjl4"
      }
    },
    {
      "cell_type": "markdown",
      "source": [
        "## Inference\n",
        "\n",
        "Now that we are satisfied with the training process & have saved the model in `save_dir`, we will see how this model can be used for inference.\n",
        "\n",
        "First, we will load our model using `tf.keras.models.load_model(...)`."
      ],
      "metadata": {
        "id": "G14o706kdTE1"
      }
    },
    {
      "cell_type": "code",
      "execution_count": 70,
      "source": [
        "finetuned_model = tf.keras.models.load_model(save_dir)"
      ],
      "outputs": [
        {
          "output_type": "stream",
          "name": "stdout",
          "text": [
            "WARNING:tensorflow:No training configuration found in save file, so the model was *not* compiled. Compile it manually.\n"
          ]
        },
        {
          "output_type": "stream",
          "name": "stderr",
          "text": [
            "WARNING:tensorflow:No training configuration found in save file, so the model was *not* compiled. Compile it manually.\n"
          ]
        }
      ],
      "metadata": {
        "id": "wrTrExiUdaED",
        "outputId": "e01e62d8-2090-4967-ba73-f16a2b489ac4",
        "colab": {
          "base_uri": "https://localhost:8080/"
        }
      }
    },
    {
      "cell_type": "markdown",
      "source": [
        "Let's download some speech samples for performing inference. You can replace the following sample with your speech sample also."
      ],
      "metadata": {
        "id": "luodSroz20SR"
      }
    },
    {
      "cell_type": "code",
      "execution_count": 71,
      "source": [
        "!wget https://github.com/vasudevgupta7/gsoc-wav2vec2/raw/main/data/SA2.wav"
      ],
      "outputs": [
        {
          "output_type": "stream",
          "name": "stdout",
          "text": [
            "--2022-06-06 07:52:12--  https://github.com/vasudevgupta7/gsoc-wav2vec2/raw/main/data/SA2.wav\n",
            "Resolving github.com (github.com)... 192.30.255.112\n",
            "Connecting to github.com (github.com)|192.30.255.112|:443... connected.\n",
            "HTTP request sent, awaiting response... 302 Found\n",
            "Location: https://raw.githubusercontent.com/vasudevgupta7/gsoc-wav2vec2/main/data/SA2.wav [following]\n",
            "--2022-06-06 07:52:12--  https://raw.githubusercontent.com/vasudevgupta7/gsoc-wav2vec2/main/data/SA2.wav\n",
            "Resolving raw.githubusercontent.com (raw.githubusercontent.com)... 185.199.108.133, 185.199.111.133, 185.199.110.133, ...\n",
            "Connecting to raw.githubusercontent.com (raw.githubusercontent.com)|185.199.108.133|:443... connected.\n",
            "HTTP request sent, awaiting response... 200 OK\n",
            "Length: 94252 (92K) [audio/wav]\n",
            "Saving to: ‘SA2.wav’\n",
            "\n",
            "SA2.wav             100%[===================>]  92.04K  --.-KB/s    in 0.009s  \n",
            "\n",
            "2022-06-06 07:52:12 (10.5 MB/s) - ‘SA2.wav’ saved [94252/94252]\n",
            "\n"
          ]
        }
      ],
      "metadata": {
        "id": "HUE0shded6Ej",
        "outputId": "24623229-d202-48b4-d865-d50e15243db4",
        "colab": {
          "base_uri": "https://localhost:8080/"
        }
      }
    },
    {
      "cell_type": "markdown",
      "source": [
        "Now, we will read the speech sample using `soundfile.read(...)` and pad it to `AUDIO_MAXLEN` to satisfy the model signature. Then we will normalize that speech sample using the `Wav2Vec2Processor` instance & will feed it into the model."
      ],
      "metadata": {
        "id": "ycBjU_U53FjL"
      }
    },
    {
      "cell_type": "code",
      "execution_count": 72,
      "source": [
        "import numpy as np\n",
        "\n",
        "speech, _ = sf.read(\"SA2.wav\")\n",
        "speech = np.pad(speech, (0, AUDIO_MAXLEN - len(speech)))\n",
        "speech = tf.expand_dims(processor(tf.constant(speech)), 0)\n",
        "\n",
        "outputs = finetuned_model(speech)\n",
        "outputs"
      ],
      "outputs": [
        {
          "output_type": "execute_result",
          "data": {
            "text/plain": [
              "<tf.Tensor: shape=(1, 768, 32), dtype=float32, numpy=\n",
              "array([[[-0.2685162 , -0.89991695, -1.366523  , ..., -0.6266825 ,\n",
              "         -1.0017059 , -1.0354196 ],\n",
              "        [-0.23559386, -0.92145246, -1.4064652 , ..., -0.597254  ,\n",
              "         -0.9971214 , -1.0918001 ],\n",
              "        [-0.25434253, -0.89006406, -1.3941369 , ..., -0.58681756,\n",
              "         -0.99245876, -1.064678  ],\n",
              "        ...,\n",
              "        [-0.26386806, -0.9518965 , -1.4504616 , ..., -0.7099243 ,\n",
              "         -0.7847176 , -1.1389787 ],\n",
              "        [-0.26141888, -0.95638436, -1.4520495 , ..., -0.70973545,\n",
              "         -0.7884563 , -1.1437784 ],\n",
              "        [-0.263048  , -0.96340746, -1.4450188 , ..., -0.70929223,\n",
              "         -0.8226834 , -1.1511381 ]]], dtype=float32)>"
            ]
          },
          "metadata": {},
          "execution_count": 72
        }
      ],
      "metadata": {
        "id": "z7CARje4d5_H",
        "outputId": "9d50807f-f2b4-45ca-abe6-4b8fbc56f7ec",
        "colab": {
          "base_uri": "https://localhost:8080/"
        }
      }
    },
    {
      "cell_type": "markdown",
      "source": [
        "Let's decode numbers back into text sequence using the `Wav2Vec2tokenizer` instance, we defined above."
      ],
      "metadata": {
        "id": "lUSttSPa30qP"
      }
    },
    {
      "cell_type": "code",
      "execution_count": 73,
      "source": [
        "predictions = tf.argmax(outputs, axis=-1)\n",
        "predictions = [tokenizer.decode(pred) for pred in predictions.numpy().tolist()]\n",
        "predictions"
      ],
      "outputs": [
        {
          "output_type": "execute_result",
          "data": {
            "text/plain": [
              "['S']"
            ]
          },
          "metadata": {},
          "execution_count": 73
        }
      ],
      "metadata": {
        "id": "RYdJqxQ4llgI",
        "outputId": "dd266c52-28a7-4490-dfc2-e45748e89790",
        "colab": {
          "base_uri": "https://localhost:8080/"
        }
      }
    },
    {
      "cell_type": "markdown",
      "source": [
        "This prediction is quite random as the model was never trained on large data in this notebook (as this notebook is not meant for doing complete training). You will get good predictions if you train this model on complete LibriSpeech dataset.\n",
        "\n",
        "Finally, we have reached an end to this notebook. But it's not an end of learning TensorFlow for speech-related tasks, this [repository](https://github.com/tulasiram58827/TTS_TFLite) contains some more amazing tutorials. In case you encountered any bug in this notebook, please create an issue [here](https://github.com/vasudevgupta7/gsoc-wav2vec2/issues)."
      ],
      "metadata": {
        "id": "7DXC757bztJc"
      }
    },
    {
      "cell_type": "code",
      "execution_count": 73,
      "source": [
        ""
      ],
      "outputs": [],
      "metadata": {
        "id": "sBEm6caxYDyK"
      }
    }
  ]
}