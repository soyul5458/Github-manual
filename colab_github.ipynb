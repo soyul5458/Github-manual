{
  "nbformat": 4,
  "nbformat_minor": 0,
  "metadata": {
    "colab": {
      "name": "colab.ipynb의 사본",
      "provenance": [],
      "private_outputs": true,
      "collapsed_sections": [],
      "include_colab_link": true
    },
    "kernelspec": {
      "name": "python3",
      "display_name": "Python 3"
    },
    "accelerator": "GPU"
  },
  "cells": [
    {
      "cell_type": "markdown",
      "metadata": {
        "id": "view-in-github",
        "colab_type": "text"
      },
      "source": [
        "<a href=\"https://colab.research.google.com/github/soyul5458/HW1/blob/master/colab_ipynb%EC%9D%98_%EC%82%AC%EB%B3%B8.ipynb\" target=\"_parent\"><img src=\"https://colab.research.google.com/assets/colab-badge.svg\" alt=\"Open In Colab\"/></a>"
      ]
    },
    {
      "cell_type": "code",
      "metadata": {
        "id": "88Y7spSqHbU1",
        "colab_type": "code",
        "colab": {}
      },
      "source": [
        "!git clone https://github.com/soyul5458/HW1.git"
      ],
      "execution_count": 0,
      "outputs": []
    },
    {
      "cell_type": "markdown",
      "metadata": {
        "id": "qhoGIXZHL_uN",
        "colab_type": "text"
      },
      "source": [
        "## colab & markdown  \n",
        ": Colab에 특화된 새로운 마크다운 작성방법 및 단축키  \n",
        "\n",
        "* 코드가 오래 실행되어 멈추고 싶은경우 : Ctrl+ M + I  \n",
        "* 엔터키 : 편집모드(Vi 편집기와 유사)  \n",
        "* ESC : 선택모드(Vi 편집기와 유사)  \n",
        "* 선택모드에서 화살표 방향키 : 셀 포커스를 위 아래로 움직일 수 있음  \n",
        "* 마크다운으로 전환 : Ctrl + M M  \n",
        "* 코드로 전환 : Ctrl + M Y  \n",
        "* 선택된 셀을 실행 : Ctrl + Enter  \n",
        "* 선택된 셀을 실행 후 다음 셀로 포커스 이동 : Shift + Enter  \n",
        "* 실행 후 다음줄로 이동 : Alt + Enter  \n",
        "* 위 코드로도 멈추지 않고 작업을 완전종료하고 싶은 경우 : Ctrl+M+.  \n",
        "* 코드셀에 줄번호 부여 : Ctrl + M L  \n",
        "* 바로 윗줄에 셀 생성 : Ctrl + M A  \n",
        "* 바로 아랫줄에 셀 생성 : Ctrl + M B  \n",
        "* 셀 삭제 : Ctrl + M D  \n",
        "* 저장 : Ctrl + S  "
      ]
    },
    {
      "cell_type": "markdown",
      "metadata": {
        "id": "WlofU45XPq5l",
        "colab_type": "text"
      },
      "source": [
        "## Google colab Github에 연동 및 파일 올리기\n",
        "\n",
        "1. colab에서 파일 작성\n",
        "2. 파일 > GitHub에 사본저장 클릭\n",
        "    - github 연동하기(ID 로그인)\n",
        "3. 다시 colab에서 파일 > GitHub에 사본저장 \n",
        "4. 원하는 저장소 선택후 확인하기"
      ]
    },
    {
      "cell_type": "markdown",
      "metadata": {
        "id": "KSKOO_dWZ3g6",
        "colab_type": "text"
      },
      "source": [
        ""
      ]
    },
    {
      "cell_type": "markdown",
      "metadata": {
        "id": "L8ivwJ3aSNV0",
        "colab_type": "text"
      },
      "source": [
        "## Github에서 Colab으로 다운로드\n",
        "\n",
        "github에서 다운받을 파일 선택 > raw 선택 > 주소 복사\n",
        "\n",
        "```python\n",
        "\n",
        "!wget --no-check-certificate https://raw.githubusercontent.com/soyul5458/HW1/master/README.md -P test\n",
        "```"
      ]
    },
    {
      "cell_type": "code",
      "metadata": {
        "id": "WUhrJ3NTSsO_",
        "colab_type": "code",
        "colab": {}
      },
      "source": [
        "!wget https://raw.githubusercontent.com/soyul5458/HW1/master/README.md\n"
      ],
      "execution_count": 0,
      "outputs": []
    },
    {
      "cell_type": "code",
      "metadata": {
        "id": "cL4ZBnlYTD6v",
        "colab_type": "code",
        "colab": {}
      },
      "source": [
        "!python3 README.md"
      ],
      "execution_count": 0,
      "outputs": []
    },
    {
      "cell_type": "markdown",
      "metadata": {
        "id": "E9-jWgpEcZyI",
        "colab_type": "text"
      },
      "source": [
        "## 인터넷에 있는 파일을 바로 다운받아서 데이터로 사용하기\n",
        ": 공개적으로 올려진 파일의 경우 wget으로 쉽게 받기\n",
        "\n",
        "```python\n",
        "!wet --no-check-certificate 주소\n",
        "```\n",
        "\n",
        "* 압축파일일 경우 zipfile을 import하여 풀 수 있다.\n",
        "```python\n",
        "import os\n",
        "import zipfile\n",
        "local_zip = '파일명.zip'\n",
        "zip_ref = zipfile.ZipFile(local_zip,'r')\n",
        "zip_ref.extractall('/tmp')\n",
        "zip_ref.close()\n",
        "```\n"
      ]
    },
    {
      "cell_type": "markdown",
      "metadata": {
        "id": "-bNn6LWkYph1",
        "colab_type": "text"
      },
      "source": [
        "## Google Drive에 저장한 Sample Data로 Training 하기 등 팁 참조\n",
        "[참고 페이지](https://teddylee777.github.io/machine-learning/Google-colab%EC%9C%BC%EB%A1%9C-GPU-%EB%B6%80%EC%8A%A4%ED%8A%B8%EB%B0%9B%EC%95%84-machine-learning-%ED%95%99%EC%8A%B5%ED%95%98%EA%B8%B0)"
      ]
    }
  ]
}
